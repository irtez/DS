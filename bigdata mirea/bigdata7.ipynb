{
 "cells": [
  {
   "cell_type": "code",
   "execution_count": 1,
   "metadata": {
    "colab": {
     "base_uri": "https://localhost:8080/"
    },
    "id": "HSgaUDkfWVzt",
    "outputId": "04c833fa-61a4-4262-a9c4-611bb9e39be8"
   },
   "outputs": [
    {
     "name": "stdout",
     "output_type": "stream",
     "text": [
      "\u001b[2K     \u001b[90m━━━━━━━━━━━━━━━━━━━━━━━━━━━━━━━━━━━━━━━━\u001b[0m \u001b[32m98.7/98.7 MB\u001b[0m \u001b[31m10.9 MB/s\u001b[0m eta \u001b[36m0:00:00\u001b[0m\n",
      "\u001b[?25h"
     ]
    }
   ],
   "source": [
    "!pip install -q catboost"
   ]
  },
  {
   "cell_type": "code",
   "execution_count": 1,
   "metadata": {
    "id": "xa6qGkIHWcE0"
   },
   "outputs": [],
   "source": [
    "import pandas as pd\n",
    "import numpy as np\n",
    "from sklearn.model_selection import train_test_split as tts\n",
    "from sklearn.model_selection import GridSearchCV, StratifiedKFold\n",
    "from sklearn.pipeline import Pipeline\n",
    "from sklearn.compose import ColumnTransformer\n",
    "from sklearn.preprocessing import OrdinalEncoder\n",
    "from sklearn.metrics import roc_auc_score, f1_score, precision_score, recall_score\n",
    "import matplotlib.pyplot as plt\n",
    "from sklearn.ensemble import RandomForestClassifier\n",
    "from catboost import CatBoostClassifier, Pool\n",
    "from tqdm import tqdm"
   ]
  },
  {
   "cell_type": "code",
   "execution_count": 2,
   "metadata": {
    "id": "veLQ7P8gH3A_"
   },
   "outputs": [],
   "source": [
    "rs = 2023"
   ]
  },
  {
   "cell_type": "code",
   "execution_count": 3,
   "metadata": {
    "colab": {
     "base_uri": "https://localhost:8080/",
     "height": 226
    },
    "id": "EBHK1RDcXXL2",
    "outputId": "37e6b132-a767-4913-9e8e-6474564ebf7f"
   },
   "outputs": [
    {
     "data": {
      "text/html": [
       "<div>\n",
       "<style scoped>\n",
       "    .dataframe tbody tr th:only-of-type {\n",
       "        vertical-align: middle;\n",
       "    }\n",
       "\n",
       "    .dataframe tbody tr th {\n",
       "        vertical-align: top;\n",
       "    }\n",
       "\n",
       "    .dataframe thead th {\n",
       "        text-align: right;\n",
       "    }\n",
       "</style>\n",
       "<table border=\"1\" class=\"dataframe\">\n",
       "  <thead>\n",
       "    <tr style=\"text-align: right;\">\n",
       "      <th></th>\n",
       "      <th>id</th>\n",
       "      <th>Gender</th>\n",
       "      <th>Age</th>\n",
       "      <th>Driving_License</th>\n",
       "      <th>Region_Code</th>\n",
       "      <th>Previously_Insured</th>\n",
       "      <th>Vehicle_Age</th>\n",
       "      <th>Vehicle_Damage</th>\n",
       "      <th>Annual_Premium</th>\n",
       "      <th>Policy_Sales_Channel</th>\n",
       "      <th>Vintage</th>\n",
       "      <th>Response</th>\n",
       "    </tr>\n",
       "  </thead>\n",
       "  <tbody>\n",
       "    <tr>\n",
       "      <th>0</th>\n",
       "      <td>167647</td>\n",
       "      <td>Male</td>\n",
       "      <td>22</td>\n",
       "      <td>1</td>\n",
       "      <td>7.0</td>\n",
       "      <td>1</td>\n",
       "      <td>&lt; 1 Year</td>\n",
       "      <td>No</td>\n",
       "      <td>2630.0</td>\n",
       "      <td>152.0</td>\n",
       "      <td>16</td>\n",
       "      <td>0</td>\n",
       "    </tr>\n",
       "    <tr>\n",
       "      <th>1</th>\n",
       "      <td>17163</td>\n",
       "      <td>Male</td>\n",
       "      <td>42</td>\n",
       "      <td>1</td>\n",
       "      <td>28.0</td>\n",
       "      <td>0</td>\n",
       "      <td>1-2 Year</td>\n",
       "      <td>Yes</td>\n",
       "      <td>43327.0</td>\n",
       "      <td>26.0</td>\n",
       "      <td>135</td>\n",
       "      <td>0</td>\n",
       "    </tr>\n",
       "    <tr>\n",
       "      <th>2</th>\n",
       "      <td>32023</td>\n",
       "      <td>Female</td>\n",
       "      <td>66</td>\n",
       "      <td>1</td>\n",
       "      <td>33.0</td>\n",
       "      <td>0</td>\n",
       "      <td>1-2 Year</td>\n",
       "      <td>Yes</td>\n",
       "      <td>35841.0</td>\n",
       "      <td>124.0</td>\n",
       "      <td>253</td>\n",
       "      <td>0</td>\n",
       "    </tr>\n",
       "    <tr>\n",
       "      <th>3</th>\n",
       "      <td>87447</td>\n",
       "      <td>Female</td>\n",
       "      <td>22</td>\n",
       "      <td>1</td>\n",
       "      <td>33.0</td>\n",
       "      <td>0</td>\n",
       "      <td>&lt; 1 Year</td>\n",
       "      <td>No</td>\n",
       "      <td>27645.0</td>\n",
       "      <td>152.0</td>\n",
       "      <td>69</td>\n",
       "      <td>0</td>\n",
       "    </tr>\n",
       "    <tr>\n",
       "      <th>4</th>\n",
       "      <td>501933</td>\n",
       "      <td>Male</td>\n",
       "      <td>28</td>\n",
       "      <td>1</td>\n",
       "      <td>46.0</td>\n",
       "      <td>1</td>\n",
       "      <td>&lt; 1 Year</td>\n",
       "      <td>No</td>\n",
       "      <td>29023.0</td>\n",
       "      <td>152.0</td>\n",
       "      <td>211</td>\n",
       "      <td>0</td>\n",
       "    </tr>\n",
       "  </tbody>\n",
       "</table>\n",
       "</div>"
      ],
      "text/plain": [
       "       id  Gender  Age  Driving_License  Region_Code  Previously_Insured  \\\n",
       "0  167647    Male   22                1          7.0                   1   \n",
       "1   17163    Male   42                1         28.0                   0   \n",
       "2   32023  Female   66                1         33.0                   0   \n",
       "3   87447  Female   22                1         33.0                   0   \n",
       "4  501933    Male   28                1         46.0                   1   \n",
       "\n",
       "  Vehicle_Age Vehicle_Damage  Annual_Premium  Policy_Sales_Channel  Vintage  \\\n",
       "0    < 1 Year             No          2630.0                 152.0       16   \n",
       "1    1-2 Year            Yes         43327.0                  26.0      135   \n",
       "2    1-2 Year            Yes         35841.0                 124.0      253   \n",
       "3    < 1 Year             No         27645.0                 152.0       69   \n",
       "4    < 1 Year             No         29023.0                 152.0      211   \n",
       "\n",
       "   Response  \n",
       "0         0  \n",
       "1         0  \n",
       "2         0  \n",
       "3         0  \n",
       "4         0  "
      ]
     },
     "execution_count": 3,
     "metadata": {},
     "output_type": "execute_result"
    }
   ],
   "source": [
    "df = pd.read_csv('/bigdata/data/7/aug_train.csv')\n",
    "df.head()"
   ]
  },
  {
   "cell_type": "code",
   "execution_count": 4,
   "metadata": {
    "colab": {
     "base_uri": "https://localhost:8080/"
    },
    "id": "lFgHeRFXClmO",
    "outputId": "763e5308-6b0a-4393-bbee-5ff3f1ec3bf8"
   },
   "outputs": [
    {
     "data": {
      "text/plain": [
       "(382154, 12)"
      ]
     },
     "execution_count": 4,
     "metadata": {},
     "output_type": "execute_result"
    }
   ],
   "source": [
    "df.shape"
   ]
  },
  {
   "cell_type": "code",
   "execution_count": 5,
   "metadata": {
    "id": "53ag1I-mXbOs"
   },
   "outputs": [],
   "source": [
    "df.drop(columns=['id'], inplace=True)"
   ]
  },
  {
   "cell_type": "code",
   "execution_count": 6,
   "metadata": {
    "colab": {
     "base_uri": "https://localhost:8080/",
     "height": 226
    },
    "id": "TLYrV6VzbZGp",
    "outputId": "8568d66f-df71-46d1-962e-2b30b1fdd9d5"
   },
   "outputs": [
    {
     "data": {
      "text/html": [
       "<div>\n",
       "<style scoped>\n",
       "    .dataframe tbody tr th:only-of-type {\n",
       "        vertical-align: middle;\n",
       "    }\n",
       "\n",
       "    .dataframe tbody tr th {\n",
       "        vertical-align: top;\n",
       "    }\n",
       "\n",
       "    .dataframe thead th {\n",
       "        text-align: right;\n",
       "    }\n",
       "</style>\n",
       "<table border=\"1\" class=\"dataframe\">\n",
       "  <thead>\n",
       "    <tr style=\"text-align: right;\">\n",
       "      <th></th>\n",
       "      <th>Gender</th>\n",
       "      <th>Age</th>\n",
       "      <th>Driving_License</th>\n",
       "      <th>Region_Code</th>\n",
       "      <th>Previously_Insured</th>\n",
       "      <th>Vehicle_Age</th>\n",
       "      <th>Vehicle_Damage</th>\n",
       "      <th>Annual_Premium</th>\n",
       "      <th>Policy_Sales_Channel</th>\n",
       "      <th>Vintage</th>\n",
       "      <th>Response</th>\n",
       "    </tr>\n",
       "  </thead>\n",
       "  <tbody>\n",
       "    <tr>\n",
       "      <th>0</th>\n",
       "      <td>Male</td>\n",
       "      <td>22</td>\n",
       "      <td>1</td>\n",
       "      <td>7.0</td>\n",
       "      <td>1</td>\n",
       "      <td>&lt; 1 Year</td>\n",
       "      <td>No</td>\n",
       "      <td>2630.0</td>\n",
       "      <td>152.0</td>\n",
       "      <td>16</td>\n",
       "      <td>0</td>\n",
       "    </tr>\n",
       "    <tr>\n",
       "      <th>1</th>\n",
       "      <td>Male</td>\n",
       "      <td>42</td>\n",
       "      <td>1</td>\n",
       "      <td>28.0</td>\n",
       "      <td>0</td>\n",
       "      <td>1-2 Year</td>\n",
       "      <td>Yes</td>\n",
       "      <td>43327.0</td>\n",
       "      <td>26.0</td>\n",
       "      <td>135</td>\n",
       "      <td>0</td>\n",
       "    </tr>\n",
       "    <tr>\n",
       "      <th>2</th>\n",
       "      <td>Female</td>\n",
       "      <td>66</td>\n",
       "      <td>1</td>\n",
       "      <td>33.0</td>\n",
       "      <td>0</td>\n",
       "      <td>1-2 Year</td>\n",
       "      <td>Yes</td>\n",
       "      <td>35841.0</td>\n",
       "      <td>124.0</td>\n",
       "      <td>253</td>\n",
       "      <td>0</td>\n",
       "    </tr>\n",
       "    <tr>\n",
       "      <th>3</th>\n",
       "      <td>Female</td>\n",
       "      <td>22</td>\n",
       "      <td>1</td>\n",
       "      <td>33.0</td>\n",
       "      <td>0</td>\n",
       "      <td>&lt; 1 Year</td>\n",
       "      <td>No</td>\n",
       "      <td>27645.0</td>\n",
       "      <td>152.0</td>\n",
       "      <td>69</td>\n",
       "      <td>0</td>\n",
       "    </tr>\n",
       "    <tr>\n",
       "      <th>4</th>\n",
       "      <td>Male</td>\n",
       "      <td>28</td>\n",
       "      <td>1</td>\n",
       "      <td>46.0</td>\n",
       "      <td>1</td>\n",
       "      <td>&lt; 1 Year</td>\n",
       "      <td>No</td>\n",
       "      <td>29023.0</td>\n",
       "      <td>152.0</td>\n",
       "      <td>211</td>\n",
       "      <td>0</td>\n",
       "    </tr>\n",
       "  </tbody>\n",
       "</table>\n",
       "</div>"
      ],
      "text/plain": [
       "   Gender  Age  Driving_License  Region_Code  Previously_Insured Vehicle_Age  \\\n",
       "0    Male   22                1          7.0                   1    < 1 Year   \n",
       "1    Male   42                1         28.0                   0    1-2 Year   \n",
       "2  Female   66                1         33.0                   0    1-2 Year   \n",
       "3  Female   22                1         33.0                   0    < 1 Year   \n",
       "4    Male   28                1         46.0                   1    < 1 Year   \n",
       "\n",
       "  Vehicle_Damage  Annual_Premium  Policy_Sales_Channel  Vintage  Response  \n",
       "0             No          2630.0                 152.0       16         0  \n",
       "1            Yes         43327.0                  26.0      135         0  \n",
       "2            Yes         35841.0                 124.0      253         0  \n",
       "3             No         27645.0                 152.0       69         0  \n",
       "4             No         29023.0                 152.0      211         0  "
      ]
     },
     "execution_count": 6,
     "metadata": {},
     "output_type": "execute_result"
    }
   ],
   "source": [
    "df.head()"
   ]
  },
  {
   "cell_type": "code",
   "execution_count": 7,
   "metadata": {
    "colab": {
     "base_uri": "https://localhost:8080/",
     "height": 226
    },
    "id": "SeEJDK-NA0KY",
    "outputId": "1a59d7e3-c7a5-406f-a0c3-480a9d58363a"
   },
   "outputs": [
    {
     "data": {
      "text/html": [
       "<div>\n",
       "<style scoped>\n",
       "    .dataframe tbody tr th:only-of-type {\n",
       "        vertical-align: middle;\n",
       "    }\n",
       "\n",
       "    .dataframe tbody tr th {\n",
       "        vertical-align: top;\n",
       "    }\n",
       "\n",
       "    .dataframe thead th {\n",
       "        text-align: right;\n",
       "    }\n",
       "</style>\n",
       "<table border=\"1\" class=\"dataframe\">\n",
       "  <thead>\n",
       "    <tr style=\"text-align: right;\">\n",
       "      <th></th>\n",
       "      <th>Gender</th>\n",
       "      <th>Age</th>\n",
       "      <th>Driving_License</th>\n",
       "      <th>Region_Code</th>\n",
       "      <th>Previously_Insured</th>\n",
       "      <th>Vehicle_Age</th>\n",
       "      <th>Vehicle_Damage</th>\n",
       "      <th>Annual_Premium</th>\n",
       "      <th>Policy_Sales_Channel</th>\n",
       "      <th>Vintage</th>\n",
       "      <th>Response</th>\n",
       "    </tr>\n",
       "  </thead>\n",
       "  <tbody>\n",
       "    <tr>\n",
       "      <th>0</th>\n",
       "      <td>Male</td>\n",
       "      <td>22</td>\n",
       "      <td>Yes</td>\n",
       "      <td>7</td>\n",
       "      <td>Yes</td>\n",
       "      <td>&lt; 1 Year</td>\n",
       "      <td>No</td>\n",
       "      <td>2630.0</td>\n",
       "      <td>152.0</td>\n",
       "      <td>16</td>\n",
       "      <td>0</td>\n",
       "    </tr>\n",
       "    <tr>\n",
       "      <th>1</th>\n",
       "      <td>Male</td>\n",
       "      <td>42</td>\n",
       "      <td>Yes</td>\n",
       "      <td>28</td>\n",
       "      <td>No</td>\n",
       "      <td>1-2 Year</td>\n",
       "      <td>Yes</td>\n",
       "      <td>43327.0</td>\n",
       "      <td>26.0</td>\n",
       "      <td>135</td>\n",
       "      <td>0</td>\n",
       "    </tr>\n",
       "    <tr>\n",
       "      <th>2</th>\n",
       "      <td>Female</td>\n",
       "      <td>66</td>\n",
       "      <td>Yes</td>\n",
       "      <td>33</td>\n",
       "      <td>No</td>\n",
       "      <td>1-2 Year</td>\n",
       "      <td>Yes</td>\n",
       "      <td>35841.0</td>\n",
       "      <td>124.0</td>\n",
       "      <td>253</td>\n",
       "      <td>0</td>\n",
       "    </tr>\n",
       "    <tr>\n",
       "      <th>3</th>\n",
       "      <td>Female</td>\n",
       "      <td>22</td>\n",
       "      <td>Yes</td>\n",
       "      <td>33</td>\n",
       "      <td>No</td>\n",
       "      <td>&lt; 1 Year</td>\n",
       "      <td>No</td>\n",
       "      <td>27645.0</td>\n",
       "      <td>152.0</td>\n",
       "      <td>69</td>\n",
       "      <td>0</td>\n",
       "    </tr>\n",
       "    <tr>\n",
       "      <th>4</th>\n",
       "      <td>Male</td>\n",
       "      <td>28</td>\n",
       "      <td>Yes</td>\n",
       "      <td>46</td>\n",
       "      <td>Yes</td>\n",
       "      <td>&lt; 1 Year</td>\n",
       "      <td>No</td>\n",
       "      <td>29023.0</td>\n",
       "      <td>152.0</td>\n",
       "      <td>211</td>\n",
       "      <td>0</td>\n",
       "    </tr>\n",
       "  </tbody>\n",
       "</table>\n",
       "</div>"
      ],
      "text/plain": [
       "   Gender  Age Driving_License Region_Code Previously_Insured Vehicle_Age  \\\n",
       "0    Male   22             Yes           7                Yes    < 1 Year   \n",
       "1    Male   42             Yes          28                 No    1-2 Year   \n",
       "2  Female   66             Yes          33                 No    1-2 Year   \n",
       "3  Female   22             Yes          33                 No    < 1 Year   \n",
       "4    Male   28             Yes          46                Yes    < 1 Year   \n",
       "\n",
       "  Vehicle_Damage  Annual_Premium  Policy_Sales_Channel  Vintage  Response  \n",
       "0             No          2630.0                 152.0       16         0  \n",
       "1            Yes         43327.0                  26.0      135         0  \n",
       "2            Yes         35841.0                 124.0      253         0  \n",
       "3             No         27645.0                 152.0       69         0  \n",
       "4             No         29023.0                 152.0      211         0  "
      ]
     },
     "execution_count": 7,
     "metadata": {},
     "output_type": "execute_result"
    }
   ],
   "source": [
    "df['Driving_License'] = df['Driving_License'].apply(lambda x: 'Yes' if x == 1 else 'No')\n",
    "df['Previously_Insured'] = df['Previously_Insured'].apply(lambda x: 'Yes' if x == 1 else 'No')\n",
    "df['Region_Code'] = df['Region_Code'].apply(lambda x: str(int(x)))\n",
    "df.head()"
   ]
  },
  {
   "cell_type": "code",
   "execution_count": 8,
   "metadata": {
    "id": "ucRgltSU--EJ"
   },
   "outputs": [],
   "source": [
    "cat_cols = ['Gender', 'Region_Code', 'Previously_Insured', 'Vehicle_Age', 'Vehicle_Damage', 'Driving_License']\n",
    "num_cols = ['Age', 'Annual_Premium', 'Policy_Sales_Channel', 'Vintage']\n",
    "target = 'Response'"
   ]
  },
  {
   "cell_type": "code",
   "execution_count": 9,
   "metadata": {
    "colab": {
     "base_uri": "https://localhost:8080/"
    },
    "id": "L8zwmiIPZAmk",
    "outputId": "2289cb9c-a57e-49d0-b2df-b6de65d3eaf4"
   },
   "outputs": [
    {
     "data": {
      "text/plain": [
       "Gender                  0\n",
       "Age                     0\n",
       "Driving_License         0\n",
       "Region_Code             0\n",
       "Previously_Insured      0\n",
       "Vehicle_Age             0\n",
       "Vehicle_Damage          0\n",
       "Annual_Premium          0\n",
       "Policy_Sales_Channel    0\n",
       "Vintage                 0\n",
       "Response                0\n",
       "dtype: int64"
      ]
     },
     "execution_count": 9,
     "metadata": {},
     "output_type": "execute_result"
    }
   ],
   "source": [
    "df.isna().sum()"
   ]
  },
  {
   "cell_type": "code",
   "execution_count": 10,
   "metadata": {
    "colab": {
     "base_uri": "https://localhost:8080/"
    },
    "id": "aqXzx2uuZHgS",
    "outputId": "4c56f016-6595-4dcb-c758-299059e7f015"
   },
   "outputs": [
    {
     "data": {
      "text/plain": [
       "Yes    381431\n",
       "No        723\n",
       "Name: Driving_License, dtype: int64"
      ]
     },
     "execution_count": 10,
     "metadata": {},
     "output_type": "execute_result"
    }
   ],
   "source": [
    "df.Driving_License.value_counts()"
   ]
  },
  {
   "cell_type": "code",
   "execution_count": 11,
   "metadata": {
    "colab": {
     "base_uri": "https://localhost:8080/"
    },
    "id": "mvTi5T1QZUQa",
    "outputId": "62e26584-d2b1-438f-8ee0-b38e6328e9e6"
   },
   "outputs": [
    {
     "data": {
      "text/plain": [
       "1-2 Year     200176\n",
       "< 1 Year     166353\n",
       "> 2 Years     15625\n",
       "Name: Vehicle_Age, dtype: int64"
      ]
     },
     "execution_count": 11,
     "metadata": {},
     "output_type": "execute_result"
    }
   ],
   "source": [
    "df.Vehicle_Age.value_counts()"
   ]
  },
  {
   "cell_type": "code",
   "execution_count": 12,
   "metadata": {
    "colab": {
     "base_uri": "https://localhost:8080/"
    },
    "id": "jWeoqZqBZfdX",
    "outputId": "c2a856fa-ea00-4b43-d27c-84d4b066ea2a"
   },
   "outputs": [
    {
     "data": {
      "text/plain": [
       "count     382154\n",
       "unique        53\n",
       "top           28\n",
       "freq      107199\n",
       "Name: Region_Code, dtype: object"
      ]
     },
     "execution_count": 12,
     "metadata": {},
     "output_type": "execute_result"
    }
   ],
   "source": [
    "df.Region_Code.describe()"
   ]
  },
  {
   "cell_type": "code",
   "execution_count": 13,
   "metadata": {
    "colab": {
     "base_uri": "https://localhost:8080/"
    },
    "id": "Q41iazGaZKaJ",
    "outputId": "4901b758-1280-426d-ccdf-f8e9211631ba"
   },
   "outputs": [
    {
     "data": {
      "text/plain": [
       "No     195211\n",
       "Yes    186943\n",
       "Name: Previously_Insured, dtype: int64"
      ]
     },
     "execution_count": 13,
     "metadata": {},
     "output_type": "execute_result"
    }
   ],
   "source": [
    "df.Previously_Insured.value_counts()"
   ]
  },
  {
   "cell_type": "code",
   "execution_count": 14,
   "metadata": {
    "colab": {
     "base_uri": "https://localhost:8080/",
     "height": 428
    },
    "id": "OniFZYjYXhm0",
    "outputId": "44bec8c5-5069-4203-8e3d-2c0f923b8924"
   },
   "outputs": [
    {
     "data": {
      "image/png": "[encoded data removed]",
      "text/plain": [
       "<Figure size 640x480 with 1 Axes>"
      ]
     },
     "metadata": {},
     "output_type": "display_data"
    }
   ],
   "source": [
    "plt.pie(df[target].value_counts(), labels=[0, 1], autopct='%.2f%%')\n",
    "plt.title('Target distribution')\n",
    "plt.show()"
   ]
  },
  {
   "cell_type": "code",
   "execution_count": 15,
   "metadata": {
    "id": "x4w_v9XdXoNp"
   },
   "outputs": [],
   "source": [
    "X_train, X_test, y_train, y_test = tts(df.drop(columns=[target]), df[target], test_size=0.25, stratify=df[target], random_state=rs)"
   ]
  },
  {
   "cell_type": "code",
   "execution_count": 17,
   "metadata": {},
   "outputs": [],
   "source": [
    "preprocessor = ColumnTransformer(\n",
    "    transformers=[\n",
    "        ('cat', OrdinalEncoder(), cat_cols)\n",
    "    ])"
   ]
  },
  {
   "cell_type": "code",
   "execution_count": 121,
   "metadata": {
    "colab": {
     "base_uri": "https://localhost:8080/"
    },
    "id": "fYt1wFlDah6_",
    "outputId": "4b01d06f-553b-4213-b83c-81ea5cf43740"
   },
   "outputs": [
    {
     "name": "stdout",
     "output_type": "stream",
     "text": [
      "Наилучшие параметры модели: {'max_depth': 17, 'n_estimators': 600}\n",
      "ROC AUC наилучшей модели: 0.8623645188963617\n"
     ]
    }
   ],
   "source": [
    "preprocessor = ColumnTransformer(\n",
    "    transformers=[\n",
    "        ('cat', OrdinalEncoder(), cat_cols)\n",
    "    ])\n",
    "\n",
    "pipeline = Pipeline([\n",
    "    ('preprocessor', preprocessor),\n",
    "    ('rfc', RandomForestClassifier(criterion='log_loss', random_state=rs))\n",
    "])\n",
    "\n",
    "param_grid = {\n",
    "    'rfc__n_estimators': [200, 400, 600, 800],\n",
    "    'rfc__max_depth': np.arange(5, 18, 2)\n",
    "}\n",
    "\n",
    "grid_search_rfc = GridSearchCV(pipeline,\n",
    "                              param_grid,\n",
    "                              cv=StratifiedKFold(n_splits=3),\n",
    "                              scoring='roc_auc',\n",
    "                              n_jobs=-1,\n",
    "                              refit=False)\n",
    "\n",
    "\n",
    "grid_search_rfc.fit(X_train, y_train)\n",
    "\n",
    "\n",
    "print(\"Наилучшие параметры модели:\", {k.replace('rfc__', ''): v for k, v in grid_search_rfc.best_params_.items()})\n",
    "print(\"ROC AUC наилучшей модели:\", grid_search_rfc.best_score_)"
   ]
  },
  {
   "cell_type": "code",
   "execution_count": 57,
   "metadata": {
    "colab": {
     "base_uri": "https://localhost:8080/",
     "height": 445
    },
    "id": "0igrG_VQcyOV",
    "outputId": "6af984dd-4abe-449f-8c0b-837ab0422cf4"
   },
   "outputs": [
    {
     "data": {
      "text/html": [
       "\n",
       "  <div id=\"df-d4f9da01-2f23-493f-974d-ddba16de2a19\" class=\"colab-df-container\">\n",
       "    <div>\n",
       "<style scoped>\n",
       "    .dataframe tbody tr th:only-of-type {\n",
       "        vertical-align: middle;\n",
       "    }\n",
       "\n",
       "    .dataframe tbody tr th {\n",
       "        vertical-align: top;\n",
       "    }\n",
       "\n",
       "    .dataframe thead th {\n",
       "        text-align: right;\n",
       "    }\n",
       "</style>\n",
       "<table border=\"1\" class=\"dataframe\">\n",
       "  <thead>\n",
       "    <tr style=\"text-align: right;\">\n",
       "      <th></th>\n",
       "      <th>mean_fit_time</th>\n",
       "      <th>std_fit_time</th>\n",
       "      <th>mean_score_time</th>\n",
       "      <th>std_score_time</th>\n",
       "      <th>param_rfc__max_depth</th>\n",
       "      <th>param_rfc__n_estimators</th>\n",
       "      <th>split0_test_score</th>\n",
       "      <th>split1_test_score</th>\n",
       "      <th>split2_test_score</th>\n",
       "      <th>mean_test_score</th>\n",
       "      <th>std_test_score</th>\n",
       "      <th>rank_test_score</th>\n",
       "    </tr>\n",
       "  </thead>\n",
       "  <tbody>\n",
       "    <tr>\n",
       "      <th>0</th>\n",
       "      <td>42.101501</td>\n",
       "      <td>0.113622</td>\n",
       "      <td>4.294820</td>\n",
       "      <td>0.020309</td>\n",
       "      <td>9</td>\n",
       "      <td>400</td>\n",
       "      <td>0.862239</td>\n",
       "      <td>0.859552</td>\n",
       "      <td>0.862625</td>\n",
       "      <td>0.861472</td>\n",
       "      <td>0.001367</td>\n",
       "      <td>12</td>\n",
       "    </tr>\n",
       "    <tr>\n",
       "      <th>1</th>\n",
       "      <td>60.296016</td>\n",
       "      <td>0.989459</td>\n",
       "      <td>7.797405</td>\n",
       "      <td>1.015660</td>\n",
       "      <td>9</td>\n",
       "      <td>600</td>\n",
       "      <td>0.862294</td>\n",
       "      <td>0.859628</td>\n",
       "      <td>0.862705</td>\n",
       "      <td>0.861542</td>\n",
       "      <td>0.001364</td>\n",
       "      <td>10</td>\n",
       "    </tr>\n",
       "    <tr>\n",
       "      <th>2</th>\n",
       "      <td>78.611421</td>\n",
       "      <td>0.703584</td>\n",
       "      <td>9.506901</td>\n",
       "      <td>0.562852</td>\n",
       "      <td>9</td>\n",
       "      <td>800</td>\n",
       "      <td>0.862292</td>\n",
       "      <td>0.859441</td>\n",
       "      <td>0.862688</td>\n",
       "      <td>0.861474</td>\n",
       "      <td>0.001447</td>\n",
       "      <td>11</td>\n",
       "    </tr>\n",
       "    <tr>\n",
       "      <th>3</th>\n",
       "      <td>41.187702</td>\n",
       "      <td>0.600207</td>\n",
       "      <td>5.486770</td>\n",
       "      <td>1.247485</td>\n",
       "      <td>11</td>\n",
       "      <td>400</td>\n",
       "      <td>0.863133</td>\n",
       "      <td>0.860242</td>\n",
       "      <td>0.863792</td>\n",
       "      <td>0.862389</td>\n",
       "      <td>0.001542</td>\n",
       "      <td>9</td>\n",
       "    </tr>\n",
       "    <tr>\n",
       "      <th>4</th>\n",
       "      <td>61.033446</td>\n",
       "      <td>0.728518</td>\n",
       "      <td>7.515766</td>\n",
       "      <td>0.856302</td>\n",
       "      <td>11</td>\n",
       "      <td>600</td>\n",
       "      <td>0.863109</td>\n",
       "      <td>0.860288</td>\n",
       "      <td>0.863839</td>\n",
       "      <td>0.862412</td>\n",
       "      <td>0.001531</td>\n",
       "      <td>8</td>\n",
       "    </tr>\n",
       "    <tr>\n",
       "      <th>5</th>\n",
       "      <td>81.634315</td>\n",
       "      <td>0.960219</td>\n",
       "      <td>9.762321</td>\n",
       "      <td>0.249521</td>\n",
       "      <td>11</td>\n",
       "      <td>800</td>\n",
       "      <td>0.863141</td>\n",
       "      <td>0.860291</td>\n",
       "      <td>0.863824</td>\n",
       "      <td>0.862419</td>\n",
       "      <td>0.001530</td>\n",
       "      <td>7</td>\n",
       "    </tr>\n",
       "    <tr>\n",
       "      <th>6</th>\n",
       "      <td>41.448550</td>\n",
       "      <td>0.692487</td>\n",
       "      <td>6.524133</td>\n",
       "      <td>0.584578</td>\n",
       "      <td>13</td>\n",
       "      <td>400</td>\n",
       "      <td>0.863059</td>\n",
       "      <td>0.860320</td>\n",
       "      <td>0.864171</td>\n",
       "      <td>0.862517</td>\n",
       "      <td>0.001618</td>\n",
       "      <td>3</td>\n",
       "    </tr>\n",
       "    <tr>\n",
       "      <th>7</th>\n",
       "      <td>62.989632</td>\n",
       "      <td>1.969663</td>\n",
       "      <td>7.969528</td>\n",
       "      <td>1.048588</td>\n",
       "      <td>13</td>\n",
       "      <td>600</td>\n",
       "      <td>0.862984</td>\n",
       "      <td>0.860314</td>\n",
       "      <td>0.864247</td>\n",
       "      <td>0.862515</td>\n",
       "      <td>0.001640</td>\n",
       "      <td>4</td>\n",
       "    </tr>\n",
       "    <tr>\n",
       "      <th>8</th>\n",
       "      <td>83.478474</td>\n",
       "      <td>2.199002</td>\n",
       "      <td>11.023077</td>\n",
       "      <td>0.441072</td>\n",
       "      <td>13</td>\n",
       "      <td>800</td>\n",
       "      <td>0.863015</td>\n",
       "      <td>0.860282</td>\n",
       "      <td>0.864269</td>\n",
       "      <td>0.862522</td>\n",
       "      <td>0.001665</td>\n",
       "      <td>2</td>\n",
       "    </tr>\n",
       "    <tr>\n",
       "      <th>9</th>\n",
       "      <td>41.813131</td>\n",
       "      <td>1.250812</td>\n",
       "      <td>5.615682</td>\n",
       "      <td>0.864657</td>\n",
       "      <td>15</td>\n",
       "      <td>400</td>\n",
       "      <td>0.862835</td>\n",
       "      <td>0.860401</td>\n",
       "      <td>0.864302</td>\n",
       "      <td>0.862513</td>\n",
       "      <td>0.001609</td>\n",
       "      <td>5</td>\n",
       "    </tr>\n",
       "    <tr>\n",
       "      <th>10</th>\n",
       "      <td>62.651711</td>\n",
       "      <td>0.535313</td>\n",
       "      <td>8.921341</td>\n",
       "      <td>0.538432</td>\n",
       "      <td>15</td>\n",
       "      <td>600</td>\n",
       "      <td>0.862860</td>\n",
       "      <td>0.860505</td>\n",
       "      <td>0.864300</td>\n",
       "      <td>0.862555</td>\n",
       "      <td>0.001564</td>\n",
       "      <td>1</td>\n",
       "    </tr>\n",
       "    <tr>\n",
       "      <th>11</th>\n",
       "      <td>76.573640</td>\n",
       "      <td>6.349873</td>\n",
       "      <td>10.485006</td>\n",
       "      <td>1.793403</td>\n",
       "      <td>15</td>\n",
       "      <td>800</td>\n",
       "      <td>0.862843</td>\n",
       "      <td>0.860440</td>\n",
       "      <td>0.864222</td>\n",
       "      <td>0.862501</td>\n",
       "      <td>0.001563</td>\n",
       "      <td>6</td>\n",
       "    </tr>\n",
       "  </tbody>\n",
       "</table>\n",
       "</div>\n",
       "    <div class=\"colab-df-buttons\">\n",
       "\n",
       "  <div class=\"colab-df-container\">\n",
       "    <button class=\"colab-df-convert\" onclick=\"convertToInteractive('df-d4f9da01-2f23-493f-974d-ddba16de2a19')\"\n",
       "            title=\"Convert this dataframe to an interactive table.\"\n",
       "            style=\"display:none;\">\n",
       "\n",
       "  <svg xmlns=\"http://www.w3.org/2000/svg\" height=\"24px\" viewBox=\"0 -960 960 960\">\n",
       "    <path d=\"M120-120v-720h720v720H120Zm60-500h600v-160H180v160Zm220 220h160v-160H400v160Zm0 220h160v-160H400v160ZM180-400h160v-160H180v160Zm440 0h160v-160H620v160ZM180-180h160v-160H180v160Zm440 0h160v-160H620v160Z\"/>\n",
       "  </svg>\n",
       "    </button>\n",
       "\n",
       "  <style>\n",
       "    .colab-df-container {\n",
       "      display:flex;\n",
       "      gap: 12px;\n",
       "    }\n",
       "\n",
       "    .colab-df-convert {\n",
       "      background-color: #E8F0FE;\n",
       "      border: none;\n",
       "      border-radius: 50%;\n",
       "      cursor: pointer;\n",
       "      display: none;\n",
       "      fill: #1967D2;\n",
       "      height: 32px;\n",
       "      padding: 0 0 0 0;\n",
       "      width: 32px;\n",
       "    }\n",
       "\n",
       "    .colab-df-convert:hover {\n",
       "      background-color: #E2EBFA;\n",
       "      box-shadow: 0px 1px 2px rgba(60, 64, 67, 0.3), 0px 1px 3px 1px rgba(60, 64, 67, 0.15);\n",
       "      fill: #174EA6;\n",
       "    }\n",
       "\n",
       "    .colab-df-buttons div {\n",
       "      margin-bottom: 4px;\n",
       "    }\n",
       "\n",
       "    [theme=dark] .colab-df-convert {\n",
       "      background-color: #3B4455;\n",
       "      fill: #D2E3FC;\n",
       "    }\n",
       "\n",
       "    [theme=dark] .colab-df-convert:hover {\n",
       "      background-color: #434B5C;\n",
       "      box-shadow: 0px 1px 3px 1px rgba(0, 0, 0, 0.15);\n",
       "      filter: drop-shadow(0px 1px 2px rgba(0, 0, 0, 0.3));\n",
       "      fill: #FFFFFF;\n",
       "    }\n",
       "  </style>\n",
       "\n",
       "    <script>\n",
       "      const buttonEl =\n",
       "        document.querySelector('#df-d4f9da01-2f23-493f-974d-ddba16de2a19 button.colab-df-convert');\n",
       "      buttonEl.style.display =\n",
       "        google.colab.kernel.accessAllowed ? 'block' : 'none';\n",
       "\n",
       "      async function convertToInteractive(key) {\n",
       "        const element = document.querySelector('#df-d4f9da01-2f23-493f-974d-ddba16de2a19');\n",
       "        const dataTable =\n",
       "          await google.colab.kernel.invokeFunction('convertToInteractive',\n",
       "                                                    [key], {});\n",
       "        if (!dataTable) return;\n",
       "\n",
       "        const docLinkHtml = 'Like what you see? Visit the ' +\n",
       "          '<a target=\"_blank\" href=https://colab.research.google.com/notebooks/data_table.ipynb>data table notebook</a>'\n",
       "          + ' to learn more about interactive tables.';\n",
       "        element.innerHTML = '';\n",
       "        dataTable['output_type'] = 'display_data';\n",
       "        await google.colab.output.renderOutput(dataTable, element);\n",
       "        const docLink = document.createElement('div');\n",
       "        docLink.innerHTML = docLinkHtml;\n",
       "        element.appendChild(docLink);\n",
       "      }\n",
       "    </script>\n",
       "  </div>\n",
       "\n",
       "\n",
       "<div id=\"df-56aee1ff-c7ea-48b6-a3c8-56d3c9e4f114\">\n",
       "  <button class=\"colab-df-quickchart\" onclick=\"quickchart('df-56aee1ff-c7ea-48b6-a3c8-56d3c9e4f114')\"\n",
       "            title=\"Suggest charts\"\n",
       "            style=\"display:none;\">\n",
       "\n",
       "<svg xmlns=\"http://www.w3.org/2000/svg\" height=\"24px\"viewBox=\"0 0 24 24\"\n",
       "     width=\"24px\">\n",
       "    <g>\n",
       "        <path d=\"M19 3H5c-1.1 0-2 .9-2 2v14c0 1.1.9 2 2 2h14c1.1 0 2-.9 2-2V5c0-1.1-.9-2-2-2zM9 17H7v-7h2v7zm4 0h-2V7h2v10zm4 0h-2v-4h2v4z\"/>\n",
       "    </g>\n",
       "</svg>\n",
       "  </button>\n",
       "\n",
       "<style>\n",
       "  .colab-df-quickchart {\n",
       "      --bg-color: #E8F0FE;\n",
       "      --fill-color: #1967D2;\n",
       "      --hover-bg-color: #E2EBFA;\n",
       "      --hover-fill-color: #174EA6;\n",
       "      --disabled-fill-color: #AAA;\n",
       "      --disabled-bg-color: #DDD;\n",
       "  }\n",
       "\n",
       "  [theme=dark] .colab-df-quickchart {\n",
       "      --bg-color: #3B4455;\n",
       "      --fill-color: #D2E3FC;\n",
       "      --hover-bg-color: #434B5C;\n",
       "      --hover-fill-color: #FFFFFF;\n",
       "      --disabled-bg-color: #3B4455;\n",
       "      --disabled-fill-color: #666;\n",
       "  }\n",
       "\n",
       "  .colab-df-quickchart {\n",
       "    background-color: var(--bg-color);\n",
       "    border: none;\n",
       "    border-radius: 50%;\n",
       "    cursor: pointer;\n",
       "    display: none;\n",
       "    fill: var(--fill-color);\n",
       "    height: 32px;\n",
       "    padding: 0;\n",
       "    width: 32px;\n",
       "  }\n",
       "\n",
       "  .colab-df-quickchart:hover {\n",
       "    background-color: var(--hover-bg-color);\n",
       "    box-shadow: 0 1px 2px rgba(60, 64, 67, 0.3), 0 1px 3px 1px rgba(60, 64, 67, 0.15);\n",
       "    fill: var(--button-hover-fill-color);\n",
       "  }\n",
       "\n",
       "  .colab-df-quickchart-complete:disabled,\n",
       "  .colab-df-quickchart-complete:disabled:hover {\n",
       "    background-color: var(--disabled-bg-color);\n",
       "    fill: var(--disabled-fill-color);\n",
       "    box-shadow: none;\n",
       "  }\n",
       "\n",
       "  .colab-df-spinner {\n",
       "    border: 2px solid var(--fill-color);\n",
       "    border-color: transparent;\n",
       "    border-bottom-color: var(--fill-color);\n",
       "    animation:\n",
       "      spin 1s steps(1) infinite;\n",
       "  }\n",
       "\n",
       "  @keyframes spin {\n",
       "    0% {\n",
       "      border-color: transparent;\n",
       "      border-bottom-color: var(--fill-color);\n",
       "      border-left-color: var(--fill-color);\n",
       "    }\n",
       "    20% {\n",
       "      border-color: transparent;\n",
       "      border-left-color: var(--fill-color);\n",
       "      border-top-color: var(--fill-color);\n",
       "    }\n",
       "    30% {\n",
       "      border-color: transparent;\n",
       "      border-left-color: var(--fill-color);\n",
       "      border-top-color: var(--fill-color);\n",
       "      border-right-color: var(--fill-color);\n",
       "    }\n",
       "    40% {\n",
       "      border-color: transparent;\n",
       "      border-right-color: var(--fill-color);\n",
       "      border-top-color: var(--fill-color);\n",
       "    }\n",
       "    60% {\n",
       "      border-color: transparent;\n",
       "      border-right-color: var(--fill-color);\n",
       "    }\n",
       "    80% {\n",
       "      border-color: transparent;\n",
       "      border-right-color: var(--fill-color);\n",
       "      border-bottom-color: var(--fill-color);\n",
       "    }\n",
       "    90% {\n",
       "      border-color: transparent;\n",
       "      border-bottom-color: var(--fill-color);\n",
       "    }\n",
       "  }\n",
       "</style>\n",
       "\n",
       "  <script>\n",
       "    async function quickchart(key) {\n",
       "      const quickchartButtonEl =\n",
       "        document.querySelector('#' + key + ' button');\n",
       "      quickchartButtonEl.disabled = true;  // To prevent multiple clicks.\n",
       "      quickchartButtonEl.classList.add('colab-df-spinner');\n",
       "      try {\n",
       "        const charts = await google.colab.kernel.invokeFunction(\n",
       "            'suggestCharts', [key], {});\n",
       "      } catch (error) {\n",
       "        console.error('Error during call to suggestCharts:', error);\n",
       "      }\n",
       "      quickchartButtonEl.classList.remove('colab-df-spinner');\n",
       "      quickchartButtonEl.classList.add('colab-df-quickchart-complete');\n",
       "    }\n",
       "    (() => {\n",
       "      let quickchartButtonEl =\n",
       "        document.querySelector('#df-56aee1ff-c7ea-48b6-a3c8-56d3c9e4f114 button');\n",
       "      quickchartButtonEl.style.display =\n",
       "        google.colab.kernel.accessAllowed ? 'block' : 'none';\n",
       "    })();\n",
       "  </script>\n",
       "</div>\n",
       "    </div>\n",
       "  </div>\n"
      ],
      "text/plain": [
       "    mean_fit_time  std_fit_time  mean_score_time  std_score_time  \\\n",
       "0       42.101501      0.113622         4.294820        0.020309   \n",
       "1       60.296016      0.989459         7.797405        1.015660   \n",
       "2       78.611421      0.703584         9.506901        0.562852   \n",
       "3       41.187702      0.600207         5.486770        1.247485   \n",
       "4       61.033446      0.728518         7.515766        0.856302   \n",
       "5       81.634315      0.960219         9.762321        0.249521   \n",
       "6       41.448550      0.692487         6.524133        0.584578   \n",
       "7       62.989632      1.969663         7.969528        1.048588   \n",
       "8       83.478474      2.199002        11.023077        0.441072   \n",
       "9       41.813131      1.250812         5.615682        0.864657   \n",
       "10      62.651711      0.535313         8.921341        0.538432   \n",
       "11      76.573640      6.349873        10.485006        1.793403   \n",
       "\n",
       "   param_rfc__max_depth param_rfc__n_estimators  split0_test_score  \\\n",
       "0                     9                     400           0.862239   \n",
       "1                     9                     600           0.862294   \n",
       "2                     9                     800           0.862292   \n",
       "3                    11                     400           0.863133   \n",
       "4                    11                     600           0.863109   \n",
       "5                    11                     800           0.863141   \n",
       "6                    13                     400           0.863059   \n",
       "7                    13                     600           0.862984   \n",
       "8                    13                     800           0.863015   \n",
       "9                    15                     400           0.862835   \n",
       "10                   15                     600           0.862860   \n",
       "11                   15                     800           0.862843   \n",
       "\n",
       "    split1_test_score  split2_test_score  mean_test_score  std_test_score  \\\n",
       "0            0.859552           0.862625         0.861472        0.001367   \n",
       "1            0.859628           0.862705         0.861542        0.001364   \n",
       "2            0.859441           0.862688         0.861474        0.001447   \n",
       "3            0.860242           0.863792         0.862389        0.001542   \n",
       "4            0.860288           0.863839         0.862412        0.001531   \n",
       "5            0.860291           0.863824         0.862419        0.001530   \n",
       "6            0.860320           0.864171         0.862517        0.001618   \n",
       "7            0.860314           0.864247         0.862515        0.001640   \n",
       "8            0.860282           0.864269         0.862522        0.001665   \n",
       "9            0.860401           0.864302         0.862513        0.001609   \n",
       "10           0.860505           0.864300         0.862555        0.001564   \n",
       "11           0.860440           0.864222         0.862501        0.001563   \n",
       "\n",
       "    rank_test_score  \n",
       "0                12  \n",
       "1                10  \n",
       "2                11  \n",
       "3                 9  \n",
       "4                 8  \n",
       "5                 7  \n",
       "6                 3  \n",
       "7                 4  \n",
       "8                 2  \n",
       "9                 5  \n",
       "10                1  \n",
       "11                6  "
      ]
     },
     "execution_count": 57,
     "metadata": {},
     "output_type": "execute_result"
    }
   ],
   "source": [
    "pd.DataFrame(grid_search_rfc.cv_results_).drop(columns=['params'])"
   ]
  },
  {
   "cell_type": "code",
   "execution_count": 18,
   "metadata": {
    "id": "hgJ36sFnay2J"
   },
   "outputs": [],
   "source": [
    "clf_rfc = RandomForestClassifier(\n",
    "    n_estimators=600,\n",
    "    criterion='entropy',\n",
    "    max_depth=17,\n",
    "    n_jobs=-1,\n",
    "    random_state=rs\n",
    ")\n",
    "pipe_rfc = Pipeline([\n",
    "    ('preprocessor', preprocessor),\n",
    "    ('rfc', clf_rfc)\n",
    "])"
   ]
  },
  {
   "cell_type": "code",
   "execution_count": 19,
   "metadata": {
    "colab": {
     "base_uri": "https://localhost:8080/",
     "height": 225
    },
    "id": "heQ-0MpiApSr",
    "outputId": "a2a00ca2-8ed8-4698-9e77-e662c65df9a6"
   },
   "outputs": [
    {
     "name": "stdout",
     "output_type": "stream",
     "text": [
      "CPU times: total: 4min 10s\n",
      "Wall time: 38.1 s\n"
     ]
    },
    {
     "data": {
      "text/plain": [
       "Pipeline(steps=[('preprocessor',\n",
       "                 ColumnTransformer(transformers=[('cat', OrdinalEncoder(),\n",
       "                                                  ['Gender', 'Region_Code',\n",
       "                                                   'Previously_Insured',\n",
       "                                                   'Vehicle_Age',\n",
       "                                                   'Vehicle_Damage',\n",
       "                                                   'Driving_License'])])),\n",
       "                ('rfc',\n",
       "                 RandomForestClassifier(criterion='entropy', max_depth=17,\n",
       "                                        n_estimators=600, n_jobs=-1,\n",
       "                                        random_state=2023))])"
      ]
     },
     "execution_count": 19,
     "metadata": {},
     "output_type": "execute_result"
    }
   ],
   "source": [
    "%%time\n",
    "pipe_rfc.fit(X_train, y_train)"
   ]
  },
  {
   "cell_type": "code",
   "execution_count": 20,
   "metadata": {
    "colab": {
     "base_uri": "https://localhost:8080/"
    },
    "id": "IIzVT__QaF7Q",
    "outputId": "3d1bfd1d-ea9a-4afd-ccfa-26ffce5aa977"
   },
   "outputs": [
    {
     "name": "stdout",
     "output_type": "stream",
     "text": [
      "CPU times: total: 11.9 s\n",
      "Wall time: 1.97 s\n"
     ]
    }
   ],
   "source": [
    "%%time\n",
    "rfc_probas = pipe_rfc.predict_proba(X_test)"
   ]
  },
  {
   "cell_type": "code",
   "execution_count": 120,
   "metadata": {
    "colab": {
     "base_uri": "https://localhost:8080/",
     "height": 466
    },
    "id": "BeE5pzTXpsnR",
    "outputId": "dadb529b-f4bb-429a-925f-a2cb86c6745b"
   },
   "outputs": [
    {
     "data": {
      "text/plain": [
       "<sklearn.metrics._plot.precision_recall_curve.PrecisionRecallDisplay at 0x7e5a05cbc160>"
      ]
     },
     "execution_count": 120,
     "metadata": {},
     "output_type": "execute_result"
    },
    {
     "data": {
      "image/png": "[encoded data removed]",
      "text/plain": [
       "<Figure size 640x480 with 1 Axes>"
      ]
     },
     "metadata": {},
     "output_type": "display_data"
    }
   ],
   "source": [
    "from sklearn.metrics import PrecisionRecallDisplay, roc_curve, auc, RocCurveDisplay\n",
    "\n",
    "\n",
    "PrecisionRecallDisplay.from_predictions(y_test, rfc_probas[:, 1], name=\"RandomForest\")"
   ]
  },
  {
   "cell_type": "code",
   "execution_count": 119,
   "metadata": {
    "colab": {
     "base_uri": "https://localhost:8080/",
     "height": 449
    },
    "id": "x_A4HPBMq1mp",
    "outputId": "225ec01f-5f04-4502-e345-7f2e8fd5597c"
   },
   "outputs": [
    {
     "data": {
      "image/png": "[encoded data removed]",
      "text/plain": [
       "<Figure size 640x480 with 1 Axes>"
      ]
     },
     "metadata": {},
     "output_type": "display_data"
    }
   ],
   "source": [
    "fpr, tpr, thresholds = roc_curve(y_test, rfc_probas[:, 1])\n",
    "roc_auc = auc(fpr, tpr)\n",
    "display = RocCurveDisplay(fpr=fpr, tpr=tpr, roc_auc=roc_auc,\n",
    "                                estimator_name='RandomForest')\n",
    "display.plot()\n",
    "plt.plot([0, 1], [0, 1], linestyle='dashed')\n",
    "plt.show()"
   ]
  },
  {
   "cell_type": "code",
   "execution_count": 21,
   "metadata": {},
   "outputs": [],
   "source": [
    "def find_threshold_f1(probas):\n",
    "    max_f1 = 0\n",
    "    best_thres = 0\n",
    "    for i in tqdm(range(0, 1001)):\n",
    "      t = i/1000\n",
    "      cur_f1 = f1_score(y_test, np.where(probas[:, 1] >= t, 1, 0))\n",
    "      if cur_f1 > max_f1:\n",
    "        best_thres = t\n",
    "        max_f1 = cur_f1\n",
    "    return best_thres, max_f1"
   ]
  },
  {
   "cell_type": "code",
   "execution_count": 23,
   "metadata": {},
   "outputs": [
    {
     "name": "stderr",
     "output_type": "stream",
     "text": [
      "100%|██████████████████████████████████████████████████████████████████████████████| 1001/1001 [00:30<00:00, 33.14it/s]"
     ]
    },
    {
     "name": "stdout",
     "output_type": "stream",
     "text": [
      "Лучшее пороговое значение вероятности 1 класса для максимизации F1 - 0.282 при F1 0.5583313219084399\n"
     ]
    },
    {
     "name": "stderr",
     "output_type": "stream",
     "text": [
      "\n"
     ]
    }
   ],
   "source": [
    "best_thres, max_f1 = find_threshold_f1(rfc_probas)\n",
    "print(f'Лучшее пороговое значение вероятности 1 класса для максимизации F1 - {best_thres} при F1 {max_f1}')"
   ]
  },
  {
   "cell_type": "code",
   "execution_count": 24,
   "metadata": {
    "id": "Ne3nq0O6eYid"
   },
   "outputs": [],
   "source": [
    "rfc_preds = np.where(rfc_probas[:, 1] >= best_thres, 1, 0)"
   ]
  },
  {
   "cell_type": "code",
   "execution_count": 25,
   "metadata": {
    "colab": {
     "base_uri": "https://localhost:8080/"
    },
    "id": "nuP20xasbwID",
    "outputId": "28c610d6-3c6e-4721-f9e1-debfec05469d"
   },
   "outputs": [
    {
     "name": "stdout",
     "output_type": "stream",
     "text": [
      "RandomForestClassfifer:\n",
      "F1:  0.5583313219084399\n",
      "Precision:  0.40741501790641693\n",
      "Recall:  0.8868370607028754\n",
      "ROC AUC:  0.8617591168928999\n"
     ]
    }
   ],
   "source": [
    "f1_rfc = f1_score(y_test, rfc_preds)\n",
    "pr_rfc = precision_score(y_test, rfc_preds)\n",
    "rec_rfc = recall_score(y_test, rfc_preds)\n",
    "roc_auc_rfc = roc_auc_score(y_test, rfc_probas[:, 1])\n",
    "print('RandomForestClassfifer:')\n",
    "print('F1: ', f1_rfc)\n",
    "print('Precision: ', pr_rfc)\n",
    "print('Recall: ', rec_rfc)\n",
    "print('ROC AUC: ', roc_auc_rfc)"
   ]
  },
  {
   "cell_type": "code",
   "execution_count": null,
   "metadata": {
    "colab": {
     "base_uri": "https://localhost:8080/"
    },
    "id": "5rIleK3JcYZl",
    "outputId": "4c49bc1a-f2e0-4db3-fd23-e69eedd9b737"
   },
   "outputs": [
    {
     "name": "stdout",
     "output_type": "stream",
     "text": [
      "bestTest = 0.2725664082\n",
      "bestIteration = 3596\n",
      "0:\tloss: 0.2725664\tbest: 0.2725664 (0)\ttotal: 1m 52s\tremaining: 20m 35s\n",
      "bestTest = 0.2724635951\n",
      "bestIteration = 2289\n",
      "1:\tloss: 0.2724636\tbest: 0.2724636 (1)\ttotal: 3m 4s\tremaining: 15m 20s\n",
      "bestTest = 0.2725326767\n",
      "bestIteration = 3564\n",
      "2:\tloss: 0.2725327\tbest: 0.2724636 (1)\ttotal: 4m 56s\tremaining: 14m 48s\n",
      "bestTest = 0.2724986555\n",
      "bestIteration = 2108\n",
      "3:\tloss: 0.2724987\tbest: 0.2724636 (1)\ttotal: 6m 4s\tremaining: 12m 8s\n",
      "bestTest = 0.2715634908\n",
      "bestIteration = 1489\n",
      "4:\tloss: 0.2715635\tbest: 0.2715635 (4)\ttotal: 7m 36s\tremaining: 10m 39s\n",
      "bestTest = 0.2716081425\n",
      "bestIteration = 744\n",
      "5:\tloss: 0.2716081\tbest: 0.2715635 (4)\ttotal: 8m 27s\tremaining: 8m 27s\n",
      "bestTest = 0.2714219035\n",
      "bestIteration = 1394\n",
      "6:\tloss: 0.2714219\tbest: 0.2714219 (6)\ttotal: 9m 59s\tremaining: 7m 8s\n",
      "bestTest = 0.2715760635\n",
      "bestIteration = 529\n",
      "7:\tloss: 0.2715761\tbest: 0.2714219 (6)\ttotal: 10m 38s\tremaining: 5m 19s\n",
      "bestTest = 0.271688519\n",
      "bestIteration = 454\n",
      "8:\tloss: 0.2716885\tbest: 0.2714219 (6)\ttotal: 40m 52s\tremaining: 13m 37s\n",
      "bestTest = 0.2719075697\n",
      "bestIteration = 210\n",
      "9:\tloss: 0.2719076\tbest: 0.2714219 (6)\ttotal: 54m 55s\tremaining: 10m 59s\n",
      "bestTest = 0.2716774115\n",
      "bestIteration = 408\n",
      "10:\tloss: 0.2716774\tbest: 0.2714219 (6)\ttotal: 1h 22m 20s\tremaining: 7m 29s\n"
     ]
    }
   ],
   "source": [
    "model = CatBoostClassifier(\n",
    "    iterations=5000,\n",
    "    early_stopping_rounds=100,\n",
    "    task_type='GPU',\n",
    "    thread_count=-1,\n",
    "    cat_features=cat_cols,\n",
    "    loss_function='Logloss',\n",
    "    random_seed=rs,\n",
    "    verbose=False\n",
    "    )\n",
    "\n",
    "grid = {'learning_rate': [0.05, 0.1],\n",
    "        'max_depth': [2, 6, 10],\n",
    "        'l2_leaf_reg': [1, 3]}\n",
    "\n",
    "grid_search_result = model.grid_search(grid,\n",
    "                                       X=X_train,\n",
    "                                       y=y_train,\n",
    "                                       partition_random_seed=rs,\n",
    "                                       cv=StratifiedKFold(n_splits=3),\n",
    "                                       refit=False,\n",
    "                                       verbose=True\n",
    "                                       )"
   ]
  },
  {
   "cell_type": "code",
   "execution_count": 26,
   "metadata": {
    "id": "qLeEi2iyzcpj"
   },
   "outputs": [],
   "source": [
    "model = CatBoostClassifier(\n",
    "    iterations=5000,\n",
    "    early_stopping_rounds=100,\n",
    "    task_type='GPU',\n",
    "    thread_count=-1,\n",
    "    cat_features=cat_cols,\n",
    "    loss_function='Logloss',\n",
    "    random_seed=rs,\n",
    "    use_best_model=True,\n",
    "    verbose=500,\n",
    "    learning_rate=0.05,\n",
    "    max_depth=6,\n",
    "    l2_leaf_reg=3,\n",
    "    eval_metric='AUC'\n",
    "    )"
   ]
  },
  {
   "cell_type": "code",
   "execution_count": 27,
   "metadata": {},
   "outputs": [
    {
     "name": "stderr",
     "output_type": "stream",
     "text": [
      "Default metric period is 5 because AUC is/are not implemented for GPU\n"
     ]
    },
    {
     "name": "stdout",
     "output_type": "stream",
     "text": [
      "0:\ttest: 0.8686555\tbest: 0.8686555 (0)\ttotal: 59.9ms\tremaining: 4m 59s\n",
      "500:\ttest: 0.8967339\tbest: 0.8967339 (500)\ttotal: 29.6s\tremaining: 4m 25s\n",
      "bestTest = 0.8969237208\n",
      "bestIteration = 825\n",
      "Shrink model to first 826 iterations.\n",
      "CPU times: total: 1min 20s\n",
      "Wall time: 1min\n"
     ]
    },
    {
     "data": {
      "text/plain": [
       "<catboost.core.CatBoostClassifier at 0x2e91a1c4dc0>"
      ]
     },
     "execution_count": 27,
     "metadata": {},
     "output_type": "execute_result"
    }
   ],
   "source": [
    "%%time\n",
    "model.fit(X_train,\n",
    "         y=y_train,\n",
    "         eval_set=(X_test, y_test))"
   ]
  },
  {
   "cell_type": "code",
   "execution_count": 28,
   "metadata": {},
   "outputs": [
    {
     "name": "stdout",
     "output_type": "stream",
     "text": [
      "CPU times: total: 1.67 s\n",
      "Wall time: 453 ms\n"
     ]
    }
   ],
   "source": [
    "%%time\n",
    "cb_probas = model.predict_proba(X_test)"
   ]
  },
  {
   "cell_type": "code",
   "execution_count": 29,
   "metadata": {},
   "outputs": [
    {
     "name": "stderr",
     "output_type": "stream",
     "text": [
      "100%|██████████████████████████████████████████████████████████████████████████████| 1001/1001 [00:30<00:00, 33.35it/s]"
     ]
    },
    {
     "name": "stdout",
     "output_type": "stream",
     "text": [
      "Лучшее пороговое значение вероятности 1 класса для максимизации F1 - 0.338 при F1 0.6120600541471819\n"
     ]
    },
    {
     "name": "stderr",
     "output_type": "stream",
     "text": [
      "\n"
     ]
    }
   ],
   "source": [
    "best_thres, max_f1 = find_threshold_f1(cb_probas)\n",
    "print(f'Лучшее пороговое значение вероятности 1 класса для максимизации F1 - {best_thres} при F1 {max_f1}')"
   ]
  },
  {
   "cell_type": "code",
   "execution_count": 30,
   "metadata": {},
   "outputs": [],
   "source": [
    "cb_preds = np.where(cb_probas[:, 1] > best_thres, 1, 0)"
   ]
  },
  {
   "cell_type": "code",
   "execution_count": 31,
   "metadata": {},
   "outputs": [
    {
     "name": "stdout",
     "output_type": "stream",
     "text": [
      "CatBoostClassifier:\n",
      "F1:  0.6120600541471819\n",
      "Precision:  0.4977582065652522\n",
      "Recall:  0.7945047923322683\n",
      "ROC AUC:  0.8969237636709751\n"
     ]
    }
   ],
   "source": [
    "f1_cb = f1_score(y_test, cb_preds)\n",
    "pr_cb = precision_score(y_test, cb_preds)\n",
    "rec_cb = recall_score(y_test, cb_preds)\n",
    "roc_auc_cb = roc_auc_score(y_test, cb_probas[:, 1])\n",
    "print('CatBoostClassifier:')\n",
    "print('F1: ', f1_cb)\n",
    "print('Precision: ', pr_cb)\n",
    "print('Recall: ', rec_cb)\n",
    "print('ROC AUC: ', roc_auc_cb)"
   ]
  }
 ],
 "metadata": {
  "accelerator": "GPU",
  "colab": {
   "gpuType": "T4",
   "provenance": []
  },
  "kernelspec": {
   "display_name": "Python 3 (ipykernel)",
   "language": "python",
   "name": "python3"
  },
  "language_info": {
   "codemirror_mode": {
    "name": "ipython",
    "version": 3
   },
   "file_extension": ".py",
   "mimetype": "text/x-python",
   "name": "python",
   "nbconvert_exporter": "python",
   "pygments_lexer": "ipython3",
   "version": "3.9.6"
  }
 },
 "nbformat": 4,
 "nbformat_minor": 4
}
