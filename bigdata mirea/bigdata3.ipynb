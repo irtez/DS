{
 "cells": [
  {
   "cell_type": "code",
   "execution_count": 1,
   "id": "27032cea",
   "metadata": {},
   "outputs": [],
   "source": [
    "import numpy as np\n",
    "import pandas as pd\n",
    "import matplotlib.pyplot as plt\n",
    "import scipy.stats as sts\n",
    "import seaborn as sns\n",
    "%matplotlib inline"
   ]
  },
  {
   "cell_type": "code",
   "execution_count": 2,
   "id": "2758fa7e",
   "metadata": {},
   "outputs": [],
   "source": [
    "ins = pd.read_csv('/bigdata/data/insurance.csv')"
   ]
  },
  {
   "cell_type": "code",
   "execution_count": 3,
   "id": "c3bfb44f",
   "metadata": {},
   "outputs": [
    {
     "data": {
      "text/html": [
       "<div>\n",
       "<style scoped>\n",
       "    .dataframe tbody tr th:only-of-type {\n",
       "        vertical-align: middle;\n",
       "    }\n",
       "\n",
       "    .dataframe tbody tr th {\n",
       "        vertical-align: top;\n",
       "    }\n",
       "\n",
       "    .dataframe thead th {\n",
       "        text-align: right;\n",
       "    }\n",
       "</style>\n",
       "<table border=\"1\" class=\"dataframe\">\n",
       "  <thead>\n",
       "    <tr style=\"text-align: right;\">\n",
       "      <th></th>\n",
       "      <th>age</th>\n",
       "      <th>sex</th>\n",
       "      <th>bmi</th>\n",
       "      <th>children</th>\n",
       "      <th>smoker</th>\n",
       "      <th>region</th>\n",
       "      <th>charges</th>\n",
       "    </tr>\n",
       "  </thead>\n",
       "  <tbody>\n",
       "    <tr>\n",
       "      <th>0</th>\n",
       "      <td>19</td>\n",
       "      <td>female</td>\n",
       "      <td>27.900</td>\n",
       "      <td>0</td>\n",
       "      <td>yes</td>\n",
       "      <td>southwest</td>\n",
       "      <td>16884.92400</td>\n",
       "    </tr>\n",
       "    <tr>\n",
       "      <th>1</th>\n",
       "      <td>18</td>\n",
       "      <td>male</td>\n",
       "      <td>33.770</td>\n",
       "      <td>1</td>\n",
       "      <td>no</td>\n",
       "      <td>southeast</td>\n",
       "      <td>1725.55230</td>\n",
       "    </tr>\n",
       "    <tr>\n",
       "      <th>2</th>\n",
       "      <td>28</td>\n",
       "      <td>male</td>\n",
       "      <td>33.000</td>\n",
       "      <td>3</td>\n",
       "      <td>no</td>\n",
       "      <td>southeast</td>\n",
       "      <td>4449.46200</td>\n",
       "    </tr>\n",
       "    <tr>\n",
       "      <th>3</th>\n",
       "      <td>33</td>\n",
       "      <td>male</td>\n",
       "      <td>22.705</td>\n",
       "      <td>0</td>\n",
       "      <td>no</td>\n",
       "      <td>northwest</td>\n",
       "      <td>21984.47061</td>\n",
       "    </tr>\n",
       "    <tr>\n",
       "      <th>4</th>\n",
       "      <td>32</td>\n",
       "      <td>male</td>\n",
       "      <td>28.880</td>\n",
       "      <td>0</td>\n",
       "      <td>no</td>\n",
       "      <td>northwest</td>\n",
       "      <td>3866.85520</td>\n",
       "    </tr>\n",
       "  </tbody>\n",
       "</table>\n",
       "</div>"
      ],
      "text/plain": [
       "   age     sex     bmi  children smoker     region      charges\n",
       "0   19  female  27.900         0    yes  southwest  16884.92400\n",
       "1   18    male  33.770         1     no  southeast   1725.55230\n",
       "2   28    male  33.000         3     no  southeast   4449.46200\n",
       "3   33    male  22.705         0     no  northwest  21984.47061\n",
       "4   32    male  28.880         0     no  northwest   3866.85520"
      ]
     },
     "execution_count": 3,
     "metadata": {},
     "output_type": "execute_result"
    }
   ],
   "source": [
    "ins.head()"
   ]
  },
  {
   "cell_type": "code",
   "execution_count": 4,
   "id": "1270faca",
   "metadata": {},
   "outputs": [
    {
     "data": {
      "text/plain": [
       "(1338, 7)"
      ]
     },
     "execution_count": 4,
     "metadata": {},
     "output_type": "execute_result"
    }
   ],
   "source": [
    "ins.shape"
   ]
  },
  {
   "cell_type": "code",
   "execution_count": 5,
   "id": "6e098574",
   "metadata": {},
   "outputs": [
    {
     "data": {
      "text/html": [
       "<div>\n",
       "<style scoped>\n",
       "    .dataframe tbody tr th:only-of-type {\n",
       "        vertical-align: middle;\n",
       "    }\n",
       "\n",
       "    .dataframe tbody tr th {\n",
       "        vertical-align: top;\n",
       "    }\n",
       "\n",
       "    .dataframe thead th {\n",
       "        text-align: right;\n",
       "    }\n",
       "</style>\n",
       "<table border=\"1\" class=\"dataframe\">\n",
       "  <thead>\n",
       "    <tr style=\"text-align: right;\">\n",
       "      <th></th>\n",
       "      <th>age</th>\n",
       "      <th>bmi</th>\n",
       "      <th>children</th>\n",
       "      <th>charges</th>\n",
       "    </tr>\n",
       "  </thead>\n",
       "  <tbody>\n",
       "    <tr>\n",
       "      <th>count</th>\n",
       "      <td>1338.000000</td>\n",
       "      <td>1338.000000</td>\n",
       "      <td>1338.000000</td>\n",
       "      <td>1338.000000</td>\n",
       "    </tr>\n",
       "    <tr>\n",
       "      <th>mean</th>\n",
       "      <td>39.207025</td>\n",
       "      <td>30.663397</td>\n",
       "      <td>1.094918</td>\n",
       "      <td>13270.422265</td>\n",
       "    </tr>\n",
       "    <tr>\n",
       "      <th>std</th>\n",
       "      <td>14.049960</td>\n",
       "      <td>6.098187</td>\n",
       "      <td>1.205493</td>\n",
       "      <td>12110.011237</td>\n",
       "    </tr>\n",
       "    <tr>\n",
       "      <th>min</th>\n",
       "      <td>18.000000</td>\n",
       "      <td>15.960000</td>\n",
       "      <td>0.000000</td>\n",
       "      <td>1121.873900</td>\n",
       "    </tr>\n",
       "    <tr>\n",
       "      <th>25%</th>\n",
       "      <td>27.000000</td>\n",
       "      <td>26.296250</td>\n",
       "      <td>0.000000</td>\n",
       "      <td>4740.287150</td>\n",
       "    </tr>\n",
       "    <tr>\n",
       "      <th>50%</th>\n",
       "      <td>39.000000</td>\n",
       "      <td>30.400000</td>\n",
       "      <td>1.000000</td>\n",
       "      <td>9382.033000</td>\n",
       "    </tr>\n",
       "    <tr>\n",
       "      <th>75%</th>\n",
       "      <td>51.000000</td>\n",
       "      <td>34.693750</td>\n",
       "      <td>2.000000</td>\n",
       "      <td>16639.912515</td>\n",
       "    </tr>\n",
       "    <tr>\n",
       "      <th>max</th>\n",
       "      <td>64.000000</td>\n",
       "      <td>53.130000</td>\n",
       "      <td>5.000000</td>\n",
       "      <td>63770.428010</td>\n",
       "    </tr>\n",
       "  </tbody>\n",
       "</table>\n",
       "</div>"
      ],
      "text/plain": [
       "               age          bmi     children       charges\n",
       "count  1338.000000  1338.000000  1338.000000   1338.000000\n",
       "mean     39.207025    30.663397     1.094918  13270.422265\n",
       "std      14.049960     6.098187     1.205493  12110.011237\n",
       "min      18.000000    15.960000     0.000000   1121.873900\n",
       "25%      27.000000    26.296250     0.000000   4740.287150\n",
       "50%      39.000000    30.400000     1.000000   9382.033000\n",
       "75%      51.000000    34.693750     2.000000  16639.912515\n",
       "max      64.000000    53.130000     5.000000  63770.428010"
      ]
     },
     "execution_count": 5,
     "metadata": {},
     "output_type": "execute_result"
    }
   ],
   "source": [
    "ins.describe()"
   ]
  },
  {
   "cell_type": "code",
   "execution_count": 3,
   "id": "fa740559",
   "metadata": {},
   "outputs": [
    {
     "data": {
      "text/plain": [
       "<AxesSubplot:xlabel='age', ylabel='Count'>"
      ]
     },
     "execution_count": 3,
     "metadata": {},
     "output_type": "execute_result"
    },
    {
     "data": {
      "image/png": "[encoded data removed]",
      "text/plain": [
       "<Figure size 640x480 with 1 Axes>"
      ]
     },
     "metadata": {},
     "output_type": "display_data"
    }
   ],
   "source": [
    "sns.histplot(data=ins, x='age', kde=True)"
   ]
  },
  {
   "cell_type": "code",
   "execution_count": 6,
   "id": "de1a493f",
   "metadata": {},
   "outputs": [
    {
     "data": {
      "text/plain": [
       "<AxesSubplot:xlabel='bmi', ylabel='Count'>"
      ]
     },
     "execution_count": 6,
     "metadata": {},
     "output_type": "execute_result"
    },
    {
     "data": {
      "image/png": "[encoded data removed]",
      "text/plain": [
       "<Figure size 640x480 with 1 Axes>"
      ]
     },
     "metadata": {},
     "output_type": "display_data"
    }
   ],
   "source": [
    "sns.histplot(data=ins, x='bmi', kde=True)"
   ]
  },
  {
   "cell_type": "code",
   "execution_count": 7,
   "id": "915d912c",
   "metadata": {},
   "outputs": [
    {
     "data": {
      "text/plain": [
       "<AxesSubplot:xlabel='charges', ylabel='Count'>"
      ]
     },
     "execution_count": 7,
     "metadata": {},
     "output_type": "execute_result"
    },
    {
     "data": {
      "image/png": "[encoded data removed]",
      "text/plain": [
       "<Figure size 640x480 with 1 Axes>"
      ]
     },
     "metadata": {},
     "output_type": "display_data"
    }
   ],
   "source": [
    "sns.histplot(data=ins, x='charges', kde=True)"
   ]
  },
  {
   "cell_type": "code",
   "execution_count": 8,
   "id": "8b757259",
   "metadata": {},
   "outputs": [
    {
     "name": "stdout",
     "output_type": "stream",
     "text": [
      "Меры центральной тенденции:\n",
      "Мода для bmi: 32.3\n",
      "Медиана для bmi: 30.4\n",
      "Среднее для bmi: 30.66\n",
      "Мода для charges: 1639.56\n",
      "Медиана для charges: 9382.03\n",
      "Среднее для charges: 13270.42\n",
      "\n",
      "Меры изменчивости:\n",
      "Размах для BMI: 37.17\n",
      "Стандартное отклонение для BMI: 6.1\n",
      "Межквартильный размах для BMI: 8.38\n",
      "Размах для charges: 62648.55\n",
      "Стандартное отклонение для charges: 12110.01\n",
      "Межквартильный размах для charges: 11879.8\n"
     ]
    }
   ],
   "source": [
    "res = {}\n",
    "res['bmi'] = {}\n",
    "res['charges'] = {}\n",
    "res['bmi']['mode'] = sts.mode(ins.bmi).mode[0]\n",
    "res['bmi']['median'] = np.median(ins.bmi)\n",
    "res['bmi']['mean'] = np.mean(ins.bmi)\n",
    "res['charges']['mode'] = sts.mode(ins.charges).mode[0]\n",
    "res['charges']['median'] = np.median(ins.charges)\n",
    "res['charges']['mean'] = np.mean(ins.charges)\n",
    "tr = {'mode': 'Мода', 'median': 'Медиана', 'mean': 'Среднее'}\n",
    "print('Меры центральной тенденции:')\n",
    "for (feature_name, d) in res.items():\n",
    "    for (measure_name, value) in d.items():\n",
    "        print(f'{tr[measure_name]} для {feature_name}: {np.round(value, 2)}')\n",
    "print()\n",
    "print('Меры изменчивости:')\n",
    "print(f'Размах для BMI: {np.round(ins.bmi.max() - ins.bmi.min(), 2)}')\n",
    "print(f'Стандартное отклонение для BMI: {np.round(ins.bmi.std(), 2)}')\n",
    "print(f'Межквартильный размах для BMI: {np.round(sts.iqr(ins.bmi, interpolation=\"midpoint\"), 2)}')\n",
    "print(f'Размах для charges: {np.round(ins.charges.max() - ins.charges.min(), 2)}')\n",
    "print(f'Стандартное отклонение для charges: {np.round(ins.charges.std(), 2)}')\n",
    "print(f'Межквартильный размах для charges: {np.round(sts.iqr(ins.charges, interpolation=\"midpoint\"), 2)}')"
   ]
  },
  {
   "cell_type": "code",
   "execution_count": 9,
   "id": "56416179",
   "metadata": {},
   "outputs": [
    {
     "data": {
      "text/plain": [
       "<matplotlib.legend.Legend at 0x1ae4e99e020>"
      ]
     },
     "execution_count": 9,
     "metadata": {},
     "output_type": "execute_result"
    },
    {
     "data": {
      "image/png": "[encoded data removed]",
      "text/plain": [
       "<Figure size 1200x400 with 2 Axes>"
      ]
     },
     "metadata": {},
     "output_type": "display_data"
    }
   ],
   "source": [
    "fig, axes = plt.subplots(nrows=1, ncols=2, figsize=(12, 4))\n",
    "sns.histplot(data=ins, x='bmi', kde=True, ax=axes[0])\n",
    "axes[0].set_title('BMI distribution')\n",
    "for (name, value), color in zip(res['bmi'].items(), ['red', 'aqua', 'chartreuse']):\n",
    "    axes[0].axvline(value, linestyle='-', label=name, color=color)\n",
    "axes[0].legend()\n",
    "sns.histplot(data=ins, x='charges', kde=True, ax=axes[1])\n",
    "axes[1].set_title('Charges distribution')\n",
    "for (name, value), color in zip(res['charges'].items(), ['red', 'aqua', 'chartreuse']):\n",
    "    axes[1].axvline(value, linestyle='-', label=name, color=color)\n",
    "axes[1].legend()"
   ]
  },
  {
   "cell_type": "code",
   "execution_count": 5,
   "id": "95c9a042",
   "metadata": {},
   "outputs": [
    {
     "data": {
      "text/plain": [
       "Text(0.5, 1.0, 'Age box plot')"
      ]
     },
     "execution_count": 5,
     "metadata": {},
     "output_type": "execute_result"
    },
    {
     "data": {
      "image/png": "[encoded data removed]",
      "text/plain": [
       "<Figure size 1200x300 with 3 Axes>"
      ]
     },
     "metadata": {},
     "output_type": "display_data"
    }
   ],
   "source": [
    "fig, axes = plt.subplots(nrows=1, ncols=3, figsize=(12, 3))\n",
    "sns.boxplot(data=ins, x='bmi', ax=axes[0])\n",
    "axes[0].set_title('BMI box plot')\n",
    "sns.boxplot(data=ins, x='charges', ax=axes[1])\n",
    "axes[1].set_title('Charges box plot')\n",
    "sns.boxplot(data=ins, x='age', ax=axes[2])\n",
    "axes[2].set_title('Age box plot')"
   ]
  },
  {
   "cell_type": "code",
   "execution_count": 11,
   "id": "057295d2",
   "metadata": {},
   "outputs": [
    {
     "data": {
      "image/png": "[encoded data removed]",
      "text/plain": [
       "<Figure size 1200x800 with 4 Axes>"
      ]
     },
     "metadata": {},
     "output_type": "display_data"
    }
   ],
   "source": [
    "n_items_list = [20, 50, 125, 250]\n",
    "n_samples = 300\n",
    "mean_list = []\n",
    "res_df = pd.DataFrame()\n",
    "fig, axes = plt.subplots(nrows=2, ncols=2, figsize=(12, 8))\n",
    "axes = axes.flatten()\n",
    "for n_items, i in zip(n_items_list, range(len(n_items_list))):\n",
    "    for _ in range(n_samples):\n",
    "        sample = ins.charges.sample(n=n_items)\n",
    "        mean_list.append(sample.mean())\n",
    "    res_df[n_items] = pd.Series(mean_list)\n",
    "    mean_list.clear()\n",
    "    sns.histplot(data=res_df, x=n_items, kde=True, ax=axes[i])\n",
    "    axes[i].set_title(f'Распределение средних для выборок из {n_items} элементов')\n",
    "    label = 'Среднее' if i == 0 else None\n",
    "    axes[i].axvline(res_df[n_items].mean(), label=label, color='red')\n",
    "    axes[i].set_xlabel(None)\n",
    "    if label:\n",
    "        axes[i].legend()"
   ]
  },
  {
   "cell_type": "code",
   "execution_count": 12,
   "id": "2ecf0e52",
   "metadata": {},
   "outputs": [
    {
     "name": "stdout",
     "output_type": "stream",
     "text": [
      "Изначальное среднее: 13270.42\n",
      "\n",
      "Среднее для 300 выборок по 20 элементов: 13202.17\n",
      "Стандартное отклонение для 300 выборок по 20 элементов: 2537.06\n",
      "\n",
      "Среднее для 300 выборок по 50 элементов: 13362.09\n",
      "Стандартное отклонение для 300 выборок по 50 элементов: 1827.98\n",
      "\n",
      "Среднее для 300 выборок по 125 элементов: 13256.95\n",
      "Стандартное отклонение для 300 выборок по 125 элементов: 1030.96\n",
      "\n",
      "Среднее для 300 выборок по 250 элементов: 13255.07\n",
      "Стандартное отклонение для 300 выборок по 250 элементов: 683.79\n",
      "\n"
     ]
    }
   ],
   "source": [
    "print(f'Изначальное среднее: {np.round(res[\"charges\"][\"mean\"], 2)}')\n",
    "print()\n",
    "for n_items in n_items_list:\n",
    "    print(f'Среднее для {n_samples} выборок по {n_items} элементов: {np.round(res_df[n_items].mean(), 2)}')\n",
    "    print(f'Стандартное отклонение для {n_samples} выборок по {n_items} элементов: {np.round(res_df[n_items].std(), 2)}')\n",
    "    print()"
   ]
  },
  {
   "cell_type": "code",
   "execution_count": 13,
   "id": "e3b8f335",
   "metadata": {},
   "outputs": [
    {
     "name": "stdout",
     "output_type": "stream",
     "text": [
      "Среднее BMI: 30.66\n",
      "Среднее charges: 13270.42\n",
      "Стандартная ошибка среднего для  BMI: 0.17\n",
      "Стандартная ошибка среднего для  charges: 331.07\n",
      "95% доверительный интервал для индекса массы тела: [30.34, 30.99]\n",
      "95% доверительный интервал для расходов: [12621.53, 13919.31]\n",
      "99% доверительный интервал для индекса массы тела: [30.23, 31.09]\n",
      "99% доверительный интервал для расходов: [12416.27, 14124.58]\n"
     ]
    }
   ],
   "source": [
    "print(f'Среднее BMI: {np.round(res[\"bmi\"][\"mean\"], 2)}')\n",
    "print(f'Среднее charges: {np.round(res[\"charges\"][\"mean\"], 2)}')\n",
    "\n",
    "se_bmi = ins.bmi.std() / np.sqrt(ins.bmi.shape[0])\n",
    "se_charges = ins.charges.std() / np.sqrt(ins.charges.shape[0])\n",
    "\n",
    "print(f'Стандартная ошибка среднего для  BMI: {np.round(se_bmi, 2)}')\n",
    "print(f'Стандартная ошибка среднего для  charges: {np.round(se_charges, 2)}')\n",
    "\n",
    "bmi_bot_95, bmi_top_95 = res[\"bmi\"][\"mean\"] - 1.96 * se_bmi, res[\"bmi\"][\"mean\"] + 1.96 * se_bmi\n",
    "charges_bot_95, charges_top_95 = res[\"charges\"][\"mean\"] - 1.96 * se_charges, res[\"charges\"][\"mean\"] + 1.96 * se_charges\n",
    "\n",
    "print(f'95% доверительный интервал для индекса массы тела: [{np.round(bmi_bot_95, 2)}, {np.round(bmi_top_95, 2)}]')\n",
    "print(f'95% доверительный интервал для расходов: [{np.round(charges_bot_95, 2)}, {np.round(charges_top_95, 2)}]')\n",
    "\n",
    "bmi_bot_99, bmi_top_99 = res[\"bmi\"][\"mean\"] - 2.58 * se_bmi, res[\"bmi\"][\"mean\"] + 2.58 * se_bmi\n",
    "charges_bot_99, charges_top_99 = res[\"charges\"][\"mean\"] - 2.58 * se_charges, res[\"charges\"][\"mean\"] + 2.58 * se_charges\n",
    "\n",
    "print(f'99% доверительный интервал для индекса массы тела: [{np.round(bmi_bot_99, 2)}, {np.round(bmi_top_99, 2)}]')\n",
    "print(f'99% доверительный интервал для расходов: [{np.round(charges_bot_99, 2)}, {np.round(charges_top_99, 2)}]')"
   ]
  },
  {
   "cell_type": "code",
   "execution_count": 14,
   "id": "d42766b4",
   "metadata": {},
   "outputs": [],
   "source": [
    "sample_size = ins.shape[0]\n",
    "norm_dist_sample = sts.norm.rvs(size=sample_size, random_state=42)\n",
    "norm_dist_sample.sort()"
   ]
  },
  {
   "cell_type": "code",
   "execution_count": 15,
   "id": "2ec3f45c",
   "metadata": {},
   "outputs": [
    {
     "data": {
      "text/plain": [
       "<seaborn.axisgrid.JointGrid at 0x1ae4f1678e0>"
      ]
     },
     "execution_count": 15,
     "metadata": {},
     "output_type": "execute_result"
    },
    {
     "data": {
      "image/png": "[encoded data removed]",
      "text/plain": [
       "<Figure size 500x500 with 3 Axes>"
      ]
     },
     "metadata": {},
     "output_type": "display_data"
    }
   ],
   "source": [
    "sns.jointplot(x=norm_dist_sample, y=sts.zscore(ins.bmi).sort_values(), kind='reg', height=5,\n",
    "             ratio=3, color=\"b\", line_kws={'lw': 1, 'color': 'black'},\n",
    "             truncate=True, scatter_kws={\"s\": 10,}) \\\n",
    "                 .set_axis_labels('Normal distribution', 'BMI distribution')"
   ]
  },
  {
   "cell_type": "code",
   "execution_count": 16,
   "id": "92f2c8ca",
   "metadata": {},
   "outputs": [
    {
     "data": {
      "text/plain": [
       "<seaborn.axisgrid.JointGrid at 0x1ae4f166080>"
      ]
     },
     "execution_count": 16,
     "metadata": {},
     "output_type": "execute_result"
    },
    {
     "data": {
      "image/png": "[encoded data removed]",
      "text/plain": [
       "<Figure size 500x500 with 3 Axes>"
      ]
     },
     "metadata": {},
     "output_type": "display_data"
    }
   ],
   "source": [
    "sns.jointplot(x=norm_dist_sample, y=sts.zscore(ins.charges).sort_values(), kind='reg', height=5,\n",
    "             ratio=3, color=\"r\", line_kws={'lw': 1, 'color': 'black'},\n",
    "             truncate=True, scatter_kws={\"s\": 10,}) \\\n",
    "                .set_axis_labels('Normal distribution', 'Charges distribution')"
   ]
  },
  {
   "cell_type": "code",
   "execution_count": 17,
   "id": "baf35e81",
   "metadata": {},
   "outputs": [
    {
     "name": "stdout",
     "output_type": "stream",
     "text": [
      "Нулевая гипотеза: выборка имеет нормальное распределение.\n",
      "Альтернативная гипотеза: выборка не имеет нормального распределения.\n",
      "\n",
      "BMI:  P-уровень значимости больше 0.05 (0.31453976932347394), нулевая гипотеза принимается (распределение выборки примерно соответствует нормальному).\n",
      "Charges:  P-уровень значимости меньше 0.05 (4.39305730768502e-42), нулевая гипотеза отвергается (распределение выборки не соответствует нормальному).\n"
     ]
    }
   ],
   "source": [
    "print('Нулевая гипотеза: выборка имеет нормальное распределение.\\n'\n",
    "      'Альтернативная гипотеза: выборка не имеет нормального распределения.\\n')\n",
    "\n",
    "def check_norm_ks(data):\n",
    "    stat, pvalue = sts.kstest(sts.zscore(data), 'norm')\n",
    "    accept = False if pvalue <= 0.05 else True\n",
    "    return (f'P-уровень значимости {\"больше\" if accept else \"меньше\"} 0.05 ({pvalue}), '\n",
    "          f'нулевая гипотеза {\"принимается\" if accept else \"отвергается\"} '\n",
    "          f'(распределение выборки{\" примерно\" if accept else \" не\"} соответствует нормальному).')\n",
    "    \n",
    "print('BMI: ', check_norm_ks(ins.bmi))\n",
    "print('Charges: ', check_norm_ks(ins.charges))"
   ]
  },
  {
   "cell_type": "code",
   "execution_count": 18,
   "id": "c1aec871",
   "metadata": {},
   "outputs": [],
   "source": [
    "ecdc = pd.read_csv('/bigdata/data/ECDCCases.csv')"
   ]
  },
  {
   "cell_type": "code",
   "execution_count": 19,
   "id": "280e5aad",
   "metadata": {},
   "outputs": [
    {
     "data": {
      "text/html": [
       "<div>\n",
       "<style scoped>\n",
       "    .dataframe tbody tr th:only-of-type {\n",
       "        vertical-align: middle;\n",
       "    }\n",
       "\n",
       "    .dataframe tbody tr th {\n",
       "        vertical-align: top;\n",
       "    }\n",
       "\n",
       "    .dataframe thead th {\n",
       "        text-align: right;\n",
       "    }\n",
       "</style>\n",
       "<table border=\"1\" class=\"dataframe\">\n",
       "  <thead>\n",
       "    <tr style=\"text-align: right;\">\n",
       "      <th></th>\n",
       "      <th>dateRep</th>\n",
       "      <th>day</th>\n",
       "      <th>month</th>\n",
       "      <th>year</th>\n",
       "      <th>cases</th>\n",
       "      <th>deaths</th>\n",
       "      <th>countriesAndTerritories</th>\n",
       "      <th>geoId</th>\n",
       "      <th>countryterritoryCode</th>\n",
       "      <th>popData2019</th>\n",
       "      <th>continentExp</th>\n",
       "      <th>Cumulative_number_for_14_days_of_COVID-19_cases_per_100000</th>\n",
       "    </tr>\n",
       "  </thead>\n",
       "  <tbody>\n",
       "    <tr>\n",
       "      <th>0</th>\n",
       "      <td>14/12/2020</td>\n",
       "      <td>14</td>\n",
       "      <td>12</td>\n",
       "      <td>2020</td>\n",
       "      <td>746</td>\n",
       "      <td>6</td>\n",
       "      <td>Afghanistan</td>\n",
       "      <td>AF</td>\n",
       "      <td>AFG</td>\n",
       "      <td>38041757.0</td>\n",
       "      <td>Asia</td>\n",
       "      <td>9.013779</td>\n",
       "    </tr>\n",
       "    <tr>\n",
       "      <th>1</th>\n",
       "      <td>13/12/2020</td>\n",
       "      <td>13</td>\n",
       "      <td>12</td>\n",
       "      <td>2020</td>\n",
       "      <td>298</td>\n",
       "      <td>9</td>\n",
       "      <td>Afghanistan</td>\n",
       "      <td>AF</td>\n",
       "      <td>AFG</td>\n",
       "      <td>38041757.0</td>\n",
       "      <td>Asia</td>\n",
       "      <td>7.052776</td>\n",
       "    </tr>\n",
       "    <tr>\n",
       "      <th>2</th>\n",
       "      <td>12/12/2020</td>\n",
       "      <td>12</td>\n",
       "      <td>12</td>\n",
       "      <td>2020</td>\n",
       "      <td>113</td>\n",
       "      <td>11</td>\n",
       "      <td>Afghanistan</td>\n",
       "      <td>AF</td>\n",
       "      <td>AFG</td>\n",
       "      <td>38041757.0</td>\n",
       "      <td>Asia</td>\n",
       "      <td>6.868768</td>\n",
       "    </tr>\n",
       "    <tr>\n",
       "      <th>3</th>\n",
       "      <td>12/12/2020</td>\n",
       "      <td>12</td>\n",
       "      <td>12</td>\n",
       "      <td>2020</td>\n",
       "      <td>113</td>\n",
       "      <td>11</td>\n",
       "      <td>Afghanistan</td>\n",
       "      <td>AF</td>\n",
       "      <td>AFG</td>\n",
       "      <td>38041757.0</td>\n",
       "      <td>Asia</td>\n",
       "      <td>6.868768</td>\n",
       "    </tr>\n",
       "    <tr>\n",
       "      <th>4</th>\n",
       "      <td>11/12/2020</td>\n",
       "      <td>11</td>\n",
       "      <td>12</td>\n",
       "      <td>2020</td>\n",
       "      <td>63</td>\n",
       "      <td>10</td>\n",
       "      <td>Afghanistan</td>\n",
       "      <td>AF</td>\n",
       "      <td>AFG</td>\n",
       "      <td>38041757.0</td>\n",
       "      <td>Asia</td>\n",
       "      <td>7.134266</td>\n",
       "    </tr>\n",
       "  </tbody>\n",
       "</table>\n",
       "</div>"
      ],
      "text/plain": [
       "      dateRep  day  month  year  cases  deaths countriesAndTerritories geoId  \\\n",
       "0  14/12/2020   14     12  2020    746       6             Afghanistan    AF   \n",
       "1  13/12/2020   13     12  2020    298       9             Afghanistan    AF   \n",
       "2  12/12/2020   12     12  2020    113      11             Afghanistan    AF   \n",
       "3  12/12/2020   12     12  2020    113      11             Afghanistan    AF   \n",
       "4  11/12/2020   11     12  2020     63      10             Afghanistan    AF   \n",
       "\n",
       "  countryterritoryCode  popData2019 continentExp  \\\n",
       "0                  AFG   38041757.0         Asia   \n",
       "1                  AFG   38041757.0         Asia   \n",
       "2                  AFG   38041757.0         Asia   \n",
       "3                  AFG   38041757.0         Asia   \n",
       "4                  AFG   38041757.0         Asia   \n",
       "\n",
       "   Cumulative_number_for_14_days_of_COVID-19_cases_per_100000  \n",
       "0                                           9.013779           \n",
       "1                                           7.052776           \n",
       "2                                           6.868768           \n",
       "3                                           6.868768           \n",
       "4                                           7.134266           "
      ]
     },
     "execution_count": 19,
     "metadata": {},
     "output_type": "execute_result"
    }
   ],
   "source": [
    "ecdc.head()"
   ]
  },
  {
   "cell_type": "code",
   "execution_count": 20,
   "id": "1033eabf",
   "metadata": {},
   "outputs": [
    {
     "data": {
      "text/plain": [
       "(61904, 12)"
      ]
     },
     "execution_count": 20,
     "metadata": {},
     "output_type": "execute_result"
    }
   ],
   "source": [
    "ecdc.shape"
   ]
  },
  {
   "cell_type": "code",
   "execution_count": 21,
   "id": "fd768c67",
   "metadata": {},
   "outputs": [
    {
     "data": {
      "text/plain": [
       "Cumulative_number_for_14_days_of_COVID-19_cases_per_100000    4.650750\n",
       "geoId                                                         0.444236\n",
       "countryterritoryCode                                          0.198695\n",
       "popData2019                                                   0.198695\n",
       "dateRep                                                       0.000000\n",
       "day                                                           0.000000\n",
       "month                                                         0.000000\n",
       "year                                                          0.000000\n",
       "cases                                                         0.000000\n",
       "deaths                                                        0.000000\n",
       "countriesAndTerritories                                       0.000000\n",
       "continentExp                                                  0.000000\n",
       "dtype: float64"
      ]
     },
     "execution_count": 21,
     "metadata": {},
     "output_type": "execute_result"
    }
   ],
   "source": [
    "ecdc.isna().sum().sort_values(ascending=False) / ecdc.shape[0] * 100"
   ]
  },
  {
   "cell_type": "markdown",
   "id": "b2e62a16",
   "metadata": {},
   "source": [
    "Два столбца, в которых больше всего пропущенных значений: Cumulative_number_for_14_days_of_COVID-19_cases_per_100000, geoId."
   ]
  },
  {
   "cell_type": "code",
   "execution_count": 22,
   "id": "47c9616c",
   "metadata": {},
   "outputs": [],
   "source": [
    "ecdc = ecdc.drop(columns=['Cumulative_number_for_14_days_of_COVID-19_cases_per_100000', 'geoId'])"
   ]
  },
  {
   "cell_type": "code",
   "execution_count": 23,
   "id": "2f10cab2",
   "metadata": {},
   "outputs": [
    {
     "data": {
      "text/html": [
       "<div>\n",
       "<style scoped>\n",
       "    .dataframe tbody tr th:only-of-type {\n",
       "        vertical-align: middle;\n",
       "    }\n",
       "\n",
       "    .dataframe tbody tr th {\n",
       "        vertical-align: top;\n",
       "    }\n",
       "\n",
       "    .dataframe thead th {\n",
       "        text-align: right;\n",
       "    }\n",
       "</style>\n",
       "<table border=\"1\" class=\"dataframe\">\n",
       "  <thead>\n",
       "    <tr style=\"text-align: right;\">\n",
       "      <th></th>\n",
       "      <th>year</th>\n",
       "    </tr>\n",
       "    <tr>\n",
       "      <th>countriesAndTerritories</th>\n",
       "      <th></th>\n",
       "    </tr>\n",
       "  </thead>\n",
       "  <tbody>\n",
       "    <tr>\n",
       "      <th>Cases_on_an_international_conveyance_Japan</th>\n",
       "      <td>64</td>\n",
       "    </tr>\n",
       "    <tr>\n",
       "      <th>Wallis_and_Futuna</th>\n",
       "      <td>59</td>\n",
       "    </tr>\n",
       "  </tbody>\n",
       "</table>\n",
       "</div>"
      ],
      "text/plain": [
       "                                            year\n",
       "countriesAndTerritories                         \n",
       "Cases_on_an_international_conveyance_Japan    64\n",
       "Wallis_and_Futuna                             59"
      ]
     },
     "execution_count": 23,
     "metadata": {},
     "output_type": "execute_result"
    }
   ],
   "source": [
    "ecdc[ecdc.countryterritoryCode.isna()].groupby('countriesAndTerritories').agg({'year': 'count'})"
   ]
  },
  {
   "cell_type": "markdown",
   "id": "937ee90c",
   "metadata": {},
   "source": [
    "Код страны для \"Wallis_and_Futuna\" можно поставить как WF. Для первого случая - Other."
   ]
  },
  {
   "cell_type": "code",
   "execution_count": 24,
   "id": "64d7ab22",
   "metadata": {},
   "outputs": [
    {
     "data": {
      "text/plain": [
       "(59, 10)"
      ]
     },
     "execution_count": 24,
     "metadata": {},
     "output_type": "execute_result"
    }
   ],
   "source": [
    "ecdc[ecdc.countriesAndTerritories == 'Wallis_and_Futuna'].shape"
   ]
  },
  {
   "cell_type": "markdown",
   "id": "b14d5e87",
   "metadata": {},
   "source": [
    "Все значения столбцов countryterritoryCode и popData2019 не заполнены для Wallis_and_Futuna."
   ]
  },
  {
   "cell_type": "code",
   "execution_count": 25,
   "id": "7448adfd",
   "metadata": {},
   "outputs": [
    {
     "data": {
      "text/plain": [
       "dateRep                     0\n",
       "day                         0\n",
       "month                       0\n",
       "year                        0\n",
       "cases                       0\n",
       "deaths                      0\n",
       "countriesAndTerritories     0\n",
       "countryterritoryCode       59\n",
       "popData2019                59\n",
       "continentExp                0\n",
       "dtype: int64"
      ]
     },
     "execution_count": 25,
     "metadata": {},
     "output_type": "execute_result"
    }
   ],
   "source": [
    "ecdc[ecdc.countriesAndTerritories == 'Wallis_and_Futuna'].isna().sum()"
   ]
  },
  {
   "cell_type": "markdown",
   "id": "4aa77b50",
   "metadata": {},
   "source": [
    "Т. к. собираемся использовать WF вместо пропущенных значений, надо бы проверить не используется ли такое обозначение где-то ещё."
   ]
  },
  {
   "cell_type": "code",
   "execution_count": 26,
   "id": "0ab526e0",
   "metadata": {},
   "outputs": [
    {
     "data": {
      "text/plain": [
       "(0, 10)"
      ]
     },
     "execution_count": 26,
     "metadata": {},
     "output_type": "execute_result"
    }
   ],
   "source": [
    "ecdc[ecdc.countryterritoryCode == 'WF'].shape"
   ]
  },
  {
   "cell_type": "markdown",
   "id": "2651bc0e",
   "metadata": {},
   "source": [
    "Значение не используется, так что можно заменить пустые значения на него."
   ]
  },
  {
   "cell_type": "code",
   "execution_count": 27,
   "id": "985a7578",
   "metadata": {},
   "outputs": [],
   "source": [
    "ecdc.loc[ecdc['countriesAndTerritories'] == 'Wallis_and_Futuna', 'countryterritoryCode'] = 'WF'"
   ]
  },
  {
   "cell_type": "code",
   "execution_count": 28,
   "id": "5c10e205",
   "metadata": {},
   "outputs": [
    {
     "data": {
      "text/plain": [
       "dateRep                     0\n",
       "day                         0\n",
       "month                       0\n",
       "year                        0\n",
       "cases                       0\n",
       "deaths                      0\n",
       "countriesAndTerritories     0\n",
       "countryterritoryCode        0\n",
       "popData2019                59\n",
       "continentExp                0\n",
       "dtype: int64"
      ]
     },
     "execution_count": 28,
     "metadata": {},
     "output_type": "execute_result"
    }
   ],
   "source": [
    "ecdc[ecdc.countriesAndTerritories == 'Wallis_and_Futuna'].isna().sum()"
   ]
  },
  {
   "cell_type": "markdown",
   "id": "747a12cb",
   "metadata": {},
   "source": [
    "С Cases_on_an_international_conveyance_Japan в разделе страны ситуация такая же, везде не заполнены численность населения и код страны. С кодом страны ситуация менее очевидная, так как не совсем ясно что это за страна, так что заменим на Other."
   ]
  },
  {
   "cell_type": "code",
   "execution_count": 29,
   "id": "14c81f99",
   "metadata": {},
   "outputs": [],
   "source": [
    "ecdc.loc[ecdc['countriesAndTerritories'] == 'Cases_on_an_international_conveyance_Japan', 'countryterritoryCode'] = 'Other'"
   ]
  },
  {
   "cell_type": "code",
   "execution_count": 30,
   "id": "070e0f5e",
   "metadata": {},
   "outputs": [
    {
     "data": {
      "text/html": [
       "<div>\n",
       "<style scoped>\n",
       "    .dataframe tbody tr th:only-of-type {\n",
       "        vertical-align: middle;\n",
       "    }\n",
       "\n",
       "    .dataframe tbody tr th {\n",
       "        vertical-align: top;\n",
       "    }\n",
       "\n",
       "    .dataframe thead th {\n",
       "        text-align: right;\n",
       "    }\n",
       "</style>\n",
       "<table border=\"1\" class=\"dataframe\">\n",
       "  <thead>\n",
       "    <tr style=\"text-align: right;\">\n",
       "      <th></th>\n",
       "      <th>year</th>\n",
       "    </tr>\n",
       "    <tr>\n",
       "      <th>countriesAndTerritories</th>\n",
       "      <th></th>\n",
       "    </tr>\n",
       "  </thead>\n",
       "  <tbody>\n",
       "    <tr>\n",
       "      <th>Cases_on_an_international_conveyance_Japan</th>\n",
       "      <td>64</td>\n",
       "    </tr>\n",
       "    <tr>\n",
       "      <th>Wallis_and_Futuna</th>\n",
       "      <td>59</td>\n",
       "    </tr>\n",
       "  </tbody>\n",
       "</table>\n",
       "</div>"
      ],
      "text/plain": [
       "                                            year\n",
       "countriesAndTerritories                         \n",
       "Cases_on_an_international_conveyance_Japan    64\n",
       "Wallis_and_Futuna                             59"
      ]
     },
     "execution_count": 30,
     "metadata": {},
     "output_type": "execute_result"
    }
   ],
   "source": [
    "ecdc[ecdc.popData2019.isna()].groupby('countriesAndTerritories').agg({'year': 'count'})"
   ]
  },
  {
   "cell_type": "markdown",
   "id": "bdbf231e",
   "metadata": {},
   "source": [
    "По заданию поменяем эти пропущенные значения на медиану."
   ]
  },
  {
   "cell_type": "code",
   "execution_count": 31,
   "id": "7980e7da",
   "metadata": {},
   "outputs": [],
   "source": [
    "pop_median = ecdc.popData2019.median()\n",
    "ecdc.popData2019.fillna(pop_median, inplace=True)"
   ]
  },
  {
   "cell_type": "code",
   "execution_count": 32,
   "id": "f2aaed28",
   "metadata": {},
   "outputs": [
    {
     "data": {
      "text/plain": [
       "dateRep                    0\n",
       "day                        0\n",
       "month                      0\n",
       "year                       0\n",
       "cases                      0\n",
       "deaths                     0\n",
       "countriesAndTerritories    0\n",
       "countryterritoryCode       0\n",
       "popData2019                0\n",
       "continentExp               0\n",
       "dtype: int64"
      ]
     },
     "execution_count": 32,
     "metadata": {},
     "output_type": "execute_result"
    }
   ],
   "source": [
    "ecdc.isna().sum()"
   ]
  },
  {
   "cell_type": "markdown",
   "id": "bbbe69d0",
   "metadata": {},
   "source": [
    "Пропущенных значений больше не осталось."
   ]
  },
  {
   "cell_type": "code",
   "execution_count": 33,
   "id": "12ae4844",
   "metadata": {},
   "outputs": [
    {
     "data": {
      "text/html": [
       "<div>\n",
       "<style scoped>\n",
       "    .dataframe tbody tr th:only-of-type {\n",
       "        vertical-align: middle;\n",
       "    }\n",
       "\n",
       "    .dataframe tbody tr th {\n",
       "        vertical-align: top;\n",
       "    }\n",
       "\n",
       "    .dataframe thead th {\n",
       "        text-align: right;\n",
       "    }\n",
       "</style>\n",
       "<table border=\"1\" class=\"dataframe\">\n",
       "  <thead>\n",
       "    <tr style=\"text-align: right;\">\n",
       "      <th></th>\n",
       "      <th>day</th>\n",
       "      <th>month</th>\n",
       "      <th>year</th>\n",
       "      <th>cases</th>\n",
       "      <th>deaths</th>\n",
       "      <th>popData2019</th>\n",
       "    </tr>\n",
       "  </thead>\n",
       "  <tbody>\n",
       "    <tr>\n",
       "      <th>count</th>\n",
       "      <td>61904.000000</td>\n",
       "      <td>61904.000000</td>\n",
       "      <td>61904.000000</td>\n",
       "      <td>61904.000000</td>\n",
       "      <td>61904.000000</td>\n",
       "      <td>6.190400e+04</td>\n",
       "    </tr>\n",
       "    <tr>\n",
       "      <th>mean</th>\n",
       "      <td>15.629232</td>\n",
       "      <td>7.067104</td>\n",
       "      <td>2019.998918</td>\n",
       "      <td>1155.079026</td>\n",
       "      <td>26.053987</td>\n",
       "      <td>4.091909e+07</td>\n",
       "    </tr>\n",
       "    <tr>\n",
       "      <th>std</th>\n",
       "      <td>8.841624</td>\n",
       "      <td>2.954816</td>\n",
       "      <td>0.032881</td>\n",
       "      <td>6779.010824</td>\n",
       "      <td>131.222948</td>\n",
       "      <td>1.529798e+08</td>\n",
       "    </tr>\n",
       "    <tr>\n",
       "      <th>min</th>\n",
       "      <td>1.000000</td>\n",
       "      <td>1.000000</td>\n",
       "      <td>2019.000000</td>\n",
       "      <td>-8261.000000</td>\n",
       "      <td>-1918.000000</td>\n",
       "      <td>8.150000e+02</td>\n",
       "    </tr>\n",
       "    <tr>\n",
       "      <th>25%</th>\n",
       "      <td>8.000000</td>\n",
       "      <td>5.000000</td>\n",
       "      <td>2020.000000</td>\n",
       "      <td>0.000000</td>\n",
       "      <td>0.000000</td>\n",
       "      <td>1.324820e+06</td>\n",
       "    </tr>\n",
       "    <tr>\n",
       "      <th>50%</th>\n",
       "      <td>15.000000</td>\n",
       "      <td>7.000000</td>\n",
       "      <td>2020.000000</td>\n",
       "      <td>15.000000</td>\n",
       "      <td>0.000000</td>\n",
       "      <td>7.169456e+06</td>\n",
       "    </tr>\n",
       "    <tr>\n",
       "      <th>75%</th>\n",
       "      <td>23.000000</td>\n",
       "      <td>10.000000</td>\n",
       "      <td>2020.000000</td>\n",
       "      <td>273.000000</td>\n",
       "      <td>4.000000</td>\n",
       "      <td>2.851583e+07</td>\n",
       "    </tr>\n",
       "    <tr>\n",
       "      <th>max</th>\n",
       "      <td>31.000000</td>\n",
       "      <td>12.000000</td>\n",
       "      <td>2020.000000</td>\n",
       "      <td>234633.000000</td>\n",
       "      <td>4928.000000</td>\n",
       "      <td>1.433784e+09</td>\n",
       "    </tr>\n",
       "  </tbody>\n",
       "</table>\n",
       "</div>"
      ],
      "text/plain": [
       "                day         month          year          cases        deaths  \\\n",
       "count  61904.000000  61904.000000  61904.000000   61904.000000  61904.000000   \n",
       "mean      15.629232      7.067104   2019.998918    1155.079026     26.053987   \n",
       "std        8.841624      2.954816      0.032881    6779.010824    131.222948   \n",
       "min        1.000000      1.000000   2019.000000   -8261.000000  -1918.000000   \n",
       "25%        8.000000      5.000000   2020.000000       0.000000      0.000000   \n",
       "50%       15.000000      7.000000   2020.000000      15.000000      0.000000   \n",
       "75%       23.000000     10.000000   2020.000000     273.000000      4.000000   \n",
       "max       31.000000     12.000000   2020.000000  234633.000000   4928.000000   \n",
       "\n",
       "        popData2019  \n",
       "count  6.190400e+04  \n",
       "mean   4.091909e+07  \n",
       "std    1.529798e+08  \n",
       "min    8.150000e+02  \n",
       "25%    1.324820e+06  \n",
       "50%    7.169456e+06  \n",
       "75%    2.851583e+07  \n",
       "max    1.433784e+09  "
      ]
     },
     "execution_count": 33,
     "metadata": {},
     "output_type": "execute_result"
    }
   ],
   "source": [
    "ecdc.describe()"
   ]
  },
  {
   "cell_type": "markdown",
   "id": "ed0dbf83",
   "metadata": {},
   "source": [
    "Очевидно, что выбросы содержат столбцы cases и deaths. Можно посмотреть подробнее, построив box-графики."
   ]
  },
  {
   "cell_type": "code",
   "execution_count": 34,
   "id": "73e693de",
   "metadata": {},
   "outputs": [
    {
     "data": {
      "text/plain": [
       "<AxesSubplot:xlabel='cases'>"
      ]
     },
     "execution_count": 34,
     "metadata": {},
     "output_type": "execute_result"
    },
    {
     "data": {
      "image/png": "[encoded data removed]",
      "text/plain": [
       "<Figure size 640x480 with 1 Axes>"
      ]
     },
     "metadata": {},
     "output_type": "display_data"
    }
   ],
   "source": [
    "sns.boxplot(data=ecdc, x='cases')"
   ]
  },
  {
   "cell_type": "markdown",
   "id": "dbfbc161",
   "metadata": {},
   "source": [
    "Также тут возникает интересная ситуация, когда количество случаев и смертей меньше нуля. Либо это просто ошибка при заполнении,  либо это тенденция относительно прошлого дня, но таких значений очень мало, не совсем понятно что с этим делать."
   ]
  },
  {
   "cell_type": "code",
   "execution_count": 35,
   "id": "cded7926",
   "metadata": {},
   "outputs": [
    {
     "data": {
      "text/html": [
       "<div>\n",
       "<style scoped>\n",
       "    .dataframe tbody tr th:only-of-type {\n",
       "        vertical-align: middle;\n",
       "    }\n",
       "\n",
       "    .dataframe tbody tr th {\n",
       "        vertical-align: top;\n",
       "    }\n",
       "\n",
       "    .dataframe thead th {\n",
       "        text-align: right;\n",
       "    }\n",
       "</style>\n",
       "<table border=\"1\" class=\"dataframe\">\n",
       "  <thead>\n",
       "    <tr style=\"text-align: right;\">\n",
       "      <th></th>\n",
       "      <th>dateRep</th>\n",
       "      <th>day</th>\n",
       "      <th>month</th>\n",
       "      <th>year</th>\n",
       "      <th>cases</th>\n",
       "      <th>deaths</th>\n",
       "      <th>countriesAndTerritories</th>\n",
       "      <th>countryterritoryCode</th>\n",
       "      <th>popData2019</th>\n",
       "      <th>continentExp</th>\n",
       "    </tr>\n",
       "  </thead>\n",
       "  <tbody>\n",
       "    <tr>\n",
       "      <th>6313</th>\n",
       "      <td>20/05/2020</td>\n",
       "      <td>20</td>\n",
       "      <td>5</td>\n",
       "      <td>2020</td>\n",
       "      <td>-209</td>\n",
       "      <td>0</td>\n",
       "      <td>Benin</td>\n",
       "      <td>BEN</td>\n",
       "      <td>11801151.0</td>\n",
       "      <td>Africa</td>\n",
       "    </tr>\n",
       "    <tr>\n",
       "      <th>10937</th>\n",
       "      <td>10/03/2020</td>\n",
       "      <td>10</td>\n",
       "      <td>3</td>\n",
       "      <td>2020</td>\n",
       "      <td>-9</td>\n",
       "      <td>1</td>\n",
       "      <td>Cases_on_an_international_conveyance_Japan</td>\n",
       "      <td>Other</td>\n",
       "      <td>7169456.0</td>\n",
       "      <td>Other</td>\n",
       "    </tr>\n",
       "    <tr>\n",
       "      <th>16908</th>\n",
       "      <td>07/09/2020</td>\n",
       "      <td>7</td>\n",
       "      <td>9</td>\n",
       "      <td>2020</td>\n",
       "      <td>-8261</td>\n",
       "      <td>3800</td>\n",
       "      <td>Ecuador</td>\n",
       "      <td>ECU</td>\n",
       "      <td>17373657.0</td>\n",
       "      <td>America</td>\n",
       "    </tr>\n",
       "    <tr>\n",
       "      <th>17026</th>\n",
       "      <td>12/05/2020</td>\n",
       "      <td>12</td>\n",
       "      <td>5</td>\n",
       "      <td>2020</td>\n",
       "      <td>-50</td>\n",
       "      <td>18</td>\n",
       "      <td>Ecuador</td>\n",
       "      <td>ECU</td>\n",
       "      <td>17373657.0</td>\n",
       "      <td>America</td>\n",
       "    </tr>\n",
       "    <tr>\n",
       "      <th>17029</th>\n",
       "      <td>09/05/2020</td>\n",
       "      <td>9</td>\n",
       "      <td>5</td>\n",
       "      <td>2020</td>\n",
       "      <td>-1480</td>\n",
       "      <td>50</td>\n",
       "      <td>Ecuador</td>\n",
       "      <td>ECU</td>\n",
       "      <td>17373657.0</td>\n",
       "      <td>America</td>\n",
       "    </tr>\n",
       "    <tr>\n",
       "      <th>17031</th>\n",
       "      <td>07/05/2020</td>\n",
       "      <td>7</td>\n",
       "      <td>5</td>\n",
       "      <td>2020</td>\n",
       "      <td>-2461</td>\n",
       "      <td>49</td>\n",
       "      <td>Ecuador</td>\n",
       "      <td>ECU</td>\n",
       "      <td>17373657.0</td>\n",
       "      <td>America</td>\n",
       "    </tr>\n",
       "    <tr>\n",
       "      <th>20560</th>\n",
       "      <td>03/06/2020</td>\n",
       "      <td>3</td>\n",
       "      <td>6</td>\n",
       "      <td>2020</td>\n",
       "      <td>-766</td>\n",
       "      <td>107</td>\n",
       "      <td>France</td>\n",
       "      <td>FRA</td>\n",
       "      <td>67012883.0</td>\n",
       "      <td>Europe</td>\n",
       "    </tr>\n",
       "    <tr>\n",
       "      <th>29278</th>\n",
       "      <td>20/06/2020</td>\n",
       "      <td>20</td>\n",
       "      <td>6</td>\n",
       "      <td>2020</td>\n",
       "      <td>-148</td>\n",
       "      <td>47</td>\n",
       "      <td>Italy</td>\n",
       "      <td>ITA</td>\n",
       "      <td>60359546.0</td>\n",
       "      <td>Europe</td>\n",
       "    </tr>\n",
       "    <tr>\n",
       "      <th>30172</th>\n",
       "      <td>11/09/2020</td>\n",
       "      <td>11</td>\n",
       "      <td>9</td>\n",
       "      <td>2020</td>\n",
       "      <td>-6</td>\n",
       "      <td>0</td>\n",
       "      <td>Jersey</td>\n",
       "      <td>JEY</td>\n",
       "      <td>107796.0</td>\n",
       "      <td>Europe</td>\n",
       "    </tr>\n",
       "    <tr>\n",
       "      <th>30493</th>\n",
       "      <td>22/07/2020</td>\n",
       "      <td>22</td>\n",
       "      <td>7</td>\n",
       "      <td>2020</td>\n",
       "      <td>-110</td>\n",
       "      <td>0</td>\n",
       "      <td>Jordan</td>\n",
       "      <td>JOR</td>\n",
       "      <td>10101697.0</td>\n",
       "      <td>Asia</td>\n",
       "    </tr>\n",
       "    <tr>\n",
       "      <th>34224</th>\n",
       "      <td>29/04/2020</td>\n",
       "      <td>29</td>\n",
       "      <td>4</td>\n",
       "      <td>2020</td>\n",
       "      <td>-105</td>\n",
       "      <td>3</td>\n",
       "      <td>Lithuania</td>\n",
       "      <td>LTU</td>\n",
       "      <td>2794184.0</td>\n",
       "      <td>Europe</td>\n",
       "    </tr>\n",
       "    <tr>\n",
       "      <th>34444</th>\n",
       "      <td>28/08/2020</td>\n",
       "      <td>28</td>\n",
       "      <td>8</td>\n",
       "      <td>2020</td>\n",
       "      <td>-1385</td>\n",
       "      <td>0</td>\n",
       "      <td>Luxembourg</td>\n",
       "      <td>LUX</td>\n",
       "      <td>613894.0</td>\n",
       "      <td>Europe</td>\n",
       "    </tr>\n",
       "    <tr>\n",
       "      <th>45903</th>\n",
       "      <td>03/05/2020</td>\n",
       "      <td>3</td>\n",
       "      <td>5</td>\n",
       "      <td>2020</td>\n",
       "      <td>-161</td>\n",
       "      <td>16</td>\n",
       "      <td>Portugal</td>\n",
       "      <td>PRT</td>\n",
       "      <td>10276617.0</td>\n",
       "      <td>Europe</td>\n",
       "    </tr>\n",
       "    <tr>\n",
       "      <th>48570</th>\n",
       "      <td>11/05/2020</td>\n",
       "      <td>11</td>\n",
       "      <td>5</td>\n",
       "      <td>2020</td>\n",
       "      <td>-9</td>\n",
       "      <td>0</td>\n",
       "      <td>San_Marino</td>\n",
       "      <td>SMR</td>\n",
       "      <td>34453.0</td>\n",
       "      <td>Europe</td>\n",
       "    </tr>\n",
       "    <tr>\n",
       "      <th>52929</th>\n",
       "      <td>25/05/2020</td>\n",
       "      <td>25</td>\n",
       "      <td>5</td>\n",
       "      <td>2020</td>\n",
       "      <td>-372</td>\n",
       "      <td>-1918</td>\n",
       "      <td>Spain</td>\n",
       "      <td>ESP</td>\n",
       "      <td>46937060.0</td>\n",
       "      <td>Europe</td>\n",
       "    </tr>\n",
       "    <tr>\n",
       "      <th>52965</th>\n",
       "      <td>19/04/2020</td>\n",
       "      <td>19</td>\n",
       "      <td>4</td>\n",
       "      <td>2020</td>\n",
       "      <td>-713</td>\n",
       "      <td>410</td>\n",
       "      <td>Spain</td>\n",
       "      <td>ESP</td>\n",
       "      <td>46937060.0</td>\n",
       "      <td>Europe</td>\n",
       "    </tr>\n",
       "    <tr>\n",
       "      <th>57689</th>\n",
       "      <td>02/06/2020</td>\n",
       "      <td>2</td>\n",
       "      <td>6</td>\n",
       "      <td>2020</td>\n",
       "      <td>-1</td>\n",
       "      <td>0</td>\n",
       "      <td>Uganda</td>\n",
       "      <td>UGA</td>\n",
       "      <td>44269587.0</td>\n",
       "      <td>Africa</td>\n",
       "    </tr>\n",
       "    <tr>\n",
       "      <th>57701</th>\n",
       "      <td>21/05/2020</td>\n",
       "      <td>21</td>\n",
       "      <td>5</td>\n",
       "      <td>2020</td>\n",
       "      <td>-115</td>\n",
       "      <td>0</td>\n",
       "      <td>Uganda</td>\n",
       "      <td>UGA</td>\n",
       "      <td>44269587.0</td>\n",
       "      <td>Africa</td>\n",
       "    </tr>\n",
       "  </tbody>\n",
       "</table>\n",
       "</div>"
      ],
      "text/plain": [
       "          dateRep  day  month  year  cases  deaths  \\\n",
       "6313   20/05/2020   20      5  2020   -209       0   \n",
       "10937  10/03/2020   10      3  2020     -9       1   \n",
       "16908  07/09/2020    7      9  2020  -8261    3800   \n",
       "17026  12/05/2020   12      5  2020    -50      18   \n",
       "17029  09/05/2020    9      5  2020  -1480      50   \n",
       "17031  07/05/2020    7      5  2020  -2461      49   \n",
       "20560  03/06/2020    3      6  2020   -766     107   \n",
       "29278  20/06/2020   20      6  2020   -148      47   \n",
       "30172  11/09/2020   11      9  2020     -6       0   \n",
       "30493  22/07/2020   22      7  2020   -110       0   \n",
       "34224  29/04/2020   29      4  2020   -105       3   \n",
       "34444  28/08/2020   28      8  2020  -1385       0   \n",
       "45903  03/05/2020    3      5  2020   -161      16   \n",
       "48570  11/05/2020   11      5  2020     -9       0   \n",
       "52929  25/05/2020   25      5  2020   -372   -1918   \n",
       "52965  19/04/2020   19      4  2020   -713     410   \n",
       "57689  02/06/2020    2      6  2020     -1       0   \n",
       "57701  21/05/2020   21      5  2020   -115       0   \n",
       "\n",
       "                          countriesAndTerritories countryterritoryCode  \\\n",
       "6313                                        Benin                  BEN   \n",
       "10937  Cases_on_an_international_conveyance_Japan                Other   \n",
       "16908                                     Ecuador                  ECU   \n",
       "17026                                     Ecuador                  ECU   \n",
       "17029                                     Ecuador                  ECU   \n",
       "17031                                     Ecuador                  ECU   \n",
       "20560                                      France                  FRA   \n",
       "29278                                       Italy                  ITA   \n",
       "30172                                      Jersey                  JEY   \n",
       "30493                                      Jordan                  JOR   \n",
       "34224                                   Lithuania                  LTU   \n",
       "34444                                  Luxembourg                  LUX   \n",
       "45903                                    Portugal                  PRT   \n",
       "48570                                  San_Marino                  SMR   \n",
       "52929                                       Spain                  ESP   \n",
       "52965                                       Spain                  ESP   \n",
       "57689                                      Uganda                  UGA   \n",
       "57701                                      Uganda                  UGA   \n",
       "\n",
       "       popData2019 continentExp  \n",
       "6313    11801151.0       Africa  \n",
       "10937    7169456.0        Other  \n",
       "16908   17373657.0      America  \n",
       "17026   17373657.0      America  \n",
       "17029   17373657.0      America  \n",
       "17031   17373657.0      America  \n",
       "20560   67012883.0       Europe  \n",
       "29278   60359546.0       Europe  \n",
       "30172     107796.0       Europe  \n",
       "30493   10101697.0         Asia  \n",
       "34224    2794184.0       Europe  \n",
       "34444     613894.0       Europe  \n",
       "45903   10276617.0       Europe  \n",
       "48570      34453.0       Europe  \n",
       "52929   46937060.0       Europe  \n",
       "52965   46937060.0       Europe  \n",
       "57689   44269587.0       Africa  \n",
       "57701   44269587.0       Africa  "
      ]
     },
     "execution_count": 35,
     "metadata": {},
     "output_type": "execute_result"
    }
   ],
   "source": [
    "ecdc[ecdc.cases < 0]"
   ]
  },
  {
   "cell_type": "code",
   "execution_count": 36,
   "id": "7a0f2a2a",
   "metadata": {},
   "outputs": [
    {
     "data": {
      "text/html": [
       "<div>\n",
       "<style scoped>\n",
       "    .dataframe tbody tr th:only-of-type {\n",
       "        vertical-align: middle;\n",
       "    }\n",
       "\n",
       "    .dataframe tbody tr th {\n",
       "        vertical-align: top;\n",
       "    }\n",
       "\n",
       "    .dataframe thead th {\n",
       "        text-align: right;\n",
       "    }\n",
       "</style>\n",
       "<table border=\"1\" class=\"dataframe\">\n",
       "  <thead>\n",
       "    <tr style=\"text-align: right;\">\n",
       "      <th></th>\n",
       "      <th>dateRep</th>\n",
       "      <th>day</th>\n",
       "      <th>month</th>\n",
       "      <th>year</th>\n",
       "      <th>cases</th>\n",
       "      <th>deaths</th>\n",
       "      <th>countriesAndTerritories</th>\n",
       "      <th>countryterritoryCode</th>\n",
       "      <th>popData2019</th>\n",
       "      <th>continentExp</th>\n",
       "    </tr>\n",
       "  </thead>\n",
       "  <tbody>\n",
       "    <tr>\n",
       "      <th>15115</th>\n",
       "      <td>06/07/2020</td>\n",
       "      <td>6</td>\n",
       "      <td>7</td>\n",
       "      <td>2020</td>\n",
       "      <td>75</td>\n",
       "      <td>-3</td>\n",
       "      <td>Czechia</td>\n",
       "      <td>CZE</td>\n",
       "      <td>10649800.0</td>\n",
       "      <td>Europe</td>\n",
       "    </tr>\n",
       "    <tr>\n",
       "      <th>15116</th>\n",
       "      <td>05/07/2020</td>\n",
       "      <td>5</td>\n",
       "      <td>7</td>\n",
       "      <td>2020</td>\n",
       "      <td>121</td>\n",
       "      <td>-1</td>\n",
       "      <td>Czechia</td>\n",
       "      <td>CZE</td>\n",
       "      <td>10649800.0</td>\n",
       "      <td>Europe</td>\n",
       "    </tr>\n",
       "    <tr>\n",
       "      <th>28209</th>\n",
       "      <td>03/10/2020</td>\n",
       "      <td>3</td>\n",
       "      <td>10</td>\n",
       "      <td>2020</td>\n",
       "      <td>466</td>\n",
       "      <td>-5</td>\n",
       "      <td>Ireland</td>\n",
       "      <td>IRL</td>\n",
       "      <td>4904240.0</td>\n",
       "      <td>Europe</td>\n",
       "    </tr>\n",
       "    <tr>\n",
       "      <th>29273</th>\n",
       "      <td>25/06/2020</td>\n",
       "      <td>25</td>\n",
       "      <td>6</td>\n",
       "      <td>2020</td>\n",
       "      <td>577</td>\n",
       "      <td>-31</td>\n",
       "      <td>Italy</td>\n",
       "      <td>ITA</td>\n",
       "      <td>60359546.0</td>\n",
       "      <td>Europe</td>\n",
       "    </tr>\n",
       "    <tr>\n",
       "      <th>31306</th>\n",
       "      <td>06/08/2020</td>\n",
       "      <td>6</td>\n",
       "      <td>8</td>\n",
       "      <td>2020</td>\n",
       "      <td>218</td>\n",
       "      <td>-12</td>\n",
       "      <td>Kosovo</td>\n",
       "      <td>XKX</td>\n",
       "      <td>1798506.0</td>\n",
       "      <td>Europe</td>\n",
       "    </tr>\n",
       "    <tr>\n",
       "      <th>31911</th>\n",
       "      <td>24/08/2020</td>\n",
       "      <td>24</td>\n",
       "      <td>8</td>\n",
       "      <td>2020</td>\n",
       "      <td>237</td>\n",
       "      <td>-443</td>\n",
       "      <td>Kyrgyzstan</td>\n",
       "      <td>KGZ</td>\n",
       "      <td>6415851.0</td>\n",
       "      <td>Asia</td>\n",
       "    </tr>\n",
       "    <tr>\n",
       "      <th>52850</th>\n",
       "      <td>12/08/2020</td>\n",
       "      <td>12</td>\n",
       "      <td>8</td>\n",
       "      <td>2020</td>\n",
       "      <td>3172</td>\n",
       "      <td>-2</td>\n",
       "      <td>Spain</td>\n",
       "      <td>ESP</td>\n",
       "      <td>46937060.0</td>\n",
       "      <td>Europe</td>\n",
       "    </tr>\n",
       "    <tr>\n",
       "      <th>52929</th>\n",
       "      <td>25/05/2020</td>\n",
       "      <td>25</td>\n",
       "      <td>5</td>\n",
       "      <td>2020</td>\n",
       "      <td>-372</td>\n",
       "      <td>-1918</td>\n",
       "      <td>Spain</td>\n",
       "      <td>ESP</td>\n",
       "      <td>46937060.0</td>\n",
       "      <td>Europe</td>\n",
       "    </tr>\n",
       "  </tbody>\n",
       "</table>\n",
       "</div>"
      ],
      "text/plain": [
       "          dateRep  day  month  year  cases  deaths countriesAndTerritories  \\\n",
       "15115  06/07/2020    6      7  2020     75      -3                 Czechia   \n",
       "15116  05/07/2020    5      7  2020    121      -1                 Czechia   \n",
       "28209  03/10/2020    3     10  2020    466      -5                 Ireland   \n",
       "29273  25/06/2020   25      6  2020    577     -31                   Italy   \n",
       "31306  06/08/2020    6      8  2020    218     -12                  Kosovo   \n",
       "31911  24/08/2020   24      8  2020    237    -443              Kyrgyzstan   \n",
       "52850  12/08/2020   12      8  2020   3172      -2                   Spain   \n",
       "52929  25/05/2020   25      5  2020   -372   -1918                   Spain   \n",
       "\n",
       "      countryterritoryCode  popData2019 continentExp  \n",
       "15115                  CZE   10649800.0       Europe  \n",
       "15116                  CZE   10649800.0       Europe  \n",
       "28209                  IRL    4904240.0       Europe  \n",
       "29273                  ITA   60359546.0       Europe  \n",
       "31306                  XKX    1798506.0       Europe  \n",
       "31911                  KGZ    6415851.0         Asia  \n",
       "52850                  ESP   46937060.0       Europe  \n",
       "52929                  ESP   46937060.0       Europe  "
      ]
     },
     "execution_count": 36,
     "metadata": {},
     "output_type": "execute_result"
    }
   ],
   "source": [
    "ecdc[ecdc.deaths < 0]"
   ]
  },
  {
   "cell_type": "code",
   "execution_count": 37,
   "id": "35cad095",
   "metadata": {},
   "outputs": [
    {
     "data": {
      "text/plain": [
       "<AxesSubplot:xlabel='deaths'>"
      ]
     },
     "execution_count": 37,
     "metadata": {},
     "output_type": "execute_result"
    },
    {
     "data": {
      "image/png": "[encoded data removed]",
      "text/plain": [
       "<Figure size 640x480 with 1 Axes>"
      ]
     },
     "metadata": {},
     "output_type": "display_data"
    }
   ],
   "source": [
    "sns.boxplot(data=ecdc, x='deaths')"
   ]
  },
  {
   "cell_type": "code",
   "execution_count": 38,
   "id": "78c90e1d",
   "metadata": {},
   "outputs": [
    {
     "data": {
      "text/html": [
       "<div>\n",
       "<style scoped>\n",
       "    .dataframe tbody tr th:only-of-type {\n",
       "        vertical-align: middle;\n",
       "    }\n",
       "\n",
       "    .dataframe tbody tr th {\n",
       "        vertical-align: top;\n",
       "    }\n",
       "\n",
       "    .dataframe thead th {\n",
       "        text-align: right;\n",
       "    }\n",
       "</style>\n",
       "<table border=\"1\" class=\"dataframe\">\n",
       "  <thead>\n",
       "    <tr style=\"text-align: right;\">\n",
       "      <th></th>\n",
       "      <th>dateRep</th>\n",
       "      <th>day</th>\n",
       "      <th>month</th>\n",
       "      <th>year</th>\n",
       "      <th>cases</th>\n",
       "      <th>deaths</th>\n",
       "      <th>countriesAndTerritories</th>\n",
       "      <th>countryterritoryCode</th>\n",
       "      <th>popData2019</th>\n",
       "      <th>continentExp</th>\n",
       "    </tr>\n",
       "  </thead>\n",
       "  <tbody>\n",
       "    <tr>\n",
       "      <th>2118</th>\n",
       "      <td>02/10/2020</td>\n",
       "      <td>2</td>\n",
       "      <td>10</td>\n",
       "      <td>2020</td>\n",
       "      <td>14001</td>\n",
       "      <td>3351</td>\n",
       "      <td>Argentina</td>\n",
       "      <td>ARG</td>\n",
       "      <td>44780675.0</td>\n",
       "      <td>America</td>\n",
       "    </tr>\n",
       "    <tr>\n",
       "      <th>16908</th>\n",
       "      <td>07/09/2020</td>\n",
       "      <td>7</td>\n",
       "      <td>9</td>\n",
       "      <td>2020</td>\n",
       "      <td>-8261</td>\n",
       "      <td>3800</td>\n",
       "      <td>Ecuador</td>\n",
       "      <td>ECU</td>\n",
       "      <td>17373657.0</td>\n",
       "      <td>America</td>\n",
       "    </tr>\n",
       "    <tr>\n",
       "      <th>37038</th>\n",
       "      <td>09/10/2020</td>\n",
       "      <td>9</td>\n",
       "      <td>10</td>\n",
       "      <td>2020</td>\n",
       "      <td>4936</td>\n",
       "      <td>3013</td>\n",
       "      <td>Mexico</td>\n",
       "      <td>MEX</td>\n",
       "      <td>127575529.0</td>\n",
       "      <td>America</td>\n",
       "    </tr>\n",
       "    <tr>\n",
       "      <th>44888</th>\n",
       "      <td>14/08/2020</td>\n",
       "      <td>14</td>\n",
       "      <td>8</td>\n",
       "      <td>2020</td>\n",
       "      <td>9441</td>\n",
       "      <td>3935</td>\n",
       "      <td>Peru</td>\n",
       "      <td>PER</td>\n",
       "      <td>32510462.0</td>\n",
       "      <td>America</td>\n",
       "    </tr>\n",
       "    <tr>\n",
       "      <th>44909</th>\n",
       "      <td>24/07/2020</td>\n",
       "      <td>24</td>\n",
       "      <td>7</td>\n",
       "      <td>2020</td>\n",
       "      <td>4546</td>\n",
       "      <td>3887</td>\n",
       "      <td>Peru</td>\n",
       "      <td>PER</td>\n",
       "      <td>32510462.0</td>\n",
       "      <td>America</td>\n",
       "    </tr>\n",
       "    <tr>\n",
       "      <th>59007</th>\n",
       "      <td>12/12/2020</td>\n",
       "      <td>12</td>\n",
       "      <td>12</td>\n",
       "      <td>2020</td>\n",
       "      <td>234633</td>\n",
       "      <td>3343</td>\n",
       "      <td>United_States_of_America</td>\n",
       "      <td>USA</td>\n",
       "      <td>329064917.0</td>\n",
       "      <td>America</td>\n",
       "    </tr>\n",
       "    <tr>\n",
       "      <th>59009</th>\n",
       "      <td>10/12/2020</td>\n",
       "      <td>10</td>\n",
       "      <td>12</td>\n",
       "      <td>2020</td>\n",
       "      <td>220025</td>\n",
       "      <td>3124</td>\n",
       "      <td>United_States_of_America</td>\n",
       "      <td>USA</td>\n",
       "      <td>329064917.0</td>\n",
       "      <td>America</td>\n",
       "    </tr>\n",
       "    <tr>\n",
       "      <th>59016</th>\n",
       "      <td>03/12/2020</td>\n",
       "      <td>3</td>\n",
       "      <td>12</td>\n",
       "      <td>2020</td>\n",
       "      <td>203311</td>\n",
       "      <td>3190</td>\n",
       "      <td>United_States_of_America</td>\n",
       "      <td>USA</td>\n",
       "      <td>329064917.0</td>\n",
       "      <td>America</td>\n",
       "    </tr>\n",
       "    <tr>\n",
       "      <th>59239</th>\n",
       "      <td>24/04/2020</td>\n",
       "      <td>24</td>\n",
       "      <td>4</td>\n",
       "      <td>2020</td>\n",
       "      <td>26543</td>\n",
       "      <td>3179</td>\n",
       "      <td>United_States_of_America</td>\n",
       "      <td>USA</td>\n",
       "      <td>329064917.0</td>\n",
       "      <td>America</td>\n",
       "    </tr>\n",
       "    <tr>\n",
       "      <th>59245</th>\n",
       "      <td>18/04/2020</td>\n",
       "      <td>18</td>\n",
       "      <td>4</td>\n",
       "      <td>2020</td>\n",
       "      <td>30833</td>\n",
       "      <td>3770</td>\n",
       "      <td>United_States_of_America</td>\n",
       "      <td>USA</td>\n",
       "      <td>329064917.0</td>\n",
       "      <td>America</td>\n",
       "    </tr>\n",
       "    <tr>\n",
       "      <th>59247</th>\n",
       "      <td>16/04/2020</td>\n",
       "      <td>16</td>\n",
       "      <td>4</td>\n",
       "      <td>2020</td>\n",
       "      <td>30148</td>\n",
       "      <td>4928</td>\n",
       "      <td>United_States_of_America</td>\n",
       "      <td>USA</td>\n",
       "      <td>329064917.0</td>\n",
       "      <td>America</td>\n",
       "    </tr>\n",
       "  </tbody>\n",
       "</table>\n",
       "</div>"
      ],
      "text/plain": [
       "          dateRep  day  month  year   cases  deaths   countriesAndTerritories  \\\n",
       "2118   02/10/2020    2     10  2020   14001    3351                 Argentina   \n",
       "16908  07/09/2020    7      9  2020   -8261    3800                   Ecuador   \n",
       "37038  09/10/2020    9     10  2020    4936    3013                    Mexico   \n",
       "44888  14/08/2020   14      8  2020    9441    3935                      Peru   \n",
       "44909  24/07/2020   24      7  2020    4546    3887                      Peru   \n",
       "59007  12/12/2020   12     12  2020  234633    3343  United_States_of_America   \n",
       "59009  10/12/2020   10     12  2020  220025    3124  United_States_of_America   \n",
       "59016  03/12/2020    3     12  2020  203311    3190  United_States_of_America   \n",
       "59239  24/04/2020   24      4  2020   26543    3179  United_States_of_America   \n",
       "59245  18/04/2020   18      4  2020   30833    3770  United_States_of_America   \n",
       "59247  16/04/2020   16      4  2020   30148    4928  United_States_of_America   \n",
       "\n",
       "      countryterritoryCode  popData2019 continentExp  \n",
       "2118                   ARG   44780675.0      America  \n",
       "16908                  ECU   17373657.0      America  \n",
       "37038                  MEX  127575529.0      America  \n",
       "44888                  PER   32510462.0      America  \n",
       "44909                  PER   32510462.0      America  \n",
       "59007                  USA  329064917.0      America  \n",
       "59009                  USA  329064917.0      America  \n",
       "59016                  USA  329064917.0      America  \n",
       "59239                  USA  329064917.0      America  \n",
       "59245                  USA  329064917.0      America  \n",
       "59247                  USA  329064917.0      America  "
      ]
     },
     "execution_count": 38,
     "metadata": {},
     "output_type": "execute_result"
    }
   ],
   "source": [
    "ecdc[ecdc.deaths > 3000]"
   ]
  },
  {
   "cell_type": "code",
   "execution_count": 39,
   "id": "722d9b62",
   "metadata": {},
   "outputs": [
    {
     "data": {
      "text/html": [
       "<div>\n",
       "<style scoped>\n",
       "    .dataframe tbody tr th:only-of-type {\n",
       "        vertical-align: middle;\n",
       "    }\n",
       "\n",
       "    .dataframe tbody tr th {\n",
       "        vertical-align: top;\n",
       "    }\n",
       "\n",
       "    .dataframe thead th {\n",
       "        text-align: right;\n",
       "    }\n",
       "</style>\n",
       "<table border=\"1\" class=\"dataframe\">\n",
       "  <thead>\n",
       "    <tr style=\"text-align: right;\">\n",
       "      <th></th>\n",
       "      <th>countriesAndTerritories</th>\n",
       "      <th>Number of days</th>\n",
       "      <th>Overall deaths</th>\n",
       "    </tr>\n",
       "  </thead>\n",
       "  <tbody>\n",
       "    <tr>\n",
       "      <th>0</th>\n",
       "      <td>Argentina</td>\n",
       "      <td>1</td>\n",
       "      <td>3351</td>\n",
       "    </tr>\n",
       "    <tr>\n",
       "      <th>1</th>\n",
       "      <td>Ecuador</td>\n",
       "      <td>1</td>\n",
       "      <td>3800</td>\n",
       "    </tr>\n",
       "    <tr>\n",
       "      <th>2</th>\n",
       "      <td>Mexico</td>\n",
       "      <td>1</td>\n",
       "      <td>3013</td>\n",
       "    </tr>\n",
       "    <tr>\n",
       "      <th>3</th>\n",
       "      <td>Peru</td>\n",
       "      <td>2</td>\n",
       "      <td>7822</td>\n",
       "    </tr>\n",
       "    <tr>\n",
       "      <th>4</th>\n",
       "      <td>United_States_of_America</td>\n",
       "      <td>6</td>\n",
       "      <td>21534</td>\n",
       "    </tr>\n",
       "  </tbody>\n",
       "</table>\n",
       "</div>"
      ],
      "text/plain": [
       "    countriesAndTerritories  Number of days  Overall deaths\n",
       "0                 Argentina               1            3351\n",
       "1                   Ecuador               1            3800\n",
       "2                    Mexico               1            3013\n",
       "3                      Peru               2            7822\n",
       "4  United_States_of_America               6           21534"
      ]
     },
     "execution_count": 39,
     "metadata": {},
     "output_type": "execute_result"
    }
   ],
   "source": [
    "ecdc[ecdc.deaths > 3000].groupby('countriesAndTerritories', as_index=False).agg({'day': 'count', 'deaths': 'sum'}) \\\n",
    "    .rename(columns={'day': 'Number of days', 'deaths': 'Overall deaths'})"
   ]
  },
  {
   "cell_type": "code",
   "execution_count": 40,
   "id": "da120689",
   "metadata": {},
   "outputs": [
    {
     "data": {
      "text/html": [
       "<div>\n",
       "<style scoped>\n",
       "    .dataframe tbody tr th:only-of-type {\n",
       "        vertical-align: middle;\n",
       "    }\n",
       "\n",
       "    .dataframe tbody tr th {\n",
       "        vertical-align: top;\n",
       "    }\n",
       "\n",
       "    .dataframe thead th {\n",
       "        text-align: right;\n",
       "    }\n",
       "</style>\n",
       "<table border=\"1\" class=\"dataframe\">\n",
       "  <thead>\n",
       "    <tr style=\"text-align: right;\">\n",
       "      <th></th>\n",
       "      <th>dateRep</th>\n",
       "      <th>day</th>\n",
       "      <th>month</th>\n",
       "      <th>year</th>\n",
       "      <th>cases</th>\n",
       "      <th>deaths</th>\n",
       "      <th>countriesAndTerritories</th>\n",
       "      <th>countryterritoryCode</th>\n",
       "      <th>popData2019</th>\n",
       "      <th>continentExp</th>\n",
       "    </tr>\n",
       "  </thead>\n",
       "  <tbody>\n",
       "    <tr>\n",
       "      <th>2</th>\n",
       "      <td>12/12/2020</td>\n",
       "      <td>12</td>\n",
       "      <td>12</td>\n",
       "      <td>2020</td>\n",
       "      <td>113</td>\n",
       "      <td>11</td>\n",
       "      <td>Afghanistan</td>\n",
       "      <td>AFG</td>\n",
       "      <td>38041757.0</td>\n",
       "      <td>Asia</td>\n",
       "    </tr>\n",
       "    <tr>\n",
       "      <th>3</th>\n",
       "      <td>12/12/2020</td>\n",
       "      <td>12</td>\n",
       "      <td>12</td>\n",
       "      <td>2020</td>\n",
       "      <td>113</td>\n",
       "      <td>11</td>\n",
       "      <td>Afghanistan</td>\n",
       "      <td>AFG</td>\n",
       "      <td>38041757.0</td>\n",
       "      <td>Asia</td>\n",
       "    </tr>\n",
       "    <tr>\n",
       "      <th>217</th>\n",
       "      <td>12/05/2020</td>\n",
       "      <td>12</td>\n",
       "      <td>5</td>\n",
       "      <td>2020</td>\n",
       "      <td>285</td>\n",
       "      <td>2</td>\n",
       "      <td>Afghanistan</td>\n",
       "      <td>AFG</td>\n",
       "      <td>38041757.0</td>\n",
       "      <td>Asia</td>\n",
       "    </tr>\n",
       "    <tr>\n",
       "      <th>218</th>\n",
       "      <td>12/05/2020</td>\n",
       "      <td>12</td>\n",
       "      <td>5</td>\n",
       "      <td>2020</td>\n",
       "      <td>285</td>\n",
       "      <td>2</td>\n",
       "      <td>Afghanistan</td>\n",
       "      <td>AFG</td>\n",
       "      <td>38041757.0</td>\n",
       "      <td>Asia</td>\n",
       "    </tr>\n",
       "    <tr>\n",
       "      <th>48009</th>\n",
       "      <td>29/05/2020</td>\n",
       "      <td>29</td>\n",
       "      <td>5</td>\n",
       "      <td>2020</td>\n",
       "      <td>0</td>\n",
       "      <td>0</td>\n",
       "      <td>Saint_Lucia</td>\n",
       "      <td>LCA</td>\n",
       "      <td>182795.0</td>\n",
       "      <td>America</td>\n",
       "    </tr>\n",
       "    <tr>\n",
       "      <th>48010</th>\n",
       "      <td>29/05/2020</td>\n",
       "      <td>29</td>\n",
       "      <td>5</td>\n",
       "      <td>2020</td>\n",
       "      <td>0</td>\n",
       "      <td>0</td>\n",
       "      <td>Saint_Lucia</td>\n",
       "      <td>LCA</td>\n",
       "      <td>182795.0</td>\n",
       "      <td>America</td>\n",
       "    </tr>\n",
       "    <tr>\n",
       "      <th>48072</th>\n",
       "      <td>28/03/2020</td>\n",
       "      <td>28</td>\n",
       "      <td>3</td>\n",
       "      <td>2020</td>\n",
       "      <td>0</td>\n",
       "      <td>0</td>\n",
       "      <td>Saint_Lucia</td>\n",
       "      <td>LCA</td>\n",
       "      <td>182795.0</td>\n",
       "      <td>America</td>\n",
       "    </tr>\n",
       "    <tr>\n",
       "      <th>48073</th>\n",
       "      <td>28/03/2020</td>\n",
       "      <td>28</td>\n",
       "      <td>3</td>\n",
       "      <td>2020</td>\n",
       "      <td>0</td>\n",
       "      <td>0</td>\n",
       "      <td>Saint_Lucia</td>\n",
       "      <td>LCA</td>\n",
       "      <td>182795.0</td>\n",
       "      <td>America</td>\n",
       "    </tr>\n",
       "  </tbody>\n",
       "</table>\n",
       "</div>"
      ],
      "text/plain": [
       "          dateRep  day  month  year  cases  deaths countriesAndTerritories  \\\n",
       "2      12/12/2020   12     12  2020    113      11             Afghanistan   \n",
       "3      12/12/2020   12     12  2020    113      11             Afghanistan   \n",
       "217    12/05/2020   12      5  2020    285       2             Afghanistan   \n",
       "218    12/05/2020   12      5  2020    285       2             Afghanistan   \n",
       "48009  29/05/2020   29      5  2020      0       0             Saint_Lucia   \n",
       "48010  29/05/2020   29      5  2020      0       0             Saint_Lucia   \n",
       "48072  28/03/2020   28      3  2020      0       0             Saint_Lucia   \n",
       "48073  28/03/2020   28      3  2020      0       0             Saint_Lucia   \n",
       "\n",
       "      countryterritoryCode  popData2019 continentExp  \n",
       "2                      AFG   38041757.0         Asia  \n",
       "3                      AFG   38041757.0         Asia  \n",
       "217                    AFG   38041757.0         Asia  \n",
       "218                    AFG   38041757.0         Asia  \n",
       "48009                  LCA     182795.0      America  \n",
       "48010                  LCA     182795.0      America  \n",
       "48072                  LCA     182795.0      America  \n",
       "48073                  LCA     182795.0      America  "
      ]
     },
     "execution_count": 40,
     "metadata": {},
     "output_type": "execute_result"
    }
   ],
   "source": [
    "ecdc[ecdc.duplicated(keep=False)]"
   ]
  },
  {
   "cell_type": "code",
   "execution_count": 41,
   "id": "9ad7569d",
   "metadata": {},
   "outputs": [],
   "source": [
    "ecdc = ecdc.drop_duplicates()"
   ]
  },
  {
   "cell_type": "code",
   "execution_count": 42,
   "id": "21a7d7b6",
   "metadata": {},
   "outputs": [
    {
     "data": {
      "text/plain": [
       "(0, 10)"
      ]
     },
     "execution_count": 42,
     "metadata": {},
     "output_type": "execute_result"
    }
   ],
   "source": [
    "ecdc[ecdc.duplicated(keep=False)].shape"
   ]
  },
  {
   "cell_type": "code",
   "execution_count": 43,
   "id": "66f5e769",
   "metadata": {},
   "outputs": [],
   "source": [
    "bmi = pd.read_csv('/bigdata/data/bmi.csv')"
   ]
  },
  {
   "cell_type": "code",
   "execution_count": 44,
   "id": "e4a7337e",
   "metadata": {},
   "outputs": [
    {
     "data": {
      "text/html": [
       "<div>\n",
       "<style scoped>\n",
       "    .dataframe tbody tr th:only-of-type {\n",
       "        vertical-align: middle;\n",
       "    }\n",
       "\n",
       "    .dataframe tbody tr th {\n",
       "        vertical-align: top;\n",
       "    }\n",
       "\n",
       "    .dataframe thead th {\n",
       "        text-align: right;\n",
       "    }\n",
       "</style>\n",
       "<table border=\"1\" class=\"dataframe\">\n",
       "  <thead>\n",
       "    <tr style=\"text-align: right;\">\n",
       "      <th></th>\n",
       "      <th>bmi</th>\n",
       "      <th>region</th>\n",
       "    </tr>\n",
       "  </thead>\n",
       "  <tbody>\n",
       "    <tr>\n",
       "      <th>0</th>\n",
       "      <td>22.705</td>\n",
       "      <td>northwest</td>\n",
       "    </tr>\n",
       "    <tr>\n",
       "      <th>1</th>\n",
       "      <td>28.880</td>\n",
       "      <td>northwest</td>\n",
       "    </tr>\n",
       "    <tr>\n",
       "      <th>2</th>\n",
       "      <td>27.740</td>\n",
       "      <td>northwest</td>\n",
       "    </tr>\n",
       "    <tr>\n",
       "      <th>3</th>\n",
       "      <td>25.840</td>\n",
       "      <td>northwest</td>\n",
       "    </tr>\n",
       "    <tr>\n",
       "      <th>4</th>\n",
       "      <td>28.025</td>\n",
       "      <td>northwest</td>\n",
       "    </tr>\n",
       "  </tbody>\n",
       "</table>\n",
       "</div>"
      ],
      "text/plain": [
       "      bmi     region\n",
       "0  22.705  northwest\n",
       "1  28.880  northwest\n",
       "2  27.740  northwest\n",
       "3  25.840  northwest\n",
       "4  28.025  northwest"
      ]
     },
     "execution_count": 44,
     "metadata": {},
     "output_type": "execute_result"
    }
   ],
   "source": [
    "bmi.head()"
   ]
  },
  {
   "cell_type": "code",
   "execution_count": 45,
   "id": "0edae459",
   "metadata": {},
   "outputs": [
    {
     "data": {
      "text/plain": [
       "(650, 2)"
      ]
     },
     "execution_count": 45,
     "metadata": {},
     "output_type": "execute_result"
    }
   ],
   "source": [
    "bmi.shape"
   ]
  },
  {
   "cell_type": "code",
   "execution_count": 46,
   "id": "2f9865f7",
   "metadata": {},
   "outputs": [
    {
     "data": {
      "text/plain": [
       "northwest    325\n",
       "southwest    325\n",
       "Name: region, dtype: int64"
      ]
     },
     "execution_count": 46,
     "metadata": {},
     "output_type": "execute_result"
    }
   ],
   "source": [
    "bmi.region.value_counts()"
   ]
  },
  {
   "cell_type": "code",
   "execution_count": 47,
   "id": "50e5547e",
   "metadata": {},
   "outputs": [],
   "source": [
    "bmi_nw = bmi.loc[bmi.region == 'northwest', 'bmi']\n",
    "bmi_sw = bmi.loc[bmi.region == 'southwest', 'bmi']"
   ]
  },
  {
   "cell_type": "code",
   "execution_count": 48,
   "id": "9f28be90",
   "metadata": {},
   "outputs": [
    {
     "name": "stdout",
     "output_type": "stream",
     "text": [
      "Нулевая гипотеза: выборка имеет нормальное распределение.\n",
      "Альтернативная гипотеза: выборка не имеет нормального распределения.\n",
      "\n",
      "Northwest:  P-уровень значимости больше 0.05 (0.46545225381851196), нулевая гипотеза принимается (распределение выборки примерно соответствует нормальному).\n",
      "Southwest:  P-уровень значимости больше 0.05 (0.3630009591579437), нулевая гипотеза принимается (распределение выборки примерно соответствует нормальному).\n"
     ]
    }
   ],
   "source": [
    "print('Нулевая гипотеза: выборка имеет нормальное распределение.\\n'\n",
    "      'Альтернативная гипотеза: выборка не имеет нормального распределения.\\n')\n",
    "\n",
    "def check_norm_shapiro(data):\n",
    "    stat, pvalue = sts.shapiro(data)\n",
    "    accept = False if pvalue <= 0.05 else True\n",
    "    return (f'P-уровень значимости {\"больше\" if accept else \"меньше\"} 0.05 ({pvalue}), '\n",
    "          f'нулевая гипотеза {\"принимается\" if accept else \"отвергается\"} '\n",
    "          f'(распределение выборки {\"примерно\" if accept else \"не\"} соответствует нормальному).')\n",
    "    \n",
    "print('Northwest: ', check_norm_shapiro(bmi_nw))\n",
    "print('Southwest: ', check_norm_shapiro(bmi_sw))"
   ]
  },
  {
   "cell_type": "code",
   "execution_count": 49,
   "id": "7a5d2980",
   "metadata": {},
   "outputs": [
    {
     "name": "stdout",
     "output_type": "stream",
     "text": [
      "Нулевая гипотеза: рассматриваемые выборки получены из генеральных совокупностей, обладающих одинаковыми дисперсиями.\n",
      "Альтернативная гипотеза: рассматриваемые выборки получены из генеральных совокупностей, обладающих разными дисперсиями..\n",
      "\n",
      "P-уровень значимости больше 0.05 (0.06519347353581818), нулевая гипотеза принимается (дисперсии выброк примерно одинаковые).\n"
     ]
    }
   ],
   "source": [
    "print('Нулевая гипотеза: рассматриваемые выборки получены из генеральных совокупностей, обладающих одинаковыми дисперсиями.\\n'\n",
    "      'Альтернативная гипотеза: рассматриваемые выборки получены из генеральных совокупностей, обладающих разными дисперсиями..\\n')\n",
    "\n",
    "def check_var_bartlett(sample1, sample2):\n",
    "    stat, pvalue = sts.bartlett(sample1, sample2)\n",
    "    accept = False if pvalue <= 0.05 else True\n",
    "    return (f'P-уровень значимости {\"больше\" if accept else \"меньше\"} 0.05 ({pvalue}), '\n",
    "          f'нулевая гипотеза {\"принимается\" if accept else \"отвергается\"} '\n",
    "          f'(дисперсии выброк{\" примерно\" if accept else \" не\"} одинаковые).')\n",
    "    \n",
    "print(check_var_bartlett(bmi_nw, bmi_sw))"
   ]
  },
  {
   "cell_type": "code",
   "execution_count": 50,
   "id": "df9601af",
   "metadata": {},
   "outputs": [
    {
     "name": "stdout",
     "output_type": "stream",
     "text": [
      "0.001076958496307695\n",
      "P-значение намного ниже 0.05, следовательно нулевая гипотеза отвергается, выборки принадлежат к разным генеральным совокупностям и их средние значения различны.\n"
     ]
    }
   ],
   "source": [
    "stat_ttest, pvalue_ttest = sts.ttest_ind(bmi_nw, bmi_sw)\n",
    "print(pvalue_ttest)\n",
    "print('P-значение намного ниже 0.05, следовательно нулевая гипотеза отвергается, выборки принадлежат к разным '\n",
    "      'генеральным совокупностям и их средние значения различны.')"
   ]
  },
  {
   "cell_type": "code",
   "execution_count": 51,
   "id": "c0d0f4ca",
   "metadata": {},
   "outputs": [
    {
     "data": {
      "text/html": [
       "<div>\n",
       "<style scoped>\n",
       "    .dataframe tbody tr th:only-of-type {\n",
       "        vertical-align: middle;\n",
       "    }\n",
       "\n",
       "    .dataframe tbody tr th {\n",
       "        vertical-align: top;\n",
       "    }\n",
       "\n",
       "    .dataframe thead th {\n",
       "        text-align: right;\n",
       "    }\n",
       "</style>\n",
       "<table border=\"1\" class=\"dataframe\">\n",
       "  <thead>\n",
       "    <tr style=\"text-align: right;\">\n",
       "      <th></th>\n",
       "      <th>N</th>\n",
       "      <th>Number of drops</th>\n",
       "    </tr>\n",
       "  </thead>\n",
       "  <tbody>\n",
       "    <tr>\n",
       "      <th>0</th>\n",
       "      <td>1</td>\n",
       "      <td>97</td>\n",
       "    </tr>\n",
       "    <tr>\n",
       "      <th>1</th>\n",
       "      <td>2</td>\n",
       "      <td>98</td>\n",
       "    </tr>\n",
       "    <tr>\n",
       "      <th>2</th>\n",
       "      <td>3</td>\n",
       "      <td>109</td>\n",
       "    </tr>\n",
       "    <tr>\n",
       "      <th>3</th>\n",
       "      <td>4</td>\n",
       "      <td>95</td>\n",
       "    </tr>\n",
       "    <tr>\n",
       "      <th>4</th>\n",
       "      <td>5</td>\n",
       "      <td>97</td>\n",
       "    </tr>\n",
       "    <tr>\n",
       "      <th>5</th>\n",
       "      <td>6</td>\n",
       "      <td>104</td>\n",
       "    </tr>\n",
       "  </tbody>\n",
       "</table>\n",
       "</div>"
      ],
      "text/plain": [
       "   N  Number of drops\n",
       "0  1               97\n",
       "1  2               98\n",
       "2  3              109\n",
       "3  4               95\n",
       "4  5               97\n",
       "5  6              104"
      ]
     },
     "execution_count": 51,
     "metadata": {},
     "output_type": "execute_result"
    }
   ],
   "source": [
    "dice = pd.DataFrame({'N': [1, 2, 3, 4, 5, 6], 'Number of drops': [97, 98, 109, 95, 97, 104]})\n",
    "dice"
   ]
  },
  {
   "cell_type": "code",
   "execution_count": 52,
   "id": "86be0879",
   "metadata": {},
   "outputs": [
    {
     "data": {
      "text/html": [
       "<div>\n",
       "<style scoped>\n",
       "    .dataframe tbody tr th:only-of-type {\n",
       "        vertical-align: middle;\n",
       "    }\n",
       "\n",
       "    .dataframe tbody tr th {\n",
       "        vertical-align: top;\n",
       "    }\n",
       "\n",
       "    .dataframe thead th {\n",
       "        text-align: right;\n",
       "    }\n",
       "</style>\n",
       "<table border=\"1\" class=\"dataframe\">\n",
       "  <thead>\n",
       "    <tr style=\"text-align: right;\">\n",
       "      <th></th>\n",
       "      <th>N</th>\n",
       "      <th>Number of drops</th>\n",
       "      <th>Expected drops</th>\n",
       "    </tr>\n",
       "  </thead>\n",
       "  <tbody>\n",
       "    <tr>\n",
       "      <th>0</th>\n",
       "      <td>1</td>\n",
       "      <td>97</td>\n",
       "      <td>100</td>\n",
       "    </tr>\n",
       "    <tr>\n",
       "      <th>1</th>\n",
       "      <td>2</td>\n",
       "      <td>98</td>\n",
       "      <td>100</td>\n",
       "    </tr>\n",
       "    <tr>\n",
       "      <th>2</th>\n",
       "      <td>3</td>\n",
       "      <td>109</td>\n",
       "      <td>100</td>\n",
       "    </tr>\n",
       "    <tr>\n",
       "      <th>3</th>\n",
       "      <td>4</td>\n",
       "      <td>95</td>\n",
       "      <td>100</td>\n",
       "    </tr>\n",
       "    <tr>\n",
       "      <th>4</th>\n",
       "      <td>5</td>\n",
       "      <td>97</td>\n",
       "      <td>100</td>\n",
       "    </tr>\n",
       "    <tr>\n",
       "      <th>5</th>\n",
       "      <td>6</td>\n",
       "      <td>104</td>\n",
       "      <td>100</td>\n",
       "    </tr>\n",
       "  </tbody>\n",
       "</table>\n",
       "</div>"
      ],
      "text/plain": [
       "   N  Number of drops  Expected drops\n",
       "0  1               97             100\n",
       "1  2               98             100\n",
       "2  3              109             100\n",
       "3  4               95             100\n",
       "4  5               97             100\n",
       "5  6              104             100"
      ]
     },
     "execution_count": 52,
     "metadata": {},
     "output_type": "execute_result"
    }
   ],
   "source": [
    "dice['Expected drops'] = 100\n",
    "dice"
   ]
  },
  {
   "cell_type": "code",
   "execution_count": 53,
   "id": "dd928473",
   "metadata": {},
   "outputs": [
    {
     "name": "stdout",
     "output_type": "stream",
     "text": [
      "0.9198882077437889\n",
      "Основываясь на p-value (> 0.05) делаем вывод, что распределение равномерное.\n"
     ]
    }
   ],
   "source": [
    "stat_chisquare, pvalue_chisquare = sts.chisquare(dice['Number of drops'], dice['Expected drops'])\n",
    "print(pvalue_chisquare)\n",
    "print('Основываясь на p-value (> 0.05) делаем вывод, что распределение равномерное.')"
   ]
  },
  {
   "cell_type": "code",
   "execution_count": 54,
   "id": "49db20cf",
   "metadata": {},
   "outputs": [],
   "source": [
    "data = pd.DataFrame({'Женат': [89,17,11,43,22,1],\n",
    " 'Гражданский брак': [80,22,20,35,6,4],\n",
    " 'Не состоит в отношениях': [35,44,35,6,8,22]})\n",
    "data.index = ['Полный рабочий день','Частичная занятость','Временно не работает','На домохозяйстве','На пенсии','Учёба']"
   ]
  },
  {
   "cell_type": "code",
   "execution_count": 55,
   "id": "017ad073",
   "metadata": {},
   "outputs": [
    {
     "data": {
      "text/html": [
       "<div>\n",
       "<style scoped>\n",
       "    .dataframe tbody tr th:only-of-type {\n",
       "        vertical-align: middle;\n",
       "    }\n",
       "\n",
       "    .dataframe tbody tr th {\n",
       "        vertical-align: top;\n",
       "    }\n",
       "\n",
       "    .dataframe thead th {\n",
       "        text-align: right;\n",
       "    }\n",
       "</style>\n",
       "<table border=\"1\" class=\"dataframe\">\n",
       "  <thead>\n",
       "    <tr style=\"text-align: right;\">\n",
       "      <th></th>\n",
       "      <th>Женат</th>\n",
       "      <th>Гражданский брак</th>\n",
       "      <th>Не состоит в отношениях</th>\n",
       "    </tr>\n",
       "  </thead>\n",
       "  <tbody>\n",
       "    <tr>\n",
       "      <th>Полный рабочий день</th>\n",
       "      <td>89</td>\n",
       "      <td>80</td>\n",
       "      <td>35</td>\n",
       "    </tr>\n",
       "    <tr>\n",
       "      <th>Частичная занятость</th>\n",
       "      <td>17</td>\n",
       "      <td>22</td>\n",
       "      <td>44</td>\n",
       "    </tr>\n",
       "    <tr>\n",
       "      <th>Временно не работает</th>\n",
       "      <td>11</td>\n",
       "      <td>20</td>\n",
       "      <td>35</td>\n",
       "    </tr>\n",
       "    <tr>\n",
       "      <th>На домохозяйстве</th>\n",
       "      <td>43</td>\n",
       "      <td>35</td>\n",
       "      <td>6</td>\n",
       "    </tr>\n",
       "    <tr>\n",
       "      <th>На пенсии</th>\n",
       "      <td>22</td>\n",
       "      <td>6</td>\n",
       "      <td>8</td>\n",
       "    </tr>\n",
       "    <tr>\n",
       "      <th>Учёба</th>\n",
       "      <td>1</td>\n",
       "      <td>4</td>\n",
       "      <td>22</td>\n",
       "    </tr>\n",
       "  </tbody>\n",
       "</table>\n",
       "</div>"
      ],
      "text/plain": [
       "                      Женат  Гражданский брак  Не состоит в отношениях\n",
       "Полный рабочий день      89                80                       35\n",
       "Частичная занятость      17                22                       44\n",
       "Временно не работает     11                20                       35\n",
       "На домохозяйстве         43                35                        6\n",
       "На пенсии                22                 6                        8\n",
       "Учёба                     1                 4                       22"
      ]
     },
     "execution_count": 55,
     "metadata": {},
     "output_type": "execute_result"
    }
   ],
   "source": [
    "data"
   ]
  },
  {
   "cell_type": "code",
   "execution_count": 56,
   "id": "f46f63f0",
   "metadata": {},
   "outputs": [
    {
     "name": "stdout",
     "output_type": "stream",
     "text": [
      "H0: категориальные переменные семейное положение и занятость независимы\n",
      "H1: категориальные переменные семейное положение и занятость связаны между собой.\n",
      "P-уровень значимости меньше 0.05 (1.7291616900960234e-21), нулевая гипотеза отвергается (семейное положение и занятость связаны между собой).\n"
     ]
    }
   ],
   "source": [
    "print('H0: категориальные переменные семейное положение и занятость независимы\\n'\n",
    "      'H1: категориальные переменные семейное положение и занятость связаны между собой.')\n",
    "\n",
    "def check_depend_chisquared(data):\n",
    "    pvalue = sts.chi2_contingency(data)[1]\n",
    "    accept = False if pvalue <= 0.05 else True\n",
    "    return (f'P-уровень значимости {\"больше\" if accept else \"меньше\"} 0.05 ({pvalue}), '\n",
    "          f'нулевая гипотеза {\"принимается\" if accept else \"отвергается\"} '\n",
    "          f'(семейное положение и занятость {\"независимы\" if accept else \"связаны между собой\"}).')\n",
    "\n",
    "print(check_depend_chisquared(data))"
   ]
  },
  {
   "cell_type": "code",
   "execution_count": null,
   "id": "300d3f72",
   "metadata": {},
   "outputs": [],
   "source": []
  }
 ],
 "metadata": {
  "kernelspec": {
   "display_name": "Python 3 (ipykernel)",
   "language": "python",
   "name": "python3"
  },
  "language_info": {
   "codemirror_mode": {
    "name": "ipython",
    "version": 3
   },
   "file_extension": ".py",
   "mimetype": "text/x-python",
   "name": "python",
   "nbconvert_exporter": "python",
   "pygments_lexer": "ipython3",
   "version": "3.10.4"
  }
 },
 "nbformat": 4,
 "nbformat_minor": 5
}
