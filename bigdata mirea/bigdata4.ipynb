{
 "cells": [
  {
   "cell_type": "code",
   "execution_count": 1,
   "id": "cb8092d5",
   "metadata": {},
   "outputs": [],
   "source": [
    "import pandas as pd\n",
    "import numpy as np\n",
    "from IPython.display import display\n",
    "import seaborn as sns\n",
    "import matplotlib.pyplot as plt\n",
    "import scipy.stats as stats\n",
    "import statsmodels.api as sm\n",
    "from statsmodels.formula.api import ols\n",
    "from itertools import combinations\n",
    "from statsmodels.stats.multicomp import pairwise_tukeyhsd"
   ]
  },
  {
   "cell_type": "markdown",
   "id": "47702829",
   "metadata": {},
   "source": [
    "## 1. Определить два вектора, представляющие собой число автомобилей, припаркованных в течении 5 рабочих дней у бизнес-центра на уличной стоянке и в подземном гараже."
   ]
  },
  {
   "cell_type": "code",
   "execution_count": 2,
   "id": "ccb8ea7f",
   "metadata": {},
   "outputs": [
    {
     "data": {
      "text/html": [
       "<div>\n",
       "<style scoped>\n",
       "    .dataframe tbody tr th:only-of-type {\n",
       "        vertical-align: middle;\n",
       "    }\n",
       "\n",
       "    .dataframe tbody tr th {\n",
       "        vertical-align: top;\n",
       "    }\n",
       "\n",
       "    .dataframe thead th {\n",
       "        text-align: right;\n",
       "    }\n",
       "</style>\n",
       "<table border=\"1\" class=\"dataframe\">\n",
       "  <thead>\n",
       "    <tr style=\"text-align: right;\">\n",
       "      <th></th>\n",
       "      <th>Улица</th>\n",
       "      <th>Гараж</th>\n",
       "    </tr>\n",
       "  </thead>\n",
       "  <tbody>\n",
       "    <tr>\n",
       "      <th>Понедельник</th>\n",
       "      <td>80</td>\n",
       "      <td>100</td>\n",
       "    </tr>\n",
       "    <tr>\n",
       "      <th>Вторник</th>\n",
       "      <td>98</td>\n",
       "      <td>82</td>\n",
       "    </tr>\n",
       "    <tr>\n",
       "      <th>Среда</th>\n",
       "      <td>75</td>\n",
       "      <td>105</td>\n",
       "    </tr>\n",
       "    <tr>\n",
       "      <th>Четверг</th>\n",
       "      <td>91</td>\n",
       "      <td>89</td>\n",
       "    </tr>\n",
       "    <tr>\n",
       "      <th>Пятница</th>\n",
       "      <td>78</td>\n",
       "      <td>102</td>\n",
       "    </tr>\n",
       "  </tbody>\n",
       "</table>\n",
       "</div>"
      ],
      "text/plain": [
       "             Улица  Гараж\n",
       "Понедельник     80    100\n",
       "Вторник         98     82\n",
       "Среда           75    105\n",
       "Четверг         91     89\n",
       "Пятница         78    102"
      ]
     },
     "execution_count": 2,
     "metadata": {},
     "output_type": "execute_result"
    }
   ],
   "source": [
    "df = pd.DataFrame(\n",
    "    data={'Улица': [80, 98, 75, 91, 78], 'Гараж': [100, 82, 105, 89, 102]},\n",
    "    index=['Понедельник', 'Вторник', 'Среда', 'Четверг', 'Пятница']\n",
    ")\n",
    "df"
   ]
  },
  {
   "cell_type": "code",
   "execution_count": 3,
   "id": "776b3b2d",
   "metadata": {},
   "outputs": [
    {
     "name": "stdout",
     "output_type": "stream",
     "text": [
      "Два вектора:\n",
      " [[ 1. -1.]\n",
      " [-1.  1.]]\n"
     ]
    }
   ],
   "source": [
    "print('Два вектора:\\n', np.corrcoef(df['Улица'], df['Гараж']))"
   ]
  },
  {
   "cell_type": "markdown",
   "id": "bae5934c",
   "metadata": {},
   "source": [
    "### 1.1. Найти и интерпретировать корреляцию между переменными «Улица» и «Гараж» (подсчитать корреляцию по Пирсону)."
   ]
  },
  {
   "cell_type": "code",
   "execution_count": 4,
   "id": "4624c8cc",
   "metadata": {},
   "outputs": [
    {
     "name": "stdout",
     "output_type": "stream",
     "text": [
      "Коэффициент корреляции по Пирсону:  -0.9999999999999998\n"
     ]
    }
   ],
   "source": [
    "print('Коэффициент корреляции по Пирсону: ', df['Улица'].corr(df['Гараж']))"
   ]
  },
  {
   "cell_type": "markdown",
   "id": "c485b6b8",
   "metadata": {},
   "source": [
    "### 1.2. Построить диаграмму рассеяния для вышеупомянутых переменных."
   ]
  },
  {
   "cell_type": "code",
   "execution_count": 5,
   "id": "2a8e842e",
   "metadata": {},
   "outputs": [
    {
     "data": {
      "image/png": "[encoded data removed]",
      "text/plain": [
       "<Figure size 640x480 with 1 Axes>"
      ]
     },
     "metadata": {},
     "output_type": "display_data"
    }
   ],
   "source": [
    "sns.scatterplot(data=df, x='Улица', y='Гараж');"
   ]
  },
  {
   "cell_type": "markdown",
   "id": "8295445d",
   "metadata": {},
   "source": [
    "## 2. Найти и выгрузить данные. Вывести, провести предобработку и описать признаки."
   ]
  },
  {
   "cell_type": "code",
   "execution_count": 6,
   "id": "8fe3e1f8",
   "metadata": {},
   "outputs": [
    {
     "data": {
      "text/html": [
       "<div>\n",
       "<style scoped>\n",
       "    .dataframe tbody tr th:only-of-type {\n",
       "        vertical-align: middle;\n",
       "    }\n",
       "\n",
       "    .dataframe tbody tr th {\n",
       "        vertical-align: top;\n",
       "    }\n",
       "\n",
       "    .dataframe thead th {\n",
       "        text-align: right;\n",
       "    }\n",
       "</style>\n",
       "<table border=\"1\" class=\"dataframe\">\n",
       "  <thead>\n",
       "    <tr style=\"text-align: right;\">\n",
       "      <th></th>\n",
       "      <th>fixed acidity</th>\n",
       "      <th>volatile acidity</th>\n",
       "      <th>citric acid</th>\n",
       "      <th>residual sugar</th>\n",
       "      <th>chlorides</th>\n",
       "      <th>free sulfur dioxide</th>\n",
       "      <th>total sulfur dioxide</th>\n",
       "      <th>density</th>\n",
       "      <th>pH</th>\n",
       "      <th>sulphates</th>\n",
       "      <th>alcohol</th>\n",
       "      <th>quality</th>\n",
       "      <th>Id</th>\n",
       "    </tr>\n",
       "  </thead>\n",
       "  <tbody>\n",
       "    <tr>\n",
       "      <th>0</th>\n",
       "      <td>7.4</td>\n",
       "      <td>0.70</td>\n",
       "      <td>0.00</td>\n",
       "      <td>1.9</td>\n",
       "      <td>0.076</td>\n",
       "      <td>11.0</td>\n",
       "      <td>34.0</td>\n",
       "      <td>0.9978</td>\n",
       "      <td>3.51</td>\n",
       "      <td>0.56</td>\n",
       "      <td>9.4</td>\n",
       "      <td>5</td>\n",
       "      <td>0</td>\n",
       "    </tr>\n",
       "    <tr>\n",
       "      <th>1</th>\n",
       "      <td>7.8</td>\n",
       "      <td>0.88</td>\n",
       "      <td>0.00</td>\n",
       "      <td>2.6</td>\n",
       "      <td>0.098</td>\n",
       "      <td>25.0</td>\n",
       "      <td>67.0</td>\n",
       "      <td>0.9968</td>\n",
       "      <td>3.20</td>\n",
       "      <td>0.68</td>\n",
       "      <td>9.8</td>\n",
       "      <td>5</td>\n",
       "      <td>1</td>\n",
       "    </tr>\n",
       "    <tr>\n",
       "      <th>2</th>\n",
       "      <td>7.8</td>\n",
       "      <td>0.76</td>\n",
       "      <td>0.04</td>\n",
       "      <td>2.3</td>\n",
       "      <td>0.092</td>\n",
       "      <td>15.0</td>\n",
       "      <td>54.0</td>\n",
       "      <td>0.9970</td>\n",
       "      <td>3.26</td>\n",
       "      <td>0.65</td>\n",
       "      <td>9.8</td>\n",
       "      <td>5</td>\n",
       "      <td>2</td>\n",
       "    </tr>\n",
       "    <tr>\n",
       "      <th>3</th>\n",
       "      <td>11.2</td>\n",
       "      <td>0.28</td>\n",
       "      <td>0.56</td>\n",
       "      <td>1.9</td>\n",
       "      <td>0.075</td>\n",
       "      <td>17.0</td>\n",
       "      <td>60.0</td>\n",
       "      <td>0.9980</td>\n",
       "      <td>3.16</td>\n",
       "      <td>0.58</td>\n",
       "      <td>9.8</td>\n",
       "      <td>6</td>\n",
       "      <td>3</td>\n",
       "    </tr>\n",
       "    <tr>\n",
       "      <th>4</th>\n",
       "      <td>7.4</td>\n",
       "      <td>0.70</td>\n",
       "      <td>0.00</td>\n",
       "      <td>1.9</td>\n",
       "      <td>0.076</td>\n",
       "      <td>11.0</td>\n",
       "      <td>34.0</td>\n",
       "      <td>0.9978</td>\n",
       "      <td>3.51</td>\n",
       "      <td>0.56</td>\n",
       "      <td>9.4</td>\n",
       "      <td>5</td>\n",
       "      <td>4</td>\n",
       "    </tr>\n",
       "  </tbody>\n",
       "</table>\n",
       "</div>"
      ],
      "text/plain": [
       "   fixed acidity  volatile acidity  citric acid  residual sugar  chlorides  \\\n",
       "0            7.4              0.70         0.00             1.9      0.076   \n",
       "1            7.8              0.88         0.00             2.6      0.098   \n",
       "2            7.8              0.76         0.04             2.3      0.092   \n",
       "3           11.2              0.28         0.56             1.9      0.075   \n",
       "4            7.4              0.70         0.00             1.9      0.076   \n",
       "\n",
       "   free sulfur dioxide  total sulfur dioxide  density    pH  sulphates  \\\n",
       "0                 11.0                  34.0   0.9978  3.51       0.56   \n",
       "1                 25.0                  67.0   0.9968  3.20       0.68   \n",
       "2                 15.0                  54.0   0.9970  3.26       0.65   \n",
       "3                 17.0                  60.0   0.9980  3.16       0.58   \n",
       "4                 11.0                  34.0   0.9978  3.51       0.56   \n",
       "\n",
       "   alcohol  quality  Id  \n",
       "0      9.4        5   0  \n",
       "1      9.8        5   1  \n",
       "2      9.8        5   2  \n",
       "3      9.8        6   3  \n",
       "4      9.4        5   4  "
      ]
     },
     "execution_count": 6,
     "metadata": {},
     "output_type": "execute_result"
    }
   ],
   "source": [
    "df = pd.read_csv('/bigdata/data/4/WineQT.csv')\n",
    "df.head()"
   ]
  },
  {
   "cell_type": "markdown",
   "id": "f5912c98",
   "metadata": {},
   "source": [
    "Датасет содержит информацию о различных вариантах португальского красного вина \"Винью Верде\". Он описывает количество различных химических веществ, присутствующих в вине, и их влияние на его качество.\n",
    "\n",
    "Описание признаков:\n",
    "\n",
    "fixe acidity - фиксированная кислотность\n",
    "\n",
    "volatile acidity - летучая кислотность\n",
    "\n",
    "citric acid - лимонная кислота\n",
    "\n",
    "residual sugar - остаточный сахар\n",
    "\n",
    "chlorides - хлориды\n",
    "\n",
    "free sulfur dioxide - свободный диоксид серы\n",
    "\n",
    "total sulfur dioxide - всего диоксида серы\n",
    "\n",
    "density - плотность\n",
    "\n",
    "pH - водородный показатель\n",
    "\n",
    "sulphates - сульфаты\n",
    "\n",
    "alcohol - уровень алкоголя\n",
    "\n",
    "**quality - качество (целевая переменная)** (в описании заявлено, что может изменяться от 0 до 10)\n",
    "\n",
    "*Id - копия индексов - сразу отбросим*"
   ]
  },
  {
   "cell_type": "code",
   "execution_count": 7,
   "id": "9d38c01a",
   "metadata": {},
   "outputs": [
    {
     "data": {
      "text/html": [
       "<div>\n",
       "<style scoped>\n",
       "    .dataframe tbody tr th:only-of-type {\n",
       "        vertical-align: middle;\n",
       "    }\n",
       "\n",
       "    .dataframe tbody tr th {\n",
       "        vertical-align: top;\n",
       "    }\n",
       "\n",
       "    .dataframe thead th {\n",
       "        text-align: right;\n",
       "    }\n",
       "</style>\n",
       "<table border=\"1\" class=\"dataframe\">\n",
       "  <thead>\n",
       "    <tr style=\"text-align: right;\">\n",
       "      <th></th>\n",
       "      <th>fixed acidity</th>\n",
       "      <th>volatile acidity</th>\n",
       "      <th>citric acid</th>\n",
       "      <th>residual sugar</th>\n",
       "      <th>chlorides</th>\n",
       "      <th>free sulfur dioxide</th>\n",
       "      <th>total sulfur dioxide</th>\n",
       "      <th>density</th>\n",
       "      <th>pH</th>\n",
       "      <th>sulphates</th>\n",
       "      <th>alcohol</th>\n",
       "      <th>quality</th>\n",
       "    </tr>\n",
       "  </thead>\n",
       "  <tbody>\n",
       "    <tr>\n",
       "      <th>0</th>\n",
       "      <td>7.4</td>\n",
       "      <td>0.70</td>\n",
       "      <td>0.00</td>\n",
       "      <td>1.9</td>\n",
       "      <td>0.076</td>\n",
       "      <td>11.0</td>\n",
       "      <td>34.0</td>\n",
       "      <td>0.9978</td>\n",
       "      <td>3.51</td>\n",
       "      <td>0.56</td>\n",
       "      <td>9.4</td>\n",
       "      <td>5</td>\n",
       "    </tr>\n",
       "    <tr>\n",
       "      <th>1</th>\n",
       "      <td>7.8</td>\n",
       "      <td>0.88</td>\n",
       "      <td>0.00</td>\n",
       "      <td>2.6</td>\n",
       "      <td>0.098</td>\n",
       "      <td>25.0</td>\n",
       "      <td>67.0</td>\n",
       "      <td>0.9968</td>\n",
       "      <td>3.20</td>\n",
       "      <td>0.68</td>\n",
       "      <td>9.8</td>\n",
       "      <td>5</td>\n",
       "    </tr>\n",
       "    <tr>\n",
       "      <th>2</th>\n",
       "      <td>7.8</td>\n",
       "      <td>0.76</td>\n",
       "      <td>0.04</td>\n",
       "      <td>2.3</td>\n",
       "      <td>0.092</td>\n",
       "      <td>15.0</td>\n",
       "      <td>54.0</td>\n",
       "      <td>0.9970</td>\n",
       "      <td>3.26</td>\n",
       "      <td>0.65</td>\n",
       "      <td>9.8</td>\n",
       "      <td>5</td>\n",
       "    </tr>\n",
       "    <tr>\n",
       "      <th>3</th>\n",
       "      <td>11.2</td>\n",
       "      <td>0.28</td>\n",
       "      <td>0.56</td>\n",
       "      <td>1.9</td>\n",
       "      <td>0.075</td>\n",
       "      <td>17.0</td>\n",
       "      <td>60.0</td>\n",
       "      <td>0.9980</td>\n",
       "      <td>3.16</td>\n",
       "      <td>0.58</td>\n",
       "      <td>9.8</td>\n",
       "      <td>6</td>\n",
       "    </tr>\n",
       "    <tr>\n",
       "      <th>4</th>\n",
       "      <td>7.4</td>\n",
       "      <td>0.70</td>\n",
       "      <td>0.00</td>\n",
       "      <td>1.9</td>\n",
       "      <td>0.076</td>\n",
       "      <td>11.0</td>\n",
       "      <td>34.0</td>\n",
       "      <td>0.9978</td>\n",
       "      <td>3.51</td>\n",
       "      <td>0.56</td>\n",
       "      <td>9.4</td>\n",
       "      <td>5</td>\n",
       "    </tr>\n",
       "  </tbody>\n",
       "</table>\n",
       "</div>"
      ],
      "text/plain": [
       "   fixed acidity  volatile acidity  citric acid  residual sugar  chlorides  \\\n",
       "0            7.4              0.70         0.00             1.9      0.076   \n",
       "1            7.8              0.88         0.00             2.6      0.098   \n",
       "2            7.8              0.76         0.04             2.3      0.092   \n",
       "3           11.2              0.28         0.56             1.9      0.075   \n",
       "4            7.4              0.70         0.00             1.9      0.076   \n",
       "\n",
       "   free sulfur dioxide  total sulfur dioxide  density    pH  sulphates  \\\n",
       "0                 11.0                  34.0   0.9978  3.51       0.56   \n",
       "1                 25.0                  67.0   0.9968  3.20       0.68   \n",
       "2                 15.0                  54.0   0.9970  3.26       0.65   \n",
       "3                 17.0                  60.0   0.9980  3.16       0.58   \n",
       "4                 11.0                  34.0   0.9978  3.51       0.56   \n",
       "\n",
       "   alcohol  quality  \n",
       "0      9.4        5  \n",
       "1      9.8        5  \n",
       "2      9.8        5  \n",
       "3      9.8        6  \n",
       "4      9.4        5  "
      ]
     },
     "execution_count": 7,
     "metadata": {},
     "output_type": "execute_result"
    }
   ],
   "source": [
    "df.drop(columns=['Id'], inplace=True)\n",
    "df.head()"
   ]
  },
  {
   "cell_type": "code",
   "execution_count": 8,
   "id": "be6bf93c",
   "metadata": {},
   "outputs": [
    {
     "data": {
      "text/plain": [
       "fixed acidity           0\n",
       "volatile acidity        0\n",
       "citric acid             0\n",
       "residual sugar          0\n",
       "chlorides               0\n",
       "free sulfur dioxide     0\n",
       "total sulfur dioxide    0\n",
       "density                 0\n",
       "pH                      0\n",
       "sulphates               0\n",
       "alcohol                 0\n",
       "quality                 0\n",
       "dtype: int64"
      ]
     },
     "execution_count": 8,
     "metadata": {},
     "output_type": "execute_result"
    }
   ],
   "source": [
    "df.isna().sum()"
   ]
  },
  {
   "cell_type": "markdown",
   "id": "3c22760c",
   "metadata": {},
   "source": [
    "Как видно, пропущенные значение отсутствуют."
   ]
  },
  {
   "cell_type": "code",
   "execution_count": 9,
   "id": "a370f66f",
   "metadata": {},
   "outputs": [
    {
     "name": "stdout",
     "output_type": "stream",
     "text": [
      "<class 'pandas.core.frame.DataFrame'>\n",
      "RangeIndex: 1143 entries, 0 to 1142\n",
      "Data columns (total 12 columns):\n",
      " #   Column                Non-Null Count  Dtype  \n",
      "---  ------                --------------  -----  \n",
      " 0   fixed acidity         1143 non-null   float64\n",
      " 1   volatile acidity      1143 non-null   float64\n",
      " 2   citric acid           1143 non-null   float64\n",
      " 3   residual sugar        1143 non-null   float64\n",
      " 4   chlorides             1143 non-null   float64\n",
      " 5   free sulfur dioxide   1143 non-null   float64\n",
      " 6   total sulfur dioxide  1143 non-null   float64\n",
      " 7   density               1143 non-null   float64\n",
      " 8   pH                    1143 non-null   float64\n",
      " 9   sulphates             1143 non-null   float64\n",
      " 10  alcohol               1143 non-null   float64\n",
      " 11  quality               1143 non-null   int64  \n",
      "dtypes: float64(11), int64(1)\n",
      "memory usage: 107.3 KB\n"
     ]
    }
   ],
   "source": [
    "df.info()"
   ]
  },
  {
   "cell_type": "markdown",
   "id": "af9d65d3",
   "metadata": {},
   "source": [
    "Все числовые признаки приведены к соответствующим типам."
   ]
  },
  {
   "cell_type": "code",
   "execution_count": 10,
   "id": "b01bf801",
   "metadata": {},
   "outputs": [
    {
     "data": {
      "text/html": [
       "<div>\n",
       "<style scoped>\n",
       "    .dataframe tbody tr th:only-of-type {\n",
       "        vertical-align: middle;\n",
       "    }\n",
       "\n",
       "    .dataframe tbody tr th {\n",
       "        vertical-align: top;\n",
       "    }\n",
       "\n",
       "    .dataframe thead th {\n",
       "        text-align: right;\n",
       "    }\n",
       "</style>\n",
       "<table border=\"1\" class=\"dataframe\">\n",
       "  <thead>\n",
       "    <tr style=\"text-align: right;\">\n",
       "      <th></th>\n",
       "      <th>fixed acidity</th>\n",
       "      <th>volatile acidity</th>\n",
       "      <th>citric acid</th>\n",
       "      <th>residual sugar</th>\n",
       "      <th>chlorides</th>\n",
       "      <th>free sulfur dioxide</th>\n",
       "      <th>total sulfur dioxide</th>\n",
       "      <th>density</th>\n",
       "      <th>pH</th>\n",
       "      <th>sulphates</th>\n",
       "      <th>alcohol</th>\n",
       "      <th>quality</th>\n",
       "    </tr>\n",
       "  </thead>\n",
       "  <tbody>\n",
       "    <tr>\n",
       "      <th>count</th>\n",
       "      <td>1143.000000</td>\n",
       "      <td>1143.000000</td>\n",
       "      <td>1143.000000</td>\n",
       "      <td>1143.000000</td>\n",
       "      <td>1143.000000</td>\n",
       "      <td>1143.000000</td>\n",
       "      <td>1143.000000</td>\n",
       "      <td>1143.000000</td>\n",
       "      <td>1143.000000</td>\n",
       "      <td>1143.000000</td>\n",
       "      <td>1143.000000</td>\n",
       "      <td>1143.000000</td>\n",
       "    </tr>\n",
       "    <tr>\n",
       "      <th>mean</th>\n",
       "      <td>8.311111</td>\n",
       "      <td>0.531339</td>\n",
       "      <td>0.268364</td>\n",
       "      <td>2.532152</td>\n",
       "      <td>0.086933</td>\n",
       "      <td>15.615486</td>\n",
       "      <td>45.914698</td>\n",
       "      <td>0.996730</td>\n",
       "      <td>3.311015</td>\n",
       "      <td>0.657708</td>\n",
       "      <td>10.442111</td>\n",
       "      <td>5.657043</td>\n",
       "    </tr>\n",
       "    <tr>\n",
       "      <th>std</th>\n",
       "      <td>1.747595</td>\n",
       "      <td>0.179633</td>\n",
       "      <td>0.196686</td>\n",
       "      <td>1.355917</td>\n",
       "      <td>0.047267</td>\n",
       "      <td>10.250486</td>\n",
       "      <td>32.782130</td>\n",
       "      <td>0.001925</td>\n",
       "      <td>0.156664</td>\n",
       "      <td>0.170399</td>\n",
       "      <td>1.082196</td>\n",
       "      <td>0.805824</td>\n",
       "    </tr>\n",
       "    <tr>\n",
       "      <th>min</th>\n",
       "      <td>4.600000</td>\n",
       "      <td>0.120000</td>\n",
       "      <td>0.000000</td>\n",
       "      <td>0.900000</td>\n",
       "      <td>0.012000</td>\n",
       "      <td>1.000000</td>\n",
       "      <td>6.000000</td>\n",
       "      <td>0.990070</td>\n",
       "      <td>2.740000</td>\n",
       "      <td>0.330000</td>\n",
       "      <td>8.400000</td>\n",
       "      <td>3.000000</td>\n",
       "    </tr>\n",
       "    <tr>\n",
       "      <th>25%</th>\n",
       "      <td>7.100000</td>\n",
       "      <td>0.392500</td>\n",
       "      <td>0.090000</td>\n",
       "      <td>1.900000</td>\n",
       "      <td>0.070000</td>\n",
       "      <td>7.000000</td>\n",
       "      <td>21.000000</td>\n",
       "      <td>0.995570</td>\n",
       "      <td>3.205000</td>\n",
       "      <td>0.550000</td>\n",
       "      <td>9.500000</td>\n",
       "      <td>5.000000</td>\n",
       "    </tr>\n",
       "    <tr>\n",
       "      <th>50%</th>\n",
       "      <td>7.900000</td>\n",
       "      <td>0.520000</td>\n",
       "      <td>0.250000</td>\n",
       "      <td>2.200000</td>\n",
       "      <td>0.079000</td>\n",
       "      <td>13.000000</td>\n",
       "      <td>37.000000</td>\n",
       "      <td>0.996680</td>\n",
       "      <td>3.310000</td>\n",
       "      <td>0.620000</td>\n",
       "      <td>10.200000</td>\n",
       "      <td>6.000000</td>\n",
       "    </tr>\n",
       "    <tr>\n",
       "      <th>75%</th>\n",
       "      <td>9.100000</td>\n",
       "      <td>0.640000</td>\n",
       "      <td>0.420000</td>\n",
       "      <td>2.600000</td>\n",
       "      <td>0.090000</td>\n",
       "      <td>21.000000</td>\n",
       "      <td>61.000000</td>\n",
       "      <td>0.997845</td>\n",
       "      <td>3.400000</td>\n",
       "      <td>0.730000</td>\n",
       "      <td>11.100000</td>\n",
       "      <td>6.000000</td>\n",
       "    </tr>\n",
       "    <tr>\n",
       "      <th>max</th>\n",
       "      <td>15.900000</td>\n",
       "      <td>1.580000</td>\n",
       "      <td>1.000000</td>\n",
       "      <td>15.500000</td>\n",
       "      <td>0.611000</td>\n",
       "      <td>68.000000</td>\n",
       "      <td>289.000000</td>\n",
       "      <td>1.003690</td>\n",
       "      <td>4.010000</td>\n",
       "      <td>2.000000</td>\n",
       "      <td>14.900000</td>\n",
       "      <td>8.000000</td>\n",
       "    </tr>\n",
       "  </tbody>\n",
       "</table>\n",
       "</div>"
      ],
      "text/plain": [
       "       fixed acidity  volatile acidity  citric acid  residual sugar  \\\n",
       "count    1143.000000       1143.000000  1143.000000     1143.000000   \n",
       "mean        8.311111          0.531339     0.268364        2.532152   \n",
       "std         1.747595          0.179633     0.196686        1.355917   \n",
       "min         4.600000          0.120000     0.000000        0.900000   \n",
       "25%         7.100000          0.392500     0.090000        1.900000   \n",
       "50%         7.900000          0.520000     0.250000        2.200000   \n",
       "75%         9.100000          0.640000     0.420000        2.600000   \n",
       "max        15.900000          1.580000     1.000000       15.500000   \n",
       "\n",
       "         chlorides  free sulfur dioxide  total sulfur dioxide      density  \\\n",
       "count  1143.000000          1143.000000           1143.000000  1143.000000   \n",
       "mean      0.086933            15.615486             45.914698     0.996730   \n",
       "std       0.047267            10.250486             32.782130     0.001925   \n",
       "min       0.012000             1.000000              6.000000     0.990070   \n",
       "25%       0.070000             7.000000             21.000000     0.995570   \n",
       "50%       0.079000            13.000000             37.000000     0.996680   \n",
       "75%       0.090000            21.000000             61.000000     0.997845   \n",
       "max       0.611000            68.000000            289.000000     1.003690   \n",
       "\n",
       "                pH    sulphates      alcohol      quality  \n",
       "count  1143.000000  1143.000000  1143.000000  1143.000000  \n",
       "mean      3.311015     0.657708    10.442111     5.657043  \n",
       "std       0.156664     0.170399     1.082196     0.805824  \n",
       "min       2.740000     0.330000     8.400000     3.000000  \n",
       "25%       3.205000     0.550000     9.500000     5.000000  \n",
       "50%       3.310000     0.620000    10.200000     6.000000  \n",
       "75%       3.400000     0.730000    11.100000     6.000000  \n",
       "max       4.010000     2.000000    14.900000     8.000000  "
      ]
     },
     "execution_count": 10,
     "metadata": {},
     "output_type": "execute_result"
    }
   ],
   "source": [
    "df.describe()"
   ]
  },
  {
   "cell_type": "markdown",
   "id": "cad86019",
   "metadata": {},
   "source": [
    "Полезная информация про quality - изменяется от 3 до 8 (только целые числа)."
   ]
  },
  {
   "cell_type": "markdown",
   "id": "c2e47914",
   "metadata": {},
   "source": [
    "### 2.1. Построить корреляционную матрицу по одной целевой переменной. Определить наиболее коррелирующую переменную, продолжить с ней работу в следующем пункте."
   ]
  },
  {
   "cell_type": "code",
   "execution_count": 11,
   "id": "3fe0f14f",
   "metadata": {},
   "outputs": [
    {
     "data": {
      "text/html": [
       "<div>\n",
       "<style scoped>\n",
       "    .dataframe tbody tr th:only-of-type {\n",
       "        vertical-align: middle;\n",
       "    }\n",
       "\n",
       "    .dataframe tbody tr th {\n",
       "        vertical-align: top;\n",
       "    }\n",
       "\n",
       "    .dataframe thead th {\n",
       "        text-align: right;\n",
       "    }\n",
       "</style>\n",
       "<table border=\"1\" class=\"dataframe\">\n",
       "  <thead>\n",
       "    <tr style=\"text-align: right;\">\n",
       "      <th></th>\n",
       "      <th>quality</th>\n",
       "    </tr>\n",
       "  </thead>\n",
       "  <tbody>\n",
       "    <tr>\n",
       "      <th>quality</th>\n",
       "      <td>1.000000</td>\n",
       "    </tr>\n",
       "    <tr>\n",
       "      <th>alcohol</th>\n",
       "      <td>0.484866</td>\n",
       "    </tr>\n",
       "    <tr>\n",
       "      <th>sulphates</th>\n",
       "      <td>0.257710</td>\n",
       "    </tr>\n",
       "    <tr>\n",
       "      <th>citric acid</th>\n",
       "      <td>0.240821</td>\n",
       "    </tr>\n",
       "    <tr>\n",
       "      <th>fixed acidity</th>\n",
       "      <td>0.121970</td>\n",
       "    </tr>\n",
       "    <tr>\n",
       "      <th>residual sugar</th>\n",
       "      <td>0.022002</td>\n",
       "    </tr>\n",
       "    <tr>\n",
       "      <th>pH</th>\n",
       "      <td>-0.052453</td>\n",
       "    </tr>\n",
       "    <tr>\n",
       "      <th>free sulfur dioxide</th>\n",
       "      <td>-0.063260</td>\n",
       "    </tr>\n",
       "    <tr>\n",
       "      <th>chlorides</th>\n",
       "      <td>-0.124085</td>\n",
       "    </tr>\n",
       "    <tr>\n",
       "      <th>density</th>\n",
       "      <td>-0.175208</td>\n",
       "    </tr>\n",
       "    <tr>\n",
       "      <th>total sulfur dioxide</th>\n",
       "      <td>-0.183339</td>\n",
       "    </tr>\n",
       "    <tr>\n",
       "      <th>volatile acidity</th>\n",
       "      <td>-0.407394</td>\n",
       "    </tr>\n",
       "  </tbody>\n",
       "</table>\n",
       "</div>"
      ],
      "text/plain": [
       "                       quality\n",
       "quality               1.000000\n",
       "alcohol               0.484866\n",
       "sulphates             0.257710\n",
       "citric acid           0.240821\n",
       "fixed acidity         0.121970\n",
       "residual sugar        0.022002\n",
       "pH                   -0.052453\n",
       "free sulfur dioxide  -0.063260\n",
       "chlorides            -0.124085\n",
       "density              -0.175208\n",
       "total sulfur dioxide -0.183339\n",
       "volatile acidity     -0.407394"
      ]
     },
     "execution_count": 11,
     "metadata": {},
     "output_type": "execute_result"
    }
   ],
   "source": [
    "df.corr()[['quality']].sort_values(by='quality', ascending=False)"
   ]
  },
  {
   "cell_type": "markdown",
   "id": "ba6761fc",
   "metadata": {},
   "source": [
    "По абсолютному значению больше всех коррелирует с зависимой переменной переменная **alcohol**. Дальше будем работать с ней."
   ]
  },
  {
   "cell_type": "markdown",
   "id": "c979d989",
   "metadata": {},
   "source": [
    "### 2.2. Реализовать регрессию вручную, отобразить наклон, сдвиг и MSE."
   ]
  },
  {
   "cell_type": "code",
   "execution_count": 12,
   "id": "30d4c30a",
   "metadata": {},
   "outputs": [],
   "source": [
    "feature = 'alcohol'"
   ]
  },
  {
   "cell_type": "code",
   "execution_count": 13,
   "id": "6c6e0f49",
   "metadata": {},
   "outputs": [],
   "source": [
    "class MyGradientLinearRegression(object):\n",
    "    def __init__(self):\n",
    "        self.w1 = 0\n",
    "        self.w0 = 0\n",
    "        self.lr = 0.001\n",
    "        self.n_iter = 10000\n",
    "        self.eps = 0.0001\n",
    "    \n",
    "    def calc_mse(self, X, y):\n",
    "        y_pred = self.w1 * X + self.w0\n",
    "        return np.sum((y - y_pred) ** 2) / len(y)\n",
    "    \n",
    "    def calc_grad_mse(self, X, y):\n",
    "        y_pred = self.w1 * X + self.w0\n",
    "        return np.array([\n",
    "            2 / len(X) * np.sum(y - y_pred) * (-1), # сдвиг\n",
    "            2 / len(X) * np.sum((y - y_pred) * (-1) * X)  # наклон\n",
    "        ])\n",
    "    \n",
    "    def fit(self, X, y, verbose=1, learning_rate=None, eps=None, n_iterations=None):\n",
    "        X = X.values\n",
    "        y = y.values\n",
    "        if learning_rate:\n",
    "            self.lr = learning_rate\n",
    "        if eps:\n",
    "            self.eps = eps\n",
    "        if n_iterations:\n",
    "            self.n_iter = n_iterations\n",
    "        \n",
    "        next_w1 = self.w1\n",
    "        next_w0 = self.w0\n",
    "        \n",
    "        for i in range(1, self.n_iter+1):\n",
    "            self.w1 = next_w1\n",
    "            self.w0 = next_w0\n",
    "            \n",
    "            grad = self.calc_grad_mse(X, y)\n",
    "            \n",
    "            next_w0 = self.w0 - self.lr * grad[0]\n",
    "            next_w1 = self.w1 - self.lr * grad[1]\n",
    "            \n",
    "            if (i % verbose) == 0 or i == 1:\n",
    "                print(f\"Итерация {i}\")\n",
    "                print(f\"Текущая точка {self.w1, self.w0}. Следующая точка: {next_w1, next_w0}.\")\n",
    "                print(f\"MSE: {self.calc_mse(X, y)}.\")\n",
    "                print(\"-----------------------------------------------\")\n",
    "            \n",
    "            if (abs(self.w1 - next_w1) <= self.eps) and (abs(self.w0 - next_w0) <= self.eps):\n",
    "                print(f'Ранний выход на итерации {i}, расстояния между коэффициентами меньше eps ({self.eps}).')\n",
    "                print(f'Итоговая MSE: ', self.calc_mse(X, y))\n",
    "                break\n",
    "                \n",
    "    def get_coefs(self):\n",
    "        return {\n",
    "            'bias': self.w1.copy(),\n",
    "            'intercept': self.w0.copy()\n",
    "        }    "
   ]
  },
  {
   "cell_type": "code",
   "execution_count": 14,
   "id": "3524a22e",
   "metadata": {},
   "outputs": [
    {
     "name": "stdout",
     "output_type": "stream",
     "text": [
      "Итерация 1\n",
      "Текущая точка (0, 0). Следующая точка: (0.11898786818314377, 0.01131408573928259).\n",
      "MSE: 32.650918635170605.\n",
      "-----------------------------------------------\n",
      "Итерация 5\n",
      "Текущая точка (0.3394051727593783, 0.03231743843005039). Следующая точка: (0.3829079125603301, 0.03647867604323269).\n",
      "MSE: 4.825780793047217.\n",
      "-----------------------------------------------\n",
      "Итерация 10\n",
      "Текущая точка (0.4793946614832363, 0.04577755344747298). Следующая точка: (0.49176042638004613, 0.046988299157685785).\n",
      "MSE: 0.8791253321418792.\n",
      "-----------------------------------------------\n",
      "Итерация 15\n",
      "Текущая точка (0.5191823621974792, 0.049742693673551754). Следующая точка: (0.5226954872416759, 0.0501145738966783).\n",
      "MSE: 0.5600954049427329.\n",
      "-----------------------------------------------\n",
      "Итерация 20\n",
      "Текущая точка (0.530481414631929, 0.05100827660162442). Следующая точка: (0.5314776212388679, 0.05114165373036293).\n",
      "MSE: 0.5343000950180781.\n",
      "-----------------------------------------------\n",
      "Итерация 25\n",
      "Текущая точка (0.5336807814411506, 0.05150632632276542). Следующая точка: (0.5339613962270265, 0.0515718910627814).\n",
      "MSE: 0.5322080435542119.\n",
      "-----------------------------------------------\n",
      "Итерация 30\n",
      "Текущая точка (0.5345773054309112, 0.051786141993295266). Следующая точка: (0.5346544685870871, 0.05183242389521757).\n",
      "MSE: 0.5320320170786283.\n",
      "-----------------------------------------------\n",
      "Ранний выход на итерации 30, расстояния между коэффициентами меньше eps (0.0001).\n",
      "Итоговая MSE:  0.5320320170786283\n"
     ]
    }
   ],
   "source": [
    "linreg = MyGradientLinearRegression()\n",
    "linreg.fit(df[feature], df.quality, verbose=5)"
   ]
  },
  {
   "cell_type": "code",
   "execution_count": 15,
   "id": "b8bf8158",
   "metadata": {},
   "outputs": [
    {
     "data": {
      "text/plain": [
       "{'bias': 0.5345773054309112, 'intercept': 0.051786141993295266}"
      ]
     },
     "execution_count": 15,
     "metadata": {},
     "output_type": "execute_result"
    }
   ],
   "source": [
    "coefs = linreg.get_coefs()\n",
    "coefs"
   ]
  },
  {
   "cell_type": "markdown",
   "id": "06826021",
   "metadata": {},
   "source": [
    "### 2.3. Визуализировать регрессию на графике."
   ]
  },
  {
   "cell_type": "code",
   "execution_count": 16,
   "id": "f9093f5e",
   "metadata": {},
   "outputs": [
    {
     "data": {
      "image/png": "[encoded data removed]",
      "text/plain": [
       "<Figure size 1000x600 with 1 Axes>"
      ]
     },
     "metadata": {},
     "output_type": "display_data"
    }
   ],
   "source": [
    "fig = plt.figure(figsize=(10, 6))\n",
    "\n",
    "x = np.arange(np.floor(df[feature].min()), np.ceil(df[feature].max()+1))\n",
    "\n",
    "pred = coefs['bias'] * x + coefs['intercept']\n",
    "\n",
    "plt.plot(x, pred, linewidth=2, color='r', label='Прямая линейной регрессии')\n",
    "plt.scatter(df[feature], df.quality)\n",
    "plt.xlabel(feature)\n",
    "plt.grid()\n",
    "plt.ylabel('quality')\n",
    "plt.legend();"
   ]
  },
  {
   "cell_type": "markdown",
   "id": "ca9c2f4f",
   "metadata": {},
   "source": [
    "## 3. Загрузить данные: 'insurance.csv'. Вывести и провести предобработку. Вывести список уникальных регионов."
   ]
  },
  {
   "cell_type": "code",
   "execution_count": 17,
   "id": "a706c6ca",
   "metadata": {},
   "outputs": [
    {
     "data": {
      "text/html": [
       "<div>\n",
       "<style scoped>\n",
       "    .dataframe tbody tr th:only-of-type {\n",
       "        vertical-align: middle;\n",
       "    }\n",
       "\n",
       "    .dataframe tbody tr th {\n",
       "        vertical-align: top;\n",
       "    }\n",
       "\n",
       "    .dataframe thead th {\n",
       "        text-align: right;\n",
       "    }\n",
       "</style>\n",
       "<table border=\"1\" class=\"dataframe\">\n",
       "  <thead>\n",
       "    <tr style=\"text-align: right;\">\n",
       "      <th></th>\n",
       "      <th>age</th>\n",
       "      <th>sex</th>\n",
       "      <th>bmi</th>\n",
       "      <th>children</th>\n",
       "      <th>smoker</th>\n",
       "      <th>region</th>\n",
       "      <th>charges</th>\n",
       "    </tr>\n",
       "  </thead>\n",
       "  <tbody>\n",
       "    <tr>\n",
       "      <th>0</th>\n",
       "      <td>19</td>\n",
       "      <td>female</td>\n",
       "      <td>27.900</td>\n",
       "      <td>0</td>\n",
       "      <td>yes</td>\n",
       "      <td>southwest</td>\n",
       "      <td>16884.92400</td>\n",
       "    </tr>\n",
       "    <tr>\n",
       "      <th>1</th>\n",
       "      <td>18</td>\n",
       "      <td>male</td>\n",
       "      <td>33.770</td>\n",
       "      <td>1</td>\n",
       "      <td>no</td>\n",
       "      <td>southeast</td>\n",
       "      <td>1725.55230</td>\n",
       "    </tr>\n",
       "    <tr>\n",
       "      <th>2</th>\n",
       "      <td>28</td>\n",
       "      <td>male</td>\n",
       "      <td>33.000</td>\n",
       "      <td>3</td>\n",
       "      <td>no</td>\n",
       "      <td>southeast</td>\n",
       "      <td>4449.46200</td>\n",
       "    </tr>\n",
       "    <tr>\n",
       "      <th>3</th>\n",
       "      <td>33</td>\n",
       "      <td>male</td>\n",
       "      <td>22.705</td>\n",
       "      <td>0</td>\n",
       "      <td>no</td>\n",
       "      <td>northwest</td>\n",
       "      <td>21984.47061</td>\n",
       "    </tr>\n",
       "    <tr>\n",
       "      <th>4</th>\n",
       "      <td>32</td>\n",
       "      <td>male</td>\n",
       "      <td>28.880</td>\n",
       "      <td>0</td>\n",
       "      <td>no</td>\n",
       "      <td>northwest</td>\n",
       "      <td>3866.85520</td>\n",
       "    </tr>\n",
       "  </tbody>\n",
       "</table>\n",
       "</div>"
      ],
      "text/plain": [
       "   age     sex     bmi  children smoker     region      charges\n",
       "0   19  female  27.900         0    yes  southwest  16884.92400\n",
       "1   18    male  33.770         1     no  southeast   1725.55230\n",
       "2   28    male  33.000         3     no  southeast   4449.46200\n",
       "3   33    male  22.705         0     no  northwest  21984.47061\n",
       "4   32    male  28.880         0     no  northwest   3866.85520"
      ]
     },
     "execution_count": 17,
     "metadata": {},
     "output_type": "execute_result"
    }
   ],
   "source": [
    "data = pd.read_csv('/bigdata/data/4/insurance.csv')\n",
    "data.head()"
   ]
  },
  {
   "cell_type": "code",
   "execution_count": 18,
   "id": "0f4686d9",
   "metadata": {},
   "outputs": [
    {
     "data": {
      "text/html": [
       "<div>\n",
       "<style scoped>\n",
       "    .dataframe tbody tr th:only-of-type {\n",
       "        vertical-align: middle;\n",
       "    }\n",
       "\n",
       "    .dataframe tbody tr th {\n",
       "        vertical-align: top;\n",
       "    }\n",
       "\n",
       "    .dataframe thead th {\n",
       "        text-align: right;\n",
       "    }\n",
       "</style>\n",
       "<table border=\"1\" class=\"dataframe\">\n",
       "  <thead>\n",
       "    <tr style=\"text-align: right;\">\n",
       "      <th></th>\n",
       "      <th>age</th>\n",
       "      <th>bmi</th>\n",
       "      <th>children</th>\n",
       "      <th>charges</th>\n",
       "    </tr>\n",
       "  </thead>\n",
       "  <tbody>\n",
       "    <tr>\n",
       "      <th>count</th>\n",
       "      <td>1338.000000</td>\n",
       "      <td>1338.000000</td>\n",
       "      <td>1338.000000</td>\n",
       "      <td>1338.000000</td>\n",
       "    </tr>\n",
       "    <tr>\n",
       "      <th>mean</th>\n",
       "      <td>39.207025</td>\n",
       "      <td>30.663397</td>\n",
       "      <td>1.094918</td>\n",
       "      <td>13270.422265</td>\n",
       "    </tr>\n",
       "    <tr>\n",
       "      <th>std</th>\n",
       "      <td>14.049960</td>\n",
       "      <td>6.098187</td>\n",
       "      <td>1.205493</td>\n",
       "      <td>12110.011237</td>\n",
       "    </tr>\n",
       "    <tr>\n",
       "      <th>min</th>\n",
       "      <td>18.000000</td>\n",
       "      <td>15.960000</td>\n",
       "      <td>0.000000</td>\n",
       "      <td>1121.873900</td>\n",
       "    </tr>\n",
       "    <tr>\n",
       "      <th>25%</th>\n",
       "      <td>27.000000</td>\n",
       "      <td>26.296250</td>\n",
       "      <td>0.000000</td>\n",
       "      <td>4740.287150</td>\n",
       "    </tr>\n",
       "    <tr>\n",
       "      <th>50%</th>\n",
       "      <td>39.000000</td>\n",
       "      <td>30.400000</td>\n",
       "      <td>1.000000</td>\n",
       "      <td>9382.033000</td>\n",
       "    </tr>\n",
       "    <tr>\n",
       "      <th>75%</th>\n",
       "      <td>51.000000</td>\n",
       "      <td>34.693750</td>\n",
       "      <td>2.000000</td>\n",
       "      <td>16639.912515</td>\n",
       "    </tr>\n",
       "    <tr>\n",
       "      <th>max</th>\n",
       "      <td>64.000000</td>\n",
       "      <td>53.130000</td>\n",
       "      <td>5.000000</td>\n",
       "      <td>63770.428010</td>\n",
       "    </tr>\n",
       "  </tbody>\n",
       "</table>\n",
       "</div>"
      ],
      "text/plain": [
       "               age          bmi     children       charges\n",
       "count  1338.000000  1338.000000  1338.000000   1338.000000\n",
       "mean     39.207025    30.663397     1.094918  13270.422265\n",
       "std      14.049960     6.098187     1.205493  12110.011237\n",
       "min      18.000000    15.960000     0.000000   1121.873900\n",
       "25%      27.000000    26.296250     0.000000   4740.287150\n",
       "50%      39.000000    30.400000     1.000000   9382.033000\n",
       "75%      51.000000    34.693750     2.000000  16639.912515\n",
       "max      64.000000    53.130000     5.000000  63770.428010"
      ]
     },
     "execution_count": 18,
     "metadata": {},
     "output_type": "execute_result"
    }
   ],
   "source": [
    "data.describe()"
   ]
  },
  {
   "cell_type": "code",
   "execution_count": 19,
   "id": "0f4475a1",
   "metadata": {},
   "outputs": [
    {
     "data": {
      "text/plain": [
       "age         0\n",
       "sex         0\n",
       "bmi         0\n",
       "children    0\n",
       "smoker      0\n",
       "region      0\n",
       "charges     0\n",
       "dtype: int64"
      ]
     },
     "execution_count": 19,
     "metadata": {},
     "output_type": "execute_result"
    }
   ],
   "source": [
    "data.isna().sum()"
   ]
  },
  {
   "cell_type": "code",
   "execution_count": 20,
   "id": "b581d986",
   "metadata": {},
   "outputs": [
    {
     "name": "stdout",
     "output_type": "stream",
     "text": [
      "Список уникальных регионов: \n",
      "1. southeast\n",
      "2. southwest\n",
      "3. northwest\n",
      "4. northeast\n"
     ]
    }
   ],
   "source": [
    "print('Список уникальных регионов: ')\n",
    "for i, region in enumerate(data.region.value_counts().index):\n",
    "    print(f\"{i+1}.\", region)"
   ]
  },
  {
   "cell_type": "markdown",
   "id": "d0b8cab2",
   "metadata": {},
   "source": [
    "### 3.1. Выполнить однофакторный ANOVA тест, чтобы проверить влияние региона на индекс массы тела (BMI), используя первый способ, через библиотеку Scipy."
   ]
  },
  {
   "cell_type": "code",
   "execution_count": 21,
   "id": "39021287",
   "metadata": {},
   "outputs": [],
   "source": [
    "southeast = data[data.region == 'southeast'].bmi.values\n",
    "southwest = data[data.region == 'southwest'].bmi.values\n",
    "northeast = data[data.region == 'northeast'].bmi.values\n",
    "northwest = data[data.region == 'northwest'].bmi.values"
   ]
  },
  {
   "cell_type": "code",
   "execution_count": 22,
   "id": "f1301186",
   "metadata": {},
   "outputs": [
    {
     "data": {
      "text/plain": [
       "F_onewayResult(statistic=39.49505720170283, pvalue=1.881838913929143e-24)"
      ]
     },
     "execution_count": 22,
     "metadata": {},
     "output_type": "execute_result"
    }
   ],
   "source": [
    "stats.f_oneway(southeast, southwest, northeast, northwest)"
   ]
  },
  {
   "cell_type": "markdown",
   "id": "46b6842c",
   "metadata": {},
   "source": [
    "P-value << 0.05, следовательно влияние региона на индекс массы тела статистически значимо."
   ]
  },
  {
   "cell_type": "markdown",
   "id": "4654b7ef",
   "metadata": {},
   "source": [
    "### 3.2 Выполнить однофакторный ANOVA тест, чтобы проверить влияние региона на индекс массы тела (BMI), используя второй способ, с помощью функции anova_lm() из библиотеки statsmodels."
   ]
  },
  {
   "cell_type": "code",
   "execution_count": 23,
   "id": "07dae93a",
   "metadata": {},
   "outputs": [
    {
     "data": {
      "text/html": [
       "<div>\n",
       "<style scoped>\n",
       "    .dataframe tbody tr th:only-of-type {\n",
       "        vertical-align: middle;\n",
       "    }\n",
       "\n",
       "    .dataframe tbody tr th {\n",
       "        vertical-align: top;\n",
       "    }\n",
       "\n",
       "    .dataframe thead th {\n",
       "        text-align: right;\n",
       "    }\n",
       "</style>\n",
       "<table border=\"1\" class=\"dataframe\">\n",
       "  <thead>\n",
       "    <tr style=\"text-align: right;\">\n",
       "      <th></th>\n",
       "      <th>sum_sq</th>\n",
       "      <th>df</th>\n",
       "      <th>F</th>\n",
       "      <th>PR(&gt;F)</th>\n",
       "    </tr>\n",
       "  </thead>\n",
       "  <tbody>\n",
       "    <tr>\n",
       "      <th>region</th>\n",
       "      <td>4055.880631</td>\n",
       "      <td>3.0</td>\n",
       "      <td>39.495057</td>\n",
       "      <td>1.881839e-24</td>\n",
       "    </tr>\n",
       "    <tr>\n",
       "      <th>Residual</th>\n",
       "      <td>45664.319755</td>\n",
       "      <td>1334.0</td>\n",
       "      <td>NaN</td>\n",
       "      <td>NaN</td>\n",
       "    </tr>\n",
       "  </tbody>\n",
       "</table>\n",
       "</div>"
      ],
      "text/plain": [
       "                sum_sq      df          F        PR(>F)\n",
       "region     4055.880631     3.0  39.495057  1.881839e-24\n",
       "Residual  45664.319755  1334.0        NaN           NaN"
      ]
     },
     "execution_count": 23,
     "metadata": {},
     "output_type": "execute_result"
    }
   ],
   "source": [
    "model = ols('bmi ~ region', data=data).fit()\n",
    "anova_res = sm.stats.anova_lm(model, typ=2)\n",
    "anova_res"
   ]
  },
  {
   "cell_type": "markdown",
   "id": "a5abea5d",
   "metadata": {},
   "source": [
    "P-value снова намного меньше 0.05 (1.881839e-24), приходим к такому же выводу."
   ]
  },
  {
   "cell_type": "markdown",
   "id": "43ab6ca5",
   "metadata": {},
   "source": [
    "### 3.3 С помощью t критерия Стьюдента перебрать все пары. Определить поправку Бонферрони. Сделать выводы."
   ]
  },
  {
   "cell_type": "code",
   "execution_count": 24,
   "id": "37a590a0",
   "metadata": {},
   "outputs": [
    {
     "name": "stdout",
     "output_type": "stream",
     "text": [
      "Начальное p-value: 0.05.\n",
      "Попарных сравнений будет произведено: 6.\n",
      "P-value после поправки Бонферрони: 0.008333333333333333.\n",
      "\n",
      "Сравнение northeast с northwest:\n",
      "P-value равен 0.951929170821864.  Различия индекса массы тела в регионах northeast и northwest незначительны.\n",
      "\n",
      "Сравнение northeast с southeast:\n",
      "P-value равен 1.186014937424813e-17.  Различия индекса массы тела в регионах northeast и southeast статистически значимы.\n",
      "\n",
      "Сравнение northeast с southwest:\n",
      "P-value равен 0.0019086161671573074.  Различия индекса массы тела в регионах northeast и southwest статистически значимы.\n",
      "\n",
      "Сравнение northwest с southeast:\n",
      "P-value равен 2.643571405230106e-19.  Различия индекса массы тела в регионах northwest и southeast статистически значимы.\n",
      "\n",
      "Сравнение northwest с southwest:\n",
      "P-value равен 0.001076958496307695.  Различия индекса массы тела в регионах northwest и southwest статистически значимы.\n",
      "\n",
      "Сравнение southeast с southwest:\n",
      "P-value равен 5.4374009639680636e-09.  Различия индекса массы тела в регионах southeast и southwest статистически значимы.\n",
      "\n"
     ]
    }
   ],
   "source": [
    "groups = data.groupby('region').groups\n",
    "\n",
    "p_value_init = 0.05\n",
    "comb_list = list(combinations(groups, 2))\n",
    "p_value_bonfer = p_value_init / len(comb_list)\n",
    "\n",
    "print(f'Начальное p-value: {p_value_init}.')\n",
    "print(f'Попарных сравнений будет произведено: {len(comb_list)}.')\n",
    "print(f'P-value после поправки Бонферрони: {p_value_bonfer}.')\n",
    "print()\n",
    "\n",
    "for name1, name2 in comb_list:\n",
    "    print(f'Сравнение {name1} с {name2}:')\n",
    "    group1, group2 = data.iloc[groups[name1]].bmi.values, data.iloc[groups[name2]].bmi.values\n",
    "    stat, pvalue = stats.ttest_ind(group1, group2)\n",
    "    accept = False if pvalue <= p_value_bonfer else True\n",
    "    print(f'P-value равен {pvalue}.  Различия индекса массы тела в регионах {name1} и {name2}', \n",
    "         'незначительны.' if accept else 'статистически значимы.')\n",
    "    print()\n",
    "\n"
   ]
  },
  {
   "cell_type": "markdown",
   "id": "70484eb0",
   "metadata": {},
   "source": [
    "### 3.4. Выполнить пост-хок тесты Тьюки и построить график."
   ]
  },
  {
   "cell_type": "markdown",
   "id": "a461f3c7",
   "metadata": {},
   "source": [
    "Пост-хок тест Тьюки плохо работает при сильных различиях в размере групп, так что сразу проверим этот момент."
   ]
  },
  {
   "cell_type": "code",
   "execution_count": 25,
   "id": "ba6f3bce",
   "metadata": {},
   "outputs": [
    {
     "name": "stdout",
     "output_type": "stream",
     "text": [
      "Размер группы northeast - 324 элементов.\n",
      "Размер группы northwest - 325 элементов.\n",
      "Размер группы southeast - 364 элементов.\n",
      "Размер группы southwest - 325 элементов.\n"
     ]
    }
   ],
   "source": [
    "for name, ids in groups.items():\n",
    "    print(f'Размер группы {name} - {ids.size} элементов.')"
   ]
  },
  {
   "cell_type": "markdown",
   "id": "cd5551d1",
   "metadata": {},
   "source": [
    "Сразу видно, что размеры групп примерно совпадают."
   ]
  },
  {
   "cell_type": "code",
   "execution_count": 26,
   "id": "0f12e051",
   "metadata": {},
   "outputs": [
    {
     "name": "stdout",
     "output_type": "stream",
     "text": [
      "Результаты: \n"
     ]
    },
    {
     "data": {
      "text/html": [
       "<table class=\"simpletable\">\n",
       "<caption>Multiple Comparison of Means - Tukey HSD, FWER=0.05</caption>\n",
       "<tr>\n",
       "   <th>group1</th>    <th>group2</th>   <th>meandiff</th>  <th>p-adj</th>  <th>lower</th>   <th>upper</th>  <th>reject</th>\n",
       "</tr>\n",
       "<tr>\n",
       "  <td>northeast</td> <td>northwest</td>  <td>0.0263</td>  <td>0.9999</td> <td>-1.1552</td> <td>1.2078</td>   <td>False</td>\n",
       "</tr>\n",
       "<tr>\n",
       "  <td>northeast</td> <td>southeast</td>  <td>4.1825</td>   <td>-0.0</td>   <td>3.033</td>   <td>5.332</td>   <td>True</td> \n",
       "</tr>\n",
       "<tr>\n",
       "  <td>northeast</td> <td>southwest</td>  <td>1.4231</td>  <td>0.0107</td> <td>0.2416</td>  <td>2.6046</td>   <td>True</td> \n",
       "</tr>\n",
       "<tr>\n",
       "  <td>northwest</td> <td>southeast</td>  <td>4.1562</td>   <td>-0.0</td>  <td>3.0077</td>  <td>5.3047</td>   <td>True</td> \n",
       "</tr>\n",
       "<tr>\n",
       "  <td>northwest</td> <td>southwest</td>  <td>1.3968</td>  <td>0.0127</td> <td>0.2162</td>  <td>2.5774</td>   <td>True</td> \n",
       "</tr>\n",
       "<tr>\n",
       "  <td>southeast</td> <td>southwest</td>  <td>-2.7594</td>   <td>0.0</td>  <td>-3.9079</td> <td>-1.6108</td>  <td>True</td> \n",
       "</tr>\n",
       "</table>"
      ],
      "text/latex": [
       "\\begin{center}\n",
       "\\begin{tabular}{ccccccc}\n",
       "\\toprule\n",
       "\\textbf{group1} & \\textbf{group2} & \\textbf{meandiff} & \\textbf{p-adj} & \\textbf{lower} & \\textbf{upper} & \\textbf{reject}  \\\\\n",
       "\\midrule\n",
       "   northeast    &    northwest    &       0.0263      &     0.9999     &    -1.1552     &     1.2078     &      False       \\\\\n",
       "   northeast    &    southeast    &       4.1825      &      -0.0      &     3.033      &     5.332      &       True       \\\\\n",
       "   northeast    &    southwest    &       1.4231      &     0.0107     &     0.2416     &     2.6046     &       True       \\\\\n",
       "   northwest    &    southeast    &       4.1562      &      -0.0      &     3.0077     &     5.3047     &       True       \\\\\n",
       "   northwest    &    southwest    &       1.3968      &     0.0127     &     0.2162     &     2.5774     &       True       \\\\\n",
       "   southeast    &    southwest    &      -2.7594      &      0.0       &    -3.9079     &    -1.6108     &       True       \\\\\n",
       "\\bottomrule\n",
       "\\end{tabular}\n",
       "%\\caption{Multiple Comparison of Means - Tukey HSD, FWER=0.05}\n",
       "\\end{center}"
      ],
      "text/plain": [
       "<class 'statsmodels.iolib.table.SimpleTable'>"
      ]
     },
     "metadata": {},
     "output_type": "display_data"
    }
   ],
   "source": [
    "tukey = pairwise_tukeyhsd(endog=data.bmi.values, groups=data.region.values, alpha=0.05)\n",
    "print('Результаты: ')\n",
    "display(tukey.summary())"
   ]
  },
  {
   "cell_type": "code",
   "execution_count": 27,
   "id": "be294c1a",
   "metadata": {},
   "outputs": [
    {
     "data": {
      "image/png": "[encoded data removed]",
      "text/plain": [
       "<Figure size 1000x600 with 1 Axes>"
      ]
     },
     "metadata": {},
     "output_type": "display_data"
    }
   ],
   "source": [
    "tukey.plot_simultaneous()\n",
    "plt.vlines(x=data.bmi.mean(), color='red', ymin=-0.5, ymax=len(groups)-0.5, label='Среднее всей выборки')\n",
    "plt.xlabel('BMI')\n",
    "plt.legend();"
   ]
  },
  {
   "cell_type": "markdown",
   "id": "62dc10a4",
   "metadata": {},
   "source": [
    "### 3.5. Выполнить двухфакторный ANOVA тест, чтобы проверить влияние региона и пола на индекс массы тела (BMI), используя функцию anova_lm() из библиотеки statsmodels."
   ]
  },
  {
   "cell_type": "code",
   "execution_count": 28,
   "id": "341e2841",
   "metadata": {},
   "outputs": [
    {
     "data": {
      "text/html": [
       "<div>\n",
       "<style scoped>\n",
       "    .dataframe tbody tr th:only-of-type {\n",
       "        vertical-align: middle;\n",
       "    }\n",
       "\n",
       "    .dataframe tbody tr th {\n",
       "        vertical-align: top;\n",
       "    }\n",
       "\n",
       "    .dataframe thead th {\n",
       "        text-align: right;\n",
       "    }\n",
       "</style>\n",
       "<table border=\"1\" class=\"dataframe\">\n",
       "  <thead>\n",
       "    <tr style=\"text-align: right;\">\n",
       "      <th></th>\n",
       "      <th>sum_sq</th>\n",
       "      <th>df</th>\n",
       "      <th>F</th>\n",
       "      <th>PR(&gt;F)</th>\n",
       "    </tr>\n",
       "  </thead>\n",
       "  <tbody>\n",
       "    <tr>\n",
       "      <th>C(region)</th>\n",
       "      <td>4034.975135</td>\n",
       "      <td>3.0</td>\n",
       "      <td>39.398134</td>\n",
       "      <td>2.163195e-24</td>\n",
       "    </tr>\n",
       "    <tr>\n",
       "      <th>C(sex)</th>\n",
       "      <td>86.007035</td>\n",
       "      <td>1.0</td>\n",
       "      <td>2.519359</td>\n",
       "      <td>1.126940e-01</td>\n",
       "    </tr>\n",
       "    <tr>\n",
       "      <th>C(region):C(sex)</th>\n",
       "      <td>174.157808</td>\n",
       "      <td>3.0</td>\n",
       "      <td>1.700504</td>\n",
       "      <td>1.650655e-01</td>\n",
       "    </tr>\n",
       "    <tr>\n",
       "      <th>Residual</th>\n",
       "      <td>45404.154911</td>\n",
       "      <td>1330.0</td>\n",
       "      <td>NaN</td>\n",
       "      <td>NaN</td>\n",
       "    </tr>\n",
       "  </tbody>\n",
       "</table>\n",
       "</div>"
      ],
      "text/plain": [
       "                        sum_sq      df          F        PR(>F)\n",
       "C(region)          4034.975135     3.0  39.398134  2.163195e-24\n",
       "C(sex)               86.007035     1.0   2.519359  1.126940e-01\n",
       "C(region):C(sex)    174.157808     3.0   1.700504  1.650655e-01\n",
       "Residual          45404.154911  1330.0        NaN           NaN"
      ]
     },
     "execution_count": 28,
     "metadata": {},
     "output_type": "execute_result"
    }
   ],
   "source": [
    "model = ols('bmi ~ C(region) + C(sex) + C(region):C(sex)', data=data).fit()\n",
    "sm.stats.anova_lm(model, typ=2)"
   ]
  },
  {
   "cell_type": "markdown",
   "id": "fc11e525",
   "metadata": {},
   "source": [
    "По результатам теста, регион оказывает значимое влияние на индекс массы тела, пол и взаимодействие региона с полом - нет."
   ]
  },
  {
   "cell_type": "markdown",
   "id": "5d0373ae",
   "metadata": {},
   "source": [
    "### 3.6. Выполнить пост-хок тесты Тьюки и построить график."
   ]
  },
  {
   "cell_type": "code",
   "execution_count": 29,
   "id": "a3b19d95",
   "metadata": {},
   "outputs": [],
   "source": [
    "data['combination'] = data.region + ' / ' + data.sex"
   ]
  },
  {
   "cell_type": "code",
   "execution_count": 30,
   "id": "92dc4190",
   "metadata": {},
   "outputs": [
    {
     "data": {
      "text/html": [
       "<table class=\"simpletable\">\n",
       "<caption>Multiple Comparison of Means - Tukey HSD, FWER=0.05</caption>\n",
       "<tr>\n",
       "        <th>group1</th>             <th>group2</th>       <th>meandiff</th>  <th>p-adj</th>  <th>lower</th>   <th>upper</th>  <th>reject</th>\n",
       "</tr>\n",
       "<tr>\n",
       "  <td>northeast / female</td>  <td>northeast / male</td>   <td>-0.2998</td> <td>0.9998</td> <td>-2.2706</td> <td>1.6711</td>   <td>False</td>\n",
       "</tr>\n",
       "<tr>\n",
       "  <td>northeast / female</td> <td>northwest / female</td>  <td>-0.0464</td>   <td>1.0</td>  <td>-2.0142</td> <td>1.9215</td>   <td>False</td>\n",
       "</tr>\n",
       "<tr>\n",
       "  <td>northeast / female</td>  <td>northwest / male</td>   <td>-0.2042</td>   <td>1.0</td>  <td>-2.1811</td> <td>1.7728</td>   <td>False</td>\n",
       "</tr>\n",
       "<tr>\n",
       "  <td>northeast / female</td> <td>southeast / female</td>  <td>3.3469</td>    <td>0.0</td>   <td>1.41</td>   <td>5.2839</td>   <td>True</td> \n",
       "</tr>\n",
       "<tr>\n",
       "  <td>northeast / female</td>  <td>southeast / male</td>   <td>4.6657</td>    <td>0.0</td>  <td>2.7634</td>   <td>6.568</td>   <td>True</td> \n",
       "</tr>\n",
       "<tr>\n",
       "  <td>northeast / female</td> <td>southwest / female</td>  <td>0.7362</td>  <td>0.9497</td> <td>-1.2377</td>  <td>2.71</td>    <td>False</td>\n",
       "</tr>\n",
       "<tr>\n",
       "  <td>northeast / female</td>  <td>southwest / male</td>   <td>1.8051</td>  <td>0.1007</td> <td>-0.1657</td>  <td>3.776</td>   <td>False</td>\n",
       "</tr>\n",
       "<tr>\n",
       "   <td>northeast / male</td>  <td>northwest / female</td>  <td>0.2534</td>  <td>0.9999</td> <td>-1.7083</td> <td>2.2152</td>   <td>False</td>\n",
       "</tr>\n",
       "<tr>\n",
       "   <td>northeast / male</td>   <td>northwest / male</td>   <td>0.0956</td>    <td>1.0</td>  <td>-1.8752</td> <td>2.0665</td>   <td>False</td>\n",
       "</tr>\n",
       "<tr>\n",
       "   <td>northeast / male</td>  <td>southeast / female</td>  <td>3.6467</td>    <td>0.0</td>  <td>1.7159</td>  <td>5.5775</td>   <td>True</td> \n",
       "</tr>\n",
       "<tr>\n",
       "   <td>northeast / male</td>   <td>southeast / male</td>   <td>4.9655</td>    <td>0.0</td>  <td>3.0695</td>  <td>6.8614</td>   <td>True</td> \n",
       "</tr>\n",
       "<tr>\n",
       "   <td>northeast / male</td>  <td>southwest / female</td>   <td>1.036</td>  <td>0.7515</td> <td>-0.9318</td> <td>3.0037</td>   <td>False</td>\n",
       "</tr>\n",
       "<tr>\n",
       "   <td>northeast / male</td>   <td>southwest / male</td>   <td>2.1049</td>  <td>0.0258</td> <td>0.1402</td>  <td>4.0697</td>   <td>True</td> \n",
       "</tr>\n",
       "<tr>\n",
       "  <td>northwest / female</td>  <td>northwest / male</td>   <td>-0.1578</td>   <td>1.0</td>  <td>-2.1257</td>  <td>1.81</td>    <td>False</td>\n",
       "</tr>\n",
       "<tr>\n",
       "  <td>northwest / female</td> <td>southeast / female</td>  <td>3.3933</td>    <td>0.0</td>  <td>1.4656</td>   <td>5.321</td>   <td>True</td> \n",
       "</tr>\n",
       "<tr>\n",
       "  <td>northwest / female</td>  <td>southeast / male</td>    <td>4.712</td>    <td>0.0</td>  <td>2.8192</td>  <td>6.6049</td>   <td>True</td> \n",
       "</tr>\n",
       "<tr>\n",
       "  <td>northwest / female</td> <td>southwest / female</td>  <td>0.7825</td>  <td>0.9294</td> <td>-1.1822</td> <td>2.7473</td>   <td>False</td>\n",
       "</tr>\n",
       "<tr>\n",
       "  <td>northwest / female</td>  <td>southwest / male</td>   <td>1.8515</td>  <td>0.0806</td> <td>-0.1103</td> <td>3.8132</td>   <td>False</td>\n",
       "</tr>\n",
       "<tr>\n",
       "   <td>northwest / male</td>  <td>southeast / female</td>  <td>3.5511</td>    <td>0.0</td>  <td>1.6141</td>  <td>5.4881</td>   <td>True</td> \n",
       "</tr>\n",
       "<tr>\n",
       "   <td>northwest / male</td>   <td>southeast / male</td>   <td>4.8698</td>    <td>0.0</td>  <td>2.9676</td>  <td>6.7721</td>   <td>True</td> \n",
       "</tr>\n",
       "<tr>\n",
       "   <td>northwest / male</td>  <td>southwest / female</td>  <td>0.9403</td>  <td>0.8354</td> <td>-1.0335</td> <td>2.9142</td>   <td>False</td>\n",
       "</tr>\n",
       "<tr>\n",
       "   <td>northwest / male</td>   <td>southwest / male</td>   <td>2.0093</td>   <td>0.042</td> <td>0.0385</td>  <td>3.9801</td>   <td>True</td> \n",
       "</tr>\n",
       "<tr>\n",
       "  <td>southeast / female</td>  <td>southeast / male</td>   <td>1.3187</td>  <td>0.3823</td> <td>-0.542</td>  <td>3.1795</td>   <td>False</td>\n",
       "</tr>\n",
       "<tr>\n",
       "  <td>southeast / female</td> <td>southwest / female</td>  <td>-2.6108</td> <td>0.0011</td> <td>-4.5446</td> <td>-0.6769</td>  <td>True</td> \n",
       "</tr>\n",
       "<tr>\n",
       "  <td>southeast / female</td>  <td>southwest / male</td>   <td>-1.5418</td> <td>0.2304</td> <td>-3.4726</td>  <td>0.389</td>   <td>False</td>\n",
       "</tr>\n",
       "<tr>\n",
       "   <td>southeast / male</td>  <td>southwest / female</td>  <td>-3.9295</td>   <td>0.0</td>  <td>-5.8286</td> <td>-2.0304</td>  <td>True</td> \n",
       "</tr>\n",
       "<tr>\n",
       "   <td>southeast / male</td>   <td>southwest / male</td>   <td>-2.8606</td> <td>0.0001</td> <td>-4.7565</td> <td>-0.9646</td>  <td>True</td> \n",
       "</tr>\n",
       "<tr>\n",
       "  <td>southwest / female</td>  <td>southwest / male</td>    <td>1.069</td>  <td>0.7201</td> <td>-0.8988</td> <td>3.0367</td>   <td>False</td>\n",
       "</tr>\n",
       "</table>"
      ],
      "text/latex": [
       "\\begin{center}\n",
       "\\begin{tabular}{ccccccc}\n",
       "\\toprule\n",
       " \\textbf{group1}   &  \\textbf{group2}   & \\textbf{meandiff} & \\textbf{p-adj} & \\textbf{lower} & \\textbf{upper} & \\textbf{reject}  \\\\\n",
       "\\midrule\n",
       "northeast / female &  northeast / male  &      -0.2998      &     0.9998     &    -2.2706     &     1.6711     &      False       \\\\\n",
       "northeast / female & northwest / female &      -0.0464      &      1.0       &    -2.0142     &     1.9215     &      False       \\\\\n",
       "northeast / female &  northwest / male  &      -0.2042      &      1.0       &    -2.1811     &     1.7728     &      False       \\\\\n",
       "northeast / female & southeast / female &       3.3469      &      0.0       &      1.41      &     5.2839     &       True       \\\\\n",
       "northeast / female &  southeast / male  &       4.6657      &      0.0       &     2.7634     &     6.568      &       True       \\\\\n",
       "northeast / female & southwest / female &       0.7362      &     0.9497     &    -1.2377     &      2.71      &      False       \\\\\n",
       "northeast / female &  southwest / male  &       1.8051      &     0.1007     &    -0.1657     &     3.776      &      False       \\\\\n",
       " northeast / male  & northwest / female &       0.2534      &     0.9999     &    -1.7083     &     2.2152     &      False       \\\\\n",
       " northeast / male  &  northwest / male  &       0.0956      &      1.0       &    -1.8752     &     2.0665     &      False       \\\\\n",
       " northeast / male  & southeast / female &       3.6467      &      0.0       &     1.7159     &     5.5775     &       True       \\\\\n",
       " northeast / male  &  southeast / male  &       4.9655      &      0.0       &     3.0695     &     6.8614     &       True       \\\\\n",
       " northeast / male  & southwest / female &       1.036       &     0.7515     &    -0.9318     &     3.0037     &      False       \\\\\n",
       " northeast / male  &  southwest / male  &       2.1049      &     0.0258     &     0.1402     &     4.0697     &       True       \\\\\n",
       "northwest / female &  northwest / male  &      -0.1578      &      1.0       &    -2.1257     &      1.81      &      False       \\\\\n",
       "northwest / female & southeast / female &       3.3933      &      0.0       &     1.4656     &     5.321      &       True       \\\\\n",
       "northwest / female &  southeast / male  &       4.712       &      0.0       &     2.8192     &     6.6049     &       True       \\\\\n",
       "northwest / female & southwest / female &       0.7825      &     0.9294     &    -1.1822     &     2.7473     &      False       \\\\\n",
       "northwest / female &  southwest / male  &       1.8515      &     0.0806     &    -0.1103     &     3.8132     &      False       \\\\\n",
       " northwest / male  & southeast / female &       3.5511      &      0.0       &     1.6141     &     5.4881     &       True       \\\\\n",
       " northwest / male  &  southeast / male  &       4.8698      &      0.0       &     2.9676     &     6.7721     &       True       \\\\\n",
       " northwest / male  & southwest / female &       0.9403      &     0.8354     &    -1.0335     &     2.9142     &      False       \\\\\n",
       " northwest / male  &  southwest / male  &       2.0093      &     0.042      &     0.0385     &     3.9801     &       True       \\\\\n",
       "southeast / female &  southeast / male  &       1.3187      &     0.3823     &     -0.542     &     3.1795     &      False       \\\\\n",
       "southeast / female & southwest / female &      -2.6108      &     0.0011     &    -4.5446     &    -0.6769     &       True       \\\\\n",
       "southeast / female &  southwest / male  &      -1.5418      &     0.2304     &    -3.4726     &     0.389      &      False       \\\\\n",
       " southeast / male  & southwest / female &      -3.9295      &      0.0       &    -5.8286     &    -2.0304     &       True       \\\\\n",
       " southeast / male  &  southwest / male  &      -2.8606      &     0.0001     &    -4.7565     &    -0.9646     &       True       \\\\\n",
       "southwest / female &  southwest / male  &       1.069       &     0.7201     &    -0.8988     &     3.0367     &      False       \\\\\n",
       "\\bottomrule\n",
       "\\end{tabular}\n",
       "%\\caption{Multiple Comparison of Means - Tukey HSD, FWER=0.05}\n",
       "\\end{center}"
      ],
      "text/plain": [
       "<class 'statsmodels.iolib.table.SimpleTable'>"
      ]
     },
     "execution_count": 30,
     "metadata": {},
     "output_type": "execute_result"
    }
   ],
   "source": [
    "tukey = pairwise_tukeyhsd(endog=data.bmi, groups=data.combination, alpha=0.05)\n",
    "tukey.summary()"
   ]
  },
  {
   "cell_type": "code",
   "execution_count": 31,
   "id": "efd51874",
   "metadata": {},
   "outputs": [
    {
     "data": {
      "image/png": "[encoded data removed]",
      "text/plain": [
       "<Figure size 1000x600 with 1 Axes>"
      ]
     },
     "metadata": {},
     "output_type": "display_data"
    }
   ],
   "source": [
    "tukey.plot_simultaneous()\n",
    "plt.vlines(x=data.bmi.mean(), color='red', ymin=-0.5, ymax=len(data.groupby('combination').groups)-0.5,\n",
    "           label='Среднее всей выборки')\n",
    "plt.xlabel('BMI')\n",
    "plt.legend();"
   ]
  },
  {
   "cell_type": "code",
   "execution_count": null,
   "id": "17a10a61",
   "metadata": {},
   "outputs": [],
   "source": []
  }
 ],
 "metadata": {
  "kernelspec": {
   "display_name": "Python 3 (ipykernel)",
   "language": "python",
   "name": "python3"
  },
  "language_info": {
   "codemirror_mode": {
    "name": "ipython",
    "version": 3
   },
   "file_extension": ".py",
   "mimetype": "text/x-python",
   "name": "python",
   "nbconvert_exporter": "python",
   "pygments_lexer": "ipython3",
   "version": "3.9.6"
  }
 },
 "nbformat": 4,
 "nbformat_minor": 5
}
