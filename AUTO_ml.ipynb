{
  "nbformat": 4,
  "nbformat_minor": 0,
  "metadata": {
    "colab": {
      "provenance": [],
      "gpuType": "T4"
    },
    "kernelspec": {
      "name": "python3",
      "display_name": "Python 3"
    },
    "language_info": {
      "name": "python"
    },
    "accelerator": "GPU",
    "widgets": {
      "application/vnd.jupyter.widget-state+json": {
        "b46075ec3cdd4d88b8f357b1f7c47a2e": {
          "model_module": "@jupyter-widgets/controls",
          "model_name": "HBoxModel",
          "model_module_version": "1.5.0",
          "state": {
            "_dom_classes": [],
            "_model_module": "@jupyter-widgets/controls",
            "_model_module_version": "1.5.0",
            "_model_name": "HBoxModel",
            "_view_count": null,
            "_view_module": "@jupyter-widgets/controls",
            "_view_module_version": "1.5.0",
            "_view_name": "HBoxView",
            "box_style": "",
            "children": [
              "IPY_MODEL_08b4c5b942004853973e80ad3cfd4687",
              "IPY_MODEL_b18004e4067c4a968f7df07166fa4a2b",
              "IPY_MODEL_b626e316fae6458a9046ca0c62ab6ed6"
            ],
            "layout": "IPY_MODEL_a58ff39a93f74c6e974ff2280ba9a41d"
          }
        },
        "08b4c5b942004853973e80ad3cfd4687": {
          "model_module": "@jupyter-widgets/controls",
          "model_name": "HTMLModel",
          "model_module_version": "1.5.0",
          "state": {
            "_dom_classes": [],
            "_model_module": "@jupyter-widgets/controls",
            "_model_module_version": "1.5.0",
            "_model_name": "HTMLModel",
            "_view_count": null,
            "_view_module": "@jupyter-widgets/controls",
            "_view_module_version": "1.5.0",
            "_view_name": "HTMLView",
            "description": "",
            "description_tooltip": null,
            "layout": "IPY_MODEL_61efdbd3d5af4c6db1c72ffc0f82ae24",
            "placeholder": "​",
            "style": "IPY_MODEL_83114e845b314658be22bf1fd69e7e71",
            "value": "Best trial: 47. Best value: 5.15026: 100%"
          }
        },
        "b18004e4067c4a968f7df07166fa4a2b": {
          "model_module": "@jupyter-widgets/controls",
          "model_name": "FloatProgressModel",
          "model_module_version": "1.5.0",
          "state": {
            "_dom_classes": [],
            "_model_module": "@jupyter-widgets/controls",
            "_model_module_version": "1.5.0",
            "_model_name": "FloatProgressModel",
            "_view_count": null,
            "_view_module": "@jupyter-widgets/controls",
            "_view_module_version": "1.5.0",
            "_view_name": "ProgressView",
            "bar_style": "success",
            "description": "",
            "description_tooltip": null,
            "layout": "IPY_MODEL_f9c4d6e12e5941f2af6d6f10539adcdb",
            "max": 50,
            "min": 0,
            "orientation": "horizontal",
            "style": "IPY_MODEL_5a0e0bda6ec94a8888b64723a99c4891",
            "value": 50
          }
        },
        "b626e316fae6458a9046ca0c62ab6ed6": {
          "model_module": "@jupyter-widgets/controls",
          "model_name": "HTMLModel",
          "model_module_version": "1.5.0",
          "state": {
            "_dom_classes": [],
            "_model_module": "@jupyter-widgets/controls",
            "_model_module_version": "1.5.0",
            "_model_name": "HTMLModel",
            "_view_count": null,
            "_view_module": "@jupyter-widgets/controls",
            "_view_module_version": "1.5.0",
            "_view_name": "HTMLView",
            "description": "",
            "description_tooltip": null,
            "layout": "IPY_MODEL_44586360c3cd403abc5822f83db6e365",
            "placeholder": "​",
            "style": "IPY_MODEL_dde4a322d0374b6ab335633d9f797ff2",
            "value": " 50/50 [18:01&lt;00:00, 17.65s/it]"
          }
        },
        "a58ff39a93f74c6e974ff2280ba9a41d": {
          "model_module": "@jupyter-widgets/base",
          "model_name": "LayoutModel",
          "model_module_version": "1.2.0",
          "state": {
            "_model_module": "@jupyter-widgets/base",
            "_model_module_version": "1.2.0",
            "_model_name": "LayoutModel",
            "_view_count": null,
            "_view_module": "@jupyter-widgets/base",
            "_view_module_version": "1.2.0",
            "_view_name": "LayoutView",
            "align_content": null,
            "align_items": null,
            "align_self": null,
            "border": null,
            "bottom": null,
            "display": null,
            "flex": null,
            "flex_flow": null,
            "grid_area": null,
            "grid_auto_columns": null,
            "grid_auto_flow": null,
            "grid_auto_rows": null,
            "grid_column": null,
            "grid_gap": null,
            "grid_row": null,
            "grid_template_areas": null,
            "grid_template_columns": null,
            "grid_template_rows": null,
            "height": null,
            "justify_content": null,
            "justify_items": null,
            "left": null,
            "margin": null,
            "max_height": null,
            "max_width": null,
            "min_height": null,
            "min_width": null,
            "object_fit": null,
            "object_position": null,
            "order": null,
            "overflow": null,
            "overflow_x": null,
            "overflow_y": null,
            "padding": null,
            "right": null,
            "top": null,
            "visibility": null,
            "width": null
          }
        },
        "61efdbd3d5af4c6db1c72ffc0f82ae24": {
          "model_module": "@jupyter-widgets/base",
          "model_name": "LayoutModel",
          "model_module_version": "1.2.0",
          "state": {
            "_model_module": "@jupyter-widgets/base",
            "_model_module_version": "1.2.0",
            "_model_name": "LayoutModel",
            "_view_count": null,
            "_view_module": "@jupyter-widgets/base",
            "_view_module_version": "1.2.0",
            "_view_name": "LayoutView",
            "align_content": null,
            "align_items": null,
            "align_self": null,
            "border": null,
            "bottom": null,
            "display": null,
            "flex": null,
            "flex_flow": null,
            "grid_area": null,
            "grid_auto_columns": null,
            "grid_auto_flow": null,
            "grid_auto_rows": null,
            "grid_column": null,
            "grid_gap": null,
            "grid_row": null,
            "grid_template_areas": null,
            "grid_template_columns": null,
            "grid_template_rows": null,
            "height": null,
            "justify_content": null,
            "justify_items": null,
            "left": null,
            "margin": null,
            "max_height": null,
            "max_width": null,
            "min_height": null,
            "min_width": null,
            "object_fit": null,
            "object_position": null,
            "order": null,
            "overflow": null,
            "overflow_x": null,
            "overflow_y": null,
            "padding": null,
            "right": null,
            "top": null,
            "visibility": null,
            "width": null
          }
        },
        "83114e845b314658be22bf1fd69e7e71": {
          "model_module": "@jupyter-widgets/controls",
          "model_name": "DescriptionStyleModel",
          "model_module_version": "1.5.0",
          "state": {
            "_model_module": "@jupyter-widgets/controls",
            "_model_module_version": "1.5.0",
            "_model_name": "DescriptionStyleModel",
            "_view_count": null,
            "_view_module": "@jupyter-widgets/base",
            "_view_module_version": "1.2.0",
            "_view_name": "StyleView",
            "description_width": ""
          }
        },
        "f9c4d6e12e5941f2af6d6f10539adcdb": {
          "model_module": "@jupyter-widgets/base",
          "model_name": "LayoutModel",
          "model_module_version": "1.2.0",
          "state": {
            "_model_module": "@jupyter-widgets/base",
            "_model_module_version": "1.2.0",
            "_model_name": "LayoutModel",
            "_view_count": null,
            "_view_module": "@jupyter-widgets/base",
            "_view_module_version": "1.2.0",
            "_view_name": "LayoutView",
            "align_content": null,
            "align_items": null,
            "align_self": null,
            "border": null,
            "bottom": null,
            "display": null,
            "flex": null,
            "flex_flow": null,
            "grid_area": null,
            "grid_auto_columns": null,
            "grid_auto_flow": null,
            "grid_auto_rows": null,
            "grid_column": null,
            "grid_gap": null,
            "grid_row": null,
            "grid_template_areas": null,
            "grid_template_columns": null,
            "grid_template_rows": null,
            "height": null,
            "justify_content": null,
            "justify_items": null,
            "left": null,
            "margin": null,
            "max_height": null,
            "max_width": null,
            "min_height": null,
            "min_width": null,
            "object_fit": null,
            "object_position": null,
            "order": null,
            "overflow": null,
            "overflow_x": null,
            "overflow_y": null,
            "padding": null,
            "right": null,
            "top": null,
            "visibility": null,
            "width": null
          }
        },
        "5a0e0bda6ec94a8888b64723a99c4891": {
          "model_module": "@jupyter-widgets/controls",
          "model_name": "ProgressStyleModel",
          "model_module_version": "1.5.0",
          "state": {
            "_model_module": "@jupyter-widgets/controls",
            "_model_module_version": "1.5.0",
            "_model_name": "ProgressStyleModel",
            "_view_count": null,
            "_view_module": "@jupyter-widgets/base",
            "_view_module_version": "1.2.0",
            "_view_name": "StyleView",
            "bar_color": null,
            "description_width": ""
          }
        },
        "44586360c3cd403abc5822f83db6e365": {
          "model_module": "@jupyter-widgets/base",
          "model_name": "LayoutModel",
          "model_module_version": "1.2.0",
          "state": {
            "_model_module": "@jupyter-widgets/base",
            "_model_module_version": "1.2.0",
            "_model_name": "LayoutModel",
            "_view_count": null,
            "_view_module": "@jupyter-widgets/base",
            "_view_module_version": "1.2.0",
            "_view_name": "LayoutView",
            "align_content": null,
            "align_items": null,
            "align_self": null,
            "border": null,
            "bottom": null,
            "display": null,
            "flex": null,
            "flex_flow": null,
            "grid_area": null,
            "grid_auto_columns": null,
            "grid_auto_flow": null,
            "grid_auto_rows": null,
            "grid_column": null,
            "grid_gap": null,
            "grid_row": null,
            "grid_template_areas": null,
            "grid_template_columns": null,
            "grid_template_rows": null,
            "height": null,
            "justify_content": null,
            "justify_items": null,
            "left": null,
            "margin": null,
            "max_height": null,
            "max_width": null,
            "min_height": null,
            "min_width": null,
            "object_fit": null,
            "object_position": null,
            "order": null,
            "overflow": null,
            "overflow_x": null,
            "overflow_y": null,
            "padding": null,
            "right": null,
            "top": null,
            "visibility": null,
            "width": null
          }
        },
        "dde4a322d0374b6ab335633d9f797ff2": {
          "model_module": "@jupyter-widgets/controls",
          "model_name": "DescriptionStyleModel",
          "model_module_version": "1.5.0",
          "state": {
            "_model_module": "@jupyter-widgets/controls",
            "_model_module_version": "1.5.0",
            "_model_name": "DescriptionStyleModel",
            "_view_count": null,
            "_view_module": "@jupyter-widgets/base",
            "_view_module_version": "1.2.0",
            "_view_name": "StyleView",
            "description_width": ""
          }
        }
      }
    }
  },
  "cells": [
    {
      "cell_type": "code",
      "source": [
        "!pip install mljar-supervised"
      ],
      "metadata": {
        "id": "OoVTCUD39Xd1"
      },
      "execution_count": null,
      "outputs": []
    },
    {
      "cell_type": "code",
      "source": [
        "import numpy as np # linear algebra\n",
        "import pandas as pd # data processing, CSV file I/O (e.g. pd.read_csv)\n",
        "\n",
        "# Input data files are available in the read-only \"../input/\" directory\n",
        "# For example, running this (by clicking run or pressing Shift+Enter) will list all files under the input directory\n",
        "\n",
        "import os\n",
        "for dirname, _, filenames in os.walk('/content/kaggle/'):\n",
        "    for filename in filenames:\n",
        "        print(os.path.join(dirname, filename))"
      ],
      "metadata": {
        "colab": {
          "base_uri": "https://localhost:8080/"
        },
        "id": "ve8bIQHY81ZQ",
        "outputId": "f6818805-e234-454b-900a-058df9c4155d"
      },
      "execution_count": null,
      "outputs": [
        {
          "output_type": "stream",
          "name": "stdout",
          "text": [
            "/content/kaggle/data_wage_train.csv\n",
            "/content/kaggle/data_test.csv\n"
          ]
        }
      ]
    },
    {
      "cell_type": "code",
      "source": [
        "train = pd.read_csv('/content/kaggle/data_wage_train.csv')\n",
        "test = pd.read_csv('/content/kaggle/data_test.csv')"
      ],
      "metadata": {
        "id": "IUn3TLZ99LJu"
      },
      "execution_count": null,
      "outputs": []
    },
    {
      "cell_type": "code",
      "source": [
        "X = train.drop(columns=['wage'])\n",
        "y = train.wage"
      ],
      "metadata": {
        "id": "719WgVBh9SvA"
      },
      "execution_count": null,
      "outputs": []
    },
    {
      "cell_type": "code",
      "source": [
        "from supervised.automl import AutoML"
      ],
      "metadata": {
        "colab": {
          "base_uri": "https://localhost:8080/"
        },
        "id": "2Wv0jJFX9TIh",
        "outputId": "c737cd94-32f2-4e68-c9ef-f178ac24dac4"
      },
      "execution_count": null,
      "outputs": [
        {
          "output_type": "stream",
          "name": "stderr",
          "text": [
            "Using `tqdm.autonotebook.tqdm` in notebook mode. Use `tqdm.tqdm` instead to force console mode (e.g. in jupyter console)\n"
          ]
        }
      ]
    },
    {
      "cell_type": "markdown",
      "source": [
        "С catboost'ом почему-то всё крашится"
      ],
      "metadata": {
        "id": "7K6kqOQSJgXP"
      }
    },
    {
      "cell_type": "code",
      "source": [
        "a = AutoML(\n",
        "    total_time_limit=3600*60*8,\n",
        "    mode='Compete',\n",
        "    ml_task='regression',\n",
        "    explain_level=1,\n",
        "    eval_metric='mse',\n",
        "    validation_strategy= {\n",
        "        \"validation_type\": \"kfold\",\n",
        "        \"k_folds\": 10,\n",
        "        \"shuffle\": True,\n",
        "        \"stratify\": True,\n",
        "        \"random_seed\": 123\n",
        "    },\n",
        "    algorithms=[\n",
        "        'Baseline',\n",
        "        'Linear',\n",
        "        'Decision Tree',\n",
        "        'Random Forest',\n",
        "        'Extra Trees',\n",
        "        'LightGBM',\n",
        "        'Xgboost',\n",
        "        #'CatBoost',\n",
        "        'Neural Network',\n",
        "        'Nearest Neighbors',\n",
        "    ],\n",
        "    golden_features=True,\n",
        "    n_jobs=-1,\n",
        "    random_state=1234\n",
        ")"
      ],
      "metadata": {
        "id": "eEoIkQgF9TE3"
      },
      "execution_count": null,
      "outputs": []
    },
    {
      "cell_type": "code",
      "source": [
        "a.fit(X, y)"
      ],
      "metadata": {
        "colab": {
          "base_uri": "https://localhost:8080/",
          "height": 1000
        },
        "id": "KjJOT_ra9TC-",
        "outputId": "62324049-9cf9-43ef-e3eb-b76e2717b784"
      },
      "execution_count": null,
      "outputs": [
        {
          "output_type": "stream",
          "name": "stdout",
          "text": [
            "AutoML directory: AutoML_6\n",
            "The task is regression with evaluation metric mse\n",
            "AutoML will use algorithms: ['Baseline', 'Linear', 'Decision Tree', 'Random Forest', 'Extra Trees', 'LightGBM', 'Xgboost', 'Neural Network', 'Nearest Neighbors']\n",
            "AutoML will stack models\n",
            "AutoML will ensemble available models\n",
            "AutoML steps: ['simple_algorithms', 'default_algorithms', 'not_so_random', 'golden_features', 'kmeans_features', 'insert_random_feature', 'features_selection', 'hill_climbing_1', 'hill_climbing_2', 'boost_on_errors', 'ensemble', 'stack', 'ensemble_stacked']\n",
            "* Step simple_algorithms will try to check up to 5 models\n",
            "1_Baseline mse 15.34569 trained in 5.2 seconds\n",
            "2_DecisionTree mse 11.18068 trained in 13.96 seconds\n",
            "3_DecisionTree mse 11.622426 trained in 4.69 seconds\n",
            "4_DecisionTree mse 11.622426 trained in 5.63 seconds\n",
            "5_Linear mse 9.519037 trained in 5.57 seconds\n",
            "* Step default_algorithms will try to check up to 6 models\n",
            "6_Default_LightGBM mse 8.836585 trained in 6.91 seconds\n"
          ]
        },
        {
          "output_type": "stream",
          "name": "stderr",
          "text": [
            "/usr/local/lib/python3.10/dist-packages/xgboost/training.py:39: UserWarning: `feval` is deprecated, use `custom_metric` instead.  They have different behavior when custom objective is also used.See https://xgboost.readthedocs.io/en/latest/tutorials/custom_metric_obj.html for details on the `custom_metric`.\n",
            "/usr/local/lib/python3.10/dist-packages/xgboost/training.py:39: UserWarning: `feval` is deprecated, use `custom_metric` instead.  They have different behavior when custom objective is also used.See https://xgboost.readthedocs.io/en/latest/tutorials/custom_metric_obj.html for details on the `custom_metric`.\n",
            "/usr/local/lib/python3.10/dist-packages/xgboost/training.py:39: UserWarning: `feval` is deprecated, use `custom_metric` instead.  They have different behavior when custom objective is also used.See https://xgboost.readthedocs.io/en/latest/tutorials/custom_metric_obj.html for details on the `custom_metric`.\n",
            "/usr/local/lib/python3.10/dist-packages/xgboost/training.py:39: UserWarning: `feval` is deprecated, use `custom_metric` instead.  They have different behavior when custom objective is also used.See https://xgboost.readthedocs.io/en/latest/tutorials/custom_metric_obj.html for details on the `custom_metric`.\n",
            "/usr/local/lib/python3.10/dist-packages/xgboost/training.py:39: UserWarning: `feval` is deprecated, use `custom_metric` instead.  They have different behavior when custom objective is also used.See https://xgboost.readthedocs.io/en/latest/tutorials/custom_metric_obj.html for details on the `custom_metric`.\n",
            "/usr/local/lib/python3.10/dist-packages/xgboost/training.py:39: UserWarning: `feval` is deprecated, use `custom_metric` instead.  They have different behavior when custom objective is also used.See https://xgboost.readthedocs.io/en/latest/tutorials/custom_metric_obj.html for details on the `custom_metric`.\n",
            "/usr/local/lib/python3.10/dist-packages/xgboost/training.py:39: UserWarning: `feval` is deprecated, use `custom_metric` instead.  They have different behavior when custom objective is also used.See https://xgboost.readthedocs.io/en/latest/tutorials/custom_metric_obj.html for details on the `custom_metric`.\n",
            "/usr/local/lib/python3.10/dist-packages/xgboost/training.py:39: UserWarning: `feval` is deprecated, use `custom_metric` instead.  They have different behavior when custom objective is also used.See https://xgboost.readthedocs.io/en/latest/tutorials/custom_metric_obj.html for details on the `custom_metric`.\n",
            "/usr/local/lib/python3.10/dist-packages/xgboost/training.py:39: UserWarning: `feval` is deprecated, use `custom_metric` instead.  They have different behavior when custom objective is also used.See https://xgboost.readthedocs.io/en/latest/tutorials/custom_metric_obj.html for details on the `custom_metric`.\n",
            "/usr/local/lib/python3.10/dist-packages/xgboost/training.py:39: UserWarning: `feval` is deprecated, use `custom_metric` instead.  They have different behavior when custom objective is also used.See https://xgboost.readthedocs.io/en/latest/tutorials/custom_metric_obj.html for details on the `custom_metric`.\n"
          ]
        },
        {
          "output_type": "stream",
          "name": "stdout",
          "text": [
            "7_Default_Xgboost mse 9.325567 trained in 8.39 seconds\n",
            "8_Default_NeuralNetwork mse 9.306742 trained in 6.53 seconds\n",
            "9_Default_RandomForest mse 9.187535 trained in 18.07 seconds\n",
            "10_Default_ExtraTrees mse 9.898418 trained in 20.62 seconds\n",
            "11_Default_NearestNeighbors mse 9.413682 trained in 9.84 seconds\n",
            "* Step not_so_random will try to check up to 52 models\n",
            "21_LightGBM mse 8.24799 trained in 8.34 seconds\n"
          ]
        },
        {
          "output_type": "stream",
          "name": "stderr",
          "text": [
            "/usr/local/lib/python3.10/dist-packages/xgboost/training.py:39: UserWarning: `feval` is deprecated, use `custom_metric` instead.  They have different behavior when custom objective is also used.See https://xgboost.readthedocs.io/en/latest/tutorials/custom_metric_obj.html for details on the `custom_metric`.\n",
            "/usr/local/lib/python3.10/dist-packages/xgboost/training.py:39: UserWarning: `feval` is deprecated, use `custom_metric` instead.  They have different behavior when custom objective is also used.See https://xgboost.readthedocs.io/en/latest/tutorials/custom_metric_obj.html for details on the `custom_metric`.\n",
            "/usr/local/lib/python3.10/dist-packages/xgboost/training.py:39: UserWarning: `feval` is deprecated, use `custom_metric` instead.  They have different behavior when custom objective is also used.See https://xgboost.readthedocs.io/en/latest/tutorials/custom_metric_obj.html for details on the `custom_metric`.\n",
            "/usr/local/lib/python3.10/dist-packages/xgboost/training.py:39: UserWarning: `feval` is deprecated, use `custom_metric` instead.  They have different behavior when custom objective is also used.See https://xgboost.readthedocs.io/en/latest/tutorials/custom_metric_obj.html for details on the `custom_metric`.\n",
            "/usr/local/lib/python3.10/dist-packages/xgboost/training.py:39: UserWarning: `feval` is deprecated, use `custom_metric` instead.  They have different behavior when custom objective is also used.See https://xgboost.readthedocs.io/en/latest/tutorials/custom_metric_obj.html for details on the `custom_metric`.\n",
            "/usr/local/lib/python3.10/dist-packages/xgboost/training.py:39: UserWarning: `feval` is deprecated, use `custom_metric` instead.  They have different behavior when custom objective is also used.See https://xgboost.readthedocs.io/en/latest/tutorials/custom_metric_obj.html for details on the `custom_metric`.\n",
            "/usr/local/lib/python3.10/dist-packages/xgboost/training.py:39: UserWarning: `feval` is deprecated, use `custom_metric` instead.  They have different behavior when custom objective is also used.See https://xgboost.readthedocs.io/en/latest/tutorials/custom_metric_obj.html for details on the `custom_metric`.\n",
            "/usr/local/lib/python3.10/dist-packages/xgboost/training.py:39: UserWarning: `feval` is deprecated, use `custom_metric` instead.  They have different behavior when custom objective is also used.See https://xgboost.readthedocs.io/en/latest/tutorials/custom_metric_obj.html for details on the `custom_metric`.\n",
            "/usr/local/lib/python3.10/dist-packages/xgboost/training.py:39: UserWarning: `feval` is deprecated, use `custom_metric` instead.  They have different behavior when custom objective is also used.See https://xgboost.readthedocs.io/en/latest/tutorials/custom_metric_obj.html for details on the `custom_metric`.\n",
            "/usr/local/lib/python3.10/dist-packages/xgboost/training.py:39: UserWarning: `feval` is deprecated, use `custom_metric` instead.  They have different behavior when custom objective is also used.See https://xgboost.readthedocs.io/en/latest/tutorials/custom_metric_obj.html for details on the `custom_metric`.\n"
          ]
        },
        {
          "output_type": "stream",
          "name": "stdout",
          "text": [
            "12_Xgboost mse 9.036515 trained in 9.52 seconds\n",
            "30_RandomForest mse 9.012665 trained in 16.22 seconds\n",
            "39_ExtraTrees mse 10.206564 trained in 14.61 seconds\n",
            "48_NeuralNetwork mse 9.386817 trained in 8.93 seconds\n",
            "57_NearestNeighbors mse 9.240228 trained in 10.7 seconds\n",
            "22_LightGBM mse 8.444463 trained in 8.67 seconds\n"
          ]
        },
        {
          "output_type": "stream",
          "name": "stderr",
          "text": [
            "/usr/local/lib/python3.10/dist-packages/xgboost/training.py:39: UserWarning: `feval` is deprecated, use `custom_metric` instead.  They have different behavior when custom objective is also used.See https://xgboost.readthedocs.io/en/latest/tutorials/custom_metric_obj.html for details on the `custom_metric`.\n",
            "/usr/local/lib/python3.10/dist-packages/xgboost/training.py:39: UserWarning: `feval` is deprecated, use `custom_metric` instead.  They have different behavior when custom objective is also used.See https://xgboost.readthedocs.io/en/latest/tutorials/custom_metric_obj.html for details on the `custom_metric`.\n",
            "/usr/local/lib/python3.10/dist-packages/xgboost/training.py:39: UserWarning: `feval` is deprecated, use `custom_metric` instead.  They have different behavior when custom objective is also used.See https://xgboost.readthedocs.io/en/latest/tutorials/custom_metric_obj.html for details on the `custom_metric`.\n",
            "/usr/local/lib/python3.10/dist-packages/xgboost/training.py:39: UserWarning: `feval` is deprecated, use `custom_metric` instead.  They have different behavior when custom objective is also used.See https://xgboost.readthedocs.io/en/latest/tutorials/custom_metric_obj.html for details on the `custom_metric`.\n",
            "/usr/local/lib/python3.10/dist-packages/xgboost/training.py:39: UserWarning: `feval` is deprecated, use `custom_metric` instead.  They have different behavior when custom objective is also used.See https://xgboost.readthedocs.io/en/latest/tutorials/custom_metric_obj.html for details on the `custom_metric`.\n",
            "/usr/local/lib/python3.10/dist-packages/xgboost/training.py:39: UserWarning: `feval` is deprecated, use `custom_metric` instead.  They have different behavior when custom objective is also used.See https://xgboost.readthedocs.io/en/latest/tutorials/custom_metric_obj.html for details on the `custom_metric`.\n",
            "/usr/local/lib/python3.10/dist-packages/xgboost/training.py:39: UserWarning: `feval` is deprecated, use `custom_metric` instead.  They have different behavior when custom objective is also used.See https://xgboost.readthedocs.io/en/latest/tutorials/custom_metric_obj.html for details on the `custom_metric`.\n",
            "/usr/local/lib/python3.10/dist-packages/xgboost/training.py:39: UserWarning: `feval` is deprecated, use `custom_metric` instead.  They have different behavior when custom objective is also used.See https://xgboost.readthedocs.io/en/latest/tutorials/custom_metric_obj.html for details on the `custom_metric`.\n",
            "/usr/local/lib/python3.10/dist-packages/xgboost/training.py:39: UserWarning: `feval` is deprecated, use `custom_metric` instead.  They have different behavior when custom objective is also used.See https://xgboost.readthedocs.io/en/latest/tutorials/custom_metric_obj.html for details on the `custom_metric`.\n",
            "/usr/local/lib/python3.10/dist-packages/xgboost/training.py:39: UserWarning: `feval` is deprecated, use `custom_metric` instead.  They have different behavior when custom objective is also used.See https://xgboost.readthedocs.io/en/latest/tutorials/custom_metric_obj.html for details on the `custom_metric`.\n"
          ]
        },
        {
          "output_type": "stream",
          "name": "stdout",
          "text": [
            "13_Xgboost mse 9.775233 trained in 10.56 seconds\n",
            "31_RandomForest mse 9.948594 trained in 18.63 seconds\n",
            "40_ExtraTrees mse 10.194814 trained in 14.36 seconds\n",
            "49_NeuralNetwork mse 8.784576 trained in 10.2 seconds\n",
            "58_NearestNeighbors mse 9.401428 trained in 11.71 seconds\n",
            "23_LightGBM mse 8.404489 trained in 9.84 seconds\n"
          ]
        },
        {
          "output_type": "stream",
          "name": "stderr",
          "text": [
            "/usr/local/lib/python3.10/dist-packages/xgboost/training.py:39: UserWarning: `feval` is deprecated, use `custom_metric` instead.  They have different behavior when custom objective is also used.See https://xgboost.readthedocs.io/en/latest/tutorials/custom_metric_obj.html for details on the `custom_metric`.\n",
            "/usr/local/lib/python3.10/dist-packages/xgboost/training.py:39: UserWarning: `feval` is deprecated, use `custom_metric` instead.  They have different behavior when custom objective is also used.See https://xgboost.readthedocs.io/en/latest/tutorials/custom_metric_obj.html for details on the `custom_metric`.\n",
            "/usr/local/lib/python3.10/dist-packages/xgboost/training.py:39: UserWarning: `feval` is deprecated, use `custom_metric` instead.  They have different behavior when custom objective is also used.See https://xgboost.readthedocs.io/en/latest/tutorials/custom_metric_obj.html for details on the `custom_metric`.\n",
            "/usr/local/lib/python3.10/dist-packages/xgboost/training.py:39: UserWarning: `feval` is deprecated, use `custom_metric` instead.  They have different behavior when custom objective is also used.See https://xgboost.readthedocs.io/en/latest/tutorials/custom_metric_obj.html for details on the `custom_metric`.\n",
            "/usr/local/lib/python3.10/dist-packages/xgboost/training.py:39: UserWarning: `feval` is deprecated, use `custom_metric` instead.  They have different behavior when custom objective is also used.See https://xgboost.readthedocs.io/en/latest/tutorials/custom_metric_obj.html for details on the `custom_metric`.\n",
            "/usr/local/lib/python3.10/dist-packages/xgboost/training.py:39: UserWarning: `feval` is deprecated, use `custom_metric` instead.  They have different behavior when custom objective is also used.See https://xgboost.readthedocs.io/en/latest/tutorials/custom_metric_obj.html for details on the `custom_metric`.\n",
            "/usr/local/lib/python3.10/dist-packages/xgboost/training.py:39: UserWarning: `feval` is deprecated, use `custom_metric` instead.  They have different behavior when custom objective is also used.See https://xgboost.readthedocs.io/en/latest/tutorials/custom_metric_obj.html for details on the `custom_metric`.\n",
            "/usr/local/lib/python3.10/dist-packages/xgboost/training.py:39: UserWarning: `feval` is deprecated, use `custom_metric` instead.  They have different behavior when custom objective is also used.See https://xgboost.readthedocs.io/en/latest/tutorials/custom_metric_obj.html for details on the `custom_metric`.\n",
            "/usr/local/lib/python3.10/dist-packages/xgboost/training.py:39: UserWarning: `feval` is deprecated, use `custom_metric` instead.  They have different behavior when custom objective is also used.See https://xgboost.readthedocs.io/en/latest/tutorials/custom_metric_obj.html for details on the `custom_metric`.\n",
            "/usr/local/lib/python3.10/dist-packages/xgboost/training.py:39: UserWarning: `feval` is deprecated, use `custom_metric` instead.  They have different behavior when custom objective is also used.See https://xgboost.readthedocs.io/en/latest/tutorials/custom_metric_obj.html for details on the `custom_metric`.\n"
          ]
        },
        {
          "output_type": "stream",
          "name": "stdout",
          "text": [
            "14_Xgboost mse 8.161721 trained in 11.59 seconds\n",
            "32_RandomForest mse 8.953762 trained in 20.92 seconds\n",
            "41_ExtraTrees mse 8.831665 trained in 18.19 seconds\n",
            "50_NeuralNetwork mse 10.16391 trained in 11.85 seconds\n",
            "59_NearestNeighbors mse 9.401428 trained in 12.88 seconds\n",
            "24_LightGBM mse 8.836585 trained in 11.2 seconds\n"
          ]
        },
        {
          "output_type": "stream",
          "name": "stderr",
          "text": [
            "/usr/local/lib/python3.10/dist-packages/xgboost/training.py:39: UserWarning: `feval` is deprecated, use `custom_metric` instead.  They have different behavior when custom objective is also used.See https://xgboost.readthedocs.io/en/latest/tutorials/custom_metric_obj.html for details on the `custom_metric`.\n",
            "/usr/local/lib/python3.10/dist-packages/xgboost/training.py:39: UserWarning: `feval` is deprecated, use `custom_metric` instead.  They have different behavior when custom objective is also used.See https://xgboost.readthedocs.io/en/latest/tutorials/custom_metric_obj.html for details on the `custom_metric`.\n",
            "/usr/local/lib/python3.10/dist-packages/xgboost/training.py:39: UserWarning: `feval` is deprecated, use `custom_metric` instead.  They have different behavior when custom objective is also used.See https://xgboost.readthedocs.io/en/latest/tutorials/custom_metric_obj.html for details on the `custom_metric`.\n",
            "/usr/local/lib/python3.10/dist-packages/xgboost/training.py:39: UserWarning: `feval` is deprecated, use `custom_metric` instead.  They have different behavior when custom objective is also used.See https://xgboost.readthedocs.io/en/latest/tutorials/custom_metric_obj.html for details on the `custom_metric`.\n",
            "/usr/local/lib/python3.10/dist-packages/xgboost/training.py:39: UserWarning: `feval` is deprecated, use `custom_metric` instead.  They have different behavior when custom objective is also used.See https://xgboost.readthedocs.io/en/latest/tutorials/custom_metric_obj.html for details on the `custom_metric`.\n",
            "/usr/local/lib/python3.10/dist-packages/xgboost/training.py:39: UserWarning: `feval` is deprecated, use `custom_metric` instead.  They have different behavior when custom objective is also used.See https://xgboost.readthedocs.io/en/latest/tutorials/custom_metric_obj.html for details on the `custom_metric`.\n",
            "/usr/local/lib/python3.10/dist-packages/xgboost/training.py:39: UserWarning: `feval` is deprecated, use `custom_metric` instead.  They have different behavior when custom objective is also used.See https://xgboost.readthedocs.io/en/latest/tutorials/custom_metric_obj.html for details on the `custom_metric`.\n",
            "/usr/local/lib/python3.10/dist-packages/xgboost/training.py:39: UserWarning: `feval` is deprecated, use `custom_metric` instead.  They have different behavior when custom objective is also used.See https://xgboost.readthedocs.io/en/latest/tutorials/custom_metric_obj.html for details on the `custom_metric`.\n",
            "/usr/local/lib/python3.10/dist-packages/xgboost/training.py:39: UserWarning: `feval` is deprecated, use `custom_metric` instead.  They have different behavior when custom objective is also used.See https://xgboost.readthedocs.io/en/latest/tutorials/custom_metric_obj.html for details on the `custom_metric`.\n",
            "/usr/local/lib/python3.10/dist-packages/xgboost/training.py:39: UserWarning: `feval` is deprecated, use `custom_metric` instead.  They have different behavior when custom objective is also used.See https://xgboost.readthedocs.io/en/latest/tutorials/custom_metric_obj.html for details on the `custom_metric`.\n"
          ]
        },
        {
          "output_type": "stream",
          "name": "stdout",
          "text": [
            "15_Xgboost mse 8.67595 trained in 12.82 seconds\n",
            "33_RandomForest mse 9.457971 trained in 19.94 seconds\n",
            "42_ExtraTrees mse 9.426769 trained in 17.02 seconds\n",
            "51_NeuralNetwork mse 9.170216 trained in 12.33 seconds\n",
            "60_NearestNeighbors mse 9.240228 trained in 14.6 seconds\n",
            "25_LightGBM mse 8.172211 trained in 10.91 seconds\n"
          ]
        },
        {
          "output_type": "stream",
          "name": "stderr",
          "text": [
            "/usr/local/lib/python3.10/dist-packages/xgboost/training.py:39: UserWarning: `feval` is deprecated, use `custom_metric` instead.  They have different behavior when custom objective is also used.See https://xgboost.readthedocs.io/en/latest/tutorials/custom_metric_obj.html for details on the `custom_metric`.\n",
            "/usr/local/lib/python3.10/dist-packages/xgboost/training.py:39: UserWarning: `feval` is deprecated, use `custom_metric` instead.  They have different behavior when custom objective is also used.See https://xgboost.readthedocs.io/en/latest/tutorials/custom_metric_obj.html for details on the `custom_metric`.\n",
            "/usr/local/lib/python3.10/dist-packages/xgboost/training.py:39: UserWarning: `feval` is deprecated, use `custom_metric` instead.  They have different behavior when custom objective is also used.See https://xgboost.readthedocs.io/en/latest/tutorials/custom_metric_obj.html for details on the `custom_metric`.\n",
            "/usr/local/lib/python3.10/dist-packages/xgboost/training.py:39: UserWarning: `feval` is deprecated, use `custom_metric` instead.  They have different behavior when custom objective is also used.See https://xgboost.readthedocs.io/en/latest/tutorials/custom_metric_obj.html for details on the `custom_metric`.\n",
            "/usr/local/lib/python3.10/dist-packages/xgboost/training.py:39: UserWarning: `feval` is deprecated, use `custom_metric` instead.  They have different behavior when custom objective is also used.See https://xgboost.readthedocs.io/en/latest/tutorials/custom_metric_obj.html for details on the `custom_metric`.\n",
            "/usr/local/lib/python3.10/dist-packages/xgboost/training.py:39: UserWarning: `feval` is deprecated, use `custom_metric` instead.  They have different behavior when custom objective is also used.See https://xgboost.readthedocs.io/en/latest/tutorials/custom_metric_obj.html for details on the `custom_metric`.\n",
            "/usr/local/lib/python3.10/dist-packages/xgboost/training.py:39: UserWarning: `feval` is deprecated, use `custom_metric` instead.  They have different behavior when custom objective is also used.See https://xgboost.readthedocs.io/en/latest/tutorials/custom_metric_obj.html for details on the `custom_metric`.\n",
            "/usr/local/lib/python3.10/dist-packages/xgboost/training.py:39: UserWarning: `feval` is deprecated, use `custom_metric` instead.  They have different behavior when custom objective is also used.See https://xgboost.readthedocs.io/en/latest/tutorials/custom_metric_obj.html for details on the `custom_metric`.\n",
            "/usr/local/lib/python3.10/dist-packages/xgboost/training.py:39: UserWarning: `feval` is deprecated, use `custom_metric` instead.  They have different behavior when custom objective is also used.See https://xgboost.readthedocs.io/en/latest/tutorials/custom_metric_obj.html for details on the `custom_metric`.\n",
            "/usr/local/lib/python3.10/dist-packages/xgboost/training.py:39: UserWarning: `feval` is deprecated, use `custom_metric` instead.  They have different behavior when custom objective is also used.See https://xgboost.readthedocs.io/en/latest/tutorials/custom_metric_obj.html for details on the `custom_metric`.\n"
          ]
        },
        {
          "output_type": "stream",
          "name": "stdout",
          "text": [
            "16_Xgboost mse 8.047199 trained in 14.72 seconds\n",
            "34_RandomForest mse 8.688554 trained in 19.51 seconds\n",
            "43_ExtraTrees mse 8.936563 trained in 19.57 seconds\n",
            "52_NeuralNetwork mse 8.610857 trained in 13.34 seconds\n",
            "61_NearestNeighbors mse 10.73215 trained in 14.57 seconds\n",
            "26_LightGBM mse 8.282839 trained in 13.01 seconds\n"
          ]
        },
        {
          "output_type": "stream",
          "name": "stderr",
          "text": [
            "/usr/local/lib/python3.10/dist-packages/xgboost/training.py:39: UserWarning: `feval` is deprecated, use `custom_metric` instead.  They have different behavior when custom objective is also used.See https://xgboost.readthedocs.io/en/latest/tutorials/custom_metric_obj.html for details on the `custom_metric`.\n",
            "/usr/local/lib/python3.10/dist-packages/xgboost/training.py:39: UserWarning: `feval` is deprecated, use `custom_metric` instead.  They have different behavior when custom objective is also used.See https://xgboost.readthedocs.io/en/latest/tutorials/custom_metric_obj.html for details on the `custom_metric`.\n",
            "/usr/local/lib/python3.10/dist-packages/xgboost/training.py:39: UserWarning: `feval` is deprecated, use `custom_metric` instead.  They have different behavior when custom objective is also used.See https://xgboost.readthedocs.io/en/latest/tutorials/custom_metric_obj.html for details on the `custom_metric`.\n",
            "/usr/local/lib/python3.10/dist-packages/xgboost/training.py:39: UserWarning: `feval` is deprecated, use `custom_metric` instead.  They have different behavior when custom objective is also used.See https://xgboost.readthedocs.io/en/latest/tutorials/custom_metric_obj.html for details on the `custom_metric`.\n",
            "/usr/local/lib/python3.10/dist-packages/xgboost/training.py:39: UserWarning: `feval` is deprecated, use `custom_metric` instead.  They have different behavior when custom objective is also used.See https://xgboost.readthedocs.io/en/latest/tutorials/custom_metric_obj.html for details on the `custom_metric`.\n",
            "/usr/local/lib/python3.10/dist-packages/xgboost/training.py:39: UserWarning: `feval` is deprecated, use `custom_metric` instead.  They have different behavior when custom objective is also used.See https://xgboost.readthedocs.io/en/latest/tutorials/custom_metric_obj.html for details on the `custom_metric`.\n",
            "/usr/local/lib/python3.10/dist-packages/xgboost/training.py:39: UserWarning: `feval` is deprecated, use `custom_metric` instead.  They have different behavior when custom objective is also used.See https://xgboost.readthedocs.io/en/latest/tutorials/custom_metric_obj.html for details on the `custom_metric`.\n",
            "/usr/local/lib/python3.10/dist-packages/xgboost/training.py:39: UserWarning: `feval` is deprecated, use `custom_metric` instead.  They have different behavior when custom objective is also used.See https://xgboost.readthedocs.io/en/latest/tutorials/custom_metric_obj.html for details on the `custom_metric`.\n",
            "/usr/local/lib/python3.10/dist-packages/xgboost/training.py:39: UserWarning: `feval` is deprecated, use `custom_metric` instead.  They have different behavior when custom objective is also used.See https://xgboost.readthedocs.io/en/latest/tutorials/custom_metric_obj.html for details on the `custom_metric`.\n",
            "/usr/local/lib/python3.10/dist-packages/xgboost/training.py:39: UserWarning: `feval` is deprecated, use `custom_metric` instead.  They have different behavior when custom objective is also used.See https://xgboost.readthedocs.io/en/latest/tutorials/custom_metric_obj.html for details on the `custom_metric`.\n"
          ]
        },
        {
          "output_type": "stream",
          "name": "stdout",
          "text": [
            "17_Xgboost mse 8.256774 trained in 14.49 seconds\n",
            "35_RandomForest mse 8.994854 trained in 21.99 seconds\n",
            "44_ExtraTrees mse 8.78421 trained in 20.36 seconds\n",
            "53_NeuralNetwork mse 8.994212 trained in 14.04 seconds\n",
            "62_NearestNeighbors mse 9.240228 trained in 15.75 seconds\n",
            "27_LightGBM mse 8.260583 trained in 13.76 seconds\n"
          ]
        },
        {
          "output_type": "stream",
          "name": "stderr",
          "text": [
            "/usr/local/lib/python3.10/dist-packages/xgboost/training.py:39: UserWarning: `feval` is deprecated, use `custom_metric` instead.  They have different behavior when custom objective is also used.See https://xgboost.readthedocs.io/en/latest/tutorials/custom_metric_obj.html for details on the `custom_metric`.\n",
            "/usr/local/lib/python3.10/dist-packages/xgboost/training.py:39: UserWarning: `feval` is deprecated, use `custom_metric` instead.  They have different behavior when custom objective is also used.See https://xgboost.readthedocs.io/en/latest/tutorials/custom_metric_obj.html for details on the `custom_metric`.\n",
            "/usr/local/lib/python3.10/dist-packages/xgboost/training.py:39: UserWarning: `feval` is deprecated, use `custom_metric` instead.  They have different behavior when custom objective is also used.See https://xgboost.readthedocs.io/en/latest/tutorials/custom_metric_obj.html for details on the `custom_metric`.\n",
            "/usr/local/lib/python3.10/dist-packages/xgboost/training.py:39: UserWarning: `feval` is deprecated, use `custom_metric` instead.  They have different behavior when custom objective is also used.See https://xgboost.readthedocs.io/en/latest/tutorials/custom_metric_obj.html for details on the `custom_metric`.\n",
            "/usr/local/lib/python3.10/dist-packages/xgboost/training.py:39: UserWarning: `feval` is deprecated, use `custom_metric` instead.  They have different behavior when custom objective is also used.See https://xgboost.readthedocs.io/en/latest/tutorials/custom_metric_obj.html for details on the `custom_metric`.\n",
            "/usr/local/lib/python3.10/dist-packages/xgboost/training.py:39: UserWarning: `feval` is deprecated, use `custom_metric` instead.  They have different behavior when custom objective is also used.See https://xgboost.readthedocs.io/en/latest/tutorials/custom_metric_obj.html for details on the `custom_metric`.\n",
            "/usr/local/lib/python3.10/dist-packages/xgboost/training.py:39: UserWarning: `feval` is deprecated, use `custom_metric` instead.  They have different behavior when custom objective is also used.See https://xgboost.readthedocs.io/en/latest/tutorials/custom_metric_obj.html for details on the `custom_metric`.\n",
            "/usr/local/lib/python3.10/dist-packages/xgboost/training.py:39: UserWarning: `feval` is deprecated, use `custom_metric` instead.  They have different behavior when custom objective is also used.See https://xgboost.readthedocs.io/en/latest/tutorials/custom_metric_obj.html for details on the `custom_metric`.\n",
            "/usr/local/lib/python3.10/dist-packages/xgboost/training.py:39: UserWarning: `feval` is deprecated, use `custom_metric` instead.  They have different behavior when custom objective is also used.See https://xgboost.readthedocs.io/en/latest/tutorials/custom_metric_obj.html for details on the `custom_metric`.\n",
            "/usr/local/lib/python3.10/dist-packages/xgboost/training.py:39: UserWarning: `feval` is deprecated, use `custom_metric` instead.  They have different behavior when custom objective is also used.See https://xgboost.readthedocs.io/en/latest/tutorials/custom_metric_obj.html for details on the `custom_metric`.\n"
          ]
        },
        {
          "output_type": "stream",
          "name": "stdout",
          "text": [
            "18_Xgboost mse 8.655856 trained in 15.73 seconds\n",
            "36_RandomForest mse 9.296805 trained in 22.17 seconds\n",
            "45_ExtraTrees mse 9.590815 trained in 20.25 seconds\n",
            "54_NeuralNetwork mse 9.460756 trained in 14.9 seconds\n",
            "63_NearestNeighbors mse 11.069196 trained in 16.29 seconds\n",
            "28_LightGBM mse 9.023674 trained in 14.34 seconds\n"
          ]
        },
        {
          "output_type": "stream",
          "name": "stderr",
          "text": [
            "/usr/local/lib/python3.10/dist-packages/xgboost/training.py:39: UserWarning: `feval` is deprecated, use `custom_metric` instead.  They have different behavior when custom objective is also used.See https://xgboost.readthedocs.io/en/latest/tutorials/custom_metric_obj.html for details on the `custom_metric`.\n",
            "/usr/local/lib/python3.10/dist-packages/xgboost/training.py:39: UserWarning: `feval` is deprecated, use `custom_metric` instead.  They have different behavior when custom objective is also used.See https://xgboost.readthedocs.io/en/latest/tutorials/custom_metric_obj.html for details on the `custom_metric`.\n",
            "/usr/local/lib/python3.10/dist-packages/xgboost/training.py:39: UserWarning: `feval` is deprecated, use `custom_metric` instead.  They have different behavior when custom objective is also used.See https://xgboost.readthedocs.io/en/latest/tutorials/custom_metric_obj.html for details on the `custom_metric`.\n",
            "/usr/local/lib/python3.10/dist-packages/xgboost/training.py:39: UserWarning: `feval` is deprecated, use `custom_metric` instead.  They have different behavior when custom objective is also used.See https://xgboost.readthedocs.io/en/latest/tutorials/custom_metric_obj.html for details on the `custom_metric`.\n",
            "/usr/local/lib/python3.10/dist-packages/xgboost/training.py:39: UserWarning: `feval` is deprecated, use `custom_metric` instead.  They have different behavior when custom objective is also used.See https://xgboost.readthedocs.io/en/latest/tutorials/custom_metric_obj.html for details on the `custom_metric`.\n",
            "/usr/local/lib/python3.10/dist-packages/xgboost/training.py:39: UserWarning: `feval` is deprecated, use `custom_metric` instead.  They have different behavior when custom objective is also used.See https://xgboost.readthedocs.io/en/latest/tutorials/custom_metric_obj.html for details on the `custom_metric`.\n",
            "/usr/local/lib/python3.10/dist-packages/xgboost/training.py:39: UserWarning: `feval` is deprecated, use `custom_metric` instead.  They have different behavior when custom objective is also used.See https://xgboost.readthedocs.io/en/latest/tutorials/custom_metric_obj.html for details on the `custom_metric`.\n",
            "/usr/local/lib/python3.10/dist-packages/xgboost/training.py:39: UserWarning: `feval` is deprecated, use `custom_metric` instead.  They have different behavior when custom objective is also used.See https://xgboost.readthedocs.io/en/latest/tutorials/custom_metric_obj.html for details on the `custom_metric`.\n",
            "/usr/local/lib/python3.10/dist-packages/xgboost/training.py:39: UserWarning: `feval` is deprecated, use `custom_metric` instead.  They have different behavior when custom objective is also used.See https://xgboost.readthedocs.io/en/latest/tutorials/custom_metric_obj.html for details on the `custom_metric`.\n",
            "/usr/local/lib/python3.10/dist-packages/xgboost/training.py:39: UserWarning: `feval` is deprecated, use `custom_metric` instead.  They have different behavior when custom objective is also used.See https://xgboost.readthedocs.io/en/latest/tutorials/custom_metric_obj.html for details on the `custom_metric`.\n"
          ]
        },
        {
          "output_type": "stream",
          "name": "stdout",
          "text": [
            "19_Xgboost mse 8.262705 trained in 16.69 seconds\n",
            "37_RandomForest mse 8.886961 trained in 21.72 seconds\n",
            "46_ExtraTrees mse 9.368949 trained in 22.24 seconds\n",
            "55_NeuralNetwork mse 11.008279 trained in 15.2 seconds\n",
            "29_LightGBM mse 8.260583 trained in 15.88 seconds\n"
          ]
        },
        {
          "output_type": "stream",
          "name": "stderr",
          "text": [
            "/usr/local/lib/python3.10/dist-packages/xgboost/training.py:39: UserWarning: `feval` is deprecated, use `custom_metric` instead.  They have different behavior when custom objective is also used.See https://xgboost.readthedocs.io/en/latest/tutorials/custom_metric_obj.html for details on the `custom_metric`.\n",
            "/usr/local/lib/python3.10/dist-packages/xgboost/training.py:39: UserWarning: `feval` is deprecated, use `custom_metric` instead.  They have different behavior when custom objective is also used.See https://xgboost.readthedocs.io/en/latest/tutorials/custom_metric_obj.html for details on the `custom_metric`.\n",
            "/usr/local/lib/python3.10/dist-packages/xgboost/training.py:39: UserWarning: `feval` is deprecated, use `custom_metric` instead.  They have different behavior when custom objective is also used.See https://xgboost.readthedocs.io/en/latest/tutorials/custom_metric_obj.html for details on the `custom_metric`.\n",
            "/usr/local/lib/python3.10/dist-packages/xgboost/training.py:39: UserWarning: `feval` is deprecated, use `custom_metric` instead.  They have different behavior when custom objective is also used.See https://xgboost.readthedocs.io/en/latest/tutorials/custom_metric_obj.html for details on the `custom_metric`.\n",
            "/usr/local/lib/python3.10/dist-packages/xgboost/training.py:39: UserWarning: `feval` is deprecated, use `custom_metric` instead.  They have different behavior when custom objective is also used.See https://xgboost.readthedocs.io/en/latest/tutorials/custom_metric_obj.html for details on the `custom_metric`.\n",
            "/usr/local/lib/python3.10/dist-packages/xgboost/training.py:39: UserWarning: `feval` is deprecated, use `custom_metric` instead.  They have different behavior when custom objective is also used.See https://xgboost.readthedocs.io/en/latest/tutorials/custom_metric_obj.html for details on the `custom_metric`.\n",
            "/usr/local/lib/python3.10/dist-packages/xgboost/training.py:39: UserWarning: `feval` is deprecated, use `custom_metric` instead.  They have different behavior when custom objective is also used.See https://xgboost.readthedocs.io/en/latest/tutorials/custom_metric_obj.html for details on the `custom_metric`.\n",
            "/usr/local/lib/python3.10/dist-packages/xgboost/training.py:39: UserWarning: `feval` is deprecated, use `custom_metric` instead.  They have different behavior when custom objective is also used.See https://xgboost.readthedocs.io/en/latest/tutorials/custom_metric_obj.html for details on the `custom_metric`.\n",
            "/usr/local/lib/python3.10/dist-packages/xgboost/training.py:39: UserWarning: `feval` is deprecated, use `custom_metric` instead.  They have different behavior when custom objective is also used.See https://xgboost.readthedocs.io/en/latest/tutorials/custom_metric_obj.html for details on the `custom_metric`.\n",
            "/usr/local/lib/python3.10/dist-packages/xgboost/training.py:39: UserWarning: `feval` is deprecated, use `custom_metric` instead.  They have different behavior when custom objective is also used.See https://xgboost.readthedocs.io/en/latest/tutorials/custom_metric_obj.html for details on the `custom_metric`.\n"
          ]
        },
        {
          "output_type": "stream",
          "name": "stdout",
          "text": [
            "20_Xgboost mse 8.874905 trained in 17.78 seconds\n",
            "38_RandomForest mse 8.234847 trained in 25.33 seconds\n",
            "47_ExtraTrees mse 8.888359 trained in 23.43 seconds\n",
            "56_NeuralNetwork mse 11.076952 trained in 16.53 seconds\n",
            "* Step golden_features will try to check up to 3 models\n",
            "None 10\n",
            "Add Golden Feature: educ_diff_female\n",
            "Add Golden Feature: married_sum_educ\n",
            "Add Golden Feature: female_sum_educ\n",
            "Add Golden Feature: married_diff_female\n",
            "Add Golden Feature: female_ratio_educ\n",
            "Add Golden Feature: female_multiply_educ\n",
            "Add Golden Feature: educ_ratio_female\n",
            "Add Golden Feature: tenure_sum_educ\n",
            "Add Golden Feature: exper_ratio_tenure\n",
            "Add Golden Feature: female_ratio_exper\n",
            "Created 10 Golden Features in 0.13 seconds.\n"
          ]
        },
        {
          "output_type": "stream",
          "name": "stderr",
          "text": [
            "/usr/local/lib/python3.10/dist-packages/xgboost/training.py:39: UserWarning: `feval` is deprecated, use `custom_metric` instead.  They have different behavior when custom objective is also used.See https://xgboost.readthedocs.io/en/latest/tutorials/custom_metric_obj.html for details on the `custom_metric`.\n",
            "/usr/local/lib/python3.10/dist-packages/xgboost/training.py:39: UserWarning: `feval` is deprecated, use `custom_metric` instead.  They have different behavior when custom objective is also used.See https://xgboost.readthedocs.io/en/latest/tutorials/custom_metric_obj.html for details on the `custom_metric`.\n",
            "/usr/local/lib/python3.10/dist-packages/xgboost/training.py:39: UserWarning: `feval` is deprecated, use `custom_metric` instead.  They have different behavior when custom objective is also used.See https://xgboost.readthedocs.io/en/latest/tutorials/custom_metric_obj.html for details on the `custom_metric`.\n",
            "/usr/local/lib/python3.10/dist-packages/xgboost/training.py:39: UserWarning: `feval` is deprecated, use `custom_metric` instead.  They have different behavior when custom objective is also used.See https://xgboost.readthedocs.io/en/latest/tutorials/custom_metric_obj.html for details on the `custom_metric`.\n",
            "/usr/local/lib/python3.10/dist-packages/xgboost/training.py:39: UserWarning: `feval` is deprecated, use `custom_metric` instead.  They have different behavior when custom objective is also used.See https://xgboost.readthedocs.io/en/latest/tutorials/custom_metric_obj.html for details on the `custom_metric`.\n",
            "/usr/local/lib/python3.10/dist-packages/xgboost/training.py:39: UserWarning: `feval` is deprecated, use `custom_metric` instead.  They have different behavior when custom objective is also used.See https://xgboost.readthedocs.io/en/latest/tutorials/custom_metric_obj.html for details on the `custom_metric`.\n",
            "/usr/local/lib/python3.10/dist-packages/xgboost/training.py:39: UserWarning: `feval` is deprecated, use `custom_metric` instead.  They have different behavior when custom objective is also used.See https://xgboost.readthedocs.io/en/latest/tutorials/custom_metric_obj.html for details on the `custom_metric`.\n",
            "/usr/local/lib/python3.10/dist-packages/xgboost/training.py:39: UserWarning: `feval` is deprecated, use `custom_metric` instead.  They have different behavior when custom objective is also used.See https://xgboost.readthedocs.io/en/latest/tutorials/custom_metric_obj.html for details on the `custom_metric`.\n",
            "/usr/local/lib/python3.10/dist-packages/xgboost/training.py:39: UserWarning: `feval` is deprecated, use `custom_metric` instead.  They have different behavior when custom objective is also used.See https://xgboost.readthedocs.io/en/latest/tutorials/custom_metric_obj.html for details on the `custom_metric`.\n",
            "/usr/local/lib/python3.10/dist-packages/xgboost/training.py:39: UserWarning: `feval` is deprecated, use `custom_metric` instead.  They have different behavior when custom objective is also used.See https://xgboost.readthedocs.io/en/latest/tutorials/custom_metric_obj.html for details on the `custom_metric`.\n"
          ]
        },
        {
          "output_type": "stream",
          "name": "stdout",
          "text": [
            "16_Xgboost_GoldenFeatures mse 8.29428 trained in 20.9 seconds\n"
          ]
        },
        {
          "output_type": "stream",
          "name": "stderr",
          "text": [
            "/usr/local/lib/python3.10/dist-packages/xgboost/training.py:39: UserWarning: `feval` is deprecated, use `custom_metric` instead.  They have different behavior when custom objective is also used.See https://xgboost.readthedocs.io/en/latest/tutorials/custom_metric_obj.html for details on the `custom_metric`.\n",
            "/usr/local/lib/python3.10/dist-packages/xgboost/training.py:39: UserWarning: `feval` is deprecated, use `custom_metric` instead.  They have different behavior when custom objective is also used.See https://xgboost.readthedocs.io/en/latest/tutorials/custom_metric_obj.html for details on the `custom_metric`.\n",
            "/usr/local/lib/python3.10/dist-packages/xgboost/training.py:39: UserWarning: `feval` is deprecated, use `custom_metric` instead.  They have different behavior when custom objective is also used.See https://xgboost.readthedocs.io/en/latest/tutorials/custom_metric_obj.html for details on the `custom_metric`.\n",
            "/usr/local/lib/python3.10/dist-packages/xgboost/training.py:39: UserWarning: `feval` is deprecated, use `custom_metric` instead.  They have different behavior when custom objective is also used.See https://xgboost.readthedocs.io/en/latest/tutorials/custom_metric_obj.html for details on the `custom_metric`.\n",
            "/usr/local/lib/python3.10/dist-packages/xgboost/training.py:39: UserWarning: `feval` is deprecated, use `custom_metric` instead.  They have different behavior when custom objective is also used.See https://xgboost.readthedocs.io/en/latest/tutorials/custom_metric_obj.html for details on the `custom_metric`.\n",
            "/usr/local/lib/python3.10/dist-packages/xgboost/training.py:39: UserWarning: `feval` is deprecated, use `custom_metric` instead.  They have different behavior when custom objective is also used.See https://xgboost.readthedocs.io/en/latest/tutorials/custom_metric_obj.html for details on the `custom_metric`.\n",
            "/usr/local/lib/python3.10/dist-packages/xgboost/training.py:39: UserWarning: `feval` is deprecated, use `custom_metric` instead.  They have different behavior when custom objective is also used.See https://xgboost.readthedocs.io/en/latest/tutorials/custom_metric_obj.html for details on the `custom_metric`.\n",
            "/usr/local/lib/python3.10/dist-packages/xgboost/training.py:39: UserWarning: `feval` is deprecated, use `custom_metric` instead.  They have different behavior when custom objective is also used.See https://xgboost.readthedocs.io/en/latest/tutorials/custom_metric_obj.html for details on the `custom_metric`.\n",
            "/usr/local/lib/python3.10/dist-packages/xgboost/training.py:39: UserWarning: `feval` is deprecated, use `custom_metric` instead.  They have different behavior when custom objective is also used.See https://xgboost.readthedocs.io/en/latest/tutorials/custom_metric_obj.html for details on the `custom_metric`.\n",
            "/usr/local/lib/python3.10/dist-packages/xgboost/training.py:39: UserWarning: `feval` is deprecated, use `custom_metric` instead.  They have different behavior when custom objective is also used.See https://xgboost.readthedocs.io/en/latest/tutorials/custom_metric_obj.html for details on the `custom_metric`.\n"
          ]
        },
        {
          "output_type": "stream",
          "name": "stdout",
          "text": [
            "14_Xgboost_GoldenFeatures mse 7.955779 trained in 21.46 seconds\n",
            "25_LightGBM_GoldenFeatures mse 8.115245 trained in 17.48 seconds\n",
            "* Step kmeans_features will try to check up to 3 models\n"
          ]
        },
        {
          "output_type": "stream",
          "name": "stderr",
          "text": [
            "/usr/local/lib/python3.10/dist-packages/sklearn/cluster/_kmeans.py:870: FutureWarning: The default value of `n_init` will change from 3 to 'auto' in 1.4. Set the value of `n_init` explicitly to suppress the warning\n",
            "/usr/local/lib/python3.10/dist-packages/xgboost/training.py:39: UserWarning: `feval` is deprecated, use `custom_metric` instead.  They have different behavior when custom objective is also used.See https://xgboost.readthedocs.io/en/latest/tutorials/custom_metric_obj.html for details on the `custom_metric`.\n",
            "/usr/local/lib/python3.10/dist-packages/sklearn/cluster/_kmeans.py:870: FutureWarning: The default value of `n_init` will change from 3 to 'auto' in 1.4. Set the value of `n_init` explicitly to suppress the warning\n",
            "/usr/local/lib/python3.10/dist-packages/xgboost/training.py:39: UserWarning: `feval` is deprecated, use `custom_metric` instead.  They have different behavior when custom objective is also used.See https://xgboost.readthedocs.io/en/latest/tutorials/custom_metric_obj.html for details on the `custom_metric`.\n",
            "/usr/local/lib/python3.10/dist-packages/sklearn/cluster/_kmeans.py:870: FutureWarning: The default value of `n_init` will change from 3 to 'auto' in 1.4. Set the value of `n_init` explicitly to suppress the warning\n",
            "/usr/local/lib/python3.10/dist-packages/xgboost/training.py:39: UserWarning: `feval` is deprecated, use `custom_metric` instead.  They have different behavior when custom objective is also used.See https://xgboost.readthedocs.io/en/latest/tutorials/custom_metric_obj.html for details on the `custom_metric`.\n",
            "/usr/local/lib/python3.10/dist-packages/sklearn/cluster/_kmeans.py:870: FutureWarning: The default value of `n_init` will change from 3 to 'auto' in 1.4. Set the value of `n_init` explicitly to suppress the warning\n",
            "/usr/local/lib/python3.10/dist-packages/xgboost/training.py:39: UserWarning: `feval` is deprecated, use `custom_metric` instead.  They have different behavior when custom objective is also used.See https://xgboost.readthedocs.io/en/latest/tutorials/custom_metric_obj.html for details on the `custom_metric`.\n",
            "/usr/local/lib/python3.10/dist-packages/sklearn/cluster/_kmeans.py:870: FutureWarning: The default value of `n_init` will change from 3 to 'auto' in 1.4. Set the value of `n_init` explicitly to suppress the warning\n",
            "/usr/local/lib/python3.10/dist-packages/xgboost/training.py:39: UserWarning: `feval` is deprecated, use `custom_metric` instead.  They have different behavior when custom objective is also used.See https://xgboost.readthedocs.io/en/latest/tutorials/custom_metric_obj.html for details on the `custom_metric`.\n",
            "/usr/local/lib/python3.10/dist-packages/sklearn/cluster/_kmeans.py:870: FutureWarning: The default value of `n_init` will change from 3 to 'auto' in 1.4. Set the value of `n_init` explicitly to suppress the warning\n",
            "/usr/local/lib/python3.10/dist-packages/xgboost/training.py:39: UserWarning: `feval` is deprecated, use `custom_metric` instead.  They have different behavior when custom objective is also used.See https://xgboost.readthedocs.io/en/latest/tutorials/custom_metric_obj.html for details on the `custom_metric`.\n",
            "/usr/local/lib/python3.10/dist-packages/sklearn/cluster/_kmeans.py:870: FutureWarning: The default value of `n_init` will change from 3 to 'auto' in 1.4. Set the value of `n_init` explicitly to suppress the warning\n",
            "/usr/local/lib/python3.10/dist-packages/xgboost/training.py:39: UserWarning: `feval` is deprecated, use `custom_metric` instead.  They have different behavior when custom objective is also used.See https://xgboost.readthedocs.io/en/latest/tutorials/custom_metric_obj.html for details on the `custom_metric`.\n",
            "/usr/local/lib/python3.10/dist-packages/sklearn/cluster/_kmeans.py:870: FutureWarning: The default value of `n_init` will change from 3 to 'auto' in 1.4. Set the value of `n_init` explicitly to suppress the warning\n",
            "/usr/local/lib/python3.10/dist-packages/xgboost/training.py:39: UserWarning: `feval` is deprecated, use `custom_metric` instead.  They have different behavior when custom objective is also used.See https://xgboost.readthedocs.io/en/latest/tutorials/custom_metric_obj.html for details on the `custom_metric`.\n",
            "/usr/local/lib/python3.10/dist-packages/sklearn/cluster/_kmeans.py:870: FutureWarning: The default value of `n_init` will change from 3 to 'auto' in 1.4. Set the value of `n_init` explicitly to suppress the warning\n",
            "/usr/local/lib/python3.10/dist-packages/xgboost/training.py:39: UserWarning: `feval` is deprecated, use `custom_metric` instead.  They have different behavior when custom objective is also used.See https://xgboost.readthedocs.io/en/latest/tutorials/custom_metric_obj.html for details on the `custom_metric`.\n",
            "/usr/local/lib/python3.10/dist-packages/sklearn/cluster/_kmeans.py:870: FutureWarning: The default value of `n_init` will change from 3 to 'auto' in 1.4. Set the value of `n_init` explicitly to suppress the warning\n",
            "/usr/local/lib/python3.10/dist-packages/xgboost/training.py:39: UserWarning: `feval` is deprecated, use `custom_metric` instead.  They have different behavior when custom objective is also used.See https://xgboost.readthedocs.io/en/latest/tutorials/custom_metric_obj.html for details on the `custom_metric`.\n"
          ]
        },
        {
          "output_type": "stream",
          "name": "stdout",
          "text": [
            "16_Xgboost_KMeansFeatures mse 8.830148 trained in 20.16 seconds\n"
          ]
        },
        {
          "output_type": "stream",
          "name": "stderr",
          "text": [
            "/usr/local/lib/python3.10/dist-packages/sklearn/cluster/_kmeans.py:870: FutureWarning: The default value of `n_init` will change from 3 to 'auto' in 1.4. Set the value of `n_init` explicitly to suppress the warning\n",
            "/usr/local/lib/python3.10/dist-packages/xgboost/training.py:39: UserWarning: `feval` is deprecated, use `custom_metric` instead.  They have different behavior when custom objective is also used.See https://xgboost.readthedocs.io/en/latest/tutorials/custom_metric_obj.html for details on the `custom_metric`.\n",
            "/usr/local/lib/python3.10/dist-packages/sklearn/cluster/_kmeans.py:870: FutureWarning: The default value of `n_init` will change from 3 to 'auto' in 1.4. Set the value of `n_init` explicitly to suppress the warning\n",
            "/usr/local/lib/python3.10/dist-packages/xgboost/training.py:39: UserWarning: `feval` is deprecated, use `custom_metric` instead.  They have different behavior when custom objective is also used.See https://xgboost.readthedocs.io/en/latest/tutorials/custom_metric_obj.html for details on the `custom_metric`.\n",
            "/usr/local/lib/python3.10/dist-packages/sklearn/cluster/_kmeans.py:870: FutureWarning: The default value of `n_init` will change from 3 to 'auto' in 1.4. Set the value of `n_init` explicitly to suppress the warning\n",
            "/usr/local/lib/python3.10/dist-packages/xgboost/training.py:39: UserWarning: `feval` is deprecated, use `custom_metric` instead.  They have different behavior when custom objective is also used.See https://xgboost.readthedocs.io/en/latest/tutorials/custom_metric_obj.html for details on the `custom_metric`.\n",
            "/usr/local/lib/python3.10/dist-packages/sklearn/cluster/_kmeans.py:870: FutureWarning: The default value of `n_init` will change from 3 to 'auto' in 1.4. Set the value of `n_init` explicitly to suppress the warning\n",
            "/usr/local/lib/python3.10/dist-packages/xgboost/training.py:39: UserWarning: `feval` is deprecated, use `custom_metric` instead.  They have different behavior when custom objective is also used.See https://xgboost.readthedocs.io/en/latest/tutorials/custom_metric_obj.html for details on the `custom_metric`.\n",
            "/usr/local/lib/python3.10/dist-packages/sklearn/cluster/_kmeans.py:870: FutureWarning: The default value of `n_init` will change from 3 to 'auto' in 1.4. Set the value of `n_init` explicitly to suppress the warning\n",
            "/usr/local/lib/python3.10/dist-packages/xgboost/training.py:39: UserWarning: `feval` is deprecated, use `custom_metric` instead.  They have different behavior when custom objective is also used.See https://xgboost.readthedocs.io/en/latest/tutorials/custom_metric_obj.html for details on the `custom_metric`.\n",
            "/usr/local/lib/python3.10/dist-packages/sklearn/cluster/_kmeans.py:870: FutureWarning: The default value of `n_init` will change from 3 to 'auto' in 1.4. Set the value of `n_init` explicitly to suppress the warning\n",
            "/usr/local/lib/python3.10/dist-packages/xgboost/training.py:39: UserWarning: `feval` is deprecated, use `custom_metric` instead.  They have different behavior when custom objective is also used.See https://xgboost.readthedocs.io/en/latest/tutorials/custom_metric_obj.html for details on the `custom_metric`.\n",
            "/usr/local/lib/python3.10/dist-packages/sklearn/cluster/_kmeans.py:870: FutureWarning: The default value of `n_init` will change from 3 to 'auto' in 1.4. Set the value of `n_init` explicitly to suppress the warning\n",
            "/usr/local/lib/python3.10/dist-packages/xgboost/training.py:39: UserWarning: `feval` is deprecated, use `custom_metric` instead.  They have different behavior when custom objective is also used.See https://xgboost.readthedocs.io/en/latest/tutorials/custom_metric_obj.html for details on the `custom_metric`.\n",
            "/usr/local/lib/python3.10/dist-packages/sklearn/cluster/_kmeans.py:870: FutureWarning: The default value of `n_init` will change from 3 to 'auto' in 1.4. Set the value of `n_init` explicitly to suppress the warning\n",
            "/usr/local/lib/python3.10/dist-packages/xgboost/training.py:39: UserWarning: `feval` is deprecated, use `custom_metric` instead.  They have different behavior when custom objective is also used.See https://xgboost.readthedocs.io/en/latest/tutorials/custom_metric_obj.html for details on the `custom_metric`.\n",
            "/usr/local/lib/python3.10/dist-packages/sklearn/cluster/_kmeans.py:870: FutureWarning: The default value of `n_init` will change from 3 to 'auto' in 1.4. Set the value of `n_init` explicitly to suppress the warning\n",
            "/usr/local/lib/python3.10/dist-packages/xgboost/training.py:39: UserWarning: `feval` is deprecated, use `custom_metric` instead.  They have different behavior when custom objective is also used.See https://xgboost.readthedocs.io/en/latest/tutorials/custom_metric_obj.html for details on the `custom_metric`.\n",
            "/usr/local/lib/python3.10/dist-packages/sklearn/cluster/_kmeans.py:870: FutureWarning: The default value of `n_init` will change from 3 to 'auto' in 1.4. Set the value of `n_init` explicitly to suppress the warning\n",
            "/usr/local/lib/python3.10/dist-packages/xgboost/training.py:39: UserWarning: `feval` is deprecated, use `custom_metric` instead.  They have different behavior when custom objective is also used.See https://xgboost.readthedocs.io/en/latest/tutorials/custom_metric_obj.html for details on the `custom_metric`.\n"
          ]
        },
        {
          "output_type": "stream",
          "name": "stdout",
          "text": [
            "14_Xgboost_KMeansFeatures mse 8.672014 trained in 19.38 seconds\n"
          ]
        },
        {
          "output_type": "stream",
          "name": "stderr",
          "text": [
            "/usr/local/lib/python3.10/dist-packages/sklearn/cluster/_kmeans.py:870: FutureWarning: The default value of `n_init` will change from 3 to 'auto' in 1.4. Set the value of `n_init` explicitly to suppress the warning\n",
            "/usr/local/lib/python3.10/dist-packages/sklearn/cluster/_kmeans.py:870: FutureWarning: The default value of `n_init` will change from 3 to 'auto' in 1.4. Set the value of `n_init` explicitly to suppress the warning\n",
            "/usr/local/lib/python3.10/dist-packages/sklearn/cluster/_kmeans.py:870: FutureWarning: The default value of `n_init` will change from 3 to 'auto' in 1.4. Set the value of `n_init` explicitly to suppress the warning\n",
            "/usr/local/lib/python3.10/dist-packages/sklearn/cluster/_kmeans.py:870: FutureWarning: The default value of `n_init` will change from 3 to 'auto' in 1.4. Set the value of `n_init` explicitly to suppress the warning\n",
            "/usr/local/lib/python3.10/dist-packages/sklearn/cluster/_kmeans.py:870: FutureWarning: The default value of `n_init` will change from 3 to 'auto' in 1.4. Set the value of `n_init` explicitly to suppress the warning\n",
            "/usr/local/lib/python3.10/dist-packages/sklearn/cluster/_kmeans.py:870: FutureWarning: The default value of `n_init` will change from 3 to 'auto' in 1.4. Set the value of `n_init` explicitly to suppress the warning\n",
            "/usr/local/lib/python3.10/dist-packages/sklearn/cluster/_kmeans.py:870: FutureWarning: The default value of `n_init` will change from 3 to 'auto' in 1.4. Set the value of `n_init` explicitly to suppress the warning\n",
            "/usr/local/lib/python3.10/dist-packages/sklearn/cluster/_kmeans.py:870: FutureWarning: The default value of `n_init` will change from 3 to 'auto' in 1.4. Set the value of `n_init` explicitly to suppress the warning\n",
            "/usr/local/lib/python3.10/dist-packages/sklearn/cluster/_kmeans.py:870: FutureWarning: The default value of `n_init` will change from 3 to 'auto' in 1.4. Set the value of `n_init` explicitly to suppress the warning\n",
            "/usr/local/lib/python3.10/dist-packages/sklearn/cluster/_kmeans.py:870: FutureWarning: The default value of `n_init` will change from 3 to 'auto' in 1.4. Set the value of `n_init` explicitly to suppress the warning\n"
          ]
        },
        {
          "output_type": "stream",
          "name": "stdout",
          "text": [
            "25_LightGBM_KMeansFeatures mse 8.5551 trained in 17.67 seconds\n",
            "* Step insert_random_feature will try to check up to 1 model\n"
          ]
        },
        {
          "output_type": "stream",
          "name": "stderr",
          "text": [
            "/usr/local/lib/python3.10/dist-packages/xgboost/training.py:39: UserWarning: `feval` is deprecated, use `custom_metric` instead.  They have different behavior when custom objective is also used.See https://xgboost.readthedocs.io/en/latest/tutorials/custom_metric_obj.html for details on the `custom_metric`.\n",
            "/usr/local/lib/python3.10/dist-packages/xgboost/training.py:39: UserWarning: `feval` is deprecated, use `custom_metric` instead.  They have different behavior when custom objective is also used.See https://xgboost.readthedocs.io/en/latest/tutorials/custom_metric_obj.html for details on the `custom_metric`.\n",
            "/usr/local/lib/python3.10/dist-packages/xgboost/training.py:39: UserWarning: `feval` is deprecated, use `custom_metric` instead.  They have different behavior when custom objective is also used.See https://xgboost.readthedocs.io/en/latest/tutorials/custom_metric_obj.html for details on the `custom_metric`.\n",
            "/usr/local/lib/python3.10/dist-packages/xgboost/training.py:39: UserWarning: `feval` is deprecated, use `custom_metric` instead.  They have different behavior when custom objective is also used.See https://xgboost.readthedocs.io/en/latest/tutorials/custom_metric_obj.html for details on the `custom_metric`.\n",
            "/usr/local/lib/python3.10/dist-packages/xgboost/training.py:39: UserWarning: `feval` is deprecated, use `custom_metric` instead.  They have different behavior when custom objective is also used.See https://xgboost.readthedocs.io/en/latest/tutorials/custom_metric_obj.html for details on the `custom_metric`.\n",
            "/usr/local/lib/python3.10/dist-packages/xgboost/training.py:39: UserWarning: `feval` is deprecated, use `custom_metric` instead.  They have different behavior when custom objective is also used.See https://xgboost.readthedocs.io/en/latest/tutorials/custom_metric_obj.html for details on the `custom_metric`.\n",
            "/usr/local/lib/python3.10/dist-packages/xgboost/training.py:39: UserWarning: `feval` is deprecated, use `custom_metric` instead.  They have different behavior when custom objective is also used.See https://xgboost.readthedocs.io/en/latest/tutorials/custom_metric_obj.html for details on the `custom_metric`.\n",
            "/usr/local/lib/python3.10/dist-packages/xgboost/training.py:39: UserWarning: `feval` is deprecated, use `custom_metric` instead.  They have different behavior when custom objective is also used.See https://xgboost.readthedocs.io/en/latest/tutorials/custom_metric_obj.html for details on the `custom_metric`.\n",
            "/usr/local/lib/python3.10/dist-packages/xgboost/training.py:39: UserWarning: `feval` is deprecated, use `custom_metric` instead.  They have different behavior when custom objective is also used.See https://xgboost.readthedocs.io/en/latest/tutorials/custom_metric_obj.html for details on the `custom_metric`.\n",
            "/usr/local/lib/python3.10/dist-packages/xgboost/training.py:39: UserWarning: `feval` is deprecated, use `custom_metric` instead.  They have different behavior when custom objective is also used.See https://xgboost.readthedocs.io/en/latest/tutorials/custom_metric_obj.html for details on the `custom_metric`.\n"
          ]
        },
        {
          "output_type": "stream",
          "name": "stdout",
          "text": [
            "14_Xgboost_GoldenFeatures_RandomFeature mse 8.355443 trained in 20.16 seconds\n",
            "Drop features ['educ', 'random_feature', 'female_sum_educ', 'female', 'educ_ratio_female', 'married', 'female_ratio_exper', 'female_multiply_educ', 'exper_ratio_tenure']\n",
            "* Step features_selection will try to check up to 5 models\n"
          ]
        },
        {
          "output_type": "stream",
          "name": "stderr",
          "text": [
            "/usr/local/lib/python3.10/dist-packages/xgboost/training.py:39: UserWarning: `feval` is deprecated, use `custom_metric` instead.  They have different behavior when custom objective is also used.See https://xgboost.readthedocs.io/en/latest/tutorials/custom_metric_obj.html for details on the `custom_metric`.\n",
            "/usr/local/lib/python3.10/dist-packages/xgboost/training.py:39: UserWarning: `feval` is deprecated, use `custom_metric` instead.  They have different behavior when custom objective is also used.See https://xgboost.readthedocs.io/en/latest/tutorials/custom_metric_obj.html for details on the `custom_metric`.\n",
            "/usr/local/lib/python3.10/dist-packages/xgboost/training.py:39: UserWarning: `feval` is deprecated, use `custom_metric` instead.  They have different behavior when custom objective is also used.See https://xgboost.readthedocs.io/en/latest/tutorials/custom_metric_obj.html for details on the `custom_metric`.\n",
            "/usr/local/lib/python3.10/dist-packages/xgboost/training.py:39: UserWarning: `feval` is deprecated, use `custom_metric` instead.  They have different behavior when custom objective is also used.See https://xgboost.readthedocs.io/en/latest/tutorials/custom_metric_obj.html for details on the `custom_metric`.\n",
            "/usr/local/lib/python3.10/dist-packages/xgboost/training.py:39: UserWarning: `feval` is deprecated, use `custom_metric` instead.  They have different behavior when custom objective is also used.See https://xgboost.readthedocs.io/en/latest/tutorials/custom_metric_obj.html for details on the `custom_metric`.\n",
            "/usr/local/lib/python3.10/dist-packages/xgboost/training.py:39: UserWarning: `feval` is deprecated, use `custom_metric` instead.  They have different behavior when custom objective is also used.See https://xgboost.readthedocs.io/en/latest/tutorials/custom_metric_obj.html for details on the `custom_metric`.\n",
            "/usr/local/lib/python3.10/dist-packages/xgboost/training.py:39: UserWarning: `feval` is deprecated, use `custom_metric` instead.  They have different behavior when custom objective is also used.See https://xgboost.readthedocs.io/en/latest/tutorials/custom_metric_obj.html for details on the `custom_metric`.\n",
            "/usr/local/lib/python3.10/dist-packages/xgboost/training.py:39: UserWarning: `feval` is deprecated, use `custom_metric` instead.  They have different behavior when custom objective is also used.See https://xgboost.readthedocs.io/en/latest/tutorials/custom_metric_obj.html for details on the `custom_metric`.\n",
            "/usr/local/lib/python3.10/dist-packages/xgboost/training.py:39: UserWarning: `feval` is deprecated, use `custom_metric` instead.  They have different behavior when custom objective is also used.See https://xgboost.readthedocs.io/en/latest/tutorials/custom_metric_obj.html for details on the `custom_metric`.\n",
            "/usr/local/lib/python3.10/dist-packages/xgboost/training.py:39: UserWarning: `feval` is deprecated, use `custom_metric` instead.  They have different behavior when custom objective is also used.See https://xgboost.readthedocs.io/en/latest/tutorials/custom_metric_obj.html for details on the `custom_metric`.\n"
          ]
        },
        {
          "output_type": "stream",
          "name": "stdout",
          "text": [
            "14_Xgboost_GoldenFeatures_SelectedFeatures mse 7.724808 trained in 19.41 seconds\n",
            "25_LightGBM_GoldenFeatures_SelectedFeatures mse 7.976617 trained in 18.25 seconds\n",
            "38_RandomForest_SelectedFeatures mse 12.399046 trained in 24.16 seconds\n",
            "52_NeuralNetwork_SelectedFeatures mse 13.065739 trained in 17.9 seconds\n",
            "44_ExtraTrees_SelectedFeatures mse 12.747595 trained in 27.0 seconds\n",
            "* Step hill_climbing_1 will try to check up to 28 models\n"
          ]
        },
        {
          "output_type": "stream",
          "name": "stderr",
          "text": [
            "/usr/local/lib/python3.10/dist-packages/xgboost/training.py:39: UserWarning: `feval` is deprecated, use `custom_metric` instead.  They have different behavior when custom objective is also used.See https://xgboost.readthedocs.io/en/latest/tutorials/custom_metric_obj.html for details on the `custom_metric`.\n",
            "/usr/local/lib/python3.10/dist-packages/xgboost/training.py:39: UserWarning: `feval` is deprecated, use `custom_metric` instead.  They have different behavior when custom objective is also used.See https://xgboost.readthedocs.io/en/latest/tutorials/custom_metric_obj.html for details on the `custom_metric`.\n",
            "/usr/local/lib/python3.10/dist-packages/xgboost/training.py:39: UserWarning: `feval` is deprecated, use `custom_metric` instead.  They have different behavior when custom objective is also used.See https://xgboost.readthedocs.io/en/latest/tutorials/custom_metric_obj.html for details on the `custom_metric`.\n",
            "/usr/local/lib/python3.10/dist-packages/xgboost/training.py:39: UserWarning: `feval` is deprecated, use `custom_metric` instead.  They have different behavior when custom objective is also used.See https://xgboost.readthedocs.io/en/latest/tutorials/custom_metric_obj.html for details on the `custom_metric`.\n",
            "/usr/local/lib/python3.10/dist-packages/xgboost/training.py:39: UserWarning: `feval` is deprecated, use `custom_metric` instead.  They have different behavior when custom objective is also used.See https://xgboost.readthedocs.io/en/latest/tutorials/custom_metric_obj.html for details on the `custom_metric`.\n",
            "/usr/local/lib/python3.10/dist-packages/xgboost/training.py:39: UserWarning: `feval` is deprecated, use `custom_metric` instead.  They have different behavior when custom objective is also used.See https://xgboost.readthedocs.io/en/latest/tutorials/custom_metric_obj.html for details on the `custom_metric`.\n",
            "/usr/local/lib/python3.10/dist-packages/xgboost/training.py:39: UserWarning: `feval` is deprecated, use `custom_metric` instead.  They have different behavior when custom objective is also used.See https://xgboost.readthedocs.io/en/latest/tutorials/custom_metric_obj.html for details on the `custom_metric`.\n",
            "/usr/local/lib/python3.10/dist-packages/xgboost/training.py:39: UserWarning: `feval` is deprecated, use `custom_metric` instead.  They have different behavior when custom objective is also used.See https://xgboost.readthedocs.io/en/latest/tutorials/custom_metric_obj.html for details on the `custom_metric`.\n",
            "/usr/local/lib/python3.10/dist-packages/xgboost/training.py:39: UserWarning: `feval` is deprecated, use `custom_metric` instead.  They have different behavior when custom objective is also used.See https://xgboost.readthedocs.io/en/latest/tutorials/custom_metric_obj.html for details on the `custom_metric`.\n",
            "/usr/local/lib/python3.10/dist-packages/xgboost/training.py:39: UserWarning: `feval` is deprecated, use `custom_metric` instead.  They have different behavior when custom objective is also used.See https://xgboost.readthedocs.io/en/latest/tutorials/custom_metric_obj.html for details on the `custom_metric`.\n"
          ]
        },
        {
          "output_type": "stream",
          "name": "stdout",
          "text": [
            "64_Xgboost_GoldenFeatures_SelectedFeatures mse 7.870187 trained in 20.75 seconds\n"
          ]
        },
        {
          "output_type": "stream",
          "name": "stderr",
          "text": [
            "/usr/local/lib/python3.10/dist-packages/xgboost/training.py:39: UserWarning: `feval` is deprecated, use `custom_metric` instead.  They have different behavior when custom objective is also used.See https://xgboost.readthedocs.io/en/latest/tutorials/custom_metric_obj.html for details on the `custom_metric`.\n",
            "/usr/local/lib/python3.10/dist-packages/xgboost/training.py:39: UserWarning: `feval` is deprecated, use `custom_metric` instead.  They have different behavior when custom objective is also used.See https://xgboost.readthedocs.io/en/latest/tutorials/custom_metric_obj.html for details on the `custom_metric`.\n",
            "/usr/local/lib/python3.10/dist-packages/xgboost/training.py:39: UserWarning: `feval` is deprecated, use `custom_metric` instead.  They have different behavior when custom objective is also used.See https://xgboost.readthedocs.io/en/latest/tutorials/custom_metric_obj.html for details on the `custom_metric`.\n",
            "/usr/local/lib/python3.10/dist-packages/xgboost/training.py:39: UserWarning: `feval` is deprecated, use `custom_metric` instead.  They have different behavior when custom objective is also used.See https://xgboost.readthedocs.io/en/latest/tutorials/custom_metric_obj.html for details on the `custom_metric`.\n",
            "/usr/local/lib/python3.10/dist-packages/xgboost/training.py:39: UserWarning: `feval` is deprecated, use `custom_metric` instead.  They have different behavior when custom objective is also used.See https://xgboost.readthedocs.io/en/latest/tutorials/custom_metric_obj.html for details on the `custom_metric`.\n",
            "/usr/local/lib/python3.10/dist-packages/xgboost/training.py:39: UserWarning: `feval` is deprecated, use `custom_metric` instead.  They have different behavior when custom objective is also used.See https://xgboost.readthedocs.io/en/latest/tutorials/custom_metric_obj.html for details on the `custom_metric`.\n",
            "/usr/local/lib/python3.10/dist-packages/xgboost/training.py:39: UserWarning: `feval` is deprecated, use `custom_metric` instead.  They have different behavior when custom objective is also used.See https://xgboost.readthedocs.io/en/latest/tutorials/custom_metric_obj.html for details on the `custom_metric`.\n",
            "/usr/local/lib/python3.10/dist-packages/xgboost/training.py:39: UserWarning: `feval` is deprecated, use `custom_metric` instead.  They have different behavior when custom objective is also used.See https://xgboost.readthedocs.io/en/latest/tutorials/custom_metric_obj.html for details on the `custom_metric`.\n",
            "/usr/local/lib/python3.10/dist-packages/xgboost/training.py:39: UserWarning: `feval` is deprecated, use `custom_metric` instead.  They have different behavior when custom objective is also used.See https://xgboost.readthedocs.io/en/latest/tutorials/custom_metric_obj.html for details on the `custom_metric`.\n",
            "/usr/local/lib/python3.10/dist-packages/xgboost/training.py:39: UserWarning: `feval` is deprecated, use `custom_metric` instead.  They have different behavior when custom objective is also used.See https://xgboost.readthedocs.io/en/latest/tutorials/custom_metric_obj.html for details on the `custom_metric`.\n"
          ]
        },
        {
          "output_type": "stream",
          "name": "stdout",
          "text": [
            "65_Xgboost_GoldenFeatures_SelectedFeatures mse 7.579287 trained in 20.04 seconds\n"
          ]
        },
        {
          "output_type": "stream",
          "name": "stderr",
          "text": [
            "/usr/local/lib/python3.10/dist-packages/xgboost/training.py:39: UserWarning: `feval` is deprecated, use `custom_metric` instead.  They have different behavior when custom objective is also used.See https://xgboost.readthedocs.io/en/latest/tutorials/custom_metric_obj.html for details on the `custom_metric`.\n",
            "/usr/local/lib/python3.10/dist-packages/xgboost/training.py:39: UserWarning: `feval` is deprecated, use `custom_metric` instead.  They have different behavior when custom objective is also used.See https://xgboost.readthedocs.io/en/latest/tutorials/custom_metric_obj.html for details on the `custom_metric`.\n",
            "/usr/local/lib/python3.10/dist-packages/xgboost/training.py:39: UserWarning: `feval` is deprecated, use `custom_metric` instead.  They have different behavior when custom objective is also used.See https://xgboost.readthedocs.io/en/latest/tutorials/custom_metric_obj.html for details on the `custom_metric`.\n",
            "/usr/local/lib/python3.10/dist-packages/xgboost/training.py:39: UserWarning: `feval` is deprecated, use `custom_metric` instead.  They have different behavior when custom objective is also used.See https://xgboost.readthedocs.io/en/latest/tutorials/custom_metric_obj.html for details on the `custom_metric`.\n",
            "/usr/local/lib/python3.10/dist-packages/xgboost/training.py:39: UserWarning: `feval` is deprecated, use `custom_metric` instead.  They have different behavior when custom objective is also used.See https://xgboost.readthedocs.io/en/latest/tutorials/custom_metric_obj.html for details on the `custom_metric`.\n",
            "/usr/local/lib/python3.10/dist-packages/xgboost/training.py:39: UserWarning: `feval` is deprecated, use `custom_metric` instead.  They have different behavior when custom objective is also used.See https://xgboost.readthedocs.io/en/latest/tutorials/custom_metric_obj.html for details on the `custom_metric`.\n",
            "/usr/local/lib/python3.10/dist-packages/xgboost/training.py:39: UserWarning: `feval` is deprecated, use `custom_metric` instead.  They have different behavior when custom objective is also used.See https://xgboost.readthedocs.io/en/latest/tutorials/custom_metric_obj.html for details on the `custom_metric`.\n",
            "/usr/local/lib/python3.10/dist-packages/xgboost/training.py:39: UserWarning: `feval` is deprecated, use `custom_metric` instead.  They have different behavior when custom objective is also used.See https://xgboost.readthedocs.io/en/latest/tutorials/custom_metric_obj.html for details on the `custom_metric`.\n",
            "/usr/local/lib/python3.10/dist-packages/xgboost/training.py:39: UserWarning: `feval` is deprecated, use `custom_metric` instead.  They have different behavior when custom objective is also used.See https://xgboost.readthedocs.io/en/latest/tutorials/custom_metric_obj.html for details on the `custom_metric`.\n",
            "/usr/local/lib/python3.10/dist-packages/xgboost/training.py:39: UserWarning: `feval` is deprecated, use `custom_metric` instead.  They have different behavior when custom objective is also used.See https://xgboost.readthedocs.io/en/latest/tutorials/custom_metric_obj.html for details on the `custom_metric`.\n"
          ]
        },
        {
          "output_type": "stream",
          "name": "stdout",
          "text": [
            "66_Xgboost_GoldenFeatures mse 8.022209 trained in 22.25 seconds\n"
          ]
        },
        {
          "output_type": "stream",
          "name": "stderr",
          "text": [
            "/usr/local/lib/python3.10/dist-packages/xgboost/training.py:39: UserWarning: `feval` is deprecated, use `custom_metric` instead.  They have different behavior when custom objective is also used.See https://xgboost.readthedocs.io/en/latest/tutorials/custom_metric_obj.html for details on the `custom_metric`.\n",
            "/usr/local/lib/python3.10/dist-packages/xgboost/training.py:39: UserWarning: `feval` is deprecated, use `custom_metric` instead.  They have different behavior when custom objective is also used.See https://xgboost.readthedocs.io/en/latest/tutorials/custom_metric_obj.html for details on the `custom_metric`.\n",
            "/usr/local/lib/python3.10/dist-packages/xgboost/training.py:39: UserWarning: `feval` is deprecated, use `custom_metric` instead.  They have different behavior when custom objective is also used.See https://xgboost.readthedocs.io/en/latest/tutorials/custom_metric_obj.html for details on the `custom_metric`.\n",
            "/usr/local/lib/python3.10/dist-packages/xgboost/training.py:39: UserWarning: `feval` is deprecated, use `custom_metric` instead.  They have different behavior when custom objective is also used.See https://xgboost.readthedocs.io/en/latest/tutorials/custom_metric_obj.html for details on the `custom_metric`.\n",
            "/usr/local/lib/python3.10/dist-packages/xgboost/training.py:39: UserWarning: `feval` is deprecated, use `custom_metric` instead.  They have different behavior when custom objective is also used.See https://xgboost.readthedocs.io/en/latest/tutorials/custom_metric_obj.html for details on the `custom_metric`.\n",
            "/usr/local/lib/python3.10/dist-packages/xgboost/training.py:39: UserWarning: `feval` is deprecated, use `custom_metric` instead.  They have different behavior when custom objective is also used.See https://xgboost.readthedocs.io/en/latest/tutorials/custom_metric_obj.html for details on the `custom_metric`.\n",
            "/usr/local/lib/python3.10/dist-packages/xgboost/training.py:39: UserWarning: `feval` is deprecated, use `custom_metric` instead.  They have different behavior when custom objective is also used.See https://xgboost.readthedocs.io/en/latest/tutorials/custom_metric_obj.html for details on the `custom_metric`.\n",
            "/usr/local/lib/python3.10/dist-packages/xgboost/training.py:39: UserWarning: `feval` is deprecated, use `custom_metric` instead.  They have different behavior when custom objective is also used.See https://xgboost.readthedocs.io/en/latest/tutorials/custom_metric_obj.html for details on the `custom_metric`.\n",
            "/usr/local/lib/python3.10/dist-packages/xgboost/training.py:39: UserWarning: `feval` is deprecated, use `custom_metric` instead.  They have different behavior when custom objective is also used.See https://xgboost.readthedocs.io/en/latest/tutorials/custom_metric_obj.html for details on the `custom_metric`.\n",
            "/usr/local/lib/python3.10/dist-packages/xgboost/training.py:39: UserWarning: `feval` is deprecated, use `custom_metric` instead.  They have different behavior when custom objective is also used.See https://xgboost.readthedocs.io/en/latest/tutorials/custom_metric_obj.html for details on the `custom_metric`.\n"
          ]
        },
        {
          "output_type": "stream",
          "name": "stdout",
          "text": [
            "67_Xgboost_GoldenFeatures mse 7.965684 trained in 21.8 seconds\n",
            "68_LightGBM_GoldenFeatures_SelectedFeatures mse 7.976617 trained in 19.12 seconds\n",
            "69_LightGBM_GoldenFeatures_SelectedFeatures mse 7.976617 trained in 18.63 seconds\n"
          ]
        },
        {
          "output_type": "stream",
          "name": "stderr",
          "text": [
            "/usr/local/lib/python3.10/dist-packages/xgboost/training.py:39: UserWarning: `feval` is deprecated, use `custom_metric` instead.  They have different behavior when custom objective is also used.See https://xgboost.readthedocs.io/en/latest/tutorials/custom_metric_obj.html for details on the `custom_metric`.\n",
            "/usr/local/lib/python3.10/dist-packages/xgboost/training.py:39: UserWarning: `feval` is deprecated, use `custom_metric` instead.  They have different behavior when custom objective is also used.See https://xgboost.readthedocs.io/en/latest/tutorials/custom_metric_obj.html for details on the `custom_metric`.\n",
            "/usr/local/lib/python3.10/dist-packages/xgboost/training.py:39: UserWarning: `feval` is deprecated, use `custom_metric` instead.  They have different behavior when custom objective is also used.See https://xgboost.readthedocs.io/en/latest/tutorials/custom_metric_obj.html for details on the `custom_metric`.\n",
            "/usr/local/lib/python3.10/dist-packages/xgboost/training.py:39: UserWarning: `feval` is deprecated, use `custom_metric` instead.  They have different behavior when custom objective is also used.See https://xgboost.readthedocs.io/en/latest/tutorials/custom_metric_obj.html for details on the `custom_metric`.\n",
            "/usr/local/lib/python3.10/dist-packages/xgboost/training.py:39: UserWarning: `feval` is deprecated, use `custom_metric` instead.  They have different behavior when custom objective is also used.See https://xgboost.readthedocs.io/en/latest/tutorials/custom_metric_obj.html for details on the `custom_metric`.\n",
            "/usr/local/lib/python3.10/dist-packages/xgboost/training.py:39: UserWarning: `feval` is deprecated, use `custom_metric` instead.  They have different behavior when custom objective is also used.See https://xgboost.readthedocs.io/en/latest/tutorials/custom_metric_obj.html for details on the `custom_metric`.\n",
            "/usr/local/lib/python3.10/dist-packages/xgboost/training.py:39: UserWarning: `feval` is deprecated, use `custom_metric` instead.  They have different behavior when custom objective is also used.See https://xgboost.readthedocs.io/en/latest/tutorials/custom_metric_obj.html for details on the `custom_metric`.\n",
            "/usr/local/lib/python3.10/dist-packages/xgboost/training.py:39: UserWarning: `feval` is deprecated, use `custom_metric` instead.  They have different behavior when custom objective is also used.See https://xgboost.readthedocs.io/en/latest/tutorials/custom_metric_obj.html for details on the `custom_metric`.\n",
            "/usr/local/lib/python3.10/dist-packages/xgboost/training.py:39: UserWarning: `feval` is deprecated, use `custom_metric` instead.  They have different behavior when custom objective is also used.See https://xgboost.readthedocs.io/en/latest/tutorials/custom_metric_obj.html for details on the `custom_metric`.\n",
            "/usr/local/lib/python3.10/dist-packages/xgboost/training.py:39: UserWarning: `feval` is deprecated, use `custom_metric` instead.  They have different behavior when custom objective is also used.See https://xgboost.readthedocs.io/en/latest/tutorials/custom_metric_obj.html for details on the `custom_metric`.\n"
          ]
        },
        {
          "output_type": "stream",
          "name": "stdout",
          "text": [
            "70_Xgboost mse 8.097608 trained in 21.98 seconds\n"
          ]
        },
        {
          "output_type": "stream",
          "name": "stderr",
          "text": [
            "/usr/local/lib/python3.10/dist-packages/xgboost/training.py:39: UserWarning: `feval` is deprecated, use `custom_metric` instead.  They have different behavior when custom objective is also used.See https://xgboost.readthedocs.io/en/latest/tutorials/custom_metric_obj.html for details on the `custom_metric`.\n",
            "/usr/local/lib/python3.10/dist-packages/xgboost/training.py:39: UserWarning: `feval` is deprecated, use `custom_metric` instead.  They have different behavior when custom objective is also used.See https://xgboost.readthedocs.io/en/latest/tutorials/custom_metric_obj.html for details on the `custom_metric`.\n",
            "/usr/local/lib/python3.10/dist-packages/xgboost/training.py:39: UserWarning: `feval` is deprecated, use `custom_metric` instead.  They have different behavior when custom objective is also used.See https://xgboost.readthedocs.io/en/latest/tutorials/custom_metric_obj.html for details on the `custom_metric`.\n",
            "/usr/local/lib/python3.10/dist-packages/xgboost/training.py:39: UserWarning: `feval` is deprecated, use `custom_metric` instead.  They have different behavior when custom objective is also used.See https://xgboost.readthedocs.io/en/latest/tutorials/custom_metric_obj.html for details on the `custom_metric`.\n",
            "/usr/local/lib/python3.10/dist-packages/xgboost/training.py:39: UserWarning: `feval` is deprecated, use `custom_metric` instead.  They have different behavior when custom objective is also used.See https://xgboost.readthedocs.io/en/latest/tutorials/custom_metric_obj.html for details on the `custom_metric`.\n",
            "/usr/local/lib/python3.10/dist-packages/xgboost/training.py:39: UserWarning: `feval` is deprecated, use `custom_metric` instead.  They have different behavior when custom objective is also used.See https://xgboost.readthedocs.io/en/latest/tutorials/custom_metric_obj.html for details on the `custom_metric`.\n",
            "/usr/local/lib/python3.10/dist-packages/xgboost/training.py:39: UserWarning: `feval` is deprecated, use `custom_metric` instead.  They have different behavior when custom objective is also used.See https://xgboost.readthedocs.io/en/latest/tutorials/custom_metric_obj.html for details on the `custom_metric`.\n",
            "/usr/local/lib/python3.10/dist-packages/xgboost/training.py:39: UserWarning: `feval` is deprecated, use `custom_metric` instead.  They have different behavior when custom objective is also used.See https://xgboost.readthedocs.io/en/latest/tutorials/custom_metric_obj.html for details on the `custom_metric`.\n",
            "/usr/local/lib/python3.10/dist-packages/xgboost/training.py:39: UserWarning: `feval` is deprecated, use `custom_metric` instead.  They have different behavior when custom objective is also used.See https://xgboost.readthedocs.io/en/latest/tutorials/custom_metric_obj.html for details on the `custom_metric`.\n",
            "/usr/local/lib/python3.10/dist-packages/xgboost/training.py:39: UserWarning: `feval` is deprecated, use `custom_metric` instead.  They have different behavior when custom objective is also used.See https://xgboost.readthedocs.io/en/latest/tutorials/custom_metric_obj.html for details on the `custom_metric`.\n"
          ]
        },
        {
          "output_type": "stream",
          "name": "stdout",
          "text": [
            "71_Xgboost mse 8.092883 trained in 20.9 seconds\n",
            "72_LightGBM_GoldenFeatures mse 8.115245 trained in 19.72 seconds\n",
            "73_LightGBM_GoldenFeatures mse 8.115245 trained in 20.55 seconds\n",
            "74_LightGBM mse 8.172211 trained in 19.5 seconds\n",
            "75_LightGBM mse 8.172211 trained in 19.31 seconds\n",
            "76_RandomForest mse 8.355736 trained in 29.9 seconds\n",
            "77_NeuralNetwork mse 9.338263 trained in 21.06 seconds\n",
            "78_RandomForest mse 8.574802 trained in 30.51 seconds\n",
            "79_RandomForest mse 8.936606 trained in 29.41 seconds\n",
            "80_ExtraTrees mse 8.416499 trained in 26.95 seconds\n",
            "81_ExtraTrees mse 9.150764 trained in 28.83 seconds\n",
            "82_NeuralNetwork mse 9.403056 trained in 21.84 seconds\n",
            "83_ExtraTrees mse 9.003512 trained in 32.53 seconds\n",
            "84_ExtraTrees mse 8.867148 trained in 28.46 seconds\n",
            "85_RandomForest mse 8.548044 trained in 30.71 seconds\n",
            "86_RandomForest mse 9.14897 trained in 29.74 seconds\n",
            "87_ExtraTrees mse 9.261786 trained in 29.08 seconds\n",
            "88_NeuralNetwork mse 8.839702 trained in 22.88 seconds\n",
            "89_DecisionTree mse 11.18068 trained in 20.97 seconds\n",
            "90_DecisionTree mse 11.622426 trained in 21.06 seconds\n",
            "91_DecisionTree mse 11.622426 trained in 21.99 seconds\n",
            "* Step hill_climbing_2 will try to check up to 14 models\n"
          ]
        },
        {
          "output_type": "stream",
          "name": "stderr",
          "text": [
            "/usr/local/lib/python3.10/dist-packages/xgboost/training.py:39: UserWarning: `feval` is deprecated, use `custom_metric` instead.  They have different behavior when custom objective is also used.See https://xgboost.readthedocs.io/en/latest/tutorials/custom_metric_obj.html for details on the `custom_metric`.\n",
            "/usr/local/lib/python3.10/dist-packages/xgboost/training.py:39: UserWarning: `feval` is deprecated, use `custom_metric` instead.  They have different behavior when custom objective is also used.See https://xgboost.readthedocs.io/en/latest/tutorials/custom_metric_obj.html for details on the `custom_metric`.\n",
            "/usr/local/lib/python3.10/dist-packages/xgboost/training.py:39: UserWarning: `feval` is deprecated, use `custom_metric` instead.  They have different behavior when custom objective is also used.See https://xgboost.readthedocs.io/en/latest/tutorials/custom_metric_obj.html for details on the `custom_metric`.\n",
            "/usr/local/lib/python3.10/dist-packages/xgboost/training.py:39: UserWarning: `feval` is deprecated, use `custom_metric` instead.  They have different behavior when custom objective is also used.See https://xgboost.readthedocs.io/en/latest/tutorials/custom_metric_obj.html for details on the `custom_metric`.\n",
            "/usr/local/lib/python3.10/dist-packages/xgboost/training.py:39: UserWarning: `feval` is deprecated, use `custom_metric` instead.  They have different behavior when custom objective is also used.See https://xgboost.readthedocs.io/en/latest/tutorials/custom_metric_obj.html for details on the `custom_metric`.\n",
            "/usr/local/lib/python3.10/dist-packages/xgboost/training.py:39: UserWarning: `feval` is deprecated, use `custom_metric` instead.  They have different behavior when custom objective is also used.See https://xgboost.readthedocs.io/en/latest/tutorials/custom_metric_obj.html for details on the `custom_metric`.\n",
            "/usr/local/lib/python3.10/dist-packages/xgboost/training.py:39: UserWarning: `feval` is deprecated, use `custom_metric` instead.  They have different behavior when custom objective is also used.See https://xgboost.readthedocs.io/en/latest/tutorials/custom_metric_obj.html for details on the `custom_metric`.\n",
            "/usr/local/lib/python3.10/dist-packages/xgboost/training.py:39: UserWarning: `feval` is deprecated, use `custom_metric` instead.  They have different behavior when custom objective is also used.See https://xgboost.readthedocs.io/en/latest/tutorials/custom_metric_obj.html for details on the `custom_metric`.\n",
            "/usr/local/lib/python3.10/dist-packages/xgboost/training.py:39: UserWarning: `feval` is deprecated, use `custom_metric` instead.  They have different behavior when custom objective is also used.See https://xgboost.readthedocs.io/en/latest/tutorials/custom_metric_obj.html for details on the `custom_metric`.\n",
            "/usr/local/lib/python3.10/dist-packages/xgboost/training.py:39: UserWarning: `feval` is deprecated, use `custom_metric` instead.  They have different behavior when custom objective is also used.See https://xgboost.readthedocs.io/en/latest/tutorials/custom_metric_obj.html for details on the `custom_metric`.\n"
          ]
        },
        {
          "output_type": "stream",
          "name": "stdout",
          "text": [
            "92_Xgboost_GoldenFeatures_SelectedFeatures mse 7.652516 trained in 24.66 seconds\n"
          ]
        },
        {
          "output_type": "stream",
          "name": "stderr",
          "text": [
            "/usr/local/lib/python3.10/dist-packages/xgboost/training.py:39: UserWarning: `feval` is deprecated, use `custom_metric` instead.  They have different behavior when custom objective is also used.See https://xgboost.readthedocs.io/en/latest/tutorials/custom_metric_obj.html for details on the `custom_metric`.\n",
            "/usr/local/lib/python3.10/dist-packages/xgboost/training.py:39: UserWarning: `feval` is deprecated, use `custom_metric` instead.  They have different behavior when custom objective is also used.See https://xgboost.readthedocs.io/en/latest/tutorials/custom_metric_obj.html for details on the `custom_metric`.\n",
            "/usr/local/lib/python3.10/dist-packages/xgboost/training.py:39: UserWarning: `feval` is deprecated, use `custom_metric` instead.  They have different behavior when custom objective is also used.See https://xgboost.readthedocs.io/en/latest/tutorials/custom_metric_obj.html for details on the `custom_metric`.\n",
            "/usr/local/lib/python3.10/dist-packages/xgboost/training.py:39: UserWarning: `feval` is deprecated, use `custom_metric` instead.  They have different behavior when custom objective is also used.See https://xgboost.readthedocs.io/en/latest/tutorials/custom_metric_obj.html for details on the `custom_metric`.\n",
            "/usr/local/lib/python3.10/dist-packages/xgboost/training.py:39: UserWarning: `feval` is deprecated, use `custom_metric` instead.  They have different behavior when custom objective is also used.See https://xgboost.readthedocs.io/en/latest/tutorials/custom_metric_obj.html for details on the `custom_metric`.\n",
            "/usr/local/lib/python3.10/dist-packages/xgboost/training.py:39: UserWarning: `feval` is deprecated, use `custom_metric` instead.  They have different behavior when custom objective is also used.See https://xgboost.readthedocs.io/en/latest/tutorials/custom_metric_obj.html for details on the `custom_metric`.\n",
            "/usr/local/lib/python3.10/dist-packages/xgboost/training.py:39: UserWarning: `feval` is deprecated, use `custom_metric` instead.  They have different behavior when custom objective is also used.See https://xgboost.readthedocs.io/en/latest/tutorials/custom_metric_obj.html for details on the `custom_metric`.\n",
            "/usr/local/lib/python3.10/dist-packages/xgboost/training.py:39: UserWarning: `feval` is deprecated, use `custom_metric` instead.  They have different behavior when custom objective is also used.See https://xgboost.readthedocs.io/en/latest/tutorials/custom_metric_obj.html for details on the `custom_metric`.\n",
            "/usr/local/lib/python3.10/dist-packages/xgboost/training.py:39: UserWarning: `feval` is deprecated, use `custom_metric` instead.  They have different behavior when custom objective is also used.See https://xgboost.readthedocs.io/en/latest/tutorials/custom_metric_obj.html for details on the `custom_metric`.\n",
            "/usr/local/lib/python3.10/dist-packages/xgboost/training.py:39: UserWarning: `feval` is deprecated, use `custom_metric` instead.  They have different behavior when custom objective is also used.See https://xgboost.readthedocs.io/en/latest/tutorials/custom_metric_obj.html for details on the `custom_metric`.\n"
          ]
        },
        {
          "output_type": "stream",
          "name": "stdout",
          "text": [
            "93_Xgboost_GoldenFeatures_SelectedFeatures mse 7.759465 trained in 24.71 seconds\n"
          ]
        },
        {
          "output_type": "stream",
          "name": "stderr",
          "text": [
            "/usr/local/lib/python3.10/dist-packages/xgboost/training.py:39: UserWarning: `feval` is deprecated, use `custom_metric` instead.  They have different behavior when custom objective is also used.See https://xgboost.readthedocs.io/en/latest/tutorials/custom_metric_obj.html for details on the `custom_metric`.\n",
            "/usr/local/lib/python3.10/dist-packages/xgboost/training.py:39: UserWarning: `feval` is deprecated, use `custom_metric` instead.  They have different behavior when custom objective is also used.See https://xgboost.readthedocs.io/en/latest/tutorials/custom_metric_obj.html for details on the `custom_metric`.\n",
            "/usr/local/lib/python3.10/dist-packages/xgboost/training.py:39: UserWarning: `feval` is deprecated, use `custom_metric` instead.  They have different behavior when custom objective is also used.See https://xgboost.readthedocs.io/en/latest/tutorials/custom_metric_obj.html for details on the `custom_metric`.\n",
            "/usr/local/lib/python3.10/dist-packages/xgboost/training.py:39: UserWarning: `feval` is deprecated, use `custom_metric` instead.  They have different behavior when custom objective is also used.See https://xgboost.readthedocs.io/en/latest/tutorials/custom_metric_obj.html for details on the `custom_metric`.\n",
            "/usr/local/lib/python3.10/dist-packages/xgboost/training.py:39: UserWarning: `feval` is deprecated, use `custom_metric` instead.  They have different behavior when custom objective is also used.See https://xgboost.readthedocs.io/en/latest/tutorials/custom_metric_obj.html for details on the `custom_metric`.\n",
            "/usr/local/lib/python3.10/dist-packages/xgboost/training.py:39: UserWarning: `feval` is deprecated, use `custom_metric` instead.  They have different behavior when custom objective is also used.See https://xgboost.readthedocs.io/en/latest/tutorials/custom_metric_obj.html for details on the `custom_metric`.\n",
            "/usr/local/lib/python3.10/dist-packages/xgboost/training.py:39: UserWarning: `feval` is deprecated, use `custom_metric` instead.  They have different behavior when custom objective is also used.See https://xgboost.readthedocs.io/en/latest/tutorials/custom_metric_obj.html for details on the `custom_metric`.\n",
            "/usr/local/lib/python3.10/dist-packages/xgboost/training.py:39: UserWarning: `feval` is deprecated, use `custom_metric` instead.  They have different behavior when custom objective is also used.See https://xgboost.readthedocs.io/en/latest/tutorials/custom_metric_obj.html for details on the `custom_metric`.\n",
            "/usr/local/lib/python3.10/dist-packages/xgboost/training.py:39: UserWarning: `feval` is deprecated, use `custom_metric` instead.  They have different behavior when custom objective is also used.See https://xgboost.readthedocs.io/en/latest/tutorials/custom_metric_obj.html for details on the `custom_metric`.\n",
            "/usr/local/lib/python3.10/dist-packages/xgboost/training.py:39: UserWarning: `feval` is deprecated, use `custom_metric` instead.  They have different behavior when custom objective is also used.See https://xgboost.readthedocs.io/en/latest/tutorials/custom_metric_obj.html for details on the `custom_metric`.\n"
          ]
        },
        {
          "output_type": "stream",
          "name": "stdout",
          "text": [
            "94_Xgboost_GoldenFeatures_SelectedFeatures mse 7.742672 trained in 24.89 seconds\n"
          ]
        },
        {
          "output_type": "stream",
          "name": "stderr",
          "text": [
            "/usr/local/lib/python3.10/dist-packages/xgboost/training.py:39: UserWarning: `feval` is deprecated, use `custom_metric` instead.  They have different behavior when custom objective is also used.See https://xgboost.readthedocs.io/en/latest/tutorials/custom_metric_obj.html for details on the `custom_metric`.\n",
            "/usr/local/lib/python3.10/dist-packages/xgboost/training.py:39: UserWarning: `feval` is deprecated, use `custom_metric` instead.  They have different behavior when custom objective is also used.See https://xgboost.readthedocs.io/en/latest/tutorials/custom_metric_obj.html for details on the `custom_metric`.\n",
            "/usr/local/lib/python3.10/dist-packages/xgboost/training.py:39: UserWarning: `feval` is deprecated, use `custom_metric` instead.  They have different behavior when custom objective is also used.See https://xgboost.readthedocs.io/en/latest/tutorials/custom_metric_obj.html for details on the `custom_metric`.\n",
            "/usr/local/lib/python3.10/dist-packages/xgboost/training.py:39: UserWarning: `feval` is deprecated, use `custom_metric` instead.  They have different behavior when custom objective is also used.See https://xgboost.readthedocs.io/en/latest/tutorials/custom_metric_obj.html for details on the `custom_metric`.\n",
            "/usr/local/lib/python3.10/dist-packages/xgboost/training.py:39: UserWarning: `feval` is deprecated, use `custom_metric` instead.  They have different behavior when custom objective is also used.See https://xgboost.readthedocs.io/en/latest/tutorials/custom_metric_obj.html for details on the `custom_metric`.\n",
            "/usr/local/lib/python3.10/dist-packages/xgboost/training.py:39: UserWarning: `feval` is deprecated, use `custom_metric` instead.  They have different behavior when custom objective is also used.See https://xgboost.readthedocs.io/en/latest/tutorials/custom_metric_obj.html for details on the `custom_metric`.\n",
            "/usr/local/lib/python3.10/dist-packages/xgboost/training.py:39: UserWarning: `feval` is deprecated, use `custom_metric` instead.  They have different behavior when custom objective is also used.See https://xgboost.readthedocs.io/en/latest/tutorials/custom_metric_obj.html for details on the `custom_metric`.\n",
            "/usr/local/lib/python3.10/dist-packages/xgboost/training.py:39: UserWarning: `feval` is deprecated, use `custom_metric` instead.  They have different behavior when custom objective is also used.See https://xgboost.readthedocs.io/en/latest/tutorials/custom_metric_obj.html for details on the `custom_metric`.\n",
            "/usr/local/lib/python3.10/dist-packages/xgboost/training.py:39: UserWarning: `feval` is deprecated, use `custom_metric` instead.  They have different behavior when custom objective is also used.See https://xgboost.readthedocs.io/en/latest/tutorials/custom_metric_obj.html for details on the `custom_metric`.\n",
            "/usr/local/lib/python3.10/dist-packages/xgboost/training.py:39: UserWarning: `feval` is deprecated, use `custom_metric` instead.  They have different behavior when custom objective is also used.See https://xgboost.readthedocs.io/en/latest/tutorials/custom_metric_obj.html for details on the `custom_metric`.\n"
          ]
        },
        {
          "output_type": "stream",
          "name": "stdout",
          "text": [
            "95_Xgboost_GoldenFeatures_SelectedFeatures mse 7.788132 trained in 25.05 seconds\n"
          ]
        },
        {
          "output_type": "stream",
          "name": "stderr",
          "text": [
            "/usr/local/lib/python3.10/dist-packages/xgboost/training.py:39: UserWarning: `feval` is deprecated, use `custom_metric` instead.  They have different behavior when custom objective is also used.See https://xgboost.readthedocs.io/en/latest/tutorials/custom_metric_obj.html for details on the `custom_metric`.\n",
            "/usr/local/lib/python3.10/dist-packages/xgboost/training.py:39: UserWarning: `feval` is deprecated, use `custom_metric` instead.  They have different behavior when custom objective is also used.See https://xgboost.readthedocs.io/en/latest/tutorials/custom_metric_obj.html for details on the `custom_metric`.\n",
            "/usr/local/lib/python3.10/dist-packages/xgboost/training.py:39: UserWarning: `feval` is deprecated, use `custom_metric` instead.  They have different behavior when custom objective is also used.See https://xgboost.readthedocs.io/en/latest/tutorials/custom_metric_obj.html for details on the `custom_metric`.\n",
            "/usr/local/lib/python3.10/dist-packages/xgboost/training.py:39: UserWarning: `feval` is deprecated, use `custom_metric` instead.  They have different behavior when custom objective is also used.See https://xgboost.readthedocs.io/en/latest/tutorials/custom_metric_obj.html for details on the `custom_metric`.\n",
            "/usr/local/lib/python3.10/dist-packages/xgboost/training.py:39: UserWarning: `feval` is deprecated, use `custom_metric` instead.  They have different behavior when custom objective is also used.See https://xgboost.readthedocs.io/en/latest/tutorials/custom_metric_obj.html for details on the `custom_metric`.\n",
            "/usr/local/lib/python3.10/dist-packages/xgboost/training.py:39: UserWarning: `feval` is deprecated, use `custom_metric` instead.  They have different behavior when custom objective is also used.See https://xgboost.readthedocs.io/en/latest/tutorials/custom_metric_obj.html for details on the `custom_metric`.\n",
            "/usr/local/lib/python3.10/dist-packages/xgboost/training.py:39: UserWarning: `feval` is deprecated, use `custom_metric` instead.  They have different behavior when custom objective is also used.See https://xgboost.readthedocs.io/en/latest/tutorials/custom_metric_obj.html for details on the `custom_metric`.\n",
            "/usr/local/lib/python3.10/dist-packages/xgboost/training.py:39: UserWarning: `feval` is deprecated, use `custom_metric` instead.  They have different behavior when custom objective is also used.See https://xgboost.readthedocs.io/en/latest/tutorials/custom_metric_obj.html for details on the `custom_metric`.\n",
            "/usr/local/lib/python3.10/dist-packages/xgboost/training.py:39: UserWarning: `feval` is deprecated, use `custom_metric` instead.  They have different behavior when custom objective is also used.See https://xgboost.readthedocs.io/en/latest/tutorials/custom_metric_obj.html for details on the `custom_metric`.\n",
            "/usr/local/lib/python3.10/dist-packages/xgboost/training.py:39: UserWarning: `feval` is deprecated, use `custom_metric` instead.  They have different behavior when custom objective is also used.See https://xgboost.readthedocs.io/en/latest/tutorials/custom_metric_obj.html for details on the `custom_metric`.\n"
          ]
        },
        {
          "output_type": "stream",
          "name": "stdout",
          "text": [
            "96_Xgboost_GoldenFeatures_SelectedFeatures mse 7.831232 trained in 25.96 seconds\n"
          ]
        },
        {
          "output_type": "stream",
          "name": "stderr",
          "text": [
            "/usr/local/lib/python3.10/dist-packages/xgboost/training.py:39: UserWarning: `feval` is deprecated, use `custom_metric` instead.  They have different behavior when custom objective is also used.See https://xgboost.readthedocs.io/en/latest/tutorials/custom_metric_obj.html for details on the `custom_metric`.\n",
            "/usr/local/lib/python3.10/dist-packages/xgboost/training.py:39: UserWarning: `feval` is deprecated, use `custom_metric` instead.  They have different behavior when custom objective is also used.See https://xgboost.readthedocs.io/en/latest/tutorials/custom_metric_obj.html for details on the `custom_metric`.\n",
            "/usr/local/lib/python3.10/dist-packages/xgboost/training.py:39: UserWarning: `feval` is deprecated, use `custom_metric` instead.  They have different behavior when custom objective is also used.See https://xgboost.readthedocs.io/en/latest/tutorials/custom_metric_obj.html for details on the `custom_metric`.\n",
            "/usr/local/lib/python3.10/dist-packages/xgboost/training.py:39: UserWarning: `feval` is deprecated, use `custom_metric` instead.  They have different behavior when custom objective is also used.See https://xgboost.readthedocs.io/en/latest/tutorials/custom_metric_obj.html for details on the `custom_metric`.\n",
            "/usr/local/lib/python3.10/dist-packages/xgboost/training.py:39: UserWarning: `feval` is deprecated, use `custom_metric` instead.  They have different behavior when custom objective is also used.See https://xgboost.readthedocs.io/en/latest/tutorials/custom_metric_obj.html for details on the `custom_metric`.\n",
            "/usr/local/lib/python3.10/dist-packages/xgboost/training.py:39: UserWarning: `feval` is deprecated, use `custom_metric` instead.  They have different behavior when custom objective is also used.See https://xgboost.readthedocs.io/en/latest/tutorials/custom_metric_obj.html for details on the `custom_metric`.\n",
            "/usr/local/lib/python3.10/dist-packages/xgboost/training.py:39: UserWarning: `feval` is deprecated, use `custom_metric` instead.  They have different behavior when custom objective is also used.See https://xgboost.readthedocs.io/en/latest/tutorials/custom_metric_obj.html for details on the `custom_metric`.\n",
            "/usr/local/lib/python3.10/dist-packages/xgboost/training.py:39: UserWarning: `feval` is deprecated, use `custom_metric` instead.  They have different behavior when custom objective is also used.See https://xgboost.readthedocs.io/en/latest/tutorials/custom_metric_obj.html for details on the `custom_metric`.\n",
            "/usr/local/lib/python3.10/dist-packages/xgboost/training.py:39: UserWarning: `feval` is deprecated, use `custom_metric` instead.  They have different behavior when custom objective is also used.See https://xgboost.readthedocs.io/en/latest/tutorials/custom_metric_obj.html for details on the `custom_metric`.\n",
            "/usr/local/lib/python3.10/dist-packages/xgboost/training.py:39: UserWarning: `feval` is deprecated, use `custom_metric` instead.  They have different behavior when custom objective is also used.See https://xgboost.readthedocs.io/en/latest/tutorials/custom_metric_obj.html for details on the `custom_metric`.\n"
          ]
        },
        {
          "output_type": "stream",
          "name": "stdout",
          "text": [
            "97_Xgboost_GoldenFeatures_SelectedFeatures mse 7.90303 trained in 25.98 seconds\n",
            "98_LightGBM_GoldenFeatures_SelectedFeatures mse 8.056339 trained in 24.17 seconds\n",
            "99_LightGBM_GoldenFeatures_SelectedFeatures mse 8.056339 trained in 24.26 seconds\n",
            "100_LightGBM_GoldenFeatures_SelectedFeatures mse 8.056339 trained in 24.64 seconds\n",
            "101_RandomForest mse 8.445047 trained in 33.38 seconds\n",
            "102_ExtraTrees mse 8.658928 trained in 31.37 seconds\n",
            "103_NeuralNetwork mse 9.708577 trained in 24.89 seconds\n",
            "104_DecisionTree mse 11.045786 trained in 23.7 seconds\n",
            "105_DecisionTree mse 11.045786 trained in 24.01 seconds\n",
            "* Step boost_on_errors will try to check up to 1 model\n"
          ]
        },
        {
          "output_type": "stream",
          "name": "stderr",
          "text": [
            "/usr/local/lib/python3.10/dist-packages/xgboost/training.py:39: UserWarning: `feval` is deprecated, use `custom_metric` instead.  They have different behavior when custom objective is also used.See https://xgboost.readthedocs.io/en/latest/tutorials/custom_metric_obj.html for details on the `custom_metric`.\n",
            "/usr/local/lib/python3.10/dist-packages/xgboost/training.py:39: UserWarning: `feval` is deprecated, use `custom_metric` instead.  They have different behavior when custom objective is also used.See https://xgboost.readthedocs.io/en/latest/tutorials/custom_metric_obj.html for details on the `custom_metric`.\n",
            "/usr/local/lib/python3.10/dist-packages/xgboost/training.py:39: UserWarning: `feval` is deprecated, use `custom_metric` instead.  They have different behavior when custom objective is also used.See https://xgboost.readthedocs.io/en/latest/tutorials/custom_metric_obj.html for details on the `custom_metric`.\n",
            "/usr/local/lib/python3.10/dist-packages/xgboost/training.py:39: UserWarning: `feval` is deprecated, use `custom_metric` instead.  They have different behavior when custom objective is also used.See https://xgboost.readthedocs.io/en/latest/tutorials/custom_metric_obj.html for details on the `custom_metric`.\n",
            "/usr/local/lib/python3.10/dist-packages/xgboost/training.py:39: UserWarning: `feval` is deprecated, use `custom_metric` instead.  They have different behavior when custom objective is also used.See https://xgboost.readthedocs.io/en/latest/tutorials/custom_metric_obj.html for details on the `custom_metric`.\n",
            "/usr/local/lib/python3.10/dist-packages/xgboost/training.py:39: UserWarning: `feval` is deprecated, use `custom_metric` instead.  They have different behavior when custom objective is also used.See https://xgboost.readthedocs.io/en/latest/tutorials/custom_metric_obj.html for details on the `custom_metric`.\n",
            "/usr/local/lib/python3.10/dist-packages/xgboost/training.py:39: UserWarning: `feval` is deprecated, use `custom_metric` instead.  They have different behavior when custom objective is also used.See https://xgboost.readthedocs.io/en/latest/tutorials/custom_metric_obj.html for details on the `custom_metric`.\n",
            "/usr/local/lib/python3.10/dist-packages/xgboost/training.py:39: UserWarning: `feval` is deprecated, use `custom_metric` instead.  They have different behavior when custom objective is also used.See https://xgboost.readthedocs.io/en/latest/tutorials/custom_metric_obj.html for details on the `custom_metric`.\n",
            "/usr/local/lib/python3.10/dist-packages/xgboost/training.py:39: UserWarning: `feval` is deprecated, use `custom_metric` instead.  They have different behavior when custom objective is also used.See https://xgboost.readthedocs.io/en/latest/tutorials/custom_metric_obj.html for details on the `custom_metric`.\n",
            "/usr/local/lib/python3.10/dist-packages/xgboost/training.py:39: UserWarning: `feval` is deprecated, use `custom_metric` instead.  They have different behavior when custom objective is also used.See https://xgboost.readthedocs.io/en/latest/tutorials/custom_metric_obj.html for details on the `custom_metric`.\n"
          ]
        },
        {
          "output_type": "stream",
          "name": "stdout",
          "text": [
            "65_Xgboost_GoldenFeatures_SelectedFeatures_BoostOnErrors mse 7.737888 trained in 27.16 seconds\n",
            "* Step ensemble will try to check up to 1 model\n",
            "Ensemble mse 7.562591 trained in 39.28 seconds\n",
            "* Step stack will try to check up to 49 models\n"
          ]
        },
        {
          "output_type": "stream",
          "name": "stderr",
          "text": [
            "/usr/local/lib/python3.10/dist-packages/xgboost/training.py:39: UserWarning: `feval` is deprecated, use `custom_metric` instead.  They have different behavior when custom objective is also used.See https://xgboost.readthedocs.io/en/latest/tutorials/custom_metric_obj.html for details on the `custom_metric`.\n",
            "/usr/local/lib/python3.10/dist-packages/xgboost/training.py:39: UserWarning: `feval` is deprecated, use `custom_metric` instead.  They have different behavior when custom objective is also used.See https://xgboost.readthedocs.io/en/latest/tutorials/custom_metric_obj.html for details on the `custom_metric`.\n",
            "/usr/local/lib/python3.10/dist-packages/xgboost/training.py:39: UserWarning: `feval` is deprecated, use `custom_metric` instead.  They have different behavior when custom objective is also used.See https://xgboost.readthedocs.io/en/latest/tutorials/custom_metric_obj.html for details on the `custom_metric`.\n",
            "/usr/local/lib/python3.10/dist-packages/xgboost/training.py:39: UserWarning: `feval` is deprecated, use `custom_metric` instead.  They have different behavior when custom objective is also used.See https://xgboost.readthedocs.io/en/latest/tutorials/custom_metric_obj.html for details on the `custom_metric`.\n",
            "/usr/local/lib/python3.10/dist-packages/xgboost/training.py:39: UserWarning: `feval` is deprecated, use `custom_metric` instead.  They have different behavior when custom objective is also used.See https://xgboost.readthedocs.io/en/latest/tutorials/custom_metric_obj.html for details on the `custom_metric`.\n",
            "/usr/local/lib/python3.10/dist-packages/xgboost/training.py:39: UserWarning: `feval` is deprecated, use `custom_metric` instead.  They have different behavior when custom objective is also used.See https://xgboost.readthedocs.io/en/latest/tutorials/custom_metric_obj.html for details on the `custom_metric`.\n",
            "/usr/local/lib/python3.10/dist-packages/xgboost/training.py:39: UserWarning: `feval` is deprecated, use `custom_metric` instead.  They have different behavior when custom objective is also used.See https://xgboost.readthedocs.io/en/latest/tutorials/custom_metric_obj.html for details on the `custom_metric`.\n",
            "/usr/local/lib/python3.10/dist-packages/xgboost/training.py:39: UserWarning: `feval` is deprecated, use `custom_metric` instead.  They have different behavior when custom objective is also used.See https://xgboost.readthedocs.io/en/latest/tutorials/custom_metric_obj.html for details on the `custom_metric`.\n",
            "/usr/local/lib/python3.10/dist-packages/xgboost/training.py:39: UserWarning: `feval` is deprecated, use `custom_metric` instead.  They have different behavior when custom objective is also used.See https://xgboost.readthedocs.io/en/latest/tutorials/custom_metric_obj.html for details on the `custom_metric`.\n",
            "/usr/local/lib/python3.10/dist-packages/xgboost/training.py:39: UserWarning: `feval` is deprecated, use `custom_metric` instead.  They have different behavior when custom objective is also used.See https://xgboost.readthedocs.io/en/latest/tutorials/custom_metric_obj.html for details on the `custom_metric`.\n"
          ]
        },
        {
          "output_type": "stream",
          "name": "stdout",
          "text": [
            "65_Xgboost_GoldenFeatures_SelectedFeatures_Stacked mse 7.704346 trained in 35.95 seconds\n",
            "68_LightGBM_GoldenFeatures_SelectedFeatures_Stacked mse 7.567208 trained in 30.68 seconds\n",
            "38_RandomForest_Stacked mse 7.608646 trained in 81.85 seconds\n",
            "80_ExtraTrees_Stacked mse 7.901741 trained in 91.03 seconds\n",
            "52_NeuralNetwork_Stacked mse 9.63794 trained in 41.08 seconds\n"
          ]
        },
        {
          "output_type": "stream",
          "name": "stderr",
          "text": [
            "/usr/local/lib/python3.10/dist-packages/xgboost/training.py:39: UserWarning: `feval` is deprecated, use `custom_metric` instead.  They have different behavior when custom objective is also used.See https://xgboost.readthedocs.io/en/latest/tutorials/custom_metric_obj.html for details on the `custom_metric`.\n",
            "/usr/local/lib/python3.10/dist-packages/xgboost/training.py:39: UserWarning: `feval` is deprecated, use `custom_metric` instead.  They have different behavior when custom objective is also used.See https://xgboost.readthedocs.io/en/latest/tutorials/custom_metric_obj.html for details on the `custom_metric`.\n",
            "/usr/local/lib/python3.10/dist-packages/xgboost/training.py:39: UserWarning: `feval` is deprecated, use `custom_metric` instead.  They have different behavior when custom objective is also used.See https://xgboost.readthedocs.io/en/latest/tutorials/custom_metric_obj.html for details on the `custom_metric`.\n",
            "/usr/local/lib/python3.10/dist-packages/xgboost/training.py:39: UserWarning: `feval` is deprecated, use `custom_metric` instead.  They have different behavior when custom objective is also used.See https://xgboost.readthedocs.io/en/latest/tutorials/custom_metric_obj.html for details on the `custom_metric`.\n",
            "/usr/local/lib/python3.10/dist-packages/xgboost/training.py:39: UserWarning: `feval` is deprecated, use `custom_metric` instead.  They have different behavior when custom objective is also used.See https://xgboost.readthedocs.io/en/latest/tutorials/custom_metric_obj.html for details on the `custom_metric`.\n",
            "/usr/local/lib/python3.10/dist-packages/xgboost/training.py:39: UserWarning: `feval` is deprecated, use `custom_metric` instead.  They have different behavior when custom objective is also used.See https://xgboost.readthedocs.io/en/latest/tutorials/custom_metric_obj.html for details on the `custom_metric`.\n",
            "/usr/local/lib/python3.10/dist-packages/xgboost/training.py:39: UserWarning: `feval` is deprecated, use `custom_metric` instead.  They have different behavior when custom objective is also used.See https://xgboost.readthedocs.io/en/latest/tutorials/custom_metric_obj.html for details on the `custom_metric`.\n",
            "/usr/local/lib/python3.10/dist-packages/xgboost/training.py:39: UserWarning: `feval` is deprecated, use `custom_metric` instead.  They have different behavior when custom objective is also used.See https://xgboost.readthedocs.io/en/latest/tutorials/custom_metric_obj.html for details on the `custom_metric`.\n",
            "/usr/local/lib/python3.10/dist-packages/xgboost/training.py:39: UserWarning: `feval` is deprecated, use `custom_metric` instead.  They have different behavior when custom objective is also used.See https://xgboost.readthedocs.io/en/latest/tutorials/custom_metric_obj.html for details on the `custom_metric`.\n",
            "/usr/local/lib/python3.10/dist-packages/xgboost/training.py:39: UserWarning: `feval` is deprecated, use `custom_metric` instead.  They have different behavior when custom objective is also used.See https://xgboost.readthedocs.io/en/latest/tutorials/custom_metric_obj.html for details on the `custom_metric`.\n"
          ]
        },
        {
          "output_type": "stream",
          "name": "stdout",
          "text": [
            "92_Xgboost_GoldenFeatures_SelectedFeatures_Stacked mse 7.68004 trained in 37.7 seconds\n",
            "69_LightGBM_GoldenFeatures_SelectedFeatures_Stacked mse 7.567208 trained in 32.74 seconds\n",
            "76_RandomForest_Stacked mse 7.826638 trained in 102.69 seconds\n",
            "102_ExtraTrees_Stacked mse 7.64162 trained in 91.51 seconds\n",
            "49_NeuralNetwork_Stacked mse 9.219046 trained in 41.22 seconds\n"
          ]
        },
        {
          "output_type": "stream",
          "name": "stderr",
          "text": [
            "/usr/local/lib/python3.10/dist-packages/xgboost/training.py:39: UserWarning: `feval` is deprecated, use `custom_metric` instead.  They have different behavior when custom objective is also used.See https://xgboost.readthedocs.io/en/latest/tutorials/custom_metric_obj.html for details on the `custom_metric`.\n",
            "/usr/local/lib/python3.10/dist-packages/xgboost/training.py:39: UserWarning: `feval` is deprecated, use `custom_metric` instead.  They have different behavior when custom objective is also used.See https://xgboost.readthedocs.io/en/latest/tutorials/custom_metric_obj.html for details on the `custom_metric`.\n",
            "/usr/local/lib/python3.10/dist-packages/xgboost/training.py:39: UserWarning: `feval` is deprecated, use `custom_metric` instead.  They have different behavior when custom objective is also used.See https://xgboost.readthedocs.io/en/latest/tutorials/custom_metric_obj.html for details on the `custom_metric`.\n",
            "/usr/local/lib/python3.10/dist-packages/xgboost/training.py:39: UserWarning: `feval` is deprecated, use `custom_metric` instead.  They have different behavior when custom objective is also used.See https://xgboost.readthedocs.io/en/latest/tutorials/custom_metric_obj.html for details on the `custom_metric`.\n",
            "/usr/local/lib/python3.10/dist-packages/xgboost/training.py:39: UserWarning: `feval` is deprecated, use `custom_metric` instead.  They have different behavior when custom objective is also used.See https://xgboost.readthedocs.io/en/latest/tutorials/custom_metric_obj.html for details on the `custom_metric`.\n",
            "/usr/local/lib/python3.10/dist-packages/xgboost/training.py:39: UserWarning: `feval` is deprecated, use `custom_metric` instead.  They have different behavior when custom objective is also used.See https://xgboost.readthedocs.io/en/latest/tutorials/custom_metric_obj.html for details on the `custom_metric`.\n",
            "/usr/local/lib/python3.10/dist-packages/xgboost/training.py:39: UserWarning: `feval` is deprecated, use `custom_metric` instead.  They have different behavior when custom objective is also used.See https://xgboost.readthedocs.io/en/latest/tutorials/custom_metric_obj.html for details on the `custom_metric`.\n",
            "/usr/local/lib/python3.10/dist-packages/xgboost/training.py:39: UserWarning: `feval` is deprecated, use `custom_metric` instead.  They have different behavior when custom objective is also used.See https://xgboost.readthedocs.io/en/latest/tutorials/custom_metric_obj.html for details on the `custom_metric`.\n",
            "/usr/local/lib/python3.10/dist-packages/xgboost/training.py:39: UserWarning: `feval` is deprecated, use `custom_metric` instead.  They have different behavior when custom objective is also used.See https://xgboost.readthedocs.io/en/latest/tutorials/custom_metric_obj.html for details on the `custom_metric`.\n",
            "/usr/local/lib/python3.10/dist-packages/xgboost/training.py:39: UserWarning: `feval` is deprecated, use `custom_metric` instead.  They have different behavior when custom objective is also used.See https://xgboost.readthedocs.io/en/latest/tutorials/custom_metric_obj.html for details on the `custom_metric`.\n"
          ]
        },
        {
          "output_type": "stream",
          "name": "stdout",
          "text": [
            "14_Xgboost_GoldenFeatures_SelectedFeatures_Stacked mse 7.752039 trained in 38.07 seconds\n",
            "25_LightGBM_GoldenFeatures_SelectedFeatures_Stacked mse 7.567208 trained in 33.52 seconds\n",
            "101_RandomForest_Stacked mse 7.469988 trained in 95.46 seconds\n",
            "44_ExtraTrees_Stacked mse 7.768221 trained in 87.43 seconds\n",
            "88_NeuralNetwork_Stacked mse 16.496361 trained in 40.83 seconds\n"
          ]
        },
        {
          "output_type": "stream",
          "name": "stderr",
          "text": [
            "/usr/local/lib/python3.10/dist-packages/xgboost/training.py:39: UserWarning: `feval` is deprecated, use `custom_metric` instead.  They have different behavior when custom objective is also used.See https://xgboost.readthedocs.io/en/latest/tutorials/custom_metric_obj.html for details on the `custom_metric`.\n",
            "/usr/local/lib/python3.10/dist-packages/xgboost/training.py:39: UserWarning: `feval` is deprecated, use `custom_metric` instead.  They have different behavior when custom objective is also used.See https://xgboost.readthedocs.io/en/latest/tutorials/custom_metric_obj.html for details on the `custom_metric`.\n",
            "/usr/local/lib/python3.10/dist-packages/xgboost/training.py:39: UserWarning: `feval` is deprecated, use `custom_metric` instead.  They have different behavior when custom objective is also used.See https://xgboost.readthedocs.io/en/latest/tutorials/custom_metric_obj.html for details on the `custom_metric`.\n",
            "/usr/local/lib/python3.10/dist-packages/xgboost/training.py:39: UserWarning: `feval` is deprecated, use `custom_metric` instead.  They have different behavior when custom objective is also used.See https://xgboost.readthedocs.io/en/latest/tutorials/custom_metric_obj.html for details on the `custom_metric`.\n",
            "/usr/local/lib/python3.10/dist-packages/xgboost/training.py:39: UserWarning: `feval` is deprecated, use `custom_metric` instead.  They have different behavior when custom objective is also used.See https://xgboost.readthedocs.io/en/latest/tutorials/custom_metric_obj.html for details on the `custom_metric`.\n",
            "/usr/local/lib/python3.10/dist-packages/xgboost/training.py:39: UserWarning: `feval` is deprecated, use `custom_metric` instead.  They have different behavior when custom objective is also used.See https://xgboost.readthedocs.io/en/latest/tutorials/custom_metric_obj.html for details on the `custom_metric`.\n",
            "/usr/local/lib/python3.10/dist-packages/xgboost/training.py:39: UserWarning: `feval` is deprecated, use `custom_metric` instead.  They have different behavior when custom objective is also used.See https://xgboost.readthedocs.io/en/latest/tutorials/custom_metric_obj.html for details on the `custom_metric`.\n",
            "/usr/local/lib/python3.10/dist-packages/xgboost/training.py:39: UserWarning: `feval` is deprecated, use `custom_metric` instead.  They have different behavior when custom objective is also used.See https://xgboost.readthedocs.io/en/latest/tutorials/custom_metric_obj.html for details on the `custom_metric`.\n",
            "/usr/local/lib/python3.10/dist-packages/xgboost/training.py:39: UserWarning: `feval` is deprecated, use `custom_metric` instead.  They have different behavior when custom objective is also used.See https://xgboost.readthedocs.io/en/latest/tutorials/custom_metric_obj.html for details on the `custom_metric`.\n",
            "/usr/local/lib/python3.10/dist-packages/xgboost/training.py:39: UserWarning: `feval` is deprecated, use `custom_metric` instead.  They have different behavior when custom objective is also used.See https://xgboost.readthedocs.io/en/latest/tutorials/custom_metric_obj.html for details on the `custom_metric`.\n"
          ]
        },
        {
          "output_type": "stream",
          "name": "stdout",
          "text": [
            "94_Xgboost_GoldenFeatures_SelectedFeatures_Stacked mse 7.581595 trained in 40.66 seconds\n",
            "99_LightGBM_GoldenFeatures_SelectedFeatures_Stacked mse 7.523167 trained in 35.15 seconds\n",
            "85_RandomForest_Stacked mse 7.495762 trained in 103.34 seconds\n",
            "41_ExtraTrees_Stacked mse 7.812033 trained in 89.19 seconds\n",
            "53_NeuralNetwork_Stacked mse 15.118654 trained in 43.63 seconds\n"
          ]
        },
        {
          "output_type": "stream",
          "name": "stderr",
          "text": [
            "/usr/local/lib/python3.10/dist-packages/xgboost/training.py:39: UserWarning: `feval` is deprecated, use `custom_metric` instead.  They have different behavior when custom objective is also used.See https://xgboost.readthedocs.io/en/latest/tutorials/custom_metric_obj.html for details on the `custom_metric`.\n",
            "/usr/local/lib/python3.10/dist-packages/xgboost/training.py:39: UserWarning: `feval` is deprecated, use `custom_metric` instead.  They have different behavior when custom objective is also used.See https://xgboost.readthedocs.io/en/latest/tutorials/custom_metric_obj.html for details on the `custom_metric`.\n",
            "/usr/local/lib/python3.10/dist-packages/xgboost/training.py:39: UserWarning: `feval` is deprecated, use `custom_metric` instead.  They have different behavior when custom objective is also used.See https://xgboost.readthedocs.io/en/latest/tutorials/custom_metric_obj.html for details on the `custom_metric`.\n",
            "/usr/local/lib/python3.10/dist-packages/xgboost/training.py:39: UserWarning: `feval` is deprecated, use `custom_metric` instead.  They have different behavior when custom objective is also used.See https://xgboost.readthedocs.io/en/latest/tutorials/custom_metric_obj.html for details on the `custom_metric`.\n",
            "/usr/local/lib/python3.10/dist-packages/xgboost/training.py:39: UserWarning: `feval` is deprecated, use `custom_metric` instead.  They have different behavior when custom objective is also used.See https://xgboost.readthedocs.io/en/latest/tutorials/custom_metric_obj.html for details on the `custom_metric`.\n",
            "/usr/local/lib/python3.10/dist-packages/xgboost/training.py:39: UserWarning: `feval` is deprecated, use `custom_metric` instead.  They have different behavior when custom objective is also used.See https://xgboost.readthedocs.io/en/latest/tutorials/custom_metric_obj.html for details on the `custom_metric`.\n",
            "/usr/local/lib/python3.10/dist-packages/xgboost/training.py:39: UserWarning: `feval` is deprecated, use `custom_metric` instead.  They have different behavior when custom objective is also used.See https://xgboost.readthedocs.io/en/latest/tutorials/custom_metric_obj.html for details on the `custom_metric`.\n",
            "/usr/local/lib/python3.10/dist-packages/xgboost/training.py:39: UserWarning: `feval` is deprecated, use `custom_metric` instead.  They have different behavior when custom objective is also used.See https://xgboost.readthedocs.io/en/latest/tutorials/custom_metric_obj.html for details on the `custom_metric`.\n",
            "/usr/local/lib/python3.10/dist-packages/xgboost/training.py:39: UserWarning: `feval` is deprecated, use `custom_metric` instead.  They have different behavior when custom objective is also used.See https://xgboost.readthedocs.io/en/latest/tutorials/custom_metric_obj.html for details on the `custom_metric`.\n",
            "/usr/local/lib/python3.10/dist-packages/xgboost/training.py:39: UserWarning: `feval` is deprecated, use `custom_metric` instead.  They have different behavior when custom objective is also used.See https://xgboost.readthedocs.io/en/latest/tutorials/custom_metric_obj.html for details on the `custom_metric`.\n"
          ]
        },
        {
          "output_type": "stream",
          "name": "stdout",
          "text": [
            "93_Xgboost_GoldenFeatures_SelectedFeatures_Stacked mse 7.73086 trained in 41.03 seconds\n",
            "100_LightGBM_GoldenFeatures_SelectedFeatures_Stacked mse 7.523167 trained in 34.36 seconds\n",
            "78_RandomForest_Stacked mse 7.455466 trained in 103.3 seconds\n",
            "84_ExtraTrees_Stacked mse 7.80031 trained in 102.14 seconds\n",
            "51_NeuralNetwork_Stacked mse 11.833989 trained in 43.45 seconds\n"
          ]
        },
        {
          "output_type": "stream",
          "name": "stderr",
          "text": [
            "/usr/local/lib/python3.10/dist-packages/xgboost/training.py:39: UserWarning: `feval` is deprecated, use `custom_metric` instead.  They have different behavior when custom objective is also used.See https://xgboost.readthedocs.io/en/latest/tutorials/custom_metric_obj.html for details on the `custom_metric`.\n",
            "/usr/local/lib/python3.10/dist-packages/xgboost/training.py:39: UserWarning: `feval` is deprecated, use `custom_metric` instead.  They have different behavior when custom objective is also used.See https://xgboost.readthedocs.io/en/latest/tutorials/custom_metric_obj.html for details on the `custom_metric`.\n",
            "/usr/local/lib/python3.10/dist-packages/xgboost/training.py:39: UserWarning: `feval` is deprecated, use `custom_metric` instead.  They have different behavior when custom objective is also used.See https://xgboost.readthedocs.io/en/latest/tutorials/custom_metric_obj.html for details on the `custom_metric`.\n",
            "/usr/local/lib/python3.10/dist-packages/xgboost/training.py:39: UserWarning: `feval` is deprecated, use `custom_metric` instead.  They have different behavior when custom objective is also used.See https://xgboost.readthedocs.io/en/latest/tutorials/custom_metric_obj.html for details on the `custom_metric`.\n",
            "/usr/local/lib/python3.10/dist-packages/xgboost/training.py:39: UserWarning: `feval` is deprecated, use `custom_metric` instead.  They have different behavior when custom objective is also used.See https://xgboost.readthedocs.io/en/latest/tutorials/custom_metric_obj.html for details on the `custom_metric`.\n",
            "/usr/local/lib/python3.10/dist-packages/xgboost/training.py:39: UserWarning: `feval` is deprecated, use `custom_metric` instead.  They have different behavior when custom objective is also used.See https://xgboost.readthedocs.io/en/latest/tutorials/custom_metric_obj.html for details on the `custom_metric`.\n",
            "/usr/local/lib/python3.10/dist-packages/xgboost/training.py:39: UserWarning: `feval` is deprecated, use `custom_metric` instead.  They have different behavior when custom objective is also used.See https://xgboost.readthedocs.io/en/latest/tutorials/custom_metric_obj.html for details on the `custom_metric`.\n",
            "/usr/local/lib/python3.10/dist-packages/xgboost/training.py:39: UserWarning: `feval` is deprecated, use `custom_metric` instead.  They have different behavior when custom objective is also used.See https://xgboost.readthedocs.io/en/latest/tutorials/custom_metric_obj.html for details on the `custom_metric`.\n",
            "/usr/local/lib/python3.10/dist-packages/xgboost/training.py:39: UserWarning: `feval` is deprecated, use `custom_metric` instead.  They have different behavior when custom objective is also used.See https://xgboost.readthedocs.io/en/latest/tutorials/custom_metric_obj.html for details on the `custom_metric`.\n",
            "/usr/local/lib/python3.10/dist-packages/xgboost/training.py:39: UserWarning: `feval` is deprecated, use `custom_metric` instead.  They have different behavior when custom objective is also used.See https://xgboost.readthedocs.io/en/latest/tutorials/custom_metric_obj.html for details on the `custom_metric`.\n"
          ]
        },
        {
          "output_type": "stream",
          "name": "stdout",
          "text": [
            "95_Xgboost_GoldenFeatures_SelectedFeatures_Stacked mse 7.693168 trained in 42.06 seconds\n",
            "98_LightGBM_GoldenFeatures_SelectedFeatures_Stacked mse 7.523167 trained in 36.32 seconds\n",
            "34_RandomForest_Stacked mse 7.751046 trained in 101.1 seconds\n",
            "47_ExtraTrees_Stacked mse 7.769726 trained in 112.02 seconds\n",
            "8_Default_NeuralNetwork_Stacked mse 11.882197 trained in 45.58 seconds\n"
          ]
        },
        {
          "output_type": "stream",
          "name": "stderr",
          "text": [
            "/usr/local/lib/python3.10/dist-packages/xgboost/training.py:39: UserWarning: `feval` is deprecated, use `custom_metric` instead.  They have different behavior when custom objective is also used.See https://xgboost.readthedocs.io/en/latest/tutorials/custom_metric_obj.html for details on the `custom_metric`.\n",
            "/usr/local/lib/python3.10/dist-packages/xgboost/training.py:39: UserWarning: `feval` is deprecated, use `custom_metric` instead.  They have different behavior when custom objective is also used.See https://xgboost.readthedocs.io/en/latest/tutorials/custom_metric_obj.html for details on the `custom_metric`.\n",
            "/usr/local/lib/python3.10/dist-packages/xgboost/training.py:39: UserWarning: `feval` is deprecated, use `custom_metric` instead.  They have different behavior when custom objective is also used.See https://xgboost.readthedocs.io/en/latest/tutorials/custom_metric_obj.html for details on the `custom_metric`.\n",
            "/usr/local/lib/python3.10/dist-packages/xgboost/training.py:39: UserWarning: `feval` is deprecated, use `custom_metric` instead.  They have different behavior when custom objective is also used.See https://xgboost.readthedocs.io/en/latest/tutorials/custom_metric_obj.html for details on the `custom_metric`.\n",
            "/usr/local/lib/python3.10/dist-packages/xgboost/training.py:39: UserWarning: `feval` is deprecated, use `custom_metric` instead.  They have different behavior when custom objective is also used.See https://xgboost.readthedocs.io/en/latest/tutorials/custom_metric_obj.html for details on the `custom_metric`.\n",
            "/usr/local/lib/python3.10/dist-packages/xgboost/training.py:39: UserWarning: `feval` is deprecated, use `custom_metric` instead.  They have different behavior when custom objective is also used.See https://xgboost.readthedocs.io/en/latest/tutorials/custom_metric_obj.html for details on the `custom_metric`.\n",
            "/usr/local/lib/python3.10/dist-packages/xgboost/training.py:39: UserWarning: `feval` is deprecated, use `custom_metric` instead.  They have different behavior when custom objective is also used.See https://xgboost.readthedocs.io/en/latest/tutorials/custom_metric_obj.html for details on the `custom_metric`.\n",
            "/usr/local/lib/python3.10/dist-packages/xgboost/training.py:39: UserWarning: `feval` is deprecated, use `custom_metric` instead.  They have different behavior when custom objective is also used.See https://xgboost.readthedocs.io/en/latest/tutorials/custom_metric_obj.html for details on the `custom_metric`.\n",
            "/usr/local/lib/python3.10/dist-packages/xgboost/training.py:39: UserWarning: `feval` is deprecated, use `custom_metric` instead.  They have different behavior when custom objective is also used.See https://xgboost.readthedocs.io/en/latest/tutorials/custom_metric_obj.html for details on the `custom_metric`.\n",
            "/usr/local/lib/python3.10/dist-packages/xgboost/training.py:39: UserWarning: `feval` is deprecated, use `custom_metric` instead.  They have different behavior when custom objective is also used.See https://xgboost.readthedocs.io/en/latest/tutorials/custom_metric_obj.html for details on the `custom_metric`.\n"
          ]
        },
        {
          "output_type": "stream",
          "name": "stdout",
          "text": [
            "96_Xgboost_GoldenFeatures_SelectedFeatures_Stacked mse 7.688489 trained in 42.86 seconds\n",
            "72_LightGBM_GoldenFeatures_Stacked mse 7.440201 trained in 38.61 seconds\n",
            "37_RandomForest_Stacked mse 7.380274 trained in 86.42 seconds\n",
            "43_ExtraTrees_Stacked mse 7.594871 trained in 87.65 seconds\n",
            "77_NeuralNetwork_Stacked mse 10.319571 trained in 46.65 seconds\n"
          ]
        },
        {
          "output_type": "stream",
          "name": "stderr",
          "text": [
            "/usr/local/lib/python3.10/dist-packages/xgboost/training.py:39: UserWarning: `feval` is deprecated, use `custom_metric` instead.  They have different behavior when custom objective is also used.See https://xgboost.readthedocs.io/en/latest/tutorials/custom_metric_obj.html for details on the `custom_metric`.\n",
            "/usr/local/lib/python3.10/dist-packages/xgboost/training.py:39: UserWarning: `feval` is deprecated, use `custom_metric` instead.  They have different behavior when custom objective is also used.See https://xgboost.readthedocs.io/en/latest/tutorials/custom_metric_obj.html for details on the `custom_metric`.\n",
            "/usr/local/lib/python3.10/dist-packages/xgboost/training.py:39: UserWarning: `feval` is deprecated, use `custom_metric` instead.  They have different behavior when custom objective is also used.See https://xgboost.readthedocs.io/en/latest/tutorials/custom_metric_obj.html for details on the `custom_metric`.\n",
            "/usr/local/lib/python3.10/dist-packages/xgboost/training.py:39: UserWarning: `feval` is deprecated, use `custom_metric` instead.  They have different behavior when custom objective is also used.See https://xgboost.readthedocs.io/en/latest/tutorials/custom_metric_obj.html for details on the `custom_metric`.\n",
            "/usr/local/lib/python3.10/dist-packages/xgboost/training.py:39: UserWarning: `feval` is deprecated, use `custom_metric` instead.  They have different behavior when custom objective is also used.See https://xgboost.readthedocs.io/en/latest/tutorials/custom_metric_obj.html for details on the `custom_metric`.\n",
            "/usr/local/lib/python3.10/dist-packages/xgboost/training.py:39: UserWarning: `feval` is deprecated, use `custom_metric` instead.  They have different behavior when custom objective is also used.See https://xgboost.readthedocs.io/en/latest/tutorials/custom_metric_obj.html for details on the `custom_metric`.\n",
            "/usr/local/lib/python3.10/dist-packages/xgboost/training.py:39: UserWarning: `feval` is deprecated, use `custom_metric` instead.  They have different behavior when custom objective is also used.See https://xgboost.readthedocs.io/en/latest/tutorials/custom_metric_obj.html for details on the `custom_metric`.\n",
            "/usr/local/lib/python3.10/dist-packages/xgboost/training.py:39: UserWarning: `feval` is deprecated, use `custom_metric` instead.  They have different behavior when custom objective is also used.See https://xgboost.readthedocs.io/en/latest/tutorials/custom_metric_obj.html for details on the `custom_metric`.\n",
            "/usr/local/lib/python3.10/dist-packages/xgboost/training.py:39: UserWarning: `feval` is deprecated, use `custom_metric` instead.  They have different behavior when custom objective is also used.See https://xgboost.readthedocs.io/en/latest/tutorials/custom_metric_obj.html for details on the `custom_metric`.\n",
            "/usr/local/lib/python3.10/dist-packages/xgboost/training.py:39: UserWarning: `feval` is deprecated, use `custom_metric` instead.  They have different behavior when custom objective is also used.See https://xgboost.readthedocs.io/en/latest/tutorials/custom_metric_obj.html for details on the `custom_metric`.\n"
          ]
        },
        {
          "output_type": "stream",
          "name": "stdout",
          "text": [
            "64_Xgboost_GoldenFeatures_SelectedFeatures_Stacked mse 7.734326 trained in 42.99 seconds\n",
            "25_LightGBM_GoldenFeatures_Stacked mse 7.440201 trained in 38.97 seconds\n",
            "79_RandomForest_Stacked mse 7.838993 trained in 113.78 seconds\n",
            "83_ExtraTrees_Stacked mse 7.771536 trained in 87.54 seconds\n",
            "48_NeuralNetwork_Stacked mse 15.273512 trained in 46.17 seconds\n"
          ]
        },
        {
          "output_type": "stream",
          "name": "stderr",
          "text": [
            "/usr/local/lib/python3.10/dist-packages/xgboost/training.py:39: UserWarning: `feval` is deprecated, use `custom_metric` instead.  They have different behavior when custom objective is also used.See https://xgboost.readthedocs.io/en/latest/tutorials/custom_metric_obj.html for details on the `custom_metric`.\n",
            "/usr/local/lib/python3.10/dist-packages/xgboost/training.py:39: UserWarning: `feval` is deprecated, use `custom_metric` instead.  They have different behavior when custom objective is also used.See https://xgboost.readthedocs.io/en/latest/tutorials/custom_metric_obj.html for details on the `custom_metric`.\n",
            "/usr/local/lib/python3.10/dist-packages/xgboost/training.py:39: UserWarning: `feval` is deprecated, use `custom_metric` instead.  They have different behavior when custom objective is also used.See https://xgboost.readthedocs.io/en/latest/tutorials/custom_metric_obj.html for details on the `custom_metric`.\n",
            "/usr/local/lib/python3.10/dist-packages/xgboost/training.py:39: UserWarning: `feval` is deprecated, use `custom_metric` instead.  They have different behavior when custom objective is also used.See https://xgboost.readthedocs.io/en/latest/tutorials/custom_metric_obj.html for details on the `custom_metric`.\n",
            "/usr/local/lib/python3.10/dist-packages/xgboost/training.py:39: UserWarning: `feval` is deprecated, use `custom_metric` instead.  They have different behavior when custom objective is also used.See https://xgboost.readthedocs.io/en/latest/tutorials/custom_metric_obj.html for details on the `custom_metric`.\n",
            "/usr/local/lib/python3.10/dist-packages/xgboost/training.py:39: UserWarning: `feval` is deprecated, use `custom_metric` instead.  They have different behavior when custom objective is also used.See https://xgboost.readthedocs.io/en/latest/tutorials/custom_metric_obj.html for details on the `custom_metric`.\n",
            "/usr/local/lib/python3.10/dist-packages/xgboost/training.py:39: UserWarning: `feval` is deprecated, use `custom_metric` instead.  They have different behavior when custom objective is also used.See https://xgboost.readthedocs.io/en/latest/tutorials/custom_metric_obj.html for details on the `custom_metric`.\n",
            "/usr/local/lib/python3.10/dist-packages/xgboost/training.py:39: UserWarning: `feval` is deprecated, use `custom_metric` instead.  They have different behavior when custom objective is also used.See https://xgboost.readthedocs.io/en/latest/tutorials/custom_metric_obj.html for details on the `custom_metric`.\n",
            "/usr/local/lib/python3.10/dist-packages/xgboost/training.py:39: UserWarning: `feval` is deprecated, use `custom_metric` instead.  They have different behavior when custom objective is also used.See https://xgboost.readthedocs.io/en/latest/tutorials/custom_metric_obj.html for details on the `custom_metric`.\n",
            "/usr/local/lib/python3.10/dist-packages/xgboost/training.py:39: UserWarning: `feval` is deprecated, use `custom_metric` instead.  They have different behavior when custom objective is also used.See https://xgboost.readthedocs.io/en/latest/tutorials/custom_metric_obj.html for details on the `custom_metric`.\n"
          ]
        },
        {
          "output_type": "stream",
          "name": "stdout",
          "text": [
            "97_Xgboost_GoldenFeatures_SelectedFeatures_Stacked mse 7.856907 trained in 43.48 seconds\n",
            "73_LightGBM_GoldenFeatures_Stacked mse 7.440201 trained in 40.33 seconds\n",
            "32_RandomForest_Stacked mse 7.761079 trained in 97.54 seconds\n",
            "81_ExtraTrees_Stacked mse 7.77603 trained in 90.88 seconds\n",
            "82_NeuralNetwork_Stacked mse 13.18309 trained in 49.92 seconds\n",
            "25_LightGBM_Stacked mse 7.592778 trained in 39.64 seconds\n",
            "35_RandomForest_Stacked mse 7.651332 trained in 101.56 seconds\n",
            "87_ExtraTrees_Stacked mse 7.53962 trained in 91.49 seconds\n",
            "54_NeuralNetwork_Stacked mse 9.553677 trained in 47.19 seconds\n",
            "* Step ensemble_stacked will try to check up to 1 model\n",
            "Ensemble_Stacked mse 7.143392 trained in 78.32 seconds\n",
            "AutoML fit time: 5776.7 seconds\n",
            "AutoML best model: Ensemble_Stacked\n"
          ]
        },
        {
          "output_type": "execute_result",
          "data": {
            "text/plain": [
              "AutoML(algorithms=['Baseline', 'Linear', 'Decision Tree', 'Random Forest',\n",
              "                   'Extra Trees', 'LightGBM', 'Xgboost', 'Neural Network',\n",
              "                   'Nearest Neighbors'],\n",
              "       eval_metric='mse', explain_level=1, golden_features=True,\n",
              "       ml_task='regression', mode='Compete', total_time_limit=1728000,\n",
              "       validation_strategy={'k_folds': 10, 'random_seed': 123, 'shuffle': True,\n",
              "                            'stratify': True, 'validation_type': 'kfold'})"
            ],
            "text/html": [
              "<style>#sk-container-id-1 {color: black;background-color: white;}#sk-container-id-1 pre{padding: 0;}#sk-container-id-1 div.sk-toggleable {background-color: white;}#sk-container-id-1 label.sk-toggleable__label {cursor: pointer;display: block;width: 100%;margin-bottom: 0;padding: 0.3em;box-sizing: border-box;text-align: center;}#sk-container-id-1 label.sk-toggleable__label-arrow:before {content: \"▸\";float: left;margin-right: 0.25em;color: #696969;}#sk-container-id-1 label.sk-toggleable__label-arrow:hover:before {color: black;}#sk-container-id-1 div.sk-estimator:hover label.sk-toggleable__label-arrow:before {color: black;}#sk-container-id-1 div.sk-toggleable__content {max-height: 0;max-width: 0;overflow: hidden;text-align: left;background-color: #f0f8ff;}#sk-container-id-1 div.sk-toggleable__content pre {margin: 0.2em;color: black;border-radius: 0.25em;background-color: #f0f8ff;}#sk-container-id-1 input.sk-toggleable__control:checked~div.sk-toggleable__content {max-height: 200px;max-width: 100%;overflow: auto;}#sk-container-id-1 input.sk-toggleable__control:checked~label.sk-toggleable__label-arrow:before {content: \"▾\";}#sk-container-id-1 div.sk-estimator input.sk-toggleable__control:checked~label.sk-toggleable__label {background-color: #d4ebff;}#sk-container-id-1 div.sk-label input.sk-toggleable__control:checked~label.sk-toggleable__label {background-color: #d4ebff;}#sk-container-id-1 input.sk-hidden--visually {border: 0;clip: rect(1px 1px 1px 1px);clip: rect(1px, 1px, 1px, 1px);height: 1px;margin: -1px;overflow: hidden;padding: 0;position: absolute;width: 1px;}#sk-container-id-1 div.sk-estimator {font-family: monospace;background-color: #f0f8ff;border: 1px dotted black;border-radius: 0.25em;box-sizing: border-box;margin-bottom: 0.5em;}#sk-container-id-1 div.sk-estimator:hover {background-color: #d4ebff;}#sk-container-id-1 div.sk-parallel-item::after {content: \"\";width: 100%;border-bottom: 1px solid gray;flex-grow: 1;}#sk-container-id-1 div.sk-label:hover label.sk-toggleable__label {background-color: #d4ebff;}#sk-container-id-1 div.sk-serial::before {content: \"\";position: absolute;border-left: 1px solid gray;box-sizing: border-box;top: 0;bottom: 0;left: 50%;z-index: 0;}#sk-container-id-1 div.sk-serial {display: flex;flex-direction: column;align-items: center;background-color: white;padding-right: 0.2em;padding-left: 0.2em;position: relative;}#sk-container-id-1 div.sk-item {position: relative;z-index: 1;}#sk-container-id-1 div.sk-parallel {display: flex;align-items: stretch;justify-content: center;background-color: white;position: relative;}#sk-container-id-1 div.sk-item::before, #sk-container-id-1 div.sk-parallel-item::before {content: \"\";position: absolute;border-left: 1px solid gray;box-sizing: border-box;top: 0;bottom: 0;left: 50%;z-index: -1;}#sk-container-id-1 div.sk-parallel-item {display: flex;flex-direction: column;z-index: 1;position: relative;background-color: white;}#sk-container-id-1 div.sk-parallel-item:first-child::after {align-self: flex-end;width: 50%;}#sk-container-id-1 div.sk-parallel-item:last-child::after {align-self: flex-start;width: 50%;}#sk-container-id-1 div.sk-parallel-item:only-child::after {width: 0;}#sk-container-id-1 div.sk-dashed-wrapped {border: 1px dashed gray;margin: 0 0.4em 0.5em 0.4em;box-sizing: border-box;padding-bottom: 0.4em;background-color: white;}#sk-container-id-1 div.sk-label label {font-family: monospace;font-weight: bold;display: inline-block;line-height: 1.2em;}#sk-container-id-1 div.sk-label-container {text-align: center;}#sk-container-id-1 div.sk-container {/* jupyter's `normalize.less` sets `[hidden] { display: none; }` but bootstrap.min.css set `[hidden] { display: none !important; }` so we also need the `!important` here to be able to override the default hidden behavior on the sphinx rendered scikit-learn.org. See: https://github.com/scikit-learn/scikit-learn/issues/21755 */display: inline-block !important;position: relative;}#sk-container-id-1 div.sk-text-repr-fallback {display: none;}</style><div id=\"sk-container-id-1\" class=\"sk-top-container\"><div class=\"sk-text-repr-fallback\"><pre>AutoML(algorithms=[&#x27;Baseline&#x27;, &#x27;Linear&#x27;, &#x27;Decision Tree&#x27;, &#x27;Random Forest&#x27;,\n",
              "                   &#x27;Extra Trees&#x27;, &#x27;LightGBM&#x27;, &#x27;Xgboost&#x27;, &#x27;Neural Network&#x27;,\n",
              "                   &#x27;Nearest Neighbors&#x27;],\n",
              "       eval_metric=&#x27;mse&#x27;, explain_level=1, golden_features=True,\n",
              "       ml_task=&#x27;regression&#x27;, mode=&#x27;Compete&#x27;, total_time_limit=1728000,\n",
              "       validation_strategy={&#x27;k_folds&#x27;: 10, &#x27;random_seed&#x27;: 123, &#x27;shuffle&#x27;: True,\n",
              "                            &#x27;stratify&#x27;: True, &#x27;validation_type&#x27;: &#x27;kfold&#x27;})</pre><b>In a Jupyter environment, please rerun this cell to show the HTML representation or trust the notebook. <br />On GitHub, the HTML representation is unable to render, please try loading this page with nbviewer.org.</b></div><div class=\"sk-container\" hidden><div class=\"sk-item\"><div class=\"sk-estimator sk-toggleable\"><input class=\"sk-toggleable__control sk-hidden--visually\" id=\"sk-estimator-id-1\" type=\"checkbox\" checked><label for=\"sk-estimator-id-1\" class=\"sk-toggleable__label sk-toggleable__label-arrow\">AutoML</label><div class=\"sk-toggleable__content\"><pre>AutoML(algorithms=[&#x27;Baseline&#x27;, &#x27;Linear&#x27;, &#x27;Decision Tree&#x27;, &#x27;Random Forest&#x27;,\n",
              "                   &#x27;Extra Trees&#x27;, &#x27;LightGBM&#x27;, &#x27;Xgboost&#x27;, &#x27;Neural Network&#x27;,\n",
              "                   &#x27;Nearest Neighbors&#x27;],\n",
              "       eval_metric=&#x27;mse&#x27;, explain_level=1, golden_features=True,\n",
              "       ml_task=&#x27;regression&#x27;, mode=&#x27;Compete&#x27;, total_time_limit=1728000,\n",
              "       validation_strategy={&#x27;k_folds&#x27;: 10, &#x27;random_seed&#x27;: 123, &#x27;shuffle&#x27;: True,\n",
              "                            &#x27;stratify&#x27;: True, &#x27;validation_type&#x27;: &#x27;kfold&#x27;})</pre></div></div></div></div></div>"
            ]
          },
          "metadata": {},
          "execution_count": 11
        }
      ]
    },
    {
      "cell_type": "code",
      "source": [
        "predictions = a.predict(test)"
      ],
      "metadata": {
        "id": "slVIpBcfWFmL"
      },
      "execution_count": null,
      "outputs": []
    },
    {
      "cell_type": "code",
      "source": [
        "len(predictions)"
      ],
      "metadata": {
        "colab": {
          "base_uri": "https://localhost:8080/"
        },
        "id": "Zmq6L9G6XD4M",
        "outputId": "64645f20-286a-4c9c-b793-993fa7eaf7cf"
      },
      "execution_count": null,
      "outputs": [
        {
          "output_type": "execute_result",
          "data": {
            "text/plain": [
              "106"
            ]
          },
          "metadata": {},
          "execution_count": 18
        }
      ]
    },
    {
      "cell_type": "code",
      "source": [
        "test"
      ],
      "metadata": {
        "colab": {
          "base_uri": "https://localhost:8080/",
          "height": 423
        },
        "id": "--E8VPUbYh54",
        "outputId": "e7267198-36cf-44e3-b54a-37ef2b597d38"
      },
      "execution_count": null,
      "outputs": [
        {
          "output_type": "execute_result",
          "data": {
            "text/plain": [
              "     educ  exper  married  female  tenure\n",
              "0      10      5        0       1       0\n",
              "1      13     21        1       0      13\n",
              "2      11     38        0       1       3\n",
              "3      10      1        0       0       0\n",
              "4      16     15        1       1       5\n",
              "..    ...    ...      ...     ...     ...\n",
              "101    12     12        1       0       0\n",
              "102     8     29        1       0      11\n",
              "103    14      2        0       1       5\n",
              "104    10     34        1       1      26\n",
              "105    13     16        0       1      10\n",
              "\n",
              "[106 rows x 5 columns]"
            ],
            "text/html": [
              "\n",
              "  <div id=\"df-fec8fdb7-7b84-4e96-9028-609f1592b69f\" class=\"colab-df-container\">\n",
              "    <div>\n",
              "<style scoped>\n",
              "    .dataframe tbody tr th:only-of-type {\n",
              "        vertical-align: middle;\n",
              "    }\n",
              "\n",
              "    .dataframe tbody tr th {\n",
              "        vertical-align: top;\n",
              "    }\n",
              "\n",
              "    .dataframe thead th {\n",
              "        text-align: right;\n",
              "    }\n",
              "</style>\n",
              "<table border=\"1\" class=\"dataframe\">\n",
              "  <thead>\n",
              "    <tr style=\"text-align: right;\">\n",
              "      <th></th>\n",
              "      <th>educ</th>\n",
              "      <th>exper</th>\n",
              "      <th>married</th>\n",
              "      <th>female</th>\n",
              "      <th>tenure</th>\n",
              "    </tr>\n",
              "  </thead>\n",
              "  <tbody>\n",
              "    <tr>\n",
              "      <th>0</th>\n",
              "      <td>10</td>\n",
              "      <td>5</td>\n",
              "      <td>0</td>\n",
              "      <td>1</td>\n",
              "      <td>0</td>\n",
              "    </tr>\n",
              "    <tr>\n",
              "      <th>1</th>\n",
              "      <td>13</td>\n",
              "      <td>21</td>\n",
              "      <td>1</td>\n",
              "      <td>0</td>\n",
              "      <td>13</td>\n",
              "    </tr>\n",
              "    <tr>\n",
              "      <th>2</th>\n",
              "      <td>11</td>\n",
              "      <td>38</td>\n",
              "      <td>0</td>\n",
              "      <td>1</td>\n",
              "      <td>3</td>\n",
              "    </tr>\n",
              "    <tr>\n",
              "      <th>3</th>\n",
              "      <td>10</td>\n",
              "      <td>1</td>\n",
              "      <td>0</td>\n",
              "      <td>0</td>\n",
              "      <td>0</td>\n",
              "    </tr>\n",
              "    <tr>\n",
              "      <th>4</th>\n",
              "      <td>16</td>\n",
              "      <td>15</td>\n",
              "      <td>1</td>\n",
              "      <td>1</td>\n",
              "      <td>5</td>\n",
              "    </tr>\n",
              "    <tr>\n",
              "      <th>...</th>\n",
              "      <td>...</td>\n",
              "      <td>...</td>\n",
              "      <td>...</td>\n",
              "      <td>...</td>\n",
              "      <td>...</td>\n",
              "    </tr>\n",
              "    <tr>\n",
              "      <th>101</th>\n",
              "      <td>12</td>\n",
              "      <td>12</td>\n",
              "      <td>1</td>\n",
              "      <td>0</td>\n",
              "      <td>0</td>\n",
              "    </tr>\n",
              "    <tr>\n",
              "      <th>102</th>\n",
              "      <td>8</td>\n",
              "      <td>29</td>\n",
              "      <td>1</td>\n",
              "      <td>0</td>\n",
              "      <td>11</td>\n",
              "    </tr>\n",
              "    <tr>\n",
              "      <th>103</th>\n",
              "      <td>14</td>\n",
              "      <td>2</td>\n",
              "      <td>0</td>\n",
              "      <td>1</td>\n",
              "      <td>5</td>\n",
              "    </tr>\n",
              "    <tr>\n",
              "      <th>104</th>\n",
              "      <td>10</td>\n",
              "      <td>34</td>\n",
              "      <td>1</td>\n",
              "      <td>1</td>\n",
              "      <td>26</td>\n",
              "    </tr>\n",
              "    <tr>\n",
              "      <th>105</th>\n",
              "      <td>13</td>\n",
              "      <td>16</td>\n",
              "      <td>0</td>\n",
              "      <td>1</td>\n",
              "      <td>10</td>\n",
              "    </tr>\n",
              "  </tbody>\n",
              "</table>\n",
              "<p>106 rows × 5 columns</p>\n",
              "</div>\n",
              "    <div class=\"colab-df-buttons\">\n",
              "\n",
              "  <div class=\"colab-df-container\">\n",
              "    <button class=\"colab-df-convert\" onclick=\"convertToInteractive('df-fec8fdb7-7b84-4e96-9028-609f1592b69f')\"\n",
              "            title=\"Convert this dataframe to an interactive table.\"\n",
              "            style=\"display:none;\">\n",
              "\n",
              "  <svg xmlns=\"http://www.w3.org/2000/svg\" height=\"24px\" viewBox=\"0 -960 960 960\">\n",
              "    <path d=\"M120-120v-720h720v720H120Zm60-500h600v-160H180v160Zm220 220h160v-160H400v160Zm0 220h160v-160H400v160ZM180-400h160v-160H180v160Zm440 0h160v-160H620v160ZM180-180h160v-160H180v160Zm440 0h160v-160H620v160Z\"/>\n",
              "  </svg>\n",
              "    </button>\n",
              "\n",
              "  <style>\n",
              "    .colab-df-container {\n",
              "      display:flex;\n",
              "      gap: 12px;\n",
              "    }\n",
              "\n",
              "    .colab-df-convert {\n",
              "      background-color: #E8F0FE;\n",
              "      border: none;\n",
              "      border-radius: 50%;\n",
              "      cursor: pointer;\n",
              "      display: none;\n",
              "      fill: #1967D2;\n",
              "      height: 32px;\n",
              "      padding: 0 0 0 0;\n",
              "      width: 32px;\n",
              "    }\n",
              "\n",
              "    .colab-df-convert:hover {\n",
              "      background-color: #E2EBFA;\n",
              "      box-shadow: 0px 1px 2px rgba(60, 64, 67, 0.3), 0px 1px 3px 1px rgba(60, 64, 67, 0.15);\n",
              "      fill: #174EA6;\n",
              "    }\n",
              "\n",
              "    .colab-df-buttons div {\n",
              "      margin-bottom: 4px;\n",
              "    }\n",
              "\n",
              "    [theme=dark] .colab-df-convert {\n",
              "      background-color: #3B4455;\n",
              "      fill: #D2E3FC;\n",
              "    }\n",
              "\n",
              "    [theme=dark] .colab-df-convert:hover {\n",
              "      background-color: #434B5C;\n",
              "      box-shadow: 0px 1px 3px 1px rgba(0, 0, 0, 0.15);\n",
              "      filter: drop-shadow(0px 1px 2px rgba(0, 0, 0, 0.3));\n",
              "      fill: #FFFFFF;\n",
              "    }\n",
              "  </style>\n",
              "\n",
              "    <script>\n",
              "      const buttonEl =\n",
              "        document.querySelector('#df-fec8fdb7-7b84-4e96-9028-609f1592b69f button.colab-df-convert');\n",
              "      buttonEl.style.display =\n",
              "        google.colab.kernel.accessAllowed ? 'block' : 'none';\n",
              "\n",
              "      async function convertToInteractive(key) {\n",
              "        const element = document.querySelector('#df-fec8fdb7-7b84-4e96-9028-609f1592b69f');\n",
              "        const dataTable =\n",
              "          await google.colab.kernel.invokeFunction('convertToInteractive',\n",
              "                                                    [key], {});\n",
              "        if (!dataTable) return;\n",
              "\n",
              "        const docLinkHtml = 'Like what you see? Visit the ' +\n",
              "          '<a target=\"_blank\" href=https://colab.research.google.com/notebooks/data_table.ipynb>data table notebook</a>'\n",
              "          + ' to learn more about interactive tables.';\n",
              "        element.innerHTML = '';\n",
              "        dataTable['output_type'] = 'display_data';\n",
              "        await google.colab.output.renderOutput(dataTable, element);\n",
              "        const docLink = document.createElement('div');\n",
              "        docLink.innerHTML = docLinkHtml;\n",
              "        element.appendChild(docLink);\n",
              "      }\n",
              "    </script>\n",
              "  </div>\n",
              "\n",
              "\n",
              "<div id=\"df-7e582366-d596-48e0-989d-81b9c2047d77\">\n",
              "  <button class=\"colab-df-quickchart\" onclick=\"quickchart('df-7e582366-d596-48e0-989d-81b9c2047d77')\"\n",
              "            title=\"Suggest charts.\"\n",
              "            style=\"display:none;\">\n",
              "\n",
              "<svg xmlns=\"http://www.w3.org/2000/svg\" height=\"24px\"viewBox=\"0 0 24 24\"\n",
              "     width=\"24px\">\n",
              "    <g>\n",
              "        <path d=\"M19 3H5c-1.1 0-2 .9-2 2v14c0 1.1.9 2 2 2h14c1.1 0 2-.9 2-2V5c0-1.1-.9-2-2-2zM9 17H7v-7h2v7zm4 0h-2V7h2v10zm4 0h-2v-4h2v4z\"/>\n",
              "    </g>\n",
              "</svg>\n",
              "  </button>\n",
              "\n",
              "<style>\n",
              "  .colab-df-quickchart {\n",
              "      --bg-color: #E8F0FE;\n",
              "      --fill-color: #1967D2;\n",
              "      --hover-bg-color: #E2EBFA;\n",
              "      --hover-fill-color: #174EA6;\n",
              "      --disabled-fill-color: #AAA;\n",
              "      --disabled-bg-color: #DDD;\n",
              "  }\n",
              "\n",
              "  [theme=dark] .colab-df-quickchart {\n",
              "      --bg-color: #3B4455;\n",
              "      --fill-color: #D2E3FC;\n",
              "      --hover-bg-color: #434B5C;\n",
              "      --hover-fill-color: #FFFFFF;\n",
              "      --disabled-bg-color: #3B4455;\n",
              "      --disabled-fill-color: #666;\n",
              "  }\n",
              "\n",
              "  .colab-df-quickchart {\n",
              "    background-color: var(--bg-color);\n",
              "    border: none;\n",
              "    border-radius: 50%;\n",
              "    cursor: pointer;\n",
              "    display: none;\n",
              "    fill: var(--fill-color);\n",
              "    height: 32px;\n",
              "    padding: 0;\n",
              "    width: 32px;\n",
              "  }\n",
              "\n",
              "  .colab-df-quickchart:hover {\n",
              "    background-color: var(--hover-bg-color);\n",
              "    box-shadow: 0 1px 2px rgba(60, 64, 67, 0.3), 0 1px 3px 1px rgba(60, 64, 67, 0.15);\n",
              "    fill: var(--button-hover-fill-color);\n",
              "  }\n",
              "\n",
              "  .colab-df-quickchart-complete:disabled,\n",
              "  .colab-df-quickchart-complete:disabled:hover {\n",
              "    background-color: var(--disabled-bg-color);\n",
              "    fill: var(--disabled-fill-color);\n",
              "    box-shadow: none;\n",
              "  }\n",
              "\n",
              "  .colab-df-spinner {\n",
              "    border: 2px solid var(--fill-color);\n",
              "    border-color: transparent;\n",
              "    border-bottom-color: var(--fill-color);\n",
              "    animation:\n",
              "      spin 1s steps(1) infinite;\n",
              "  }\n",
              "\n",
              "  @keyframes spin {\n",
              "    0% {\n",
              "      border-color: transparent;\n",
              "      border-bottom-color: var(--fill-color);\n",
              "      border-left-color: var(--fill-color);\n",
              "    }\n",
              "    20% {\n",
              "      border-color: transparent;\n",
              "      border-left-color: var(--fill-color);\n",
              "      border-top-color: var(--fill-color);\n",
              "    }\n",
              "    30% {\n",
              "      border-color: transparent;\n",
              "      border-left-color: var(--fill-color);\n",
              "      border-top-color: var(--fill-color);\n",
              "      border-right-color: var(--fill-color);\n",
              "    }\n",
              "    40% {\n",
              "      border-color: transparent;\n",
              "      border-right-color: var(--fill-color);\n",
              "      border-top-color: var(--fill-color);\n",
              "    }\n",
              "    60% {\n",
              "      border-color: transparent;\n",
              "      border-right-color: var(--fill-color);\n",
              "    }\n",
              "    80% {\n",
              "      border-color: transparent;\n",
              "      border-right-color: var(--fill-color);\n",
              "      border-bottom-color: var(--fill-color);\n",
              "    }\n",
              "    90% {\n",
              "      border-color: transparent;\n",
              "      border-bottom-color: var(--fill-color);\n",
              "    }\n",
              "  }\n",
              "</style>\n",
              "\n",
              "  <script>\n",
              "    async function quickchart(key) {\n",
              "      const quickchartButtonEl =\n",
              "        document.querySelector('#' + key + ' button');\n",
              "      quickchartButtonEl.disabled = true;  // To prevent multiple clicks.\n",
              "      quickchartButtonEl.classList.add('colab-df-spinner');\n",
              "      try {\n",
              "        const charts = await google.colab.kernel.invokeFunction(\n",
              "            'suggestCharts', [key], {});\n",
              "      } catch (error) {\n",
              "        console.error('Error during call to suggestCharts:', error);\n",
              "      }\n",
              "      quickchartButtonEl.classList.remove('colab-df-spinner');\n",
              "      quickchartButtonEl.classList.add('colab-df-quickchart-complete');\n",
              "    }\n",
              "    (() => {\n",
              "      let quickchartButtonEl =\n",
              "        document.querySelector('#df-7e582366-d596-48e0-989d-81b9c2047d77 button');\n",
              "      quickchartButtonEl.style.display =\n",
              "        google.colab.kernel.accessAllowed ? 'block' : 'none';\n",
              "    })();\n",
              "  </script>\n",
              "</div>\n",
              "    </div>\n",
              "  </div>\n"
            ]
          },
          "metadata": {},
          "execution_count": 19
        }
      ]
    },
    {
      "cell_type": "code",
      "source": [
        "predictions_csv = pd.DataFrame({'id': range(0, 106),\n",
        "                            'Expected': predictions})\n",
        "predictions_csv.to_csv('/content/kaggle/automl-pred.csv', index=False)"
      ],
      "metadata": {
        "id": "SLiA0FidXJLK"
      },
      "execution_count": null,
      "outputs": []
    },
    {
      "cell_type": "code",
      "source": [
        "leaderboard.sort_values('metric_value').head()"
      ],
      "metadata": {
        "id": "aNHHzVu9dILc",
        "colab": {
          "base_uri": "https://localhost:8080/",
          "height": 206
        },
        "outputId": "ac61a2b7-ccdb-4054-c033-b408f583ccbf"
      },
      "execution_count": null,
      "outputs": [
        {
          "output_type": "execute_result",
          "data": {
            "text/plain": [
              "                                   name     model_type metric_type  \\\n",
              "168                    Ensemble_Stacked       Ensemble         mse   \n",
              "151             37_RandomForest_Stacked  Random Forest         mse   \n",
              "150  72_LightGBM_GoldenFeatures_Stacked       LightGBM         mse   \n",
              "160  73_LightGBM_GoldenFeatures_Stacked       LightGBM         mse   \n",
              "155  25_LightGBM_GoldenFeatures_Stacked       LightGBM         mse   \n",
              "\n",
              "     metric_value  train_time  \n",
              "168      7.143392       78.32  \n",
              "151      7.380274       88.74  \n",
              "150      7.440201       40.03  \n",
              "160      7.440201       41.81  \n",
              "155      7.440201       40.44  "
            ],
            "text/html": [
              "\n",
              "  <div id=\"df-c3a01db7-b78a-411f-951f-5f133b326d6b\" class=\"colab-df-container\">\n",
              "    <div>\n",
              "<style scoped>\n",
              "    .dataframe tbody tr th:only-of-type {\n",
              "        vertical-align: middle;\n",
              "    }\n",
              "\n",
              "    .dataframe tbody tr th {\n",
              "        vertical-align: top;\n",
              "    }\n",
              "\n",
              "    .dataframe thead th {\n",
              "        text-align: right;\n",
              "    }\n",
              "</style>\n",
              "<table border=\"1\" class=\"dataframe\">\n",
              "  <thead>\n",
              "    <tr style=\"text-align: right;\">\n",
              "      <th></th>\n",
              "      <th>name</th>\n",
              "      <th>model_type</th>\n",
              "      <th>metric_type</th>\n",
              "      <th>metric_value</th>\n",
              "      <th>train_time</th>\n",
              "    </tr>\n",
              "  </thead>\n",
              "  <tbody>\n",
              "    <tr>\n",
              "      <th>168</th>\n",
              "      <td>Ensemble_Stacked</td>\n",
              "      <td>Ensemble</td>\n",
              "      <td>mse</td>\n",
              "      <td>7.143392</td>\n",
              "      <td>78.32</td>\n",
              "    </tr>\n",
              "    <tr>\n",
              "      <th>151</th>\n",
              "      <td>37_RandomForest_Stacked</td>\n",
              "      <td>Random Forest</td>\n",
              "      <td>mse</td>\n",
              "      <td>7.380274</td>\n",
              "      <td>88.74</td>\n",
              "    </tr>\n",
              "    <tr>\n",
              "      <th>150</th>\n",
              "      <td>72_LightGBM_GoldenFeatures_Stacked</td>\n",
              "      <td>LightGBM</td>\n",
              "      <td>mse</td>\n",
              "      <td>7.440201</td>\n",
              "      <td>40.03</td>\n",
              "    </tr>\n",
              "    <tr>\n",
              "      <th>160</th>\n",
              "      <td>73_LightGBM_GoldenFeatures_Stacked</td>\n",
              "      <td>LightGBM</td>\n",
              "      <td>mse</td>\n",
              "      <td>7.440201</td>\n",
              "      <td>41.81</td>\n",
              "    </tr>\n",
              "    <tr>\n",
              "      <th>155</th>\n",
              "      <td>25_LightGBM_GoldenFeatures_Stacked</td>\n",
              "      <td>LightGBM</td>\n",
              "      <td>mse</td>\n",
              "      <td>7.440201</td>\n",
              "      <td>40.44</td>\n",
              "    </tr>\n",
              "  </tbody>\n",
              "</table>\n",
              "</div>\n",
              "    <div class=\"colab-df-buttons\">\n",
              "\n",
              "  <div class=\"colab-df-container\">\n",
              "    <button class=\"colab-df-convert\" onclick=\"convertToInteractive('df-c3a01db7-b78a-411f-951f-5f133b326d6b')\"\n",
              "            title=\"Convert this dataframe to an interactive table.\"\n",
              "            style=\"display:none;\">\n",
              "\n",
              "  <svg xmlns=\"http://www.w3.org/2000/svg\" height=\"24px\" viewBox=\"0 -960 960 960\">\n",
              "    <path d=\"M120-120v-720h720v720H120Zm60-500h600v-160H180v160Zm220 220h160v-160H400v160Zm0 220h160v-160H400v160ZM180-400h160v-160H180v160Zm440 0h160v-160H620v160ZM180-180h160v-160H180v160Zm440 0h160v-160H620v160Z\"/>\n",
              "  </svg>\n",
              "    </button>\n",
              "\n",
              "  <style>\n",
              "    .colab-df-container {\n",
              "      display:flex;\n",
              "      gap: 12px;\n",
              "    }\n",
              "\n",
              "    .colab-df-convert {\n",
              "      background-color: #E8F0FE;\n",
              "      border: none;\n",
              "      border-radius: 50%;\n",
              "      cursor: pointer;\n",
              "      display: none;\n",
              "      fill: #1967D2;\n",
              "      height: 32px;\n",
              "      padding: 0 0 0 0;\n",
              "      width: 32px;\n",
              "    }\n",
              "\n",
              "    .colab-df-convert:hover {\n",
              "      background-color: #E2EBFA;\n",
              "      box-shadow: 0px 1px 2px rgba(60, 64, 67, 0.3), 0px 1px 3px 1px rgba(60, 64, 67, 0.15);\n",
              "      fill: #174EA6;\n",
              "    }\n",
              "\n",
              "    .colab-df-buttons div {\n",
              "      margin-bottom: 4px;\n",
              "    }\n",
              "\n",
              "    [theme=dark] .colab-df-convert {\n",
              "      background-color: #3B4455;\n",
              "      fill: #D2E3FC;\n",
              "    }\n",
              "\n",
              "    [theme=dark] .colab-df-convert:hover {\n",
              "      background-color: #434B5C;\n",
              "      box-shadow: 0px 1px 3px 1px rgba(0, 0, 0, 0.15);\n",
              "      filter: drop-shadow(0px 1px 2px rgba(0, 0, 0, 0.3));\n",
              "      fill: #FFFFFF;\n",
              "    }\n",
              "  </style>\n",
              "\n",
              "    <script>\n",
              "      const buttonEl =\n",
              "        document.querySelector('#df-c3a01db7-b78a-411f-951f-5f133b326d6b button.colab-df-convert');\n",
              "      buttonEl.style.display =\n",
              "        google.colab.kernel.accessAllowed ? 'block' : 'none';\n",
              "\n",
              "      async function convertToInteractive(key) {\n",
              "        const element = document.querySelector('#df-c3a01db7-b78a-411f-951f-5f133b326d6b');\n",
              "        const dataTable =\n",
              "          await google.colab.kernel.invokeFunction('convertToInteractive',\n",
              "                                                    [key], {});\n",
              "        if (!dataTable) return;\n",
              "\n",
              "        const docLinkHtml = 'Like what you see? Visit the ' +\n",
              "          '<a target=\"_blank\" href=https://colab.research.google.com/notebooks/data_table.ipynb>data table notebook</a>'\n",
              "          + ' to learn more about interactive tables.';\n",
              "        element.innerHTML = '';\n",
              "        dataTable['output_type'] = 'display_data';\n",
              "        await google.colab.output.renderOutput(dataTable, element);\n",
              "        const docLink = document.createElement('div');\n",
              "        docLink.innerHTML = docLinkHtml;\n",
              "        element.appendChild(docLink);\n",
              "      }\n",
              "    </script>\n",
              "  </div>\n",
              "\n",
              "\n",
              "<div id=\"df-f2ba4984-c797-4928-b66a-cc5dd7134d43\">\n",
              "  <button class=\"colab-df-quickchart\" onclick=\"quickchart('df-f2ba4984-c797-4928-b66a-cc5dd7134d43')\"\n",
              "            title=\"Suggest charts.\"\n",
              "            style=\"display:none;\">\n",
              "\n",
              "<svg xmlns=\"http://www.w3.org/2000/svg\" height=\"24px\"viewBox=\"0 0 24 24\"\n",
              "     width=\"24px\">\n",
              "    <g>\n",
              "        <path d=\"M19 3H5c-1.1 0-2 .9-2 2v14c0 1.1.9 2 2 2h14c1.1 0 2-.9 2-2V5c0-1.1-.9-2-2-2zM9 17H7v-7h2v7zm4 0h-2V7h2v10zm4 0h-2v-4h2v4z\"/>\n",
              "    </g>\n",
              "</svg>\n",
              "  </button>\n",
              "\n",
              "<style>\n",
              "  .colab-df-quickchart {\n",
              "      --bg-color: #E8F0FE;\n",
              "      --fill-color: #1967D2;\n",
              "      --hover-bg-color: #E2EBFA;\n",
              "      --hover-fill-color: #174EA6;\n",
              "      --disabled-fill-color: #AAA;\n",
              "      --disabled-bg-color: #DDD;\n",
              "  }\n",
              "\n",
              "  [theme=dark] .colab-df-quickchart {\n",
              "      --bg-color: #3B4455;\n",
              "      --fill-color: #D2E3FC;\n",
              "      --hover-bg-color: #434B5C;\n",
              "      --hover-fill-color: #FFFFFF;\n",
              "      --disabled-bg-color: #3B4455;\n",
              "      --disabled-fill-color: #666;\n",
              "  }\n",
              "\n",
              "  .colab-df-quickchart {\n",
              "    background-color: var(--bg-color);\n",
              "    border: none;\n",
              "    border-radius: 50%;\n",
              "    cursor: pointer;\n",
              "    display: none;\n",
              "    fill: var(--fill-color);\n",
              "    height: 32px;\n",
              "    padding: 0;\n",
              "    width: 32px;\n",
              "  }\n",
              "\n",
              "  .colab-df-quickchart:hover {\n",
              "    background-color: var(--hover-bg-color);\n",
              "    box-shadow: 0 1px 2px rgba(60, 64, 67, 0.3), 0 1px 3px 1px rgba(60, 64, 67, 0.15);\n",
              "    fill: var(--button-hover-fill-color);\n",
              "  }\n",
              "\n",
              "  .colab-df-quickchart-complete:disabled,\n",
              "  .colab-df-quickchart-complete:disabled:hover {\n",
              "    background-color: var(--disabled-bg-color);\n",
              "    fill: var(--disabled-fill-color);\n",
              "    box-shadow: none;\n",
              "  }\n",
              "\n",
              "  .colab-df-spinner {\n",
              "    border: 2px solid var(--fill-color);\n",
              "    border-color: transparent;\n",
              "    border-bottom-color: var(--fill-color);\n",
              "    animation:\n",
              "      spin 1s steps(1) infinite;\n",
              "  }\n",
              "\n",
              "  @keyframes spin {\n",
              "    0% {\n",
              "      border-color: transparent;\n",
              "      border-bottom-color: var(--fill-color);\n",
              "      border-left-color: var(--fill-color);\n",
              "    }\n",
              "    20% {\n",
              "      border-color: transparent;\n",
              "      border-left-color: var(--fill-color);\n",
              "      border-top-color: var(--fill-color);\n",
              "    }\n",
              "    30% {\n",
              "      border-color: transparent;\n",
              "      border-left-color: var(--fill-color);\n",
              "      border-top-color: var(--fill-color);\n",
              "      border-right-color: var(--fill-color);\n",
              "    }\n",
              "    40% {\n",
              "      border-color: transparent;\n",
              "      border-right-color: var(--fill-color);\n",
              "      border-top-color: var(--fill-color);\n",
              "    }\n",
              "    60% {\n",
              "      border-color: transparent;\n",
              "      border-right-color: var(--fill-color);\n",
              "    }\n",
              "    80% {\n",
              "      border-color: transparent;\n",
              "      border-right-color: var(--fill-color);\n",
              "      border-bottom-color: var(--fill-color);\n",
              "    }\n",
              "    90% {\n",
              "      border-color: transparent;\n",
              "      border-bottom-color: var(--fill-color);\n",
              "    }\n",
              "  }\n",
              "</style>\n",
              "\n",
              "  <script>\n",
              "    async function quickchart(key) {\n",
              "      const quickchartButtonEl =\n",
              "        document.querySelector('#' + key + ' button');\n",
              "      quickchartButtonEl.disabled = true;  // To prevent multiple clicks.\n",
              "      quickchartButtonEl.classList.add('colab-df-spinner');\n",
              "      try {\n",
              "        const charts = await google.colab.kernel.invokeFunction(\n",
              "            'suggestCharts', [key], {});\n",
              "      } catch (error) {\n",
              "        console.error('Error during call to suggestCharts:', error);\n",
              "      }\n",
              "      quickchartButtonEl.classList.remove('colab-df-spinner');\n",
              "      quickchartButtonEl.classList.add('colab-df-quickchart-complete');\n",
              "    }\n",
              "    (() => {\n",
              "      let quickchartButtonEl =\n",
              "        document.querySelector('#df-f2ba4984-c797-4928-b66a-cc5dd7134d43 button');\n",
              "      quickchartButtonEl.style.display =\n",
              "        google.colab.kernel.accessAllowed ? 'block' : 'none';\n",
              "    })();\n",
              "  </script>\n",
              "</div>\n",
              "    </div>\n",
              "  </div>\n"
            ]
          },
          "metadata": {},
          "execution_count": 7
        }
      ]
    },
    {
      "cell_type": "markdown",
      "source": [
        "mljar-supervised score: ![image.png](data:image/png;base64,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)"
      ],
      "metadata": {
        "id": "jJ-2EMxHJbhc"
      }
    },
    {
      "cell_type": "code",
      "source": [
        "!pip install optuna catboost"
      ],
      "metadata": {
        "id": "6VEebGjb2c4d",
        "colab": {
          "base_uri": "https://localhost:8080/"
        },
        "outputId": "ec0fe189-d13e-4f69-fdfe-69340cf0d6b8"
      },
      "execution_count": null,
      "outputs": [
        {
          "output_type": "stream",
          "name": "stdout",
          "text": [
            "Collecting optuna\n",
            "  Downloading optuna-3.3.0-py3-none-any.whl (404 kB)\n",
            "\u001b[2K     \u001b[90m━━━━━━━━━━━━━━━━━━━━━━━━━━━━━━━━━━━━━━━\u001b[0m \u001b[32m404.2/404.2 kB\u001b[0m \u001b[31m8.5 MB/s\u001b[0m eta \u001b[36m0:00:00\u001b[0m\n",
            "\u001b[?25hCollecting catboost\n",
            "  Downloading catboost-1.2.1-cp310-cp310-manylinux2014_x86_64.whl (98.7 MB)\n",
            "\u001b[2K     \u001b[90m━━━━━━━━━━━━━━━━━━━━━━━━━━━━━━━━━━━━━━━━\u001b[0m \u001b[32m98.7/98.7 MB\u001b[0m \u001b[31m10.8 MB/s\u001b[0m eta \u001b[36m0:00:00\u001b[0m\n",
            "\u001b[?25hCollecting alembic>=1.5.0 (from optuna)\n",
            "  Downloading alembic-1.12.0-py3-none-any.whl (226 kB)\n",
            "\u001b[2K     \u001b[90m━━━━━━━━━━━━━━━━━━━━━━━━━━━━━━━━━━━━━━\u001b[0m \u001b[32m226.0/226.0 kB\u001b[0m \u001b[31m29.4 MB/s\u001b[0m eta \u001b[36m0:00:00\u001b[0m\n",
            "\u001b[?25hCollecting cmaes>=0.10.0 (from optuna)\n",
            "  Downloading cmaes-0.10.0-py3-none-any.whl (29 kB)\n",
            "Collecting colorlog (from optuna)\n",
            "  Downloading colorlog-6.7.0-py2.py3-none-any.whl (11 kB)\n",
            "Requirement already satisfied: numpy in /usr/local/lib/python3.10/dist-packages (from optuna) (1.23.5)\n",
            "Requirement already satisfied: packaging>=20.0 in /usr/local/lib/python3.10/dist-packages (from optuna) (23.1)\n",
            "Requirement already satisfied: sqlalchemy>=1.3.0 in /usr/local/lib/python3.10/dist-packages (from optuna) (2.0.20)\n",
            "Requirement already satisfied: tqdm in /usr/local/lib/python3.10/dist-packages (from optuna) (4.66.1)\n",
            "Requirement already satisfied: PyYAML in /usr/local/lib/python3.10/dist-packages (from optuna) (6.0.1)\n",
            "Requirement already satisfied: graphviz in /usr/local/lib/python3.10/dist-packages (from catboost) (0.20.1)\n",
            "Requirement already satisfied: matplotlib in /usr/local/lib/python3.10/dist-packages (from catboost) (3.7.1)\n",
            "Requirement already satisfied: pandas>=0.24 in /usr/local/lib/python3.10/dist-packages (from catboost) (1.5.3)\n",
            "Requirement already satisfied: scipy in /usr/local/lib/python3.10/dist-packages (from catboost) (1.10.1)\n",
            "Requirement already satisfied: plotly in /usr/local/lib/python3.10/dist-packages (from catboost) (5.15.0)\n",
            "Requirement already satisfied: six in /usr/local/lib/python3.10/dist-packages (from catboost) (1.16.0)\n",
            "Collecting Mako (from alembic>=1.5.0->optuna)\n",
            "  Downloading Mako-1.2.4-py3-none-any.whl (78 kB)\n",
            "\u001b[2K     \u001b[90m━━━━━━━━━━━━━━━━━━━━━━━━━━━━━━━━━━━━━━━━\u001b[0m \u001b[32m78.7/78.7 kB\u001b[0m \u001b[31m10.3 MB/s\u001b[0m eta \u001b[36m0:00:00\u001b[0m\n",
            "\u001b[?25hRequirement already satisfied: typing-extensions>=4 in /usr/local/lib/python3.10/dist-packages (from alembic>=1.5.0->optuna) (4.7.1)\n",
            "Requirement already satisfied: python-dateutil>=2.8.1 in /usr/local/lib/python3.10/dist-packages (from pandas>=0.24->catboost) (2.8.2)\n",
            "Requirement already satisfied: pytz>=2020.1 in /usr/local/lib/python3.10/dist-packages (from pandas>=0.24->catboost) (2023.3)\n",
            "Requirement already satisfied: greenlet!=0.4.17 in /usr/local/lib/python3.10/dist-packages (from sqlalchemy>=1.3.0->optuna) (2.0.2)\n",
            "Requirement already satisfied: contourpy>=1.0.1 in /usr/local/lib/python3.10/dist-packages (from matplotlib->catboost) (1.1.0)\n",
            "Requirement already satisfied: cycler>=0.10 in /usr/local/lib/python3.10/dist-packages (from matplotlib->catboost) (0.11.0)\n",
            "Requirement already satisfied: fonttools>=4.22.0 in /usr/local/lib/python3.10/dist-packages (from matplotlib->catboost) (4.42.1)\n",
            "Requirement already satisfied: kiwisolver>=1.0.1 in /usr/local/lib/python3.10/dist-packages (from matplotlib->catboost) (1.4.4)\n",
            "Requirement already satisfied: pillow>=6.2.0 in /usr/local/lib/python3.10/dist-packages (from matplotlib->catboost) (9.4.0)\n",
            "Requirement already satisfied: pyparsing>=2.3.1 in /usr/local/lib/python3.10/dist-packages (from matplotlib->catboost) (3.1.1)\n",
            "Requirement already satisfied: tenacity>=6.2.0 in /usr/local/lib/python3.10/dist-packages (from plotly->catboost) (8.2.3)\n",
            "Requirement already satisfied: MarkupSafe>=0.9.2 in /usr/local/lib/python3.10/dist-packages (from Mako->alembic>=1.5.0->optuna) (2.1.3)\n",
            "Installing collected packages: Mako, colorlog, cmaes, alembic, optuna, catboost\n",
            "Successfully installed Mako-1.2.4 alembic-1.12.0 catboost-1.2.1 cmaes-0.10.0 colorlog-6.7.0 optuna-3.3.0\n"
          ]
        }
      ]
    },
    {
      "cell_type": "code",
      "source": [
        "from catboost import CatBoostRegressor\n",
        "import optuna\n",
        "from sklearn.model_selection import train_test_split\n",
        "from sklearn.metrics import mean_squared_error"
      ],
      "metadata": {
        "id": "HGFL8Ewv6JEu"
      },
      "execution_count": null,
      "outputs": []
    },
    {
      "cell_type": "code",
      "source": [
        "train.head()"
      ],
      "metadata": {
        "colab": {
          "base_uri": "https://localhost:8080/",
          "height": 206
        },
        "id": "MizL_fVY6YiG",
        "outputId": "1fc65b70-6425-408c-b9d1-5c07cff54f34"
      },
      "execution_count": null,
      "outputs": [
        {
          "output_type": "execute_result",
          "data": {
            "text/plain": [
              "   educ  exper  married  female  tenure  wage\n",
              "0    12     37        1       1      14  4.50\n",
              "1    14      5        1       0       0  4.50\n",
              "2    18      4        0       0       4  6.88\n",
              "3    12      3        0       0       0  4.44\n",
              "4    15     33        1       0      26  8.33"
            ],
            "text/html": [
              "\n",
              "  <div id=\"df-2a6b2027-da95-4bc9-9e02-a5437013d285\" class=\"colab-df-container\">\n",
              "    <div>\n",
              "<style scoped>\n",
              "    .dataframe tbody tr th:only-of-type {\n",
              "        vertical-align: middle;\n",
              "    }\n",
              "\n",
              "    .dataframe tbody tr th {\n",
              "        vertical-align: top;\n",
              "    }\n",
              "\n",
              "    .dataframe thead th {\n",
              "        text-align: right;\n",
              "    }\n",
              "</style>\n",
              "<table border=\"1\" class=\"dataframe\">\n",
              "  <thead>\n",
              "    <tr style=\"text-align: right;\">\n",
              "      <th></th>\n",
              "      <th>educ</th>\n",
              "      <th>exper</th>\n",
              "      <th>married</th>\n",
              "      <th>female</th>\n",
              "      <th>tenure</th>\n",
              "      <th>wage</th>\n",
              "    </tr>\n",
              "  </thead>\n",
              "  <tbody>\n",
              "    <tr>\n",
              "      <th>0</th>\n",
              "      <td>12</td>\n",
              "      <td>37</td>\n",
              "      <td>1</td>\n",
              "      <td>1</td>\n",
              "      <td>14</td>\n",
              "      <td>4.50</td>\n",
              "    </tr>\n",
              "    <tr>\n",
              "      <th>1</th>\n",
              "      <td>14</td>\n",
              "      <td>5</td>\n",
              "      <td>1</td>\n",
              "      <td>0</td>\n",
              "      <td>0</td>\n",
              "      <td>4.50</td>\n",
              "    </tr>\n",
              "    <tr>\n",
              "      <th>2</th>\n",
              "      <td>18</td>\n",
              "      <td>4</td>\n",
              "      <td>0</td>\n",
              "      <td>0</td>\n",
              "      <td>4</td>\n",
              "      <td>6.88</td>\n",
              "    </tr>\n",
              "    <tr>\n",
              "      <th>3</th>\n",
              "      <td>12</td>\n",
              "      <td>3</td>\n",
              "      <td>0</td>\n",
              "      <td>0</td>\n",
              "      <td>0</td>\n",
              "      <td>4.44</td>\n",
              "    </tr>\n",
              "    <tr>\n",
              "      <th>4</th>\n",
              "      <td>15</td>\n",
              "      <td>33</td>\n",
              "      <td>1</td>\n",
              "      <td>0</td>\n",
              "      <td>26</td>\n",
              "      <td>8.33</td>\n",
              "    </tr>\n",
              "  </tbody>\n",
              "</table>\n",
              "</div>\n",
              "    <div class=\"colab-df-buttons\">\n",
              "\n",
              "  <div class=\"colab-df-container\">\n",
              "    <button class=\"colab-df-convert\" onclick=\"convertToInteractive('df-2a6b2027-da95-4bc9-9e02-a5437013d285')\"\n",
              "            title=\"Convert this dataframe to an interactive table.\"\n",
              "            style=\"display:none;\">\n",
              "\n",
              "  <svg xmlns=\"http://www.w3.org/2000/svg\" height=\"24px\" viewBox=\"0 -960 960 960\">\n",
              "    <path d=\"M120-120v-720h720v720H120Zm60-500h600v-160H180v160Zm220 220h160v-160H400v160Zm0 220h160v-160H400v160ZM180-400h160v-160H180v160Zm440 0h160v-160H620v160ZM180-180h160v-160H180v160Zm440 0h160v-160H620v160Z\"/>\n",
              "  </svg>\n",
              "    </button>\n",
              "\n",
              "  <style>\n",
              "    .colab-df-container {\n",
              "      display:flex;\n",
              "      gap: 12px;\n",
              "    }\n",
              "\n",
              "    .colab-df-convert {\n",
              "      background-color: #E8F0FE;\n",
              "      border: none;\n",
              "      border-radius: 50%;\n",
              "      cursor: pointer;\n",
              "      display: none;\n",
              "      fill: #1967D2;\n",
              "      height: 32px;\n",
              "      padding: 0 0 0 0;\n",
              "      width: 32px;\n",
              "    }\n",
              "\n",
              "    .colab-df-convert:hover {\n",
              "      background-color: #E2EBFA;\n",
              "      box-shadow: 0px 1px 2px rgba(60, 64, 67, 0.3), 0px 1px 3px 1px rgba(60, 64, 67, 0.15);\n",
              "      fill: #174EA6;\n",
              "    }\n",
              "\n",
              "    .colab-df-buttons div {\n",
              "      margin-bottom: 4px;\n",
              "    }\n",
              "\n",
              "    [theme=dark] .colab-df-convert {\n",
              "      background-color: #3B4455;\n",
              "      fill: #D2E3FC;\n",
              "    }\n",
              "\n",
              "    [theme=dark] .colab-df-convert:hover {\n",
              "      background-color: #434B5C;\n",
              "      box-shadow: 0px 1px 3px 1px rgba(0, 0, 0, 0.15);\n",
              "      filter: drop-shadow(0px 1px 2px rgba(0, 0, 0, 0.3));\n",
              "      fill: #FFFFFF;\n",
              "    }\n",
              "  </style>\n",
              "\n",
              "    <script>\n",
              "      const buttonEl =\n",
              "        document.querySelector('#df-2a6b2027-da95-4bc9-9e02-a5437013d285 button.colab-df-convert');\n",
              "      buttonEl.style.display =\n",
              "        google.colab.kernel.accessAllowed ? 'block' : 'none';\n",
              "\n",
              "      async function convertToInteractive(key) {\n",
              "        const element = document.querySelector('#df-2a6b2027-da95-4bc9-9e02-a5437013d285');\n",
              "        const dataTable =\n",
              "          await google.colab.kernel.invokeFunction('convertToInteractive',\n",
              "                                                    [key], {});\n",
              "        if (!dataTable) return;\n",
              "\n",
              "        const docLinkHtml = 'Like what you see? Visit the ' +\n",
              "          '<a target=\"_blank\" href=https://colab.research.google.com/notebooks/data_table.ipynb>data table notebook</a>'\n",
              "          + ' to learn more about interactive tables.';\n",
              "        element.innerHTML = '';\n",
              "        dataTable['output_type'] = 'display_data';\n",
              "        await google.colab.output.renderOutput(dataTable, element);\n",
              "        const docLink = document.createElement('div');\n",
              "        docLink.innerHTML = docLinkHtml;\n",
              "        element.appendChild(docLink);\n",
              "      }\n",
              "    </script>\n",
              "  </div>\n",
              "\n",
              "\n",
              "<div id=\"df-b1fc6b11-47e5-4998-ac41-687dff0996ab\">\n",
              "  <button class=\"colab-df-quickchart\" onclick=\"quickchart('df-b1fc6b11-47e5-4998-ac41-687dff0996ab')\"\n",
              "            title=\"Suggest charts.\"\n",
              "            style=\"display:none;\">\n",
              "\n",
              "<svg xmlns=\"http://www.w3.org/2000/svg\" height=\"24px\"viewBox=\"0 0 24 24\"\n",
              "     width=\"24px\">\n",
              "    <g>\n",
              "        <path d=\"M19 3H5c-1.1 0-2 .9-2 2v14c0 1.1.9 2 2 2h14c1.1 0 2-.9 2-2V5c0-1.1-.9-2-2-2zM9 17H7v-7h2v7zm4 0h-2V7h2v10zm4 0h-2v-4h2v4z\"/>\n",
              "    </g>\n",
              "</svg>\n",
              "  </button>\n",
              "\n",
              "<style>\n",
              "  .colab-df-quickchart {\n",
              "      --bg-color: #E8F0FE;\n",
              "      --fill-color: #1967D2;\n",
              "      --hover-bg-color: #E2EBFA;\n",
              "      --hover-fill-color: #174EA6;\n",
              "      --disabled-fill-color: #AAA;\n",
              "      --disabled-bg-color: #DDD;\n",
              "  }\n",
              "\n",
              "  [theme=dark] .colab-df-quickchart {\n",
              "      --bg-color: #3B4455;\n",
              "      --fill-color: #D2E3FC;\n",
              "      --hover-bg-color: #434B5C;\n",
              "      --hover-fill-color: #FFFFFF;\n",
              "      --disabled-bg-color: #3B4455;\n",
              "      --disabled-fill-color: #666;\n",
              "  }\n",
              "\n",
              "  .colab-df-quickchart {\n",
              "    background-color: var(--bg-color);\n",
              "    border: none;\n",
              "    border-radius: 50%;\n",
              "    cursor: pointer;\n",
              "    display: none;\n",
              "    fill: var(--fill-color);\n",
              "    height: 32px;\n",
              "    padding: 0;\n",
              "    width: 32px;\n",
              "  }\n",
              "\n",
              "  .colab-df-quickchart:hover {\n",
              "    background-color: var(--hover-bg-color);\n",
              "    box-shadow: 0 1px 2px rgba(60, 64, 67, 0.3), 0 1px 3px 1px rgba(60, 64, 67, 0.15);\n",
              "    fill: var(--button-hover-fill-color);\n",
              "  }\n",
              "\n",
              "  .colab-df-quickchart-complete:disabled,\n",
              "  .colab-df-quickchart-complete:disabled:hover {\n",
              "    background-color: var(--disabled-bg-color);\n",
              "    fill: var(--disabled-fill-color);\n",
              "    box-shadow: none;\n",
              "  }\n",
              "\n",
              "  .colab-df-spinner {\n",
              "    border: 2px solid var(--fill-color);\n",
              "    border-color: transparent;\n",
              "    border-bottom-color: var(--fill-color);\n",
              "    animation:\n",
              "      spin 1s steps(1) infinite;\n",
              "  }\n",
              "\n",
              "  @keyframes spin {\n",
              "    0% {\n",
              "      border-color: transparent;\n",
              "      border-bottom-color: var(--fill-color);\n",
              "      border-left-color: var(--fill-color);\n",
              "    }\n",
              "    20% {\n",
              "      border-color: transparent;\n",
              "      border-left-color: var(--fill-color);\n",
              "      border-top-color: var(--fill-color);\n",
              "    }\n",
              "    30% {\n",
              "      border-color: transparent;\n",
              "      border-left-color: var(--fill-color);\n",
              "      border-top-color: var(--fill-color);\n",
              "      border-right-color: var(--fill-color);\n",
              "    }\n",
              "    40% {\n",
              "      border-color: transparent;\n",
              "      border-right-color: var(--fill-color);\n",
              "      border-top-color: var(--fill-color);\n",
              "    }\n",
              "    60% {\n",
              "      border-color: transparent;\n",
              "      border-right-color: var(--fill-color);\n",
              "    }\n",
              "    80% {\n",
              "      border-color: transparent;\n",
              "      border-right-color: var(--fill-color);\n",
              "      border-bottom-color: var(--fill-color);\n",
              "    }\n",
              "    90% {\n",
              "      border-color: transparent;\n",
              "      border-bottom-color: var(--fill-color);\n",
              "    }\n",
              "  }\n",
              "</style>\n",
              "\n",
              "  <script>\n",
              "    async function quickchart(key) {\n",
              "      const quickchartButtonEl =\n",
              "        document.querySelector('#' + key + ' button');\n",
              "      quickchartButtonEl.disabled = true;  // To prevent multiple clicks.\n",
              "      quickchartButtonEl.classList.add('colab-df-spinner');\n",
              "      try {\n",
              "        const charts = await google.colab.kernel.invokeFunction(\n",
              "            'suggestCharts', [key], {});\n",
              "      } catch (error) {\n",
              "        console.error('Error during call to suggestCharts:', error);\n",
              "      }\n",
              "      quickchartButtonEl.classList.remove('colab-df-spinner');\n",
              "      quickchartButtonEl.classList.add('colab-df-quickchart-complete');\n",
              "    }\n",
              "    (() => {\n",
              "      let quickchartButtonEl =\n",
              "        document.querySelector('#df-b1fc6b11-47e5-4998-ac41-687dff0996ab button');\n",
              "      quickchartButtonEl.style.display =\n",
              "        google.colab.kernel.accessAllowed ? 'block' : 'none';\n",
              "    })();\n",
              "  </script>\n",
              "</div>\n",
              "    </div>\n",
              "  </div>\n"
            ]
          },
          "metadata": {},
          "execution_count": 13
        }
      ]
    },
    {
      "cell_type": "code",
      "source": [
        "def objective(trial):\n",
        "\n",
        "    X_train, X_val, y_train, y_val = train_test_split(X, y, test_size=0.2, random_state=42)\n",
        "\n",
        "    params = {\n",
        "        \"max_depth\": trial.suggest_int(\"max_depth\", 1, 6),\n",
        "        \"learning_rate\": trial.suggest_float(\"learning_rate\", 1e-3, 1.0, log=True),\n",
        "        \"n_estimators\": trial.suggest_int(\"n_estimators\", 10, 5000),\n",
        "        \"cat_features\": ['married', 'female'],\n",
        "        'task_type': 'GPU',\n",
        "        'use_best_model': True\n",
        "    }\n",
        "\n",
        "    model = CatBoostRegressor(**params, silent=True)\n",
        "    model.fit(X_train, y_train, eval_set=[(X_val, y_val)])\n",
        "    y_pred = model.predict(X_val)\n",
        "    score = mean_squared_error(y_val, y_pred)\n",
        "    return score"
      ],
      "metadata": {
        "id": "AGoPzsbC6O4H"
      },
      "execution_count": null,
      "outputs": []
    },
    {
      "cell_type": "code",
      "source": [
        "study = optuna.create_study(direction=\"minimize\")\n",
        "study.optimize(objective, n_trials=50, show_progress_bar=True)"
      ],
      "metadata": {
        "colab": {
          "base_uri": "https://localhost:8080/",
          "height": 954,
          "referenced_widgets": [
            "b46075ec3cdd4d88b8f357b1f7c47a2e",
            "08b4c5b942004853973e80ad3cfd4687",
            "b18004e4067c4a968f7df07166fa4a2b",
            "b626e316fae6458a9046ca0c62ab6ed6",
            "a58ff39a93f74c6e974ff2280ba9a41d",
            "61efdbd3d5af4c6db1c72ffc0f82ae24",
            "83114e845b314658be22bf1fd69e7e71",
            "f9c4d6e12e5941f2af6d6f10539adcdb",
            "5a0e0bda6ec94a8888b64723a99c4891",
            "44586360c3cd403abc5822f83db6e365",
            "dde4a322d0374b6ab335633d9f797ff2"
          ]
        },
        "id": "Tm9A-i728V1O",
        "outputId": "0013e005-15e7-4116-b94c-f2d3fe5b7f00"
      },
      "execution_count": null,
      "outputs": [
        {
          "output_type": "stream",
          "name": "stderr",
          "text": [
            "[I 2023-09-03 12:11:47,787] A new study created in memory with name: no-name-f456c28b-ca5a-4b20-8a97-44de82a7b0a0\n"
          ]
        },
        {
          "output_type": "display_data",
          "data": {
            "text/plain": [
              "  0%|          | 0/50 [00:00<?, ?it/s]"
            ],
            "application/vnd.jupyter.widget-view+json": {
              "version_major": 2,
              "version_minor": 0,
              "model_id": "b46075ec3cdd4d88b8f357b1f7c47a2e"
            }
          },
          "metadata": {}
        },
        {
          "output_type": "stream",
          "name": "stdout",
          "text": [
            "[I 2023-09-03 12:11:51,679] Trial 0 finished with value: 6.47953886284786 and parameters: {'max_depth': 1, 'learning_rate': 0.48341932835552776, 'n_estimators': 469}. Best is trial 0 with value: 6.47953886284786.\n",
            "[I 2023-09-03 12:12:43,577] Trial 1 finished with value: 5.317331092722219 and parameters: {'max_depth': 6, 'learning_rate': 0.009615187898241085, 'n_estimators': 4861}. Best is trial 1 with value: 5.317331092722219.\n",
            "[I 2023-09-03 12:13:02,801] Trial 2 finished with value: 5.591982961773247 and parameters: {'max_depth': 4, 'learning_rate': 0.0011152279717565642, 'n_estimators': 2413}. Best is trial 1 with value: 5.317331092722219.\n",
            "[I 2023-09-03 12:13:41,168] Trial 3 finished with value: 5.378445908149709 and parameters: {'max_depth': 5, 'learning_rate': 0.1911755266406093, 'n_estimators': 4151}. Best is trial 1 with value: 5.317331092722219.\n",
            "[I 2023-09-03 12:13:47,648] Trial 4 finished with value: 6.033563803407488 and parameters: {'max_depth': 2, 'learning_rate': 0.530117849873642, 'n_estimators': 674}. Best is trial 1 with value: 5.317331092722219.\n",
            "[I 2023-09-03 12:13:55,039] Trial 5 finished with value: 7.984271512893322 and parameters: {'max_depth': 1, 'learning_rate': 0.001722042586028185, 'n_estimators': 1360}. Best is trial 1 with value: 5.317331092722219.\n",
            "[I 2023-09-03 12:14:17,594] Trial 6 finished with value: 5.2341770533617185 and parameters: {'max_depth': 5, 'learning_rate': 0.005433962658315713, 'n_estimators': 2386}. Best is trial 6 with value: 5.2341770533617185.\n",
            "[I 2023-09-03 12:14:35,943] Trial 7 finished with value: 5.291473597566227 and parameters: {'max_depth': 5, 'learning_rate': 0.008352370892158133, 'n_estimators': 1847}. Best is trial 6 with value: 5.2341770533617185.\n",
            "[I 2023-09-03 12:14:37,120] Trial 8 finished with value: 9.209371728129216 and parameters: {'max_depth': 1, 'learning_rate': 0.002474662271939104, 'n_estimators': 432}. Best is trial 6 with value: 5.2341770533617185.\n",
            "[I 2023-09-03 12:15:09,510] Trial 9 finished with value: 5.511940374116225 and parameters: {'max_depth': 5, 'learning_rate': 0.4300712624057209, 'n_estimators': 3946}. Best is trial 6 with value: 5.2341770533617185.\n",
            "[I 2023-09-03 12:15:32,803] Trial 10 finished with value: 5.194454775165916 and parameters: {'max_depth': 3, 'learning_rate': 0.04164600727969893, 'n_estimators': 2998}. Best is trial 10 with value: 5.194454775165916.\n",
            "[I 2023-09-03 12:15:57,787] Trial 11 finished with value: 5.2510378696485525 and parameters: {'max_depth': 3, 'learning_rate': 0.04684342192144532, 'n_estimators': 3244}. Best is trial 10 with value: 5.194454775165916.\n",
            "[I 2023-09-03 12:16:19,491] Trial 12 finished with value: 5.157195363202707 and parameters: {'max_depth': 3, 'learning_rate': 0.049118157109402705, 'n_estimators': 2739}. Best is trial 12 with value: 5.157195363202707.\n",
            "[I 2023-09-03 12:16:44,038] Trial 13 finished with value: 5.253892813219171 and parameters: {'max_depth': 3, 'learning_rate': 0.044513932781791034, 'n_estimators': 3181}. Best is trial 12 with value: 5.157195363202707.\n",
            "[I 2023-09-03 12:17:06,530] Trial 14 finished with value: 5.345108098960201 and parameters: {'max_depth': 3, 'learning_rate': 0.09536826997894565, 'n_estimators': 3190}. Best is trial 12 with value: 5.157195363202707.\n",
            "[I 2023-09-03 12:17:17,935] Trial 15 finished with value: 5.824470673225815 and parameters: {'max_depth': 2, 'learning_rate': 0.019917890863913004, 'n_estimators': 1609}. Best is trial 12 with value: 5.157195363202707.\n",
            "[I 2023-09-03 12:17:52,495] Trial 16 finished with value: 5.304100270836258 and parameters: {'max_depth': 4, 'learning_rate': 0.0217353679252406, 'n_estimators': 4013}. Best is trial 12 with value: 5.157195363202707.\n",
            "[I 2023-09-03 12:18:13,045] Trial 17 finished with value: 5.717011533913079 and parameters: {'max_depth': 2, 'learning_rate': 0.10208331170357823, 'n_estimators': 2847}. Best is trial 12 with value: 5.157195363202707.\n",
            "[I 2023-09-03 12:18:30,907] Trial 18 finished with value: 5.355398631714299 and parameters: {'max_depth': 4, 'learning_rate': 0.029502782780702563, 'n_estimators': 2192}. Best is trial 12 with value: 5.157195363202707.\n",
            "[I 2023-09-03 12:18:41,340] Trial 19 finished with value: 5.309169024249296 and parameters: {'max_depth': 3, 'learning_rate': 0.0956924101505071, 'n_estimators': 1267}. Best is trial 12 with value: 5.157195363202707.\n",
            "[I 2023-09-03 12:19:04,469] Trial 20 finished with value: 5.687501502552655 and parameters: {'max_depth': 2, 'learning_rate': 0.8774700852724051, 'n_estimators': 3711}. Best is trial 12 with value: 5.157195363202707.\n",
            "[I 2023-09-03 12:19:32,694] Trial 21 finished with value: 5.226247728122667 and parameters: {'max_depth': 6, 'learning_rate': 0.010065639519971206, 'n_estimators': 2696}. Best is trial 12 with value: 5.157195363202707.\n",
            "[I 2023-09-03 12:20:01,787] Trial 22 finished with value: 5.320385039372935 and parameters: {'max_depth': 6, 'learning_rate': 0.015205522430255752, 'n_estimators': 2807}. Best is trial 12 with value: 5.157195363202707.\n",
            "[I 2023-09-03 12:20:17,926] Trial 23 finished with value: 5.439298276835803 and parameters: {'max_depth': 4, 'learning_rate': 0.042816357606231294, 'n_estimators': 1978}. Best is trial 12 with value: 5.157195363202707.\n",
            "[I 2023-09-03 12:20:40,270] Trial 24 finished with value: 5.405443460908105 and parameters: {'max_depth': 3, 'learning_rate': 0.004418851269286081, 'n_estimators': 2793}. Best is trial 12 with value: 5.157195363202707.\n",
            "[I 2023-09-03 12:21:18,275] Trial 25 finished with value: 5.309562411514795 and parameters: {'max_depth': 6, 'learning_rate': 0.012392364506130151, 'n_estimators': 3542}. Best is trial 12 with value: 5.157195363202707.\n",
            "[I 2023-09-03 12:21:56,473] Trial 26 finished with value: 5.32106064938981 and parameters: {'max_depth': 4, 'learning_rate': 0.02355297446808051, 'n_estimators': 4543}. Best is trial 12 with value: 5.157195363202707.\n",
            "[I 2023-09-03 12:22:18,451] Trial 27 finished with value: 5.833809031268766 and parameters: {'max_depth': 2, 'learning_rate': 0.0122847174496295, 'n_estimators': 2986}. Best is trial 12 with value: 5.157195363202707.\n",
            "[I 2023-09-03 12:22:45,596] Trial 28 finished with value: 5.2720690947656905 and parameters: {'max_depth': 3, 'learning_rate': 0.06065460706473278, 'n_estimators': 3551}. Best is trial 12 with value: 5.157195363202707.\n",
            "[I 2023-09-03 12:23:01,408] Trial 29 finished with value: 6.87313862024403 and parameters: {'max_depth': 1, 'learning_rate': 0.020663605484956587, 'n_estimators': 2586}. Best is trial 12 with value: 5.157195363202707.\n",
            "[I 2023-09-03 12:23:18,308] Trial 30 finished with value: 5.296497504497367 and parameters: {'max_depth': 4, 'learning_rate': 0.030699584164200735, 'n_estimators': 2044}. Best is trial 12 with value: 5.157195363202707.\n",
            "[I 2023-09-03 12:23:41,696] Trial 31 finished with value: 5.265082506485252 and parameters: {'max_depth': 5, 'learning_rate': 0.006648647050323326, 'n_estimators': 2528}. Best is trial 12 with value: 5.157195363202707.\n",
            "[I 2023-09-03 12:24:06,210] Trial 32 finished with value: 5.265574326178256 and parameters: {'max_depth': 6, 'learning_rate': 0.004722080828576336, 'n_estimators': 2320}. Best is trial 12 with value: 5.157195363202707.\n",
            "[I 2023-09-03 12:24:16,030] Trial 33 finished with value: 5.3253871069976935 and parameters: {'max_depth': 5, 'learning_rate': 0.008422043294926981, 'n_estimators': 959}. Best is trial 12 with value: 5.157195363202707.\n",
            "[I 2023-09-03 12:24:43,094] Trial 34 finished with value: 5.348478697105993 and parameters: {'max_depth': 6, 'learning_rate': 0.016129777883845807, 'n_estimators': 2537}. Best is trial 12 with value: 5.157195363202707.\n",
            "[I 2023-09-03 12:25:01,775] Trial 35 finished with value: 5.3344023330913775 and parameters: {'max_depth': 6, 'learning_rate': 0.012714508790947068, 'n_estimators': 1727}. Best is trial 12 with value: 5.157195363202707.\n",
            "[I 2023-09-03 12:25:22,452] Trial 36 finished with value: 5.266080969093355 and parameters: {'max_depth': 5, 'learning_rate': 0.004868776937806153, 'n_estimators': 2309}. Best is trial 12 with value: 5.157195363202707.\n",
            "[I 2023-09-03 12:25:58,313] Trial 37 finished with value: 5.298335950711201 and parameters: {'max_depth': 6, 'learning_rate': 0.003341742871560637, 'n_estimators': 3384}. Best is trial 12 with value: 5.157195363202707.\n",
            "[I 2023-09-03 12:26:35,945] Trial 38 finished with value: 5.251091978882526 and parameters: {'max_depth': 4, 'learning_rate': 0.009548857653083805, 'n_estimators': 4419}. Best is trial 12 with value: 5.157195363202707.\n",
            "[I 2023-09-03 12:26:49,202] Trial 39 finished with value: 5.546300002401451 and parameters: {'max_depth': 5, 'learning_rate': 0.001857309638892641, 'n_estimators': 1408}. Best is trial 12 with value: 5.157195363202707.\n",
            "[I 2023-09-03 12:27:12,661] Trial 40 finished with value: 5.490048997600314 and parameters: {'max_depth': 3, 'learning_rate': 0.0014005896126693606, 'n_estimators': 2984}. Best is trial 12 with value: 5.157195363202707.\n",
            "[I 2023-09-03 12:27:13,220] Trial 41 finished with value: 6.299508101293219 and parameters: {'max_depth': 3, 'learning_rate': 0.04638876123549881, 'n_estimators': 45}. Best is trial 12 with value: 5.157195363202707.\n",
            "[I 2023-09-03 12:27:38,544] Trial 42 finished with value: 5.326172667705191 and parameters: {'max_depth': 3, 'learning_rate': 0.0666981396818469, 'n_estimators': 3297}. Best is trial 12 with value: 5.157195363202707.\n",
            "[I 2023-09-03 12:27:58,784] Trial 43 finished with value: 5.791328833042026 and parameters: {'max_depth': 2, 'learning_rate': 0.027973116192937922, 'n_estimators': 3085}. Best is trial 12 with value: 5.157195363202707.\n",
            "[I 2023-09-03 12:28:20,470] Trial 44 finished with value: 5.224288953246496 and parameters: {'max_depth': 3, 'learning_rate': 0.13117620055672555, 'n_estimators': 2658}. Best is trial 12 with value: 5.157195363202707.\n",
            "[I 2023-09-03 12:28:41,748] Trial 45 finished with value: 5.226779101956245 and parameters: {'max_depth': 3, 'learning_rate': 0.16589245448851067, 'n_estimators': 2599}. Best is trial 12 with value: 5.157195363202707.\n",
            "[I 2023-09-03 12:28:59,187] Trial 46 finished with value: 5.83302734672411 and parameters: {'max_depth': 2, 'learning_rate': 0.1906319355257419, 'n_estimators': 2599}. Best is trial 12 with value: 5.157195363202707.\n",
            "[I 2023-09-03 12:29:15,192] Trial 47 finished with value: 5.150262639487168 and parameters: {'max_depth': 3, 'learning_rate': 0.13205841504900206, 'n_estimators': 2128}. Best is trial 47 with value: 5.150262639487168.\n",
            "[I 2023-09-03 12:29:33,544] Trial 48 finished with value: 5.265638511154033 and parameters: {'max_depth': 3, 'learning_rate': 0.13619035401661828, 'n_estimators': 2111}. Best is trial 47 with value: 5.150262639487168.\n",
            "[I 2023-09-03 12:29:49,202] Trial 49 finished with value: 5.238481767536503 and parameters: {'max_depth': 4, 'learning_rate': 0.2408637113031675, 'n_estimators': 1880}. Best is trial 47 with value: 5.150262639487168.\n"
          ]
        }
      ]
    },
    {
      "cell_type": "code",
      "source": [
        "cbr = CatBoostRegressor(**study.best_params, task_type='GPU')"
      ],
      "metadata": {
        "id": "HwwGYIXdFVke"
      },
      "execution_count": null,
      "outputs": []
    },
    {
      "cell_type": "code",
      "source": [
        "from catboost import Pool\n",
        "pool_train = Pool(\n",
        "    X, y,\n",
        "    cat_features= ['married', 'female']\n",
        ")\n",
        "cbr.fit(pool_train, verbose=500)"
      ],
      "metadata": {
        "colab": {
          "base_uri": "https://localhost:8080/"
        },
        "id": "HG_QIZ9VFd0b",
        "outputId": "ac4c20fa-fa2c-447f-f398-72b9d05f0cf7"
      },
      "execution_count": null,
      "outputs": [
        {
          "output_type": "stream",
          "name": "stdout",
          "text": [
            "0:\tlearn: 3.7406661\ttotal: 8.39ms\tremaining: 17.8s\n",
            "500:\tlearn: 2.1094238\ttotal: 3.32s\tremaining: 10.8s\n",
            "1000:\tlearn: 1.9851558\ttotal: 8.64s\tremaining: 9.73s\n",
            "1500:\tlearn: 1.9085841\ttotal: 11.9s\tremaining: 4.96s\n",
            "2000:\tlearn: 1.8545858\ttotal: 15.2s\tremaining: 962ms\n",
            "2127:\tlearn: 1.8489569\ttotal: 16s\tremaining: 0us\n"
          ]
        },
        {
          "output_type": "execute_result",
          "data": {
            "text/plain": [
              "<catboost.core.CatBoostRegressor at 0x7ed56b124d00>"
            ]
          },
          "metadata": {},
          "execution_count": 12
        }
      ]
    },
    {
      "cell_type": "code",
      "source": [
        "cbr_pred = cbr.predict(test)"
      ],
      "metadata": {
        "id": "USTL_Jh7GKUG"
      },
      "execution_count": null,
      "outputs": []
    },
    {
      "cell_type": "code",
      "source": [
        "predictions_csv = pd.DataFrame({'id': range(0, 106),\n",
        "                            'Expected': cbr_pred})\n",
        "predictions_csv.to_csv('/content/kaggle/cbr-pred.csv', index=False)"
      ],
      "metadata": {
        "id": "GnC3hBoNGW_9"
      },
      "execution_count": null,
      "outputs": []
    },
    {
      "cell_type": "markdown",
      "source": [
        "Catboost + optuna score: ![image.png](data:image/png;base64,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)"
      ],
      "metadata": {
        "id": "i8muY-kfJ0XA"
      }
    }
  ]
}